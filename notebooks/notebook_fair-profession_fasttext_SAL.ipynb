{
 "cells": [
  {
   "cell_type": "code",
   "execution_count": null,
   "metadata": {},
   "outputs": [],
   "source": [
    "%load_ext autoreload\n",
    "%autoreload 2\n",
    "import sys\n",
    "sys.path.append(\"../src\")\n",
    "sys.path.append(\"../data/embeddings\")\n",
    "sys.path.append(\"../data/biasbios\")\n",
    "sys.path.append(\"../data/embeddings/biasbios\")\n",
    "import classifier\n",
    "import debias\n",
    "import gensim\n",
    "import codecs\n",
    "import json\n",
    "from gensim.models.keyedvectors import Word2VecKeyedVectors\n",
    "from gensim.models import KeyedVectors\n",
    "import numpy as np\n",
    "import random\n",
    "import sklearn\n",
    "from sklearn import model_selection\n",
    "from sklearn import cluster\n",
    "from sklearn import metrics\n",
    "from sklearn.manifold import TSNE\n",
    "from sklearn.svm import LinearSVC, SVC\n",
    "from sklearn.neural_network import MLPClassifier\n",
    "from sklearn.metrics.pairwise import cosine_similarity\n",
    "from sklearn.feature_extraction import DictVectorizer\n",
    "from pytorch_transformers import BertTokenizer, BertModel, BertForMaskedLM\n",
    "\n",
    "import scipy\n",
    "from scipy import linalg\n",
    "from scipy import sparse\n",
    "from scipy.stats.stats import pearsonr\n",
    "import tqdm\n",
    "import matplotlib\n",
    "import matplotlib.pyplot as plt\n",
    "from sklearn.linear_model import SGDClassifier, SGDRegressor, Perceptron, LogisticRegression\n",
    "from sklearn.utils import shuffle\n",
    "\n",
    "%matplotlib inline\n",
    "matplotlib.rcParams['agg.path.chunksize'] = 10000\n",
    "\n",
    "import warnings\n",
    "warnings.filterwarnings(\"ignore\")\n",
    "\n",
    "import pickle\n",
    "from collections import defaultdict, Counter\n",
    "from typing import List, Dict\n",
    "\n",
    "import torch\n",
    "from torch import utils\n",
    "\n",
    "import pytorch_lightning as pl\n",
    "from pytorch_lightning import Trainer\n",
    "import copy\n",
    "import pandas as pd\n",
    "from gensim.models import FastText\n",
    "import time\n",
    "from gensim.scripts.glove2word2vec import glove2word2vec\n",
    "\n",
    "STOPWORDS = set([\"i\", \"me\", \"my\", \"myself\", \"we\", \"our\", \"ours\", \"ourselves\", \"you\", \"your\", \"yours\", \"yourself\", \"yourselves\", \"he\", \"him\", \"his\", \"himself\", \"she\", \"her\", \"hers\", \"herself\", \"it\", \"its\", \"itself\", \"they\", \"them\", \"their\", \"theirs\", \"themselves\", \"what\", \"which\", \"who\", \"whom\", \"this\", \"that\", \"these\", \"those\", \"am\", \"is\", \"are\", \"was\", \"were\", \"be\", \"been\", \"being\", \"have\", \"has\", \"had\", \"having\", \"do\", \"does\", \"did\", \"doing\", \"a\", \"an\", \"the\", \"and\", \"but\", \"if\", \"or\", \"because\", \"as\", \"until\", \"while\", \"of\", \"at\", \"by\", \"for\", \"with\", \"about\", \"against\", \"between\", \"into\", \"through\", \"during\", \"before\", \"after\", \"above\", \"below\", \"to\", \"from\", \"up\", \"down\", \"in\", \"out\", \"on\", \"off\", \"over\", \"under\", \"again\", \"further\", \"then\", \"once\", \"here\", \"there\", \"when\", \"where\", \"why\", \"how\", \"all\", \"any\", \"both\", \"each\", \"few\", \"more\", \"most\", \"other\", \"some\", \"such\", \"no\", \"nor\", \"not\", \"only\", \"own\", \"same\", \"so\", \"than\", \"too\", \"very\", \"s\", \"t\", \"can\", \"will\", \"just\", \"don\", \"should\", \"now\"])"
   ]
  },
  {
   "cell_type": "code",
   "execution_count": 2,
   "metadata": {},
   "outputs": [],
   "source": [
    "\n",
    "def load_dataset(path):\n",
    "    \n",
    "    with open(path, \"rb\") as f:\n",
    "        \n",
    "        data = pickle.load(f)\n",
    "    return data\n",
    "\n",
    "def load_dictionary(path):\n",
    "    \n",
    "    with open(path, \"r\", encoding = \"utf-8\") as f:\n",
    "        \n",
    "        lines = f.readlines()\n",
    "        \n",
    "    k2v, v2k = {}, {}\n",
    "    for line in lines:\n",
    "        \n",
    "        k,v = line.strip().split(\"\\t\")\n",
    "        v = int(v)\n",
    "        k2v[k] = v\n",
    "        v2k[v] = k\n",
    "    \n",
    "    return k2v, v2k\n",
    "    \n",
    "def count_profs_and_gender(data: List[dict]):\n",
    "    \n",
    "    counter = defaultdict(Counter)\n",
    "    for entry in data:\n",
    "        gender, prof = entry[\"g\"], entry[\"p\"]\n",
    "        counter[prof][gender] += 1\n",
    "        \n",
    "    return counter\n"
   ]
  },
  {
   "cell_type": "code",
   "execution_count": 3,
   "metadata": {},
   "outputs": [],
   "source": [
    "train = load_dataset(\"../data/biasbios/train.pickle\")\n",
    "dev = load_dataset(\"../data/biasbios/dev.pickle\")\n",
    "test = load_dataset(\"../data/biasbios/test.pickle\")\n",
    "\n",
    "p2i, i2p = load_dictionary(\"../data/biasbios/profession2index.txt\")\n",
    "g2i, i2g = load_dictionary(\"../data/biasbios/gender2index.txt\")\n",
    "counter = count_profs_and_gender(train+dev+test)"
   ]
  },
  {
   "cell_type": "code",
   "execution_count": 4,
   "metadata": {
    "scrolled": true
   },
   "outputs": [
    {
     "data": {
      "text/plain": [
       "{'g': 'f',\n",
       " 'p': 'professor',\n",
       " 'text': 'Dr. Jessica Orlofske is an Assistant Professor of Biology at the University of Wisconsin-Parkside. Her research program areas include invertebrate biodiversity and conservation and biomonitoring and assessment of ecological integrity. She obtained her PhD from the University of New Brunswick under the direction of Dr. Donald Baird. Dr. Orlofske was also a post-doctoral fellow with the CRI before taking up her current position, making her the first CRI student to become a Science Director.',\n",
       " 'start': 98,\n",
       " 'hard_text': 'Her research program areas include invertebrate biodiversity and conservation and biomonitoring and assessment of ecological integrity. She obtained her PhD from the University of New Brunswick under the direction of Dr. Donald Baird. Dr. Orlofske was also a post-doctoral fellow with the CRI before taking up her current position, making her the first CRI student to become a Science Director.',\n",
       " 'text_without_gender': '_ research program areas include invertebrate biodiversity and conservation and biomonitoring and assessment of ecological integrity. _ obtained _ PhD from the University of New Brunswick under the direction of Dr. Donald Baird. Dr. _ was also a post-doctoral fellow with the CRI before taking up _ current position, making _ the first CRI student to become a Science Director.',\n",
       " 'hard_text_tokenized': 'Her research program areas include invertebrate biodiversity and conservation and biomonitoring and assessment of ecological integrity . She obtained her PhD from the University of New Brunswick under the direction of Dr. Donald Baird . Dr. Orlofske was also a post - doctoral fellow with the CRI before taking up her current position , making her the first CRI student to become a Science Director .'}"
      ]
     },
     "execution_count": 4,
     "metadata": {},
     "output_type": "execute_result"
    }
   ],
   "source": [
    "train[0]"
   ]
  },
  {
   "cell_type": "code",
   "execution_count": 5,
   "metadata": {},
   "outputs": [
    {
     "name": "stdout",
     "output_type": "stream",
     "text": [
      "{'accountant': 0, 'architect': 1, 'attorney': 2, 'chiropractor': 3, 'comedian': 4, 'composer': 5, 'dentist': 6, 'dietitian': 7, 'dj': 8, 'filmmaker': 9, 'interior_designer': 10, 'journalist': 11, 'model': 12, 'nurse': 13, 'painter': 14, 'paralegal': 15, 'pastor': 16, 'personal_trainer': 17, 'photographer': 18, 'physician': 19, 'poet': 20, 'professor': 21, 'psychologist': 22, 'rapper': 23, 'software_engineer': 24, 'surgeon': 25, 'teacher': 26, 'yoga_teacher': 27}\n"
     ]
    }
   ],
   "source": [
    "print(p2i)"
   ]
  },
  {
   "cell_type": "code",
   "execution_count": 6,
   "metadata": {},
   "outputs": [
    {
     "name": "stdout",
     "output_type": "stream",
     "text": [
      "0.44541700643683746\n",
      "{'professor': 0.4533699535765501, 'psychologist': 0.627327974906881, 'pastor': 0.2583668005354752, 'comedian': 0.21605667060212513, 'nurse': 0.9126009126009126, 'yoga_teacher': 0.825, 'attorney': 0.3766122913505311, 'photographer': 0.3563658099222953, 'composer': 0.16329625884732052, 'model': 0.7858407079646018, 'surgeon': 0.12832108535895986, 'physician': 0.4158485273492286, 'software_engineer': 0.17130434782608694, 'poet': 0.5133630289532294, 'painter': 0.47116788321167885, 'dj': 0.1636828644501279, 'journalist': 0.5159589626674266, 'architect': 0.23372781065088757, 'paralegal': 0.8618677042801557, 'dentist': 0.3672911787665886, 'personal_trainer': 0.4410377358490566, 'teacher': 0.5943396226415094, 'accountant': 0.3950091296409008, 'interior_designer': 0.7874493927125507, 'dietitian': 0.934412955465587, 'filmmaker': 0.3533007334963325, 'chiropractor': 0.3069908814589666, 'rapper': 0.09438775510204081}\n"
     ]
    }
   ],
   "source": [
    "counter = count_profs_and_gender(train+dev+test)\n",
    "f,m = 0., 0.\n",
    "prof2fem = dict()\n",
    "\n",
    "for k, values in counter.items():\n",
    "    f += values['f']\n",
    "    m += values['m']\n",
    "    prof2fem[k] = values['f']/(values['f'] + values['m'])\n",
    "\n",
    "print(f / (f + m))\n",
    "print(prof2fem)"
   ]
  },
  {
   "cell_type": "code",
   "execution_count": 7,
   "metadata": {
    "scrolled": true
   },
   "outputs": [
    {
     "name": "stdout",
     "output_type": "stream",
     "text": [
      "{'accountant': 0, 'architect': 1, 'attorney': 2, 'chiropractor': 3, 'comedian': 4, 'composer': 5, 'dentist': 6, 'dietitian': 7, 'dj': 8, 'filmmaker': 9, 'interior_designer': 10, 'journalist': 11, 'model': 12, 'nurse': 13, 'painter': 14, 'paralegal': 15, 'pastor': 16, 'personal_trainer': 17, 'photographer': 18, 'physician': 19, 'poet': 20, 'professor': 21, 'psychologist': 22, 'rapper': 23, 'software_engineer': 24, 'surgeon': 25, 'teacher': 26, 'yoga_teacher': 27}\n"
     ]
    }
   ],
   "source": [
    "print(p2i)"
   ]
  },
  {
   "cell_type": "markdown",
   "metadata": {},
   "source": [
    "### get input representatons "
   ]
  },
  {
   "cell_type": "code",
   "execution_count": 5,
   "metadata": {},
   "outputs": [],
   "source": [
    "\n",
    "def load_word_vectors(fname):\n",
    "    \n",
    "    model = KeyedVectors.load_word2vec_format(fname, binary=False)\n",
    "    vecs = model.vectors\n",
    "    words = list(model.vocab.keys())\n",
    "    return model, vecs, words\n",
    "\n",
    "\n",
    "def get_embeddings_based_dataset(data: List[dict], word2vec_model, p2i, filter_stopwords = False):\n",
    "    \n",
    "    X, Y = [], []\n",
    "    unk, total = 0., 0.\n",
    "    unknown = []\n",
    "    vocab_counter = Counter()\n",
    "    \n",
    "    for entry in tqdm.tqdm_notebook(data, total = len(data)):\n",
    "        \n",
    "        y = p2i[entry[\"p\"]]\n",
    "        words = entry[\"hard_text_tokenized\"].split(\" \")\n",
    "        if filter_stopwords:\n",
    "            words = [w for w in words if w.lower() not in STOPWORDS]\n",
    "            \n",
    "        vocab_counter.update(words) \n",
    "        bagofwords = np.sum([word2vec_model[w] if w in word2vec_model else word2vec_model[\"unk\"] for w in words], axis = 0)\n",
    "        #print(bagofwords.shape)\n",
    "        X.append(bagofwords)\n",
    "        Y.append(y)\n",
    "        total += len(words)\n",
    "        \n",
    "        unknown_entry = [w for w in words if w not in word2vec_model]\n",
    "        unknown.extend(unknown_entry)\n",
    "        unk += len(unknown_entry)\n",
    "    \n",
    "    X = np.array(X)\n",
    "    Y = np.array(Y)\n",
    "    print(\"% unknown: {}\".format(unk/total))\n",
    "    return X,Y,unknown,vocab_counter\n",
    "\n"
   ]
  },
  {
   "cell_type": "code",
   "execution_count": 6,
   "metadata": {},
   "outputs": [],
   "source": [
    "word2vec, vecs, words = load_word_vectors(\"../data/embeddings/crawl-300d-2M.vec\")"
   ]
  },
  {
   "cell_type": "code",
   "execution_count": 7,
   "metadata": {},
   "outputs": [
    {
     "data": {
      "application/vnd.jupyter.widget-view+json": {
       "model_id": "8c75943cd66f4564adb92f5eedaf1899",
       "version_major": 2,
       "version_minor": 0
      },
      "text/plain": [
       "  0%|          | 0/74882 [00:00<?, ?it/s]"
      ]
     },
     "metadata": {},
     "output_type": "display_data"
    },
    {
     "name": "stdout",
     "output_type": "stream",
     "text": [
      "% unknown: 0.010212038730551916\n"
     ]
    },
    {
     "data": {
      "application/vnd.jupyter.widget-view+json": {
       "model_id": "1287c81c30e847d8bad6b5ff363619ce",
       "version_major": 2,
       "version_minor": 0
      },
      "text/plain": [
       "  0%|          | 0/11550 [00:00<?, ?it/s]"
      ]
     },
     "metadata": {},
     "output_type": "display_data"
    },
    {
     "name": "stdout",
     "output_type": "stream",
     "text": [
      "% unknown: 0.01017481830681595\n"
     ]
    },
    {
     "data": {
      "application/vnd.jupyter.widget-view+json": {
       "model_id": "34092e9ee71f4cf09207acc6403c36de",
       "version_major": 2,
       "version_minor": 0
      },
      "text/plain": [
       "  0%|          | 0/28842 [00:00<?, ?it/s]"
      ]
     },
     "metadata": {},
     "output_type": "display_data"
    },
    {
     "name": "stdout",
     "output_type": "stream",
     "text": [
      "% unknown: 0.01024306743581662\n"
     ]
    }
   ],
   "source": [
    "x_train, y_train, unknown_train, vocab_counter_train = get_embeddings_based_dataset(train, word2vec, p2i)\n",
    "x_dev, y_dev, unknown_dev, vocab_counter_dev =  get_embeddings_based_dataset(dev, word2vec, p2i)\n",
    "x_test, y_test, unknown_test, vocab_counter_test =  get_embeddings_based_dataset(test, word2vec, p2i)"
   ]
  },
  {
   "cell_type": "code",
   "execution_count": 8,
   "metadata": {},
   "outputs": [],
   "source": [
    "# def save_in_word2vec_format(vecs: np.ndarray, words: np.ndarray, fname: str):\n",
    "\n",
    "\n",
    "#     with open(fname, \"w\", encoding = \"utf-8\") as f:\n",
    "\n",
    "#         f.write(str(len(vecs)) + \" \" + \"300\" + \"\\n\")\n",
    "#         for i, (v,w) in tqdm.tqdm_notebook(enumerate(zip(vecs, words))):\n",
    "\n",
    "#             vec_as_str = \" \".join([str(x) for x in v])\n",
    "#             f.write(w + \" \" + vec_as_str + \"\\n\")\n",
    "\n",
    "\n",
    "# vocab_bios, _ = list(zip(*vocab_counter_train.most_common(120000)))\n",
    "# words_set = set(words)\n",
    "# vocab_bios = [w for w in tqdm.tqdm_notebook(vocab_bios) if w in words_set]\n",
    "# vecs_for_vocab = np.array([word2vec[w] for w in tqdm.tqdm_notebook(vocab_bios)])\n",
    "# print(\"here\")\n",
    "# save_in_word2vec_format(vecs_for_vocab, vocab_bios, \"vecs.vocab.bios.txt\")\n",
    "word2vec_bios, _, _ = load_word_vectors(\"vecs.vocab.bios.txt\")"
   ]
  },
  {
   "cell_type": "code",
   "execution_count": 9,
   "metadata": {},
   "outputs": [
    {
     "name": "stdout",
     "output_type": "stream",
     "text": [
      "len train: 74882; len dev: 11550; len test: 28842\n"
     ]
    }
   ],
   "source": [
    "print(\"len train: {}; len dev: {}; len test: {}\".format(len(train), len(dev), len(test)))\n",
    "mean_train = np.mean(x_train, axis = 0, keepdims = True)\n",
    "mean_dev = np.mean(x_dev, axis = 0, keepdims = True)\n",
    "mean_test = np.mean(x_test, axis = 0, keepdims = True)\n",
    "\n",
    "#X_train -= mean_train\n",
    "#X_dev -= mean_dev\n",
    "#X_test -= mean_test"
   ]
  },
  {
   "cell_type": "code",
   "execution_count": 10,
   "metadata": {},
   "outputs": [
    {
     "name": "stdout",
     "output_type": "stream",
     "text": [
      "len train: 74882; len dev: 11550; len test: 28842\n"
     ]
    }
   ],
   "source": [
    "print(\"len train: {}; len dev: {}; len test: {}\".format(len(train), len(dev), len(test)))\n",
    "mean_train = np.mean(x_train, axis = 0, keepdims = True)\n",
    "mean_dev = np.mean(x_dev, axis = 0, keepdims = True)\n",
    "mean_test = np.mean(x_test, axis = 0, keepdims = True)\n",
    "\n",
    "#X_train -= mean_train\n",
    "#X_dev -= mean_dev\n",
    "#X_test -= mean_test"
   ]
  },
  {
   "cell_type": "markdown",
   "metadata": {},
   "source": [
    "## Classify by profession"
   ]
  },
  {
   "cell_type": "code",
   "execution_count": 13,
   "metadata": {
    "scrolled": false
   },
   "outputs": [
    {
     "name": "stderr",
     "output_type": "stream",
     "text": [
      "[Parallel(n_jobs=64)]: Using backend ThreadingBackend with 64 concurrent workers.\n"
     ]
    },
    {
     "name": "stdout",
     "output_type": "stream",
     "text": [
      "max_iter reached after 10 seconds\n",
      "time: 10.01023244857788\n",
      "0.7555844155844156\n"
     ]
    },
    {
     "name": "stderr",
     "output_type": "stream",
     "text": [
      "[Parallel(n_jobs=64)]: Done   1 tasks      | elapsed:    9.9s\n",
      "[Parallel(n_jobs=64)]: Done   1 out of   1 | elapsed:    9.9s finished\n"
     ]
    }
   ],
   "source": [
    "#clf = LinearSVC(max_iter = 10) #LogisticRegression()\n",
    "#clf = SGDClassifier(warm_start = True, loss = 'log', n_jobs = 64, max_iter = 250, random_state = 0)\n",
    "\n",
    "clf = LogisticRegression(warm_start = True, penalty = 'l2',\n",
    "                         solver = \"sag\", multi_class = 'multinomial', fit_intercept = True,\n",
    "                         verbose = 10, max_iter = 4, n_jobs = 64, random_state = 1)\n",
    "#clf = SGDClassifier(loss= 'log', max_iter= 3000, fit_intercept= True, class_weight= None, n_jobs= 100)\n",
    "#clf = LinearSVC(max_iter = 50) #LogisticRegression()\n",
    "\n",
    "start = time.time()\n",
    "idx = np.random.rand(x_train.shape[0]) < 1.0\n",
    "clf.fit(x_train[idx], y_train[idx])\n",
    "print(\"time: {}\".format(time.time() - start))\n",
    "print(clf.score(x_dev, y_dev))\n",
    "#print(clf.score(X_test, Y_test))\n",
    "clf_original = copy.deepcopy(clf)"
   ]
  },
  {
   "cell_type": "code",
   "execution_count": 14,
   "metadata": {},
   "outputs": [
    {
     "name": "stdout",
     "output_type": "stream",
     "text": [
      "0.7557381596283198\n"
     ]
    }
   ],
   "source": [
    "print(clf.score(x_test, y_test))"
   ]
  },
  {
   "cell_type": "markdown",
   "metadata": {},
   "source": [
    "### perform debiasing"
   ]
  },
  {
   "cell_type": "code",
   "execution_count": 11,
   "metadata": {},
   "outputs": [],
   "source": [
    "y_dev_gender = np.array([g2i[d[\"g\"]] for d in dev])\n",
    "y_test_gender = np.array([g2i[d[\"g\"]] for d in test])\n",
    "y_train_gender = np.array([g2i[d[\"g\"]] for d in train])\n",
    "y_train_gender_2d = np.asarray([y_train_gender, - y_train_gender + 1]).T"
   ]
  },
  {
   "cell_type": "code",
   "execution_count": 12,
   "metadata": {},
   "outputs": [
    {
     "name": "stdout",
     "output_type": "stream",
     "text": [
      "u has shape (300, 300), s has shape (2,), vh has shape (2, 2)\n"
     ]
    }
   ],
   "source": [
    "A = np.dot(x_train.T, y_train_gender_2d) / x_train.shape[0]\n",
    "u, s, vh = np.linalg.svd(A, full_matrices=True)\n",
    "print(f\"u has shape {u.shape}, s has shape {s.shape}, vh has shape {vh.shape}\")"
   ]
  },
  {
   "cell_type": "code",
   "execution_count": null,
   "metadata": {},
   "outputs": [],
   "source": [
    "gender_clf = LogisticRegression(warm_start = True, penalty = 'l2',\n",
    "                         solver = \"sag\", multi_class = 'multinomial', fit_intercept = True,\n",
    "                         verbose = 10, max_iter = 7, n_jobs = 64, random_state = 1)\n",
    "\n",
    "gender_clf.fit(debiased_x_train, y_train_gender)\n",
    "gender_clf.score(debiased_x_dev, y_dev_gender)"
   ]
  },
  {
   "cell_type": "code",
   "execution_count": null,
   "metadata": {},
   "outputs": [],
   "source": [
    "gender_clf.score(debiased_x_train, y_train_gender)"
   ]
  },
  {
   "cell_type": "markdown",
   "metadata": {},
   "source": [
    "### Perform finetuning"
   ]
  },
  {
   "cell_type": "code",
   "execution_count": null,
   "metadata": {},
   "outputs": [],
   "source": [
    "\n",
    "clf = LogisticRegression(warm_start = True, penalty = 'l2',\n",
    "                         solver = \"sag\", multi_class = 'multinomial', fit_intercept = True,\n",
    "                         verbose = 10, max_iter = 6, n_jobs = 64, random_state = 0, class_weight = None)\n",
    "\n",
    "clf.fit(debiased_x_train, y_train)\n",
    "\n",
    "print(clf.score(debiased_x_test, y_test))"
   ]
  },
  {
   "cell_type": "markdown",
   "metadata": {},
   "source": [
    "#### test again"
   ]
  },
  {
   "cell_type": "code",
   "execution_count": 12,
   "metadata": {},
   "outputs": [],
   "source": [
    "def get_TPR(y_pred, y_true, p2i, i2p, gender):\n",
    "    \n",
    "    scores = defaultdict(Counter)\n",
    "    prof_count_total = defaultdict(Counter)\n",
    "    \n",
    "    assert len(y_pred) == len(y_true) == len(gender)\n",
    "               \n",
    "    for y_hat, y, g in zip(y_pred, y_true, gender):\n",
    "                \n",
    "        if y == y_hat:\n",
    "            \n",
    "            scores[i2p[y]][g] += 1\n",
    "        \n",
    "        prof_count_total[i2p[y]][g] += 1\n",
    "    \n",
    "    tprs = defaultdict(dict)\n",
    "    tprs_change = dict()\n",
    "    tprs_ratio = []\n",
    "    \n",
    "    for profession, scores_dict in scores.items():\n",
    "        \n",
    "        good_m, good_f = scores_dict[\"m\"], scores_dict[\"f\"]\n",
    "        prof_total_f = prof_count_total[profession][\"f\"]\n",
    "        prof_total_m = prof_count_total[profession][\"m\"]\n",
    "        tpr_m = (good_m) / prof_total_m\n",
    "        tpr_f = (good_f) / prof_total_f\n",
    "        \n",
    "        tprs[profession][\"m\"] = tpr_m\n",
    "        tprs[profession][\"f\"] = tpr_f\n",
    "        tprs_ratio.append(0)\n",
    "        tprs_change[profession] = tpr_f - tpr_m\n",
    "        \n",
    "    return tprs, tprs_change, np.mean(np.abs(tprs_ratio))\n",
    "\n",
    "def get_FPR(y_pred, y_true, p2i, i2p, gender):\n",
    "    \n",
    "    fp = defaultdict(Counter)\n",
    "    neg_count_total = defaultdict(Counter)\n",
    "    pos_count_total = defaultdict(Counter)\n",
    "    \n",
    "    \n",
    "               \n",
    "    for y_hat, y, g in zip(y_pred, y_true, gender):\n",
    "        \n",
    "        if y != y_hat:\n",
    "            \n",
    "            fp[i2p[y_hat]][g] += 1 # count false positives for y_hat\n",
    "        \n",
    "        neg_count_total[i2p[y_hat]][g] += 1 # count \"not y_hat\"\n",
    "                \n",
    "    fprs = defaultdict(dict)\n",
    "    fprs_change = dict()\n",
    "    fprs_ratio = []\n",
    "    \n",
    "    #print(prof_count_total)\n",
    "    \n",
    "    for profession, scores_dict in fp.items():\n",
    "        \n",
    "        good_m, good_f = scores_dict[\"m\"], scores_dict[\"f\"]\n",
    "        prof_total_f = neg_count_total[profession][\"f\"]\n",
    "        prof_total_m = neg_count_total[profession][\"m\"]\n",
    "        print(profession)\n",
    "        fpr_m = (good_m+good_f) / prof_total_m\n",
    "        fpr_f = (good_m+good_f) / prof_total_f\n",
    "        \n",
    "        fprs[profession][\"m\"] = fpr_m\n",
    "        fprs[profession][\"f\"] = fpr_f\n",
    "        fprs_ratio.append(0)\n",
    "        fprs_change[profession] = fpr_m - fpr_f\n",
    "        \n",
    "    return fprs, fprs_change, np.mean(np.abs(fprs_ratio))    \n",
    "    \n",
    "def similarity_vs_tpr(tprs, word2vec, title, measure, prof2fem):\n",
    "    \n",
    "    professions = list(tprs.keys())\n",
    "    #\n",
    "    \"\"\" \n",
    "    sims = dict()\n",
    "    gender_direction = word2vec[\"he\"] - word2vec[\"she\"]\n",
    "    \n",
    "    for p in professions:\n",
    "        sim = word2vec.cosine_similarities(word2vec[p], [gender_direction])[0]\n",
    "        sims[p] = sim\n",
    "    \"\"\"\n",
    "    tpr_lst = [tprs[p] for p in professions]\n",
    "    sim_lst = [prof2fem[p] for p in professions]\n",
    "\n",
    "    #professions = [p.replace(\"_\", \" \") for p in professions if p in word2vec]\n",
    "    \n",
    "    plt.plot(sim_lst, tpr_lst, marker = \"o\", linestyle = \"none\")\n",
    "    plt.xlabel(\"% women\", fontsize = 13)\n",
    "    plt.ylabel(r'$GAP_{female,y}^{TPR}$', fontsize = 13)\n",
    "    for p in professions:\n",
    "        x,y = prof2fem[p], tprs[p]\n",
    "        plt.annotate(p , (x,y), size = 7, color = \"red\")\n",
    "    \n",
    "    plt.ylim(-0.4,0.55)\n",
    "    z = np.polyfit(sim_lst, tpr_lst, 1)\n",
    "    p = np.poly1d(z)\n",
    "    plt.plot(sim_lst,p(sim_lst),\"b--\")\n",
    "\n",
    "    plt.savefig(\"{}_vs_bias_{}_fasttext\".format(measure, title), dpi = 600)\n",
    "    print(\"Correlation: {}; p-value: {}\".format(*pearsonr(sim_lst, tpr_lst)))\n",
    "    plt.show()\n",
    "    \n",
    "def rms_diff(tpr_diff):\n",
    "    \n",
    "    return np.sqrt(np.mean(tpr_diff**2))\n",
    "    \n",
    "def save_vecs_and_words(vecs, words):\n",
    "    def to_string(arr):\n",
    "        return \"\\t\".join([str(x) for x in arr])\n",
    "    \n",
    "    with open(\"vecs.txt\", \"w\") as f:\n",
    "        for v in vecs:\n",
    "            assert len(v) == 300\n",
    "            f.write(to_string(v) + \"\\n\")\n",
    "    \n",
    "    with open(\"labels.txt\", \"w\") as f:\n",
    "            f.write(\"Profession\\n\")\n",
    "            for w in words:\n",
    "                f.write(w + \"\\n\")"
   ]
  },
  {
   "cell_type": "code",
   "execution_count": null,
   "metadata": {},
   "outputs": [],
   "source": []
  },
  {
   "cell_type": "code",
   "execution_count": null,
   "metadata": {},
   "outputs": [],
   "source": []
  },
  {
   "cell_type": "code",
   "execution_count": null,
   "metadata": {},
   "outputs": [],
   "source": []
  },
  {
   "cell_type": "code",
   "execution_count": null,
   "metadata": {},
   "outputs": [],
   "source": []
  },
  {
   "cell_type": "code",
   "execution_count": 19,
   "metadata": {},
   "outputs": [],
   "source": [
    "removal = 1\n",
    "u_r = u[:, removal:]\n",
    "proj = u_r @ u_r.T\n",
    "P = proj\n",
    "\n",
    "debiased_x_train = P.dot(x_train.T).T\n",
    "debiased_x_dev = P.dot(x_dev.T).T\n",
    "debiased_x_test = P.dot(x_test.T).T"
   ]
  },
  {
   "cell_type": "code",
   "execution_count": 20,
   "metadata": {
    "scrolled": true
   },
   "outputs": [
    {
     "name": "stdout",
     "output_type": "stream",
     "text": [
      "Correlation: 0.8238598514929694; p-value: 7.184529134104979e-08\n"
     ]
    },
    {
     "data": {
      "image/png": "[encoded data removed]",
      "text/plain": [
       "<Figure size 432x288 with 1 Axes>"
      ]
     },
     "metadata": {
      "needs_background": "light"
     },
     "output_type": "display_data"
    },
    {
     "name": "stdout",
     "output_type": "stream",
     "text": [
      "Correlation: 0.7218103837718111; p-value: 1.454744766070305e-05\n"
     ]
    },
    {
     "data": {
      "image/png": "[encoded data removed]",
      "text/plain": [
       "<Figure size 432x288 with 1 Axes>"
      ]
     },
     "metadata": {
      "needs_background": "light"
     },
     "output_type": "display_data"
    },
    {
     "name": "stdout",
     "output_type": "stream",
     "text": [
      "rms-diff before: 0.20243245189797604; rms-diff after: 0.19520309695779406\n"
     ]
    }
   ],
   "source": [
    "y_pred_before = clf_original.predict(x_test)\n",
    "test_gender = [d[\"g\"] for d in test]\n",
    "dev_gender = [d[\"g\"] for d in dev]\n",
    "train_gender = [d[\"g\"] for d in train]\n",
    "\n",
    "tprs_before, tprs_change_before, mean_ratio_before = get_TPR(y_pred_before, y_test, p2i, i2p, test_gender)\n",
    "similarity_vs_tpr(tprs_change_before, word2vec, \"before\", \"TPR\", prof2fem)\n",
    "#y_pred_after = clf.predict(X_test.dot(P))\n",
    "y_pred_after = clf.predict(debiased_x_test)\n",
    "tprs, tprs_change_after, mean_ratio_after = get_TPR(y_pred_after, y_test, p2i, i2p, test_gender)\n",
    "similarity_vs_tpr(tprs_change_after, word2vec, \"after\", \"TPR\", prof2fem)\n",
    "\n",
    "change_vals_before = np.array(list((tprs_change_before.values())))\n",
    "change_vals_after = np.array(list(tprs_change_after.values()))\n",
    "\n",
    "print(\"rms-diff before: {}; rms-diff after: {}\".format(rms_diff(change_vals_before), rms_diff(change_vals_after)))"
   ]
  },
  {
   "cell_type": "code",
   "execution_count": 21,
   "metadata": {},
   "outputs": [
    {
     "name": "stderr",
     "output_type": "stream",
     "text": [
      "[Parallel(n_jobs=64)]: Using backend ThreadingBackend with 64 concurrent workers.\n"
     ]
    },
    {
     "name": "stdout",
     "output_type": "stream",
     "text": [
      "max_iter reached after 14 seconds\n",
      "0.7593440122044242\n"
     ]
    },
    {
     "name": "stderr",
     "output_type": "stream",
     "text": [
      "[Parallel(n_jobs=64)]: Done   1 tasks      | elapsed:   14.2s\n",
      "[Parallel(n_jobs=64)]: Done   1 out of   1 | elapsed:   14.2s finished\n"
     ]
    }
   ],
   "source": [
    "clf = LogisticRegression(warm_start = True, penalty = 'l2',\n",
    "                         solver = \"sag\", multi_class = 'multinomial', fit_intercept = True,\n",
    "                         verbose = 10, max_iter = 6, n_jobs = 64, random_state = 0, class_weight = None)\n",
    "\n",
    "clf.fit(debiased_x_train, y_train)\n",
    "\n",
    "print(clf.score(debiased_x_test, y_test))"
   ]
  },
  {
   "cell_type": "code",
   "execution_count": 20,
   "metadata": {},
   "outputs": [
    {
     "name": "stderr",
     "output_type": "stream",
     "text": [
      "[Parallel(n_jobs=64)]: Using backend ThreadingBackend with 64 concurrent workers.\n"
     ]
    },
    {
     "name": "stdout",
     "output_type": "stream",
     "text": [
      "max_iter reached after 15 seconds\n",
      "Biased Train accuracy 0.7716273603803318\n",
      "Biased Test accuracy 0.7656889258719922\n",
      "Train accuracy 0.603603002056569\n",
      "Test accuracy 0.5986755426114694\n"
     ]
    },
    {
     "name": "stderr",
     "output_type": "stream",
     "text": [
      "[Parallel(n_jobs=64)]: Done   1 tasks      | elapsed:   14.8s\n",
      "[Parallel(n_jobs=64)]: Done   1 out of   1 | elapsed:   14.8s finished\n"
     ]
    }
   ],
   "source": [
    "clf = LogisticRegression(warm_start = True, penalty = 'l2',\n",
    "                         solver = \"sag\", multi_class = 'multinomial', fit_intercept = True,\n",
    "                         verbose = 10, max_iter = 6, n_jobs = 64, random_state = 0, class_weight = None)\n",
    "\n",
    "clf.fit(x_train, y_train)\n",
    "\n",
    "print(f\"Biased Train accuracy {clf.score(x_train, y_train)}\")\n",
    "print(f\"Biased Test accuracy {clf.score(x_test, y_test)}\")\n",
    "print(f\"Train accuracy {clf.score(debiased_x_train, y_train)}\")\n",
    "print(f\"Test accuracy {clf.score(debiased_x_test, y_test)}\")"
   ]
  },
  {
   "cell_type": "code",
   "execution_count": null,
   "metadata": {},
   "outputs": [],
   "source": []
  },
  {
   "cell_type": "code",
   "execution_count": 21,
   "metadata": {},
   "outputs": [],
   "source": [
    "removal = 2\n",
    "u_r = u[:, removal:]\n",
    "proj = u_r @ u_r.T\n",
    "P = proj\n",
    "\n",
    "debiased_x_train = P.dot(x_train.T).T\n",
    "debiased_x_dev = P.dot(x_dev.T).T\n",
    "debiased_x_test = P.dot(x_test.T).T"
   ]
  },
  {
   "cell_type": "code",
   "execution_count": 23,
   "metadata": {},
   "outputs": [
    {
     "name": "stdout",
     "output_type": "stream",
     "text": [
      "Correlation: 0.8238598514929694; p-value: 7.184529134104979e-08\n"
     ]
    },
    {
     "data": {
      "image/png": "[encoded data removed]",
      "text/plain": [
       "<Figure size 432x288 with 1 Axes>"
      ]
     },
     "metadata": {
      "needs_background": "light"
     },
     "output_type": "display_data"
    },
    {
     "name": "stdout",
     "output_type": "stream",
     "text": [
      "Correlation: 0.6193537761733974; p-value: 0.00044087774258949516\n"
     ]
    },
    {
     "data": {
      "image/png": "[encoded data removed]",
      "text/plain": [
       "<Figure size 432x288 with 1 Axes>"
      ]
     },
     "metadata": {
      "needs_background": "light"
     },
     "output_type": "display_data"
    },
    {
     "name": "stdout",
     "output_type": "stream",
     "text": [
      "rms-diff before: 0.20243245189797604; rms-diff after: 0.11733802587024243\n"
     ]
    }
   ],
   "source": [
    "y_pred_before = clf_original.predict(x_test)\n",
    "test_gender = [d[\"g\"] for d in test]\n",
    "dev_gender = [d[\"g\"] for d in dev]\n",
    "train_gender = [d[\"g\"] for d in train]\n",
    "\n",
    "tprs_before, tprs_change_before, mean_ratio_before = get_TPR(y_pred_before, y_test, p2i, i2p, test_gender)\n",
    "similarity_vs_tpr(tprs_change_before, word2vec, \"before\", \"TPR\", prof2fem)\n",
    "#y_pred_after = clf.predict(X_test.dot(P))\n",
    "y_pred_after = clf.predict(debiased_x_test)\n",
    "tprs, tprs_change_after, mean_ratio_after = get_TPR(y_pred_after, y_test, p2i, i2p, test_gender)\n",
    "similarity_vs_tpr(tprs_change_after, word2vec, \"after\", \"TPR\", prof2fem)\n",
    "\n",
    "change_vals_before = np.array(list((tprs_change_before.values())))\n",
    "change_vals_after = np.array(list(tprs_change_after.values()))\n",
    "\n",
    "print(\"rms-diff before: {}; rms-diff after: {}\".format(rms_diff(change_vals_before), rms_diff(change_vals_after)))"
   ]
  },
  {
   "cell_type": "code",
   "execution_count": 24,
   "metadata": {},
   "outputs": [
    {
     "name": "stderr",
     "output_type": "stream",
     "text": [
      "[Parallel(n_jobs=64)]: Using backend ThreadingBackend with 64 concurrent workers.\n"
     ]
    },
    {
     "name": "stdout",
     "output_type": "stream",
     "text": [
      "max_iter reached after 14 seconds\n",
      "0.7554607863532349\n"
     ]
    },
    {
     "name": "stderr",
     "output_type": "stream",
     "text": [
      "[Parallel(n_jobs=64)]: Done   1 tasks      | elapsed:   14.2s\n",
      "[Parallel(n_jobs=64)]: Done   1 out of   1 | elapsed:   14.2s finished\n"
     ]
    }
   ],
   "source": [
    "clf = LogisticRegression(warm_start = True, penalty = 'l2',\n",
    "                         solver = \"sag\", multi_class = 'multinomial', fit_intercept = True,\n",
    "                         verbose = 10, max_iter = 6, n_jobs = 64, random_state = 0, class_weight = None)\n",
    "\n",
    "clf.fit(debiased_x_train, y_train)\n",
    "\n",
    "print(clf.score(debiased_x_test, y_test))"
   ]
  },
  {
   "cell_type": "code",
   "execution_count": 22,
   "metadata": {},
   "outputs": [
    {
     "name": "stderr",
     "output_type": "stream",
     "text": [
      "[Parallel(n_jobs=64)]: Using backend ThreadingBackend with 64 concurrent workers.\n"
     ]
    },
    {
     "name": "stdout",
     "output_type": "stream",
     "text": [
      "max_iter reached after 14 seconds\n",
      "Biased Train accuracy 0.7716273603803318\n",
      "Biased Test accuracy 0.7656889258719922\n",
      "Train accuracy 0.6091183461980182\n",
      "Test accuracy 0.60515914291658\n"
     ]
    },
    {
     "name": "stderr",
     "output_type": "stream",
     "text": [
      "[Parallel(n_jobs=64)]: Done   1 tasks      | elapsed:   14.8s\n",
      "[Parallel(n_jobs=64)]: Done   1 out of   1 | elapsed:   14.8s finished\n"
     ]
    }
   ],
   "source": [
    "clf = LogisticRegression(warm_start = True, penalty = 'l2',\n",
    "                         solver = \"sag\", multi_class = 'multinomial', fit_intercept = True,\n",
    "                         verbose = 10, max_iter = 6, n_jobs = 64, random_state = 0, class_weight = None)\n",
    "\n",
    "clf.fit(x_train, y_train)\n",
    "\n",
    "print(f\"Biased Train accuracy {clf.score(x_train, y_train)}\")\n",
    "print(f\"Biased Test accuracy {clf.score(x_test, y_test)}\")\n",
    "print(f\"Train accuracy {clf.score(debiased_x_train, y_train)}\")\n",
    "print(f\"Test accuracy {clf.score(debiased_x_test, y_test)}\")"
   ]
  },
  {
   "cell_type": "code",
   "execution_count": null,
   "metadata": {},
   "outputs": [],
   "source": []
  },
  {
   "cell_type": "code",
   "execution_count": 23,
   "metadata": {},
   "outputs": [],
   "source": [
    "removal = 20\n",
    "u_r = u[:, removal:]\n",
    "proj = u_r @ u_r.T\n",
    "P = proj\n",
    "\n",
    "debiased_x_train = P.dot(x_train.T).T\n",
    "debiased_x_dev = P.dot(x_dev.T).T\n",
    "debiased_x_test = P.dot(x_test.T).T"
   ]
  },
  {
   "cell_type": "code",
   "execution_count": 35,
   "metadata": {},
   "outputs": [
    {
     "name": "stdout",
     "output_type": "stream",
     "text": [
      "Correlation: 0.8238598514929694; p-value: 7.184529134104979e-08\n"
     ]
    },
    {
     "data": {
      "image/png": "[encoded data removed]",
      "text/plain": [
       "<Figure size 432x288 with 1 Axes>"
      ]
     },
     "metadata": {
      "needs_background": "light"
     },
     "output_type": "display_data"
    },
    {
     "name": "stdout",
     "output_type": "stream",
     "text": [
      "Correlation: 0.5965726469096496; p-value: 0.0008058843493053067\n"
     ]
    },
    {
     "data": {
      "image/png": "[encoded data removed]",
      "text/plain": [
       "<Figure size 432x288 with 1 Axes>"
      ]
     },
     "metadata": {
      "needs_background": "light"
     },
     "output_type": "display_data"
    },
    {
     "name": "stdout",
     "output_type": "stream",
     "text": [
      "rms-diff before: 0.20243245189797604; rms-diff after: 0.11083594611306065\n"
     ]
    }
   ],
   "source": [
    "y_pred_before = clf_original.predict(x_test)\n",
    "test_gender = [d[\"g\"] for d in test]\n",
    "dev_gender = [d[\"g\"] for d in dev]\n",
    "train_gender = [d[\"g\"] for d in train]\n",
    "\n",
    "tprs_before, tprs_change_before, mean_ratio_before = get_TPR(y_pred_before, y_test, p2i, i2p, test_gender)\n",
    "similarity_vs_tpr(tprs_change_before, word2vec, \"before\", \"TPR\", prof2fem)\n",
    "#y_pred_after = clf.predict(X_test.dot(P))\n",
    "y_pred_after = clf.predict(debiased_x_test)\n",
    "tprs, tprs_change_after, mean_ratio_after = get_TPR(y_pred_after, y_test, p2i, i2p, test_gender)\n",
    "similarity_vs_tpr(tprs_change_after, word2vec, \"after\", \"TPR\", prof2fem)\n",
    "\n",
    "change_vals_before = np.array(list((tprs_change_before.values())))\n",
    "change_vals_after = np.array(list(tprs_change_after.values()))\n",
    "\n",
    "print(\"rms-diff before: {}; rms-diff after: {}\".format(rms_diff(change_vals_before), rms_diff(change_vals_after)))"
   ]
  },
  {
   "cell_type": "code",
   "execution_count": 36,
   "metadata": {},
   "outputs": [
    {
     "name": "stderr",
     "output_type": "stream",
     "text": [
      "[Parallel(n_jobs=64)]: Using backend ThreadingBackend with 64 concurrent workers.\n"
     ]
    },
    {
     "name": "stdout",
     "output_type": "stream",
     "text": [
      "max_iter reached after 14 seconds\n",
      "0.7528257402399279\n"
     ]
    },
    {
     "name": "stderr",
     "output_type": "stream",
     "text": [
      "[Parallel(n_jobs=64)]: Done   1 tasks      | elapsed:   14.2s\n",
      "[Parallel(n_jobs=64)]: Done   1 out of   1 | elapsed:   14.2s finished\n"
     ]
    }
   ],
   "source": [
    "clf = LogisticRegression(warm_start = True, penalty = 'l2',\n",
    "                         solver = \"sag\", multi_class = 'multinomial', fit_intercept = True,\n",
    "                         verbose = 10, max_iter = 6, n_jobs = 64, random_state = 0, class_weight = None)\n",
    "\n",
    "clf.fit(debiased_x_train, y_train)\n",
    "\n",
    "print(clf.score(debiased_x_test, y_test))"
   ]
  },
  {
   "cell_type": "code",
   "execution_count": 24,
   "metadata": {},
   "outputs": [
    {
     "name": "stderr",
     "output_type": "stream",
     "text": [
      "[Parallel(n_jobs=64)]: Using backend ThreadingBackend with 64 concurrent workers.\n"
     ]
    },
    {
     "name": "stdout",
     "output_type": "stream",
     "text": [
      "max_iter reached after 15 seconds\n",
      "Biased Train accuracy 0.7716273603803318\n",
      "Biased Test accuracy 0.7656889258719922\n",
      "Train accuracy 0.6010790310087871\n",
      "Test accuracy 0.5974273628735871\n"
     ]
    },
    {
     "name": "stderr",
     "output_type": "stream",
     "text": [
      "[Parallel(n_jobs=64)]: Done   1 tasks      | elapsed:   14.7s\n",
      "[Parallel(n_jobs=64)]: Done   1 out of   1 | elapsed:   14.7s finished\n"
     ]
    }
   ],
   "source": [
    "clf = LogisticRegression(warm_start = True, penalty = 'l2',\n",
    "                         solver = \"sag\", multi_class = 'multinomial', fit_intercept = True,\n",
    "                         verbose = 10, max_iter = 6, n_jobs = 64, random_state = 0, class_weight = None)\n",
    "\n",
    "clf.fit(x_train, y_train)\n",
    "\n",
    "print(f\"Biased Train accuracy {clf.score(x_train, y_train)}\")\n",
    "print(f\"Biased Test accuracy {clf.score(x_test, y_test)}\")\n",
    "print(f\"Train accuracy {clf.score(debiased_x_train, y_train)}\")\n",
    "print(f\"Test accuracy {clf.score(debiased_x_test, y_test)}\")"
   ]
  },
  {
   "cell_type": "code",
   "execution_count": null,
   "metadata": {},
   "outputs": [],
   "source": []
  },
  {
   "cell_type": "code",
   "execution_count": null,
   "metadata": {},
   "outputs": [],
   "source": []
  },
  {
   "cell_type": "code",
   "execution_count": 54,
   "metadata": {},
   "outputs": [],
   "source": [
    "def tsne_by_gender(vecs, labels, title, words = None):\n",
    "\n",
    "  tsne = TSNE(n_components=2, random_state=0)\n",
    "  vecs_2d = tsne.fit_transform(vecs)\n",
    "  num_labels = len(set(labels.tolist()))\n",
    "\n",
    "  names = [\"class {}\".format(i) for i in range(num_labels)]\n",
    "  plt.figure(figsize=(6, 5))\n",
    "  colors = 'r', 'b', 'orange'\n",
    "  for i, c, label in zip(set(labels.tolist()), colors, names):\n",
    "    print(len(vecs_2d[labels == i, 0]))\n",
    "    plt.scatter(vecs_2d[labels == i, 0], vecs_2d[labels == i, 1], c=c,\n",
    "                label=label, alpha = 0.6)\n",
    "  plt.legend(loc = \"upper right\")\n",
    "  plt.title(title)\n",
    "  \n",
    "  if words is not None:\n",
    "        k = 60\n",
    "        for i in range(k):\n",
    "            \n",
    "            j = np.random.choice(range(len(words)))\n",
    "            label = labels[i]\n",
    "            w = words[j]\n",
    "            x,y = vecs_2d[i]\n",
    "            plt.annotate(w , (x,y), size = 10, color = \"black\" if label == 1 else \"black\")\n",
    "            \n",
    "  plt.show()\n",
    "  return vecs_2d"
   ]
  },
  {
   "cell_type": "code",
   "execution_count": 55,
   "metadata": {},
   "outputs": [
    {
     "name": "stdout",
     "output_type": "stream",
     "text": [
      "438\n",
      "362\n"
     ]
    },
    {
     "data": {
      "image/png": "[encoded data removed]",
      "text/plain": [
       "<Figure size 432x360 with 1 Axes>"
      ]
     },
     "metadata": {
      "needs_background": "light"
     },
     "output_type": "display_data"
    },
    {
     "name": "stdout",
     "output_type": "stream",
     "text": [
      "438\n",
      "362\n"
     ]
    },
    {
     "data": {
      "image/png": "[encoded data removed]",
      "text/plain": [
       "<Figure size 432x360 with 1 Axes>"
      ]
     },
     "metadata": {
      "needs_background": "light"
     },
     "output_type": "display_data"
    },
    {
     "data": {
      "text/plain": [
       "array([[  7.3815756 ,   0.2581286 ],\n",
       "       [-10.514421  ,  -0.7842676 ],\n",
       "       [  0.9040104 ,   6.0851326 ],\n",
       "       ...,\n",
       "       [ -4.084077  ,  14.131436  ],\n",
       "       [  1.2464001 ,   8.642483  ],\n",
       "       [-15.642866  ,   0.47921807]], dtype=float32)"
      ]
     },
     "execution_count": 55,
     "metadata": {},
     "output_type": "execute_result"
    }
   ],
   "source": [
    "prof = \"professor\"\n",
    "idx = np.random.rand(x_dev.shape[0]) < 0.1\n",
    "prof_idx = y_dev == p2i[prof]\n",
    "n = 800\n",
    "tsne_by_gender(x_dev[prof_idx][:n], np.array(dev_gender)[prof_idx][:n], \"tsne by gender, before, {}\".format(prof))\n",
    "tsne_by_gender((debiased_x_dev[prof_idx])[:n], np.array(dev_gender)[prof_idx][:n], \"tsne by gender, after. {}\".format(prof))"
   ]
  },
  {
   "cell_type": "code",
   "execution_count": null,
   "metadata": {},
   "outputs": [],
   "source": []
  },
  {
   "cell_type": "code",
   "execution_count": null,
   "metadata": {},
   "outputs": [],
   "source": []
  }
 ],
 "metadata": {
  "kernelspec": {
   "display_name": "Python 3 (ipykernel)",
   "language": "python",
   "name": "python3"
  },
  "language_info": {
   "codemirror_mode": {
    "name": "ipython",
    "version": 3
   },
   "file_extension": ".py",
   "mimetype": "text/x-python",
   "name": "python",
   "nbconvert_exporter": "python",
   "pygments_lexer": "ipython3",
   "version": "3.7.11"
  }
 },
 "nbformat": 4,
 "nbformat_minor": 2
}
