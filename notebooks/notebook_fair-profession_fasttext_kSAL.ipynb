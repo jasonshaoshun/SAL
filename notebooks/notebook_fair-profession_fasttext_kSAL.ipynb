{
 "cells": [
  {
   "cell_type": "code",
   "execution_count": 1,
   "metadata": {},
   "outputs": [],
   "source": [
    "import numpy as np\n",
    "from sklearn.linear_model import LogisticRegression\n",
    "from scipy import linalg\n",
    "from sklearn.metrics.pairwise import rbf_kernel, polynomial_kernel\n",
    "import random\n",
    "import time\n",
    "import copy\n",
    "from collections import defaultdict, Counter\n",
    "\n",
    "from typing import List\n",
    "import pickle\n",
    "import matplotlib.pyplot as plt\n",
    "from scipy.stats.stats import pearsonr"
   ]
  },
  {
   "cell_type": "code",
   "execution_count": 2,
   "metadata": {},
   "outputs": [],
   "source": [
    "def get_TPR(y_pred, y_true, p2i, i2p, y_p_test):\n",
    "    gender = np.where(y_p_test == 1, 'f', 'm')\n",
    "    scores = defaultdict(Counter)\n",
    "    prof_count_total = defaultdict(Counter)\n",
    "    \n",
    "    for y_hat, y, g in zip(y_pred, y_true, gender):\n",
    "        \n",
    "        if y == y_hat:\n",
    "            \n",
    "            scores[i2p[y]][g] += 1\n",
    "        \n",
    "        prof_count_total[i2p[y]][g] += 1\n",
    "    \n",
    "    tprs = defaultdict(dict)\n",
    "    tprs_change = dict()\n",
    "    tprs_ratio = []\n",
    "    \n",
    "    for profession, scores_dict in scores.items():\n",
    "        \n",
    "        good_m, good_f = scores_dict[\"m\"], scores_dict[\"f\"]\n",
    "        prof_total_f = prof_count_total[profession][\"f\"]\n",
    "        prof_total_m = prof_count_total[profession][\"m\"]\n",
    "        if prof_total_m > 0 and prof_total_f > 0:\n",
    "            tpr_m = (good_m) / prof_total_m\n",
    "            tpr_f = (good_f) / prof_total_f\n",
    "\n",
    "            tprs[profession][\"m\"] = tpr_m\n",
    "            tprs[profession][\"f\"] = tpr_f\n",
    "            tprs_ratio.append(0)\n",
    "            tprs_change[profession] = tpr_f - tpr_m\n",
    "        else:\n",
    "            print(f\"profession {profession} missed in tpr-calc:\\n\\\n",
    "                  number of {profession} male in test set {prof_total_m}\\n\\\n",
    "                  number of {profession} female in test set {prof_total_f}\\n\\n\")\n",
    "        \n",
    "    return tprs, tprs_change, np.mean(np.abs(tprs_ratio))\n",
    "    \n",
    "def similarity_vs_tpr(tprs, word2vec, title, measure, prof2fem):\n",
    "    \n",
    "    professions = list(tprs.keys())\n",
    "    #\n",
    "    \"\"\" \n",
    "    sims = dict()\n",
    "    gender_direction = word2vec[\"he\"] - word2vec[\"she\"]\n",
    "    \n",
    "    for p in professions:\n",
    "        sim = word2vec.cosine_similarities(word2vec[p], [gender_direction])[0]\n",
    "        sims[p] = sim\n",
    "    \"\"\"\n",
    "    tpr_lst = [tprs[p] for p in professions]\n",
    "    sim_lst = [prof2fem[p] for p in professions]\n",
    "\n",
    "    #professions = [p.replace(\"_\", \" \") for p in professions if p in word2vec]\n",
    "    \n",
    "    plt.plot(sim_lst, tpr_lst, marker = \"o\", linestyle = \"none\")\n",
    "    plt.xlabel(\"% women\", fontsize = 13)\n",
    "    plt.ylabel(r'$GAP_{female,y}^{TPR}$', fontsize = 13)\n",
    "    for p in professions:\n",
    "        x,y = prof2fem[p], tprs[p]\n",
    "        plt.annotate(p , (x,y), size = 7, color = \"red\")\n",
    "    plt.ylim(-0.4, 0.55)\n",
    "    z = np.polyfit(sim_lst, tpr_lst, 1)\n",
    "    p = np.poly1d(z)\n",
    "    plt.plot(sim_lst,p(sim_lst),\"r--\")\n",
    "    plt.savefig(\"{}_vs_bias_{}_bert\".format(measure, title), dpi = 600)\n",
    "    print(\"Correlation: {}; p-value: {}\".format(*pearsonr(sim_lst, tpr_lst)))\n",
    "    plt.show()\n",
    "\n",
    "def rms_diff(tpr_diff):\n",
    "    \n",
    "    return np.sqrt(np.mean(tpr_diff**2))\n",
    "    \n",
    "# def save_vecs_and_words(vecs, words):\n",
    "#     def to_string(arr):\n",
    "#         return \"\\t\".join([str(x) for x in arr])\n",
    "    \n",
    "#     with open(\"vecs.txt\", \"w\") as f:\n",
    "#         for v in vecs:\n",
    "#             assert len(v) == 300\n",
    "#             f.write(to_string(v) + \"\\n\")\n",
    "    \n",
    "#     with open(\"labels.txt\", \"w\") as f:\n",
    "#             f.write(\"Profession\\n\")\n",
    "#             for w in words:\n",
    "#                 f.write(w + \"\\n\")"
   ]
  },
  {
   "cell_type": "markdown",
   "metadata": {},
   "source": [
    "### Load data"
   ]
  },
  {
   "cell_type": "code",
   "execution_count": 3,
   "metadata": {},
   "outputs": [],
   "source": [
    "def load_dataset(path):\n",
    "    \n",
    "    with open(path, \"rb\") as f:\n",
    "        \n",
    "        data = pickle.load(f)\n",
    "    return data\n",
    "\n",
    "def load_dictionary(path):\n",
    "    \n",
    "    with open(path, \"r\", encoding = \"utf-8\") as f:\n",
    "        \n",
    "        lines = f.readlines()\n",
    "        \n",
    "    k2v, v2k = {}, {}\n",
    "    for line in lines:\n",
    "        \n",
    "        k,v = line.strip().split(\"\\t\")\n",
    "        v = int(v)\n",
    "        k2v[k] = v\n",
    "        v2k[v] = k\n",
    "    \n",
    "    return k2v, v2k\n",
    "    \n",
    "def count_profs_and_gender(data: List[dict]):\n",
    "    \n",
    "    counter = defaultdict(Counter)\n",
    "    for entry in data:\n",
    "        gender, prof = entry[\"g\"], entry[\"p\"]\n",
    "        counter[prof][gender] += 1\n",
    "        \n",
    "    return counter"
   ]
  },
  {
   "cell_type": "markdown",
   "metadata": {},
   "source": [
    "### Load original data (train.pickle etc.) and pre-calculated BERT CLS states (\"train_cls.npy\" etc.)"
   ]
  },
  {
   "cell_type": "code",
   "execution_count": 4,
   "metadata": {},
   "outputs": [
    {
     "name": "stdout",
     "output_type": "stream",
     "text": [
      "0.44541700643683746\n",
      "{'professor': 0.4533699535765501, 'psychologist': 0.627327974906881, 'pastor': 0.2583668005354752, 'comedian': 0.21605667060212513, 'nurse': 0.9126009126009126, 'yoga_teacher': 0.825, 'attorney': 0.3766122913505311, 'photographer': 0.3563658099222953, 'composer': 0.16329625884732052, 'model': 0.7858407079646018, 'surgeon': 0.12832108535895986, 'physician': 0.4158485273492286, 'software_engineer': 0.17130434782608694, 'poet': 0.5133630289532294, 'painter': 0.47116788321167885, 'dj': 0.1636828644501279, 'journalist': 0.5159589626674266, 'architect': 0.23372781065088757, 'paralegal': 0.8618677042801557, 'dentist': 0.3672911787665886, 'personal_trainer': 0.4410377358490566, 'teacher': 0.5943396226415094, 'accountant': 0.3950091296409008, 'interior_designer': 0.7874493927125507, 'dietitian': 0.934412955465587, 'filmmaker': 0.3533007334963325, 'chiropractor': 0.3069908814589666, 'rapper': 0.09438775510204081}\n"
     ]
    }
   ],
   "source": [
    "train = load_dataset(\"../data/biasbios/train.pickle\")\n",
    "dev = load_dataset(\"../data/biasbios/dev.pickle\")\n",
    "test = load_dataset(\"../data/biasbios/test.pickle\")\n",
    "counter = count_profs_and_gender(train+dev+test)\n",
    "prof2fem = dict()\n",
    "\n",
    "f,m = 0., 0.\n",
    "for k, values in counter.items():\n",
    "    f += values['f']\n",
    "    m += values['m']\n",
    "    prof2fem[k] = values['f']/(values['f'] + values['m'])\n",
    "\n",
    "print(f / (f + m))\n",
    "print(prof2fem)"
   ]
  },
  {
   "cell_type": "code",
   "execution_count": 5,
   "metadata": {},
   "outputs": [],
   "source": [
    "saved_dataset = np.load(f\"../data/saved_models/fair_biography_prof_gender/FastText/all.npz\")\n",
    "\n",
    "x_train = saved_dataset['x_train']\n",
    "y_m_train = saved_dataset['y_m_train']\n",
    "y_p_train = saved_dataset['y_p_train']\n",
    "\n",
    "x_dev = saved_dataset['x_dev']\n",
    "y_p_dev = saved_dataset['y_p_dev']\n",
    "y_m_dev = saved_dataset['y_m_dev']\n",
    "\n",
    "x_test = saved_dataset['x_test']\n",
    "y_p_test = saved_dataset['y_p_test']\n",
    "y_m_test = saved_dataset['y_m_test']\n",
    "\n",
    "y_p_train_2d = np.asarray([y_p_train, - y_p_train + 1]).T"
   ]
  },
  {
   "cell_type": "code",
   "execution_count": 6,
   "metadata": {},
   "outputs": [],
   "source": [
    "p2i, i2p = load_dictionary(\"../data/biasbios/profession2index.txt\")\n",
    "g2i, i2g = load_dictionary(\"../data/biasbios/gender2index.txt\")"
   ]
  },
  {
   "cell_type": "markdown",
   "metadata": {},
   "source": [
    "# Option 1: Train the model from scratch"
   ]
  },
  {
   "cell_type": "code",
   "execution_count": null,
   "metadata": {},
   "outputs": [],
   "source": [
    "# N = 15000\n",
    "# N_test = 5000\n",
    "N = 4000\n",
    "N_test = 1000\n",
    "\n",
    "ratio = \"FastText\"\n",
    "\n",
    "# kernel_fn = \"rbf\"\n",
    "# kernel_coef = 0.1\n",
    "kernel_fn = \"poly\"\n",
    "kernel_coef = 2\n",
    "\n",
    "assert x_train[:N, :].shape[1] == x_train[:N, :].shape[1]\n",
    "\n",
    "K_y = y_p_train_2d[:N, :] @ y_p_train_2d[:N, :].T\n",
    "if kernel_fn == \"linear\":\n",
    "    K_x = x_train[:N, :] @ x_train[:N, :].T\n",
    "    K_x_test_tr = x_test[:N_test, :] @ x_train[:N, :].T\n",
    "elif kernel_fn == \"rbf\":\n",
    "    K_x = rbf_kernel(x_train[:N, :], x_train[:N, :], kernel_coef)\n",
    "    K_x_test_tr = rbf_kernel(x_test[:N_test, :], x_train[:N, :], kernel_coef)\n",
    "elif kernel_fn == \"poly\":\n",
    "    n_features = x_train[:N, :].shape[1]\n",
    "    K_x = rbf_kernel(x_train[:N, :], x_train[:N, :], kernel_coef)\n",
    "    K_x_test_tr = polynomial_kernel(x_test[:N_test, :], x_train[:N, :], degree = kernel_coef, gamma = n_features, coef0=1)\n",
    "\n",
    "print(f\"K_x.shape, K_x_test_tr.shape {K_x.shape, K_x_test_tr.shape}\")\n",
    "eigenval, W = np.linalg.eig(np.dot(K_y, K_x))\n",
    "order = np.argsort(np.abs(np.real(eigenval)))\n",
    "W = W[:, order]\n",
    "W = np.real(W)\n",
    "A = np.concatenate((K_x, K_x_test_tr), axis=0)\n",
    "u, s, vh = np.linalg.svd(A)\n",
    "s = s**(0.5)\n",
    "s = np.diag(s)\n",
    "print(f\"A.shape, u.shape, s.shape, vh.shape {A.shape, u.shape, s.shape, vh.shape}\")\n",
    "\n",
    "K_x_sqrt_all = np.dot(np.dot(u[:, :s.shape[0]], s), vh[:s.shape[1], :])\n",
    "K_x_sqrt2 = K_x_sqrt_all[:N, :]\n",
    "K_x_test_sqrt2 = K_x_sqrt_all[N:, :]\n",
    "print(f\"K_x.shape, K_x_test_sqrt2.shape, K_x_sqrt_all.shape {K_x.shape, K_x_test_sqrt2.shape, K_x_sqrt_all.shape}\")\n",
    "\n",
    "remove_eigen_num = 2\n",
    "U_proj_ker = linalg.null_space((K_x_sqrt2 @ W[:, :remove_eigen_num]).T)\n",
    "debiased_x_train = np.dot(K_x_sqrt2, U_proj_ker)\n",
    "debiased_x_test = np.dot(K_x_test_sqrt2, U_proj_ker)\n",
    "print(f\"debiased_x_train.shape, debiased_x_test.shape {debiased_x_train.shape, debiased_x_test.shape}\")\n"
   ]
  },
  {
   "cell_type": "code",
   "execution_count": null,
   "metadata": {},
   "outputs": [],
   "source": [
    "random.seed(0)\n",
    "np.random.seed(0)\n",
    "\n",
    "clf_original = LogisticRegression(warm_start = True, penalty = 'l2',\n",
    "                         solver = \"saga\", multi_class = 'multinomial', fit_intercept = False,\n",
    "                         verbose = 5, n_jobs = 90, random_state = 1, max_iter = 7)\n",
    "                         \n",
    "\n",
    "clf_original.fit(x_train[:N, :], y_m_train[:N])\n",
    "print(f\"Score of profession classifier on original(biased) dataset \\n{clf_original.score(x_test[:N_test, :], y_m_test[:N_test])}\")\n"
   ]
  },
  {
   "cell_type": "code",
   "execution_count": null,
   "metadata": {},
   "outputs": [],
   "source": [
    "clf_debiased = LogisticRegression(warm_start = True, penalty = 'l2',\n",
    "                         solver = \"saga\", multi_class = 'multinomial', fit_intercept = False,\n",
    "                         verbose = 5, n_jobs = 90, random_state = 1, max_iter = 7)\n",
    "\n",
    "clf_debiased.fit(debiased_x_train, y_m_train[:N])\n",
    "print(f\"Score of profession classifier on debiased dataset \\n{clf_debiased.score(debiased_x_test, y_m_test[:N_test])}\")\n"
   ]
  },
  {
   "cell_type": "code",
   "execution_count": null,
   "metadata": {},
   "outputs": [],
   "source": [
    "y_pred_before = clf_original.predict(x_test[:N_test])\n",
    "tprs_before, tprs_change_before, mean_ratio_before = get_TPR(y_pred_before, y_m_test[:N_test], p2i, i2p, y_p_test[:N_test])\n",
    "similarity_vs_tpr(tprs_change_before, None, \"before\", \"TPR\", prof2fem)\n",
    "\n",
    "y_pred_after = clf_debiased.predict(debiased_x_test)\n",
    "tprs, tprs_change_after, mean_ratio_after = get_TPR(y_pred_after, y_m_test[:N_test], p2i, i2p, y_p_test[:N_test])\n",
    "similarity_vs_tpr(tprs_change_after, None, \"after\", \"TPR\", prof2fem)\n",
    "\n",
    "change_vals_before = np.array(list((tprs_change_before.values())))\n",
    "change_vals_after = np.array(list(tprs_change_after.values()))\n",
    "\n",
    "print(\"rms-diff before: {}; rms-diff after: {}\".format(rms_diff(change_vals_before), rms_diff(change_vals_after)))\n",
    "\n",
    "# np.savez(f\"../../data/saved_models/fair_biography_prof_gender/{ratio}/cleaned_Train{N}_Test{N_test}.npz\", debiased_x_train = debiased_x_train, debiased_x_test = debiased_x_test)\n"
   ]
  },
  {
   "cell_type": "markdown",
   "metadata": {},
   "source": [
    "# Option 2: load directly"
   ]
  },
  {
   "cell_type": "markdown",
   "metadata": {},
   "source": [
    "## Train and save the model by src/ksal/ksal.py \n",
    "\n",
    "Then load it to the notebook"
   ]
  },
  {
   "cell_type": "code",
   "execution_count": 7,
   "metadata": {},
   "outputs": [],
   "source": [
    "def tpr_exp(x_test, debiased_x_train, y_m_train, debiased_x_test, y_m_test, y_p_test, N_test, p2i, i2p, clf_original):\n",
    "    y_p_test_string = np.where(y_p_test == 1, 'f', 'm')\n",
    "\n",
    "    y_pred_before = clf_original.predict(x_test[:N_test])\n",
    "    tprs_before, tprs_change_before, mean_ratio_before = get_TPR(y_pred_before, y_m_test[:N_test], p2i, i2p, y_p_test[:N_test])\n",
    "    similarity_vs_tpr(tprs_change_before, None, \"before\", \"TPR\", prof2fem)\n",
    "\n",
    "    clf_debiased = LogisticRegression(warm_start = True, penalty = 'l2',\n",
    "                             solver = \"saga\", multi_class = 'multinomial', fit_intercept = False,\n",
    "                             verbose = 5, n_jobs = 90, random_state = 1, max_iter = 7)\n",
    "\n",
    "    clf_debiased.fit(debiased_x_train, y_m_train[:N])\n",
    "    print(f\"\\n\\n\\n================================================\\\n",
    "                \\nSCORE: of profession classifier on debiased dataset\\\n",
    "                \\n{clf_debiased.score(debiased_x_test, y_m_test[:N_test])}\\\n",
    "                \\n================================================\\n\\n\\n\")\n",
    "\n",
    "    y_pred_after = clf_debiased.predict(debiased_x_test)\n",
    "    tprs, tprs_change_after, mean_ratio_after = get_TPR(y_pred_after, y_m_test[:N_test], p2i, i2p, y_p_test[:N_test])\n",
    "    similarity_vs_tpr(tprs_change_after, None, \"after\", \"TPR\", prof2fem)\n",
    "\n",
    "    change_vals_before = np.array(list((tprs_change_before.values())))\n",
    "    change_vals_after = np.array(list(tprs_change_after.values()))\n",
    "\n",
    "    print(\"rms-diff before: {}; rms-diff after: {}\".format(rms_diff(change_vals_before), rms_diff(change_vals_after)))\n"
   ]
  },
  {
   "cell_type": "code",
   "execution_count": 8,
   "metadata": {},
   "outputs": [],
   "source": [
    "N = 15000\n",
    "N_test = 5000\n",
    "ratio = \"FastText\""
   ]
  },
  {
   "cell_type": "code",
   "execution_count": 9,
   "metadata": {},
   "outputs": [
    {
     "name": "stderr",
     "output_type": "stream",
     "text": [
      "[Parallel(n_jobs=90)]: Using backend ThreadingBackend with 90 concurrent workers.\n"
     ]
    },
    {
     "name": "stdout",
     "output_type": "stream",
     "text": [
      "max_iter reached after 5 seconds\n"
     ]
    },
    {
     "name": "stderr",
     "output_type": "stream",
     "text": [
      "/lustre/home/sc066/shunshao/miniconda3/envs/cca/lib/python3.7/site-packages/sklearn/linear_model/_sag.py:329: ConvergenceWarning: The max_iter was reached which means the coef_ did not converge\n",
      "  \"the coef_ did not converge\", ConvergenceWarning)\n",
      "[Parallel(n_jobs=90)]: Done   1 out of   1 | elapsed:    5.4s finished\n"
     ]
    },
    {
     "name": "stdout",
     "output_type": "stream",
     "text": [
      "Score of profession classifier on original(biased) dataset \n",
      "0.7022\n"
     ]
    }
   ],
   "source": [
    "random.seed(0)\n",
    "np.random.seed(0)\n",
    "\n",
    "clf_original = LogisticRegression(warm_start = True, penalty = 'l2',\n",
    "                         solver = \"saga\", multi_class = 'multinomial', fit_intercept = False,\n",
    "                         verbose = 5, n_jobs = 90, random_state = 1, max_iter = 7)\n",
    "                         \n",
    "\n",
    "clf_original.fit(x_train[:N, :], y_m_train[:N])\n",
    "print(f\"Score of profession classifier on original(biased) dataset \\n{clf_original.score(x_test[:N_test, :], y_m_test[:N_test])}\")\n"
   ]
  },
  {
   "cell_type": "markdown",
   "metadata": {},
   "source": [
    "# 1. Linear Kernel"
   ]
  },
  {
   "cell_type": "code",
   "execution_count": 12,
   "metadata": {},
   "outputs": [],
   "source": [
    "kernel_fn = \"linear\"\n",
    "kernel_coef = 0\n",
    "\n",
    "saved_model = np.load(f\"../data/saved_models/fair_biography_prof_gender/{ratio}/cleaned_{kernel_fn}_{kernel_coef}_Train{N}_Test{N_test}.npz\")\n",
    "debiased_x_train_0 = saved_model['debiased_x_train_0']\n",
    "debiased_x_test_0 = saved_model['debiased_x_test_0']\n",
    "debiased_x_train_1 = saved_model['debiased_x_train_1']\n",
    "debiased_x_test_1 = saved_model['debiased_x_test_1']\n",
    "debiased_x_train_2 = saved_model['debiased_x_train_2']\n",
    "debiased_x_test_2 = saved_model['debiased_x_test_2']"
   ]
  },
  {
   "cell_type": "code",
   "execution_count": null,
   "metadata": {},
   "outputs": [],
   "source": [
    "# Removal 0 BERT Linear\n",
    "tpr_exp(x_test, debiased_x_train_0, y_m_train, debiased_x_test_0, y_m_test, \\\n",
    "        y_p_test, N_test, p2i, i2p, clf_original)"
   ]
  },
  {
   "cell_type": "code",
   "execution_count": null,
   "metadata": {},
   "outputs": [],
   "source": [
    "# Removal 1 BERT Linear\n",
    "tpr_exp(x_test, debiased_x_train_1, y_m_train, debiased_x_test_1, y_m_test, \\\n",
    "        y_p_test, N_test, p2i, i2p, clf_original)"
   ]
  },
  {
   "cell_type": "code",
   "execution_count": 13,
   "metadata": {},
   "outputs": [
    {
     "name": "stdout",
     "output_type": "stream",
     "text": [
      "profession dietitian missed in tpr-calc:\n",
      "                  number of dietitian male in test set 0\n",
      "                  number of dietitian female in test set 59\n",
      "\n",
      "\n",
      "Correlation: 0.773655072810786; p-value: 6.29340039229481e-05\n"
     ]
    },
    {
     "data": {
      "image/png": "[encoded data removed]",
      "text/plain": [
       "<Figure size 432x288 with 1 Axes>"
      ]
     },
     "metadata": {
      "needs_background": "light"
     },
     "output_type": "display_data"
    },
    {
     "name": "stderr",
     "output_type": "stream",
     "text": [
      "[Parallel(n_jobs=90)]: Using backend ThreadingBackend with 90 concurrent workers.\n"
     ]
    },
    {
     "name": "stdout",
     "output_type": "stream",
     "text": [
      "max_iter reached after 298 seconds\n",
      "\n",
      "\n",
      "\n",
      "================================================                \n",
      "SCORE: of profession classifier on debiased dataset                \n",
      "0.6974                \n",
      "================================================\n",
      "\n",
      "\n",
      "\n"
     ]
    },
    {
     "name": "stderr",
     "output_type": "stream",
     "text": [
      "/lustre/home/sc066/shunshao/miniconda3/envs/cca/lib/python3.7/site-packages/sklearn/linear_model/_sag.py:329: ConvergenceWarning: The max_iter was reached which means the coef_ did not converge\n",
      "  \"the coef_ did not converge\", ConvergenceWarning)\n",
      "[Parallel(n_jobs=90)]: Done   1 out of   1 | elapsed:  5.0min finished\n"
     ]
    },
    {
     "name": "stdout",
     "output_type": "stream",
     "text": [
      "profession dietitian missed in tpr-calc:\n",
      "                  number of dietitian male in test set 0\n",
      "                  number of dietitian female in test set 59\n",
      "\n",
      "\n",
      "Correlation: 0.28151941939644465; p-value: 0.21635439221736918\n"
     ]
    },
    {
     "data": {
      "image/png": "[encoded data removed]",
      "text/plain": [
       "<Figure size 432x288 with 1 Axes>"
      ]
     },
     "metadata": {
      "needs_background": "light"
     },
     "output_type": "display_data"
    },
    {
     "name": "stdout",
     "output_type": "stream",
     "text": [
      "rms-diff before: 0.18337572303336608; rms-diff after: 0.11473460987575866\n"
     ]
    }
   ],
   "source": [
    "# Removal 2 BERT Linear\n",
    "tpr_exp(x_test, debiased_x_train_2, y_m_train, debiased_x_test_2, y_m_test, \\\n",
    "        y_p_test, N_test, p2i, i2p, clf_original)"
   ]
  },
  {
   "cell_type": "markdown",
   "metadata": {},
   "source": [
    "# 2. RBF kernel at gamma = 0.1"
   ]
  },
  {
   "cell_type": "code",
   "execution_count": 14,
   "metadata": {},
   "outputs": [],
   "source": [
    "kernel_fn = \"rbf\"\n",
    "kernel_coef = 0.1\n",
    "\n",
    "saved_model = np.load(f\"../data/saved_models/fair_biography_prof_gender/{ratio}/cleaned_{kernel_fn}_{kernel_coef}_Train{N}_Test{N_test}.npz\")\n",
    "debiased_x_train_0 = saved_model['debiased_x_train_0']\n",
    "debiased_x_test_0 = saved_model['debiased_x_test_0']\n",
    "debiased_x_train_1 = saved_model['debiased_x_train_1']\n",
    "debiased_x_test_1 = saved_model['debiased_x_test_1']\n",
    "debiased_x_train_2 = saved_model['debiased_x_train_2']\n",
    "debiased_x_test_2 = saved_model['debiased_x_test_2']"
   ]
  },
  {
   "cell_type": "code",
   "execution_count": null,
   "metadata": {},
   "outputs": [],
   "source": [
    "# Removal 0 BERT RBF at gamma = 0.1\n",
    "tpr_exp(x_test, debiased_x_train_0, y_m_train, debiased_x_test_0, y_m_test, \\\n",
    "        y_p_test, N_test, p2i, i2p, clf_original)"
   ]
  },
  {
   "cell_type": "code",
   "execution_count": null,
   "metadata": {},
   "outputs": [],
   "source": [
    "# Removal 1 BERT RBF at gamma = 0.1\n",
    "tpr_exp(x_test, debiased_x_train_1, y_m_train, debiased_x_test_1, y_m_test, \\\n",
    "        y_p_test, N_test, p2i, i2p, clf_original)"
   ]
  },
  {
   "cell_type": "code",
   "execution_count": 15,
   "metadata": {},
   "outputs": [
    {
     "name": "stdout",
     "output_type": "stream",
     "text": [
      "profession dietitian missed in tpr-calc:\n",
      "                  number of dietitian male in test set 0\n",
      "                  number of dietitian female in test set 59\n",
      "\n",
      "\n",
      "Correlation: 0.773655072810786; p-value: 6.29340039229481e-05\n"
     ]
    },
    {
     "data": {
      "image/png": "[encoded data removed]",
      "text/plain": [
       "<Figure size 432x288 with 1 Axes>"
      ]
     },
     "metadata": {
      "needs_background": "light"
     },
     "output_type": "display_data"
    },
    {
     "name": "stderr",
     "output_type": "stream",
     "text": [
      "[Parallel(n_jobs=90)]: Using backend ThreadingBackend with 90 concurrent workers.\n"
     ]
    },
    {
     "name": "stdout",
     "output_type": "stream",
     "text": [
      "max_iter reached after 287 seconds\n",
      "\n",
      "\n",
      "\n",
      "================================================                \n",
      "SCORE: of profession classifier on debiased dataset                \n",
      "0.1372                \n",
      "================================================\n",
      "\n",
      "\n",
      "\n"
     ]
    },
    {
     "name": "stderr",
     "output_type": "stream",
     "text": [
      "/lustre/home/sc066/shunshao/miniconda3/envs/cca/lib/python3.7/site-packages/sklearn/linear_model/_sag.py:329: ConvergenceWarning: The max_iter was reached which means the coef_ did not converge\n",
      "  \"the coef_ did not converge\", ConvergenceWarning)\n",
      "[Parallel(n_jobs=90)]: Done   1 out of   1 | elapsed:  4.8min finished\n"
     ]
    },
    {
     "name": "stdout",
     "output_type": "stream",
     "text": [
      "profession dietitian missed in tpr-calc:\n",
      "                  number of dietitian male in test set 0\n",
      "                  number of dietitian female in test set 59\n",
      "\n",
      "\n",
      "Correlation: 0.450143871049959; p-value: 0.04059786566020312\n"
     ]
    },
    {
     "data": {
      "image/png": "[encoded data removed]",
      "text/plain": [
       "<Figure size 432x288 with 1 Axes>"
      ]
     },
     "metadata": {
      "needs_background": "light"
     },
     "output_type": "display_data"
    },
    {
     "name": "stdout",
     "output_type": "stream",
     "text": [
      "rms-diff before: 0.18337572303336608; rms-diff after: 0.08420485250044037\n"
     ]
    }
   ],
   "source": [
    "# Removal 2 BERT RBF at gamma = 0.1\n",
    "tpr_exp(x_test, debiased_x_train_2, y_m_train, debiased_x_test_2, y_m_test, \\\n",
    "        y_p_test, N_test, p2i, i2p, clf_original)"
   ]
  },
  {
   "cell_type": "markdown",
   "metadata": {},
   "source": [
    "# 3. Polynomial kernel at degree=2"
   ]
  },
  {
   "cell_type": "code",
   "execution_count": 10,
   "metadata": {},
   "outputs": [],
   "source": [
    "kernel_fn = \"poly\"\n",
    "kernel_coef = 2\n",
    "\n",
    "saved_model = np.load(f\"../data/saved_models/fair_biography_prof_gender/{ratio}/cleaned_{kernel_fn}_{kernel_coef}_Train{N}_Test{N_test}.npz\")\n",
    "debiased_x_train_0 = saved_model['debiased_x_train_0']\n",
    "debiased_x_test_0 = saved_model['debiased_x_test_0']\n",
    "debiased_x_train_1 = saved_model['debiased_x_train_1']\n",
    "debiased_x_test_1 = saved_model['debiased_x_test_1']\n",
    "debiased_x_train_2 = saved_model['debiased_x_train_2']\n",
    "debiased_x_test_2 = saved_model['debiased_x_test_2']"
   ]
  },
  {
   "cell_type": "code",
   "execution_count": 11,
   "metadata": {},
   "outputs": [
    {
     "name": "stdout",
     "output_type": "stream",
     "text": [
      "profession dietitian missed in tpr-calc:\n",
      "                  number of dietitian male in test set 0\n",
      "                  number of dietitian female in test set 59\n",
      "\n",
      "\n",
      "Correlation: 0.773655072810786; p-value: 6.29340039229481e-05\n"
     ]
    },
    {
     "data": {
      "image/png": "[encoded data removed]",
      "text/plain": [
       "<Figure size 432x288 with 1 Axes>"
      ]
     },
     "metadata": {
      "needs_background": "light"
     },
     "output_type": "display_data"
    },
    {
     "name": "stderr",
     "output_type": "stream",
     "text": [
      "[Parallel(n_jobs=90)]: Using backend ThreadingBackend with 90 concurrent workers.\n"
     ]
    },
    {
     "name": "stdout",
     "output_type": "stream",
     "text": [
      "max_iter reached after 298 seconds\n",
      "\n",
      "\n",
      "\n",
      "================================================                \n",
      "SCORE: of profession classifier on debiased dataset                \n",
      "0.4952                \n",
      "================================================\n",
      "\n",
      "\n",
      "\n"
     ]
    },
    {
     "name": "stderr",
     "output_type": "stream",
     "text": [
      "/lustre/home/sc066/shunshao/miniconda3/envs/cca/lib/python3.7/site-packages/sklearn/linear_model/_sag.py:329: ConvergenceWarning: The max_iter was reached which means the coef_ did not converge\n",
      "  \"the coef_ did not converge\", ConvergenceWarning)\n",
      "[Parallel(n_jobs=90)]: Done   1 out of   1 | elapsed:  5.0min finished\n"
     ]
    },
    {
     "name": "stdout",
     "output_type": "stream",
     "text": [
      "Correlation: 0.576632539140049; p-value: 0.08098230117672431\n"
     ]
    },
    {
     "data": {
      "image/png": "[encoded data removed]",
      "text/plain": [
       "<Figure size 432x288 with 1 Axes>"
      ]
     },
     "metadata": {
      "needs_background": "light"
     },
     "output_type": "display_data"
    },
    {
     "name": "stdout",
     "output_type": "stream",
     "text": [
      "rms-diff before: 0.18337572303336608; rms-diff after: 0.04961962564035084\n"
     ]
    }
   ],
   "source": [
    "# Removal 0 BERT Poly 2\n",
    "tpr_exp(x_test, debiased_x_train_0, y_m_train, debiased_x_test_0, y_m_test, \\\n",
    "        y_p_test, N_test, p2i, i2p, clf_original)"
   ]
  },
  {
   "cell_type": "code",
   "execution_count": 12,
   "metadata": {},
   "outputs": [
    {
     "name": "stdout",
     "output_type": "stream",
     "text": [
      "profession dietitian missed in tpr-calc:\n",
      "                  number of dietitian male in test set 0\n",
      "                  number of dietitian female in test set 59\n",
      "\n",
      "\n",
      "Correlation: 0.773655072810786; p-value: 6.29340039229481e-05\n"
     ]
    },
    {
     "data": {
      "image/png": "[encoded data removed]",
      "text/plain": [
       "<Figure size 432x288 with 1 Axes>"
      ]
     },
     "metadata": {
      "needs_background": "light"
     },
     "output_type": "display_data"
    },
    {
     "name": "stderr",
     "output_type": "stream",
     "text": [
      "[Parallel(n_jobs=90)]: Using backend ThreadingBackend with 90 concurrent workers.\n"
     ]
    },
    {
     "name": "stdout",
     "output_type": "stream",
     "text": [
      "max_iter reached after 301 seconds\n",
      "\n",
      "\n",
      "\n",
      "================================================                \n",
      "SCORE: of profession classifier on debiased dataset                \n",
      "0.5806                \n",
      "================================================\n",
      "\n",
      "\n",
      "\n"
     ]
    },
    {
     "name": "stderr",
     "output_type": "stream",
     "text": [
      "/lustre/home/sc066/shunshao/miniconda3/envs/cca/lib/python3.7/site-packages/sklearn/linear_model/_sag.py:329: ConvergenceWarning: The max_iter was reached which means the coef_ did not converge\n",
      "  \"the coef_ did not converge\", ConvergenceWarning)\n",
      "[Parallel(n_jobs=90)]: Done   1 out of   1 | elapsed:  5.0min finished\n"
     ]
    },
    {
     "name": "stdout",
     "output_type": "stream",
     "text": [
      "Correlation: 0.3789776883508932; p-value: 0.14772867602704037\n"
     ]
    },
    {
     "data": {
      "image/png": "[encoded data removed]",
      "text/plain": [
       "<Figure size 432x288 with 1 Axes>"
      ]
     },
     "metadata": {
      "needs_background": "light"
     },
     "output_type": "display_data"
    },
    {
     "name": "stdout",
     "output_type": "stream",
     "text": [
      "rms-diff before: 0.18337572303336608; rms-diff after: 0.1492207928515152\n"
     ]
    }
   ],
   "source": [
    "# Removal 1 BERT Poly 2\n",
    "tpr_exp(x_test, debiased_x_train_1, y_m_train, debiased_x_test_1, y_m_test, \\\n",
    "        y_p_test, N_test, p2i, i2p, clf_original)"
   ]
  },
  {
   "cell_type": "code",
   "execution_count": 13,
   "metadata": {},
   "outputs": [
    {
     "name": "stdout",
     "output_type": "stream",
     "text": [
      "profession dietitian missed in tpr-calc:\n",
      "                  number of dietitian male in test set 0\n",
      "                  number of dietitian female in test set 59\n",
      "\n",
      "\n",
      "Correlation: 0.773655072810786; p-value: 6.29340039229481e-05\n"
     ]
    },
    {
     "data": {
      "image/png": "[encoded data removed]",
      "text/plain": [
       "<Figure size 432x288 with 1 Axes>"
      ]
     },
     "metadata": {
      "needs_background": "light"
     },
     "output_type": "display_data"
    },
    {
     "name": "stderr",
     "output_type": "stream",
     "text": [
      "[Parallel(n_jobs=90)]: Using backend ThreadingBackend with 90 concurrent workers.\n"
     ]
    },
    {
     "name": "stdout",
     "output_type": "stream",
     "text": [
      "max_iter reached after 296 seconds\n"
     ]
    },
    {
     "name": "stderr",
     "output_type": "stream",
     "text": [
      "/lustre/home/sc066/shunshao/miniconda3/envs/cca/lib/python3.7/site-packages/sklearn/linear_model/_sag.py:329: ConvergenceWarning: The max_iter was reached which means the coef_ did not converge\n",
      "  \"the coef_ did not converge\", ConvergenceWarning)\n",
      "[Parallel(n_jobs=90)]: Done   1 out of   1 | elapsed:  4.9min finished\n"
     ]
    },
    {
     "name": "stdout",
     "output_type": "stream",
     "text": [
      "\n",
      "\n",
      "\n",
      "================================================                \n",
      "SCORE: of profession classifier on debiased dataset                \n",
      "0.5762                \n",
      "================================================\n",
      "\n",
      "\n",
      "\n",
      "Correlation: 0.08446044696320024; p-value: 0.7472326984514821\n"
     ]
    },
    {
     "data": {
      "image/png": "[encoded data removed]",
      "text/plain": [
       "<Figure size 432x288 with 1 Axes>"
      ]
     },
     "metadata": {
      "needs_background": "light"
     },
     "output_type": "display_data"
    },
    {
     "name": "stdout",
     "output_type": "stream",
     "text": [
      "rms-diff before: 0.18337572303336608; rms-diff after: 0.10341280718742507\n"
     ]
    }
   ],
   "source": [
    "# Removal 2 BERT Poly 2\n",
    "tpr_exp(x_test, debiased_x_train_2, y_m_train, debiased_x_test_2, y_m_test, \\\n",
    "        y_p_test, N_test, p2i, i2p, clf_original)"
   ]
  }
 ],
 "metadata": {
  "kernelspec": {
   "display_name": "Python 3 (ipykernel)",
   "language": "python",
   "name": "python3"
  },
  "language_info": {
   "codemirror_mode": {
    "name": "ipython",
    "version": 3
   },
   "file_extension": ".py",
   "mimetype": "text/x-python",
   "name": "python",
   "nbconvert_exporter": "python",
   "pygments_lexer": "ipython3",
   "version": "3.7.11"
  }
 },
 "nbformat": 4,
 "nbformat_minor": 2
}
