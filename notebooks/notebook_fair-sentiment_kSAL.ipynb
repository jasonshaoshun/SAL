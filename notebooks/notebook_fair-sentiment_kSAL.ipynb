{
 "cells": [
  {
   "cell_type": "code",
   "execution_count": 1,
   "metadata": {},
   "outputs": [],
   "source": [
    "import sys\n",
    "sys.path.append(\"../src\")\n",
    "sys.path.append(\"../data/embeddings\")\n",
    "import classifier\n",
    "import debias\n",
    "#import debias_old as debias\n",
    "import gensim\n",
    "import codecs\n",
    "import json\n",
    "from gensim.models.keyedvectors import Word2VecKeyedVectors\n",
    "from gensim.models import KeyedVectors\n",
    "import numpy as np\n",
    "import random\n",
    "import sklearn\n",
    "from sklearn import model_selection\n",
    "from sklearn import cluster\n",
    "from sklearn import metrics\n",
    "from sklearn.manifold import TSNE\n",
    "from sklearn.svm import LinearSVC, SVC\n",
    "from sklearn.linear_model import SGDClassifier, Perceptron, LogisticRegression, PassiveAggressiveClassifier\n",
    "from sklearn.discriminant_analysis import LinearDiscriminantAnalysis\n",
    "from sklearn.neural_network import MLPClassifier\n",
    "from sklearn.metrics.pairwise import cosine_similarity\n",
    "from sklearn.decomposition import PCA\n",
    "import scipy\n",
    "from scipy import linalg\n",
    "from scipy.stats.stats import pearsonr\n",
    "import tqdm\n",
    "import matplotlib\n",
    "import matplotlib.pyplot as plt\n",
    "# %matplotlib inline\n",
    "# matplotlib.rcParams['agg.path.chunksize'] = 10000\n",
    "from sklearn.utils import shuffle\n",
    "\n",
    "# import warnings\n",
    "# warnings.filterwarnings(\"ignore\")\n",
    "# %load_ext autoreload\n",
    "# %autoreload\n",
    "\n",
    "from collections import Counter, defaultdict\n",
    "import seaborn as sns\n",
    "# sns.set_style(\"whitegrid\")"
   ]
  },
  {
   "cell_type": "markdown",
   "metadata": {},
   "source": [
    "# Function"
   ]
  },
  {
   "cell_type": "code",
   "execution_count": 2,
   "metadata": {},
   "outputs": [],
   "source": [
    "def load_data(path, size, ratio=0.5):\n",
    "    fnames = [\"neg_neg.npy\", \"neg_pos.npy\", \"pos_neg.npy\", \"pos_pos.npy\"]\n",
    "    protected_labels = [0, 1, 0, 1]\n",
    "    main_labels = [0, 0, 1, 1]\n",
    "    X, Y_p, Y_m = [], [], []\n",
    "    n1 = int(size * ratio / 2)\n",
    "    n2 = int(size * (1 - ratio) / 2)\n",
    "#     print(n1, n2)\n",
    "\n",
    "    for fname, p_label, m_label, n in zip(fnames, protected_labels, main_labels, [n1, n2, n2, n1]):\n",
    "#         print(path + '/' + fname)\n",
    "#         print(np.load(path + '/' + fname).shape)\n",
    "        data = np.load(path + '/' + fname)[:n]\n",
    "        for x in data:\n",
    "            X.append(x)\n",
    "        for _ in data:\n",
    "            Y_p.append(p_label)\n",
    "        for _ in data:\n",
    "            Y_m.append(m_label)\n",
    "\n",
    "    Y_p = np.array(Y_p)\n",
    "    Y_m = np.array(Y_m)\n",
    "    X = np.array(X)\n",
    "    X, Y_p, Y_m = shuffle(X, Y_p, Y_m, random_state=0)\n",
    "    return X, Y_p, Y_m"
   ]
  },
  {
   "cell_type": "code",
   "execution_count": 3,
   "metadata": {},
   "outputs": [],
   "source": [
    "def get_TPR(y_main, y_hat_main, y_protected):\n",
    "    \n",
    "    all_y = list(Counter(y_main).keys())\n",
    "    \n",
    "    protected_vals = defaultdict(dict)\n",
    "    for label in all_y:\n",
    "        for i in range(2):\n",
    "            used_vals = (y_main == label) & (y_protected == i)\n",
    "            y_label = y_main[used_vals]\n",
    "            y_hat_label = y_hat_main[used_vals]\n",
    "            protected_vals['y:{}'.format(label)]['p:{}'.format(i)] = (y_label == y_hat_label).mean()\n",
    "            \n",
    "    diffs = {}\n",
    "    for k, v in protected_vals.items():\n",
    "        vals = list(v.values())\n",
    "        diffs[k] = vals[0] - vals[1]\n",
    "    return protected_vals, diffs"
   ]
  },
  {
   "cell_type": "code",
   "execution_count": 4,
   "metadata": {},
   "outputs": [],
   "source": [
    "def rms(arr):\n",
    "    return np.sqrt(np.mean(np.square(arr)))"
   ]
  },
  {
   "cell_type": "code",
   "execution_count": 5,
   "metadata": {},
   "outputs": [],
   "source": [
    "def calc_plot_tpr(P):\n",
    "    \n",
    "    results = defaultdict(dict)\n",
    "    for ratio in [0.5, 0.6, 0.7, 0.8]:\n",
    "\n",
    "        x_train, y_p_train, y_m_train = load_data(\n",
    "            '../data/emoji_sent_race_{}/train/'.format(ratio),\n",
    "            size=100000, ratio=ratio)\n",
    "        x_dev, y_p_dev, y_m_dev = load_data(\n",
    "            '../data/emoji_sent_race_{}/test/'.format(ratio),\n",
    "            size=100000, ratio=0.5)\n",
    "\n",
    "        biased_classifier = LinearSVC(fit_intercept=True, class_weight='balanced', dual=False, C=0.1, max_iter=10000)\n",
    "\n",
    "        biased_classifier.fit(x_train, y_m_train)\n",
    "        biased_score = biased_classifier.score(x_dev, y_m_dev)\n",
    "\n",
    "    #     P = np.load('../data/emoji_sent_race_{}/P_svm.num-clfs=300.npy'.format(ratio), allow_pickle=True)\n",
    "    #     P = P[1]\n",
    "\n",
    "    #     n_dims = 120\n",
    "    # #     n_dims = 70\n",
    "    #     if ratio == 0.5:\n",
    "    #         n_dims = 200\n",
    "    #     elif ratio == 0.6:\n",
    "    #         n_dims = 100\n",
    "    #     elif ratio == 0.7:\n",
    "    #         n_dims = 115\n",
    "    #     elif ratio == 0.8:\n",
    "    #         n_dims = 200\n",
    "\n",
    "    #     P = debias.get_projection_to_intersection_of_nullspaces(P[:n_dims], input_dim=300)\n",
    "\n",
    "        debiased_x_train = P.dot(x_train.T).T\n",
    "        debiased_x_dev = P.dot(x_dev.T).T\n",
    "\n",
    "        classifier = LinearSVC(fit_intercept=True, class_weight='balanced', dual=False, C=0.1, max_iter=10000)\n",
    "\n",
    "        classifier.fit(debiased_x_train, y_m_train)\n",
    "        debiased_score = classifier.score(debiased_x_dev, y_m_dev)\n",
    "\n",
    "        p_classifier = SGDClassifier(warm_start=True, loss='log', n_jobs=64, max_iter=10000, random_state=0, tol=1e-3)\n",
    "        p_classifier.fit(debiased_x_train, y_p_train)\n",
    "        p_score = p_classifier.score(debiased_x_dev, y_p_dev)\n",
    "        results[ratio]['p_acc'] = p_score\n",
    "\n",
    "        _, biased_diffs = get_TPR(y_m_dev, biased_classifier.predict(x_dev), y_p_dev)\n",
    "\n",
    "        _, debiased_diffs = get_TPR(y_m_dev, classifier.predict(debiased_x_dev), y_p_dev)\n",
    "\n",
    "    #     results[ratio]['biased_diff_tpr'] = biased_diffs['y:0']\n",
    "        results[ratio]['biased_diff_tpr'] = rms(list(biased_diffs.values()))\n",
    "    #     results[ratio]['debiased_diff_tpr'] = debiased_diffs['y:0']\n",
    "        results[ratio]['debiased_diff_tpr'] = rms(list(debiased_diffs.values()))\n",
    "\n",
    "        results[ratio]['biased_acc'] = biased_score\n",
    "        results[ratio]['debiased_acc'] = debiased_score\n",
    "\n",
    "    plot_results = defaultdict(list)\n",
    "    for r in [0.5, 0.6, 0.7, 0.8]:\n",
    "        plot_results['biased_diff_tpr'].append(results[r]['biased_diff_tpr'])\n",
    "        plot_results['debiased_diff_tpr'].append(results[r]['debiased_diff_tpr'])\n",
    "        plot_results['biased_acc'].append(results[r]['biased_acc'])\n",
    "        plot_results['debiased_acc'].append(results[r]['debiased_acc'])\n",
    "\n",
    "    return results, plot_results"
   ]
  },
  {
   "cell_type": "code",
   "execution_count": 6,
   "metadata": {},
   "outputs": [],
   "source": [
    "def data2plot(results, removal_range):\n",
    "    x = removal_range\n",
    "\n",
    "    fig, ax1 = plt.subplots()\n",
    "\n",
    "    color = 'tab:red'\n",
    "    ax1.set_xlabel('ratio')\n",
    "    ax1.set_ylabel('diff tpr', color=color)\n",
    "    ax1.plot(x, results['biased_diff_tpr'], '.--', label='biased tpr diff', color=color)\n",
    "    ax1.plot(x, results['debiased_diff_tpr'], '*:', label='debiased tpr diff', color=color)\n",
    "    ax1.tick_params(axis='y', labelcolor=color)\n",
    "    plt.ylim(0.,0.6)\n",
    "\n",
    "    ax2 = ax1.twinx()  # instantiate a second axes that shares the same x-axis\n",
    "\n",
    "    color = 'tab:blue'\n",
    "    ax2.set_ylabel('acc', color=color)  # we already handled the x-label with ax1\n",
    "    ax2.plot(x, results['biased_acc'], '^-', label='biased acc', color=color)\n",
    "    ax2.plot(x, results['debiased_acc'], 'o--', label='debiased acc', color=color)\n",
    "    ax2.tick_params(axis='y', labelcolor=color)\n",
    "    \n",
    "    # ask matplotlib for the plotted objects and their labels\n",
    "    lines, labels = ax1.get_legend_handles_labels()\n",
    "    lines2, labels2 = ax2.get_legend_handles_labels()\n",
    "    ax2.legend(lines, labels, loc='lower right')\n",
    "    \n",
    "    from matplotlib.legend import Legend\n",
    "    leg = Legend(ax2, lines2, labels2,\n",
    "             loc='upper left', frameon=False)\n",
    "    ax2.add_artist(leg);\n",
    "\n",
    "    plt.title('TPR rates as a function of the ratio')\n",
    "    plt.ylim(0.5,.85)\n",
    "#     plt.legend()\n",
    "#     plt.savefig('tpr_rates_ratio.png', dpi=1000)\n",
    "    plt.show()\n",
    "    \n",
    "# data2plot(plot_results)"
   ]
  },
  {
   "cell_type": "markdown",
   "metadata": {},
   "source": [
    "# Cross-validate"
   ]
  },
  {
   "cell_type": "code",
   "execution_count": 7,
   "metadata": {},
   "outputs": [],
   "source": [
    "def check_result(u, removel_range, x_train, x_dev, y_m_train, y_m_dev, y_p_train, y_p_dev):\n",
    "    results = defaultdict(dict)\n",
    "\n",
    "    biased_classifier = LinearSVC(fit_intercept=True, class_weight='balanced', dual=False, C=0.1, max_iter=10000)\n",
    "\n",
    "    biased_classifier.fit(x_train, y_m_train)\n",
    "    biased_score = biased_classifier.score(x_dev, y_m_dev)\n",
    "    _, biased_diffs = get_TPR(y_m_dev, biased_classifier.predict(x_dev), y_p_dev)\n",
    "    \n",
    "    for removal in removel_range:\n",
    "        u_r = u[:, removal:]\n",
    "        proj = u_r @ u_r.T\n",
    "        P = proj\n",
    "\n",
    "        debiased_x_train = P.dot(x_train.T).T\n",
    "        debiased_x_dev = P.dot(x_dev.T).T\n",
    "\n",
    "        classifier = LinearSVC(fit_intercept=True, class_weight='balanced', dual=False, C=0.1, max_iter=10000)\n",
    "\n",
    "        classifier.fit(debiased_x_train, y_m_train)\n",
    "        debiased_score = classifier.score(debiased_x_dev, y_m_dev)\n",
    "\n",
    "        p_classifier = SGDClassifier(warm_start=True, loss='log', n_jobs=64, max_iter=10000, random_state=0, tol=1e-3)\n",
    "        p_classifier.fit(debiased_x_train, y_p_train)\n",
    "        p_score = p_classifier.score(debiased_x_dev, y_p_dev)\n",
    "\n",
    "        _, debiased_diffs = get_TPR(y_m_dev, classifier.predict(debiased_x_dev), y_p_dev)\n",
    "\n",
    "\n",
    "        results[removal]['p_acc'] = p_score\n",
    "        #     results[ratio]['biased_diff_tpr'] = biased_diffs['y:0']\n",
    "        results[removal]['biased_diff_tpr'] = rms(list(biased_diffs.values()))\n",
    "        #     results[ratio]['debiased_diff_tpr'] = debiased_diffs['y:0']\n",
    "        results[removal]['debiased_diff_tpr'] = rms(list(debiased_diffs.values()))\n",
    "\n",
    "        results[removal]['biased_acc'] = biased_score\n",
    "        results[removal]['debiased_acc'] = debiased_score\n",
    "        \n",
    "    return results"
   ]
  },
  {
   "cell_type": "code",
   "execution_count": 8,
   "metadata": {},
   "outputs": [],
   "source": [
    "def check_result_ksal(x_train, x_test, y_m_train, y_m_test, y_p_train, y_p_test, debiased_x_train_all, debiased_x_test_all):\n",
    "    \n",
    "    results = defaultdict(dict)\n",
    "\n",
    "    biased_classifier = LinearSVC(fit_intercept=True, class_weight='balanced', dual=False, C=0.1, max_iter=10000)\n",
    "\n",
    "    biased_classifier.fit(x_train, y_m_train)\n",
    "    biased_score = biased_classifier.score(x_test, y_m_test)\n",
    "    _, biased_diffs = get_TPR(y_m_test, biased_classifier.predict(x_test), y_p_test)\n",
    "    \n",
    "    assert len(debiased_x_train_all) == len(debiased_x_test_all)\n",
    "    \n",
    "    for removal in range(len(debiased_x_train_all)):\n",
    "        debiased_x_train = debiased_x_train_all[removal]\n",
    "        debiased_x_test = debiased_x_test_all[removal]\n",
    "        \n",
    "        classifier = LinearSVC(fit_intercept=True, class_weight='balanced', dual=False, C=0.1, max_iter=10000)\n",
    "        classifier.fit(debiased_x_train, y_m_train)\n",
    "        debiased_score = classifier.score(debiased_x_test, y_m_test)\n",
    "    \n",
    "        p_classifier = SGDClassifier(warm_start=True, loss='log', n_jobs=64, max_iter=10000, random_state=0, tol=1e-3)\n",
    "        p_classifier.fit(debiased_x_train, y_p_train)\n",
    "        p_score = p_classifier.score(debiased_x_test, y_p_test)\n",
    "        _, debiased_diffs = get_TPR(y_m_test, classifier.predict(debiased_x_test), y_p_test)\n",
    "\n",
    "        results[removal]['p_acc'] = p_score\n",
    "        results[removal]['biased_diff_tpr'] = rms(list(biased_diffs.values()))\n",
    "        results[removal]['debiased_diff_tpr'] = rms(list(debiased_diffs.values()))\n",
    "        results[removal]['biased_acc'] = biased_score\n",
    "        results[removal]['debiased_acc'] = debiased_score\n",
    "        \n",
    "    return results"
   ]
  },
  {
   "cell_type": "code",
   "execution_count": 9,
   "metadata": {},
   "outputs": [],
   "source": [
    "def convert_to_plot_results(results, removel_range):\n",
    "    plot_results = defaultdict(list)\n",
    "    for r in removel_range:\n",
    "        plot_results['biased_diff_tpr'].append(results[r]['biased_diff_tpr'])\n",
    "        plot_results['debiased_diff_tpr'].append(results[r]['debiased_diff_tpr'])\n",
    "        plot_results['biased_acc'].append(results[r]['biased_acc'])\n",
    "        plot_results['debiased_acc'].append(results[r]['debiased_acc'])\n",
    "    return plot_results"
   ]
  },
  {
   "cell_type": "code",
   "execution_count": null,
   "metadata": {},
   "outputs": [],
   "source": []
  },
  {
   "cell_type": "code",
   "execution_count": null,
   "metadata": {},
   "outputs": [],
   "source": []
  },
  {
   "cell_type": "code",
   "execution_count": 10,
   "metadata": {},
   "outputs": [],
   "source": [
    "# ratio = 0.5\n",
    "\n",
    "# x_train, y_p_train, y_m_train = load_data(\n",
    "#     '../data/emoji_sent_race_{}/train/'.format(ratio),\n",
    "#     size=100000, ratio=ratio)\n",
    "# x_dev, y_p_dev, y_m_dev = load_data(\n",
    "#     '../data/emoji_sent_race_{}/test/'.format(ratio),\n",
    "#     size=100000, ratio=0.5)\n",
    "# np.savetxt(f\"../data/saved_models/fair_emoji_sent_race/{ratio}/x_train.csv\", x_train, delimiter=\",\")\n",
    "# np.savetxt(f\"../data/saved_models/fair_emoji_sent_race/{ratio}/y_p_train.csv\", y_p_train, delimiter=\",\")\n",
    "# np.savetxt(f\"../data/saved_models/fair_emoji_sent_race/{ratio}/y_m_train.csv\", y_m_train, delimiter=\",\")\n",
    "# np.savetxt(f\"../data/saved_models/fair_emoji_sent_race/{ratio}/x_dev.csv\", x_dev, delimiter=\",\")\n",
    "# np.savetxt(f\"../data/saved_models/fair_emoji_sent_race/{ratio}/y_p_dev.csv\", y_p_dev, delimiter=\",\")\n",
    "# np.savetxt(f\"../data/saved_models/fair_emoji_sent_race/{ratio}/y_m_dev.csv\", y_m_dev, delimiter=\",\")\n",
    "# np.savez(f\"../data/saved_models/fair_emoji_sent_race/{ratio}/all.npz\", x_train = x_train, y_p_train = y_p_train, y_m_train = y_m_train, x_dev = x_dev, y_p_dev = y_p_dev, y_m_dev = y_m_dev)"
   ]
  },
  {
   "cell_type": "markdown",
   "metadata": {},
   "source": [
    "# Null it out"
   ]
  },
  {
   "cell_type": "code",
   "execution_count": 10,
   "metadata": {},
   "outputs": [],
   "source": [
    "# ratio = 0.5\n",
    "\n",
    "# saved_dataset = np.load(f\"../data/saved_models/fair_emoji_sent_race/{ratio}/all.npz\")\n",
    "\n",
    "# x_train = saved_dataset['x_train']\n",
    "# y_m_train = saved_dataset['y_m_train']\n",
    "# y_p_train = saved_dataset['y_p_train']\n",
    "\n",
    "# x_dev = saved_dataset['x_dev']\n",
    "# y_p_dev = saved_dataset['y_p_dev']\n",
    "# y_m_dev = saved_dataset['y_m_dev']"
   ]
  },
  {
   "cell_type": "code",
   "execution_count": null,
   "metadata": {},
   "outputs": [],
   "source": []
  },
  {
   "cell_type": "code",
   "execution_count": null,
   "metadata": {},
   "outputs": [],
   "source": []
  },
  {
   "cell_type": "code",
   "execution_count": 12,
   "metadata": {},
   "outputs": [],
   "source": [
    "results = defaultdict(dict)\n",
    "\n",
    "for ratio in [0.5, 0.6, 0.7, 0.8]:\n",
    "\n",
    "#     x_train, y_p_train, y_m_train = load_data(\n",
    "#         '../data/emoji_sent_race_{}/train/'.format(ratio),\n",
    "#         size=100000, ratio=ratio)\n",
    "#     x_dev, y_p_dev, y_m_dev = load_data(\n",
    "#         '../data/emoji_sent_race_{}/test/'.format(ratio),\n",
    "#         size=100000, ratio=0.5)\n",
    "    saved_dataset = np.load(f\"../data/saved_models/fair_emoji_sent_race/{ratio}/all.npz\")\n",
    "\n",
    "    x_train = saved_dataset['x_train']\n",
    "    y_m_train = saved_dataset['y_m_train']\n",
    "    y_p_train = saved_dataset['y_p_train']\n",
    "\n",
    "    x_dev = saved_dataset['x_dev']\n",
    "    y_p_dev = saved_dataset['y_p_dev']\n",
    "    y_m_dev = saved_dataset['y_m_dev']\n",
    "    \n",
    "    biased_classifier = LinearSVC(fit_intercept=True, class_weight='balanced', dual=False, C=0.1, max_iter=10000)\n",
    "\n",
    "    biased_classifier.fit(x_train, y_m_train)\n",
    "    biased_score = biased_classifier.score(x_dev, y_m_dev)\n",
    "    \n",
    "    P = np.load('../data/emoji_sent_race_{}/P_svm.num-clfs=300.npy'.format(ratio), allow_pickle=True)\n",
    "    P = P[1]\n",
    "    n_dims = 120\n",
    "#     n_dims = 70\n",
    "    if ratio == 0.5:\n",
    "        n_dims = 200\n",
    "    elif ratio == 0.6:\n",
    "        n_dims = 100\n",
    "    elif ratio == 0.7:\n",
    "        n_dims = 115\n",
    "    elif ratio == 0.8:\n",
    "        n_dims = 200\n",
    "    P = debias.get_projection_to_intersection_of_nullspaces(P[:n_dims], input_dim=300)\n",
    "    \n",
    "    debiased_x_train = P.dot(x_train.T).T\n",
    "    debiased_x_dev = P.dot(x_dev.T).T\n",
    "\n",
    "    classifier = LinearSVC(fit_intercept=True, class_weight='balanced', dual=False, C=0.1, max_iter=10000)\n",
    "\n",
    "    classifier.fit(debiased_x_train, y_m_train)\n",
    "    debiased_score = classifier.score(debiased_x_dev, y_m_dev)\n",
    "    \n",
    "    p_classifier = SGDClassifier(warm_start=True, loss='log', n_jobs=64, max_iter=10000, random_state=0, tol=1e-3)\n",
    "    p_classifier.fit(debiased_x_train, y_p_train)\n",
    "    p_score = p_classifier.score(debiased_x_dev, y_p_dev)\n",
    "    results[ratio]['p_acc'] = p_score\n",
    "    \n",
    "    _, biased_diffs = get_TPR(y_m_dev, biased_classifier.predict(x_dev), y_p_dev)\n",
    "    \n",
    "    _, debiased_diffs = get_TPR(y_m_dev, classifier.predict(debiased_x_dev), y_p_dev)\n",
    "    \n",
    "#     results[ratio]['biased_diff_tpr'] = biased_diffs['y:0']\n",
    "    results[ratio]['biased_diff_tpr'] = rms(list(biased_diffs.values()))\n",
    "#     results[ratio]['debiased_diff_tpr'] = debiased_diffs['y:0']\n",
    "    results[ratio]['debiased_diff_tpr'] = rms(list(debiased_diffs.values()))\n",
    "    \n",
    "    results[ratio]['biased_acc'] = biased_score\n",
    "    results[ratio]['debiased_acc'] = debiased_score"
   ]
  },
  {
   "cell_type": "code",
   "execution_count": 13,
   "metadata": {},
   "outputs": [
    {
     "data": {
      "text/plain": [
       "defaultdict(dict,\n",
       "            {0.5: {'p_acc': 0.5396349087271818,\n",
       "              'biased_diff_tpr': 0.14560632483708713,\n",
       "              'debiased_diff_tpr': 0.11974302439852863,\n",
       "              'biased_acc': 0.7653163290822705,\n",
       "              'debiased_acc': 0.7625656414103525},\n",
       "             0.6: {'p_acc': 0.5946486621655414,\n",
       "              'biased_diff_tpr': 0.22630502371727185,\n",
       "              'debiased_diff_tpr': 0.19067232927585404,\n",
       "              'biased_acc': 0.7531882970742686,\n",
       "              'debiased_acc': 0.7579394848712178},\n",
       "             0.7: {'p_acc': 0.6257814453613403,\n",
       "              'biased_diff_tpr': 0.31864557675474753,\n",
       "              'debiased_diff_tpr': 0.26266284955843594,\n",
       "              'biased_acc': 0.741185296324081,\n",
       "              'debiased_acc': 0.7478119529882471},\n",
       "             0.8: {'p_acc': 0.5043760940235059,\n",
       "              'biased_diff_tpr': 0.4043010400370602,\n",
       "              'debiased_diff_tpr': 0.010947167516829342,\n",
       "              'biased_acc': 0.7200550137534384,\n",
       "              'debiased_acc': 0.5290072518129533}})"
      ]
     },
     "execution_count": 13,
     "metadata": {},
     "output_type": "execute_result"
    }
   ],
   "source": [
    "results"
   ]
  },
  {
   "cell_type": "code",
   "execution_count": 14,
   "metadata": {},
   "outputs": [
    {
     "data": {
      "text/plain": [
       "defaultdict(list,\n",
       "            {'biased_diff_tpr': [0.14560632483708713,\n",
       "              0.22630502371727185,\n",
       "              0.31864557675474753,\n",
       "              0.4043010400370602],\n",
       "             'debiased_diff_tpr': [0.11974302439852863,\n",
       "              0.19067232927585404,\n",
       "              0.26266284955843594,\n",
       "              0.010947167516829342],\n",
       "             'biased_acc': [0.7653163290822705,\n",
       "              0.7531882970742686,\n",
       "              0.741185296324081,\n",
       "              0.7200550137534384],\n",
       "             'debiased_acc': [0.7625656414103525,\n",
       "              0.7579394848712178,\n",
       "              0.7478119529882471,\n",
       "              0.5290072518129533]})"
      ]
     },
     "execution_count": 14,
     "metadata": {},
     "output_type": "execute_result"
    }
   ],
   "source": [
    "plot_results = defaultdict(list)\n",
    "for r in [0.5, 0.6, 0.7, 0.8]:\n",
    "    plot_results['biased_diff_tpr'].append(results[r]['biased_diff_tpr'])\n",
    "    plot_results['debiased_diff_tpr'].append(results[r]['debiased_diff_tpr'])\n",
    "    plot_results['biased_acc'].append(results[r]['biased_acc'])\n",
    "    plot_results['debiased_acc'].append(results[r]['debiased_acc'])\n",
    "plot_results"
   ]
  },
  {
   "cell_type": "markdown",
   "metadata": {},
   "source": [
    "# KSAL"
   ]
  },
  {
   "cell_type": "markdown",
   "metadata": {},
   "source": [
    "We recommend you to use the code in src/ksal, coz it took very long time and large memory to calculated the debiased_x by ksal"
   ]
  },
  {
   "cell_type": "code",
   "execution_count": 10,
   "metadata": {},
   "outputs": [],
   "source": [
    "N = 15000\n",
    "N_test = 7998"
   ]
  },
  {
   "cell_type": "markdown",
   "metadata": {},
   "source": [
    "# 1.Ratio = 0.5"
   ]
  },
  {
   "cell_type": "code",
   "execution_count": 11,
   "metadata": {},
   "outputs": [],
   "source": [
    "ratio = 0.5\n",
    "saved_dataset = np.load(f\"../data/saved_models/fair_emoji_sent_race/{ratio}/all.npz\")\n",
    "\n",
    "x_train = saved_dataset['x_train']\n",
    "y_m_train = saved_dataset['y_m_train']\n",
    "y_p_train = saved_dataset['y_p_train']\n",
    "\n",
    "x_test = saved_dataset['x_dev']\n",
    "y_p_test = saved_dataset['y_p_dev']\n",
    "y_m_test = saved_dataset['y_m_dev']"
   ]
  },
  {
   "cell_type": "markdown",
   "metadata": {},
   "source": [
    "## 1.1 Linear Kernel"
   ]
  },
  {
   "cell_type": "code",
   "execution_count": 12,
   "metadata": {},
   "outputs": [
    {
     "data": {
      "text/plain": [
       "array([0, 1, 2])"
      ]
     },
     "execution_count": 12,
     "metadata": {},
     "output_type": "execute_result"
    }
   ],
   "source": [
    "kernel_fn = \"linear\"\n",
    "kernel_coef = 0\n",
    "\n",
    "saved_model = np.load(f\"../data/saved_models/fair_emoji_sent_race/{ratio}/cleaned_{kernel_fn}_{kernel_coef}_Train{N}_Test{N_test}.npz\")\n",
    "debiased_x_train_0 = saved_model['debiased_x_train_0']\n",
    "debiased_x_test_0 = saved_model['debiased_x_test_0']\n",
    "debiased_x_train_1 = saved_model['debiased_x_train_1']\n",
    "debiased_x_test_1 = saved_model['debiased_x_test_1']\n",
    "debiased_x_train_2 = saved_model['debiased_x_train_2']\n",
    "debiased_x_test_2 = saved_model['debiased_x_test_2']\n",
    "\n",
    "\n",
    "debiased_x_train_all = [debiased_x_train_0, debiased_x_train_1, debiased_x_train_2]\n",
    "debiased_x_test_all = [debiased_x_test_0, debiased_x_test_1, debiased_x_test_2]\n",
    "\n",
    "removel_range = np.arange(0, len(debiased_x_train_all))\n",
    "removel_range\n"
   ]
  },
  {
   "cell_type": "code",
   "execution_count": 13,
   "metadata": {},
   "outputs": [
    {
     "data": {
      "text/plain": [
       "defaultdict(dict,\n",
       "            {0: {'p_acc': 0.8698424606151538,\n",
       "              'biased_diff_tpr': 0.1502091848184275,\n",
       "              'debiased_diff_tpr': 0.1504968261279982,\n",
       "              'biased_acc': 0.7619404851212803,\n",
       "              'debiased_acc': 0.7616904226056515},\n",
       "             1: {'p_acc': 0.8615903975993998,\n",
       "              'biased_diff_tpr': 0.1502091848184275,\n",
       "              'debiased_diff_tpr': 0.15201284243714744,\n",
       "              'biased_acc': 0.7619404851212803,\n",
       "              'debiased_acc': 0.7616904226056515},\n",
       "             2: {'p_acc': 0.48637159289822457,\n",
       "              'biased_diff_tpr': 0.1502091848184275,\n",
       "              'debiased_diff_tpr': 0.10883716039415621,\n",
       "              'biased_acc': 0.7619404851212803,\n",
       "              'debiased_acc': 0.7639409852463116}})"
      ]
     },
     "execution_count": 13,
     "metadata": {},
     "output_type": "execute_result"
    }
   ],
   "source": [
    "results = check_result_ksal(x_train[:N], x_test[:N_test], y_m_train[:N], y_m_test[:N_test], y_p_train[:N], y_p_test[:N_test], \\\n",
    "                      debiased_x_train_all, debiased_x_test_all)\n",
    "results"
   ]
  },
  {
   "cell_type": "code",
   "execution_count": 14,
   "metadata": {},
   "outputs": [
    {
     "data": {
      "text/plain": [
       "defaultdict(list,\n",
       "            {'biased_diff_tpr': [0.1502091848184275,\n",
       "              0.1502091848184275,\n",
       "              0.1502091848184275],\n",
       "             'debiased_diff_tpr': [0.1504968261279982,\n",
       "              0.15201284243714744,\n",
       "              0.10883716039415621],\n",
       "             'biased_acc': [0.7619404851212803,\n",
       "              0.7619404851212803,\n",
       "              0.7619404851212803],\n",
       "             'debiased_acc': [0.7616904226056515,\n",
       "              0.7616904226056515,\n",
       "              0.7639409852463116]})"
      ]
     },
     "execution_count": 14,
     "metadata": {},
     "output_type": "execute_result"
    }
   ],
   "source": [
    "plot_results = convert_to_plot_results(results, removel_range)\n",
    "plot_results"
   ]
  },
  {
   "cell_type": "code",
   "execution_count": 15,
   "metadata": {},
   "outputs": [
    {
     "data": {
      "image/png": "[encoded data removed]",
      "text/plain": [
       "<Figure size 432x288 with 2 Axes>"
      ]
     },
     "metadata": {
      "needs_background": "light"
     },
     "output_type": "display_data"
    }
   ],
   "source": [
    "data2plot(plot_results, removel_range)"
   ]
  },
  {
   "cell_type": "markdown",
   "metadata": {},
   "source": [
    "## 1.2 RBF kernel at gamma = 0.1"
   ]
  },
  {
   "cell_type": "code",
   "execution_count": 17,
   "metadata": {},
   "outputs": [
    {
     "data": {
      "text/plain": [
       "array([0, 1, 2])"
      ]
     },
     "execution_count": 17,
     "metadata": {},
     "output_type": "execute_result"
    }
   ],
   "source": [
    "kernel_fn = \"rbf\"\n",
    "kernel_coef = 0.1\n",
    "\n",
    "saved_model = np.load(f\"../data/saved_models/fair_emoji_sent_race/{ratio}/cleaned_{kernel_fn}_{kernel_coef}_Train{N}_Test{N_test}.npz\")\n",
    "debiased_x_train_0 = saved_model['debiased_x_train_0']\n",
    "debiased_x_test_0 = saved_model['debiased_x_test_0']\n",
    "debiased_x_train_1 = saved_model['debiased_x_train_1']\n",
    "debiased_x_test_1 = saved_model['debiased_x_test_1']\n",
    "debiased_x_train_2 = saved_model['debiased_x_train_2']\n",
    "debiased_x_test_2 = saved_model['debiased_x_test_2']\n",
    "\n",
    "\n",
    "debiased_x_train_all = [debiased_x_train_0, debiased_x_train_1, debiased_x_train_2]\n",
    "debiased_x_test_all = [debiased_x_test_0, debiased_x_test_1, debiased_x_test_2]\n",
    "\n",
    "removel_range = np.arange(0, len(debiased_x_train_all))\n",
    "removel_range\n"
   ]
  },
  {
   "cell_type": "code",
   "execution_count": 18,
   "metadata": {},
   "outputs": [
    {
     "data": {
      "text/plain": [
       "defaultdict(dict,\n",
       "            {0: {'p_acc': 0.8448362090522631,\n",
       "              'biased_diff_tpr': 0.1502091848184275,\n",
       "              'debiased_diff_tpr': 0.15173285176162127,\n",
       "              'biased_acc': 0.7619404851212803,\n",
       "              'debiased_acc': 0.7634408602150538},\n",
       "             1: {'p_acc': 0.8442110527631908,\n",
       "              'biased_diff_tpr': 0.1502091848184275,\n",
       "              'debiased_diff_tpr': 0.15103294642036444,\n",
       "              'biased_acc': 0.7619404851212803,\n",
       "              'debiased_acc': 0.7641910477619405},\n",
       "             2: {'p_acc': 0.49987496874218557,\n",
       "              'biased_diff_tpr': 0.1502091848184275,\n",
       "              'debiased_diff_tpr': 0.12146052772714196,\n",
       "              'biased_acc': 0.7619404851212803,\n",
       "              'debiased_acc': 0.7651912978244562}})"
      ]
     },
     "execution_count": 18,
     "metadata": {},
     "output_type": "execute_result"
    }
   ],
   "source": [
    "results = check_result_ksal(x_train[:N], x_test[:N_test], y_m_train[:N], y_m_test[:N_test], y_p_train[:N], y_p_test[:N_test], \\\n",
    "                      debiased_x_train_all, debiased_x_test_all)\n",
    "results"
   ]
  },
  {
   "cell_type": "code",
   "execution_count": 19,
   "metadata": {},
   "outputs": [
    {
     "data": {
      "text/plain": [
       "defaultdict(list,\n",
       "            {'biased_diff_tpr': [0.1502091848184275,\n",
       "              0.1502091848184275,\n",
       "              0.1502091848184275],\n",
       "             'debiased_diff_tpr': [0.15173285176162127,\n",
       "              0.15103294642036444,\n",
       "              0.12146052772714196],\n",
       "             'biased_acc': [0.7619404851212803,\n",
       "              0.7619404851212803,\n",
       "              0.7619404851212803],\n",
       "             'debiased_acc': [0.7634408602150538,\n",
       "              0.7641910477619405,\n",
       "              0.7651912978244562]})"
      ]
     },
     "execution_count": 19,
     "metadata": {},
     "output_type": "execute_result"
    }
   ],
   "source": [
    "plot_results = convert_to_plot_results(results, removel_range)\n",
    "plot_results"
   ]
  },
  {
   "cell_type": "code",
   "execution_count": 20,
   "metadata": {},
   "outputs": [
    {
     "data": {
      "image/png": "[encoded data removed]",
      "text/plain": [
       "<Figure size 432x288 with 2 Axes>"
      ]
     },
     "metadata": {
      "needs_background": "light"
     },
     "output_type": "display_data"
    }
   ],
   "source": [
    "data2plot(plot_results, removel_range)"
   ]
  },
  {
   "cell_type": "markdown",
   "metadata": {},
   "source": [
    "## 1.3 Polynomial kernel at degree=2"
   ]
  },
  {
   "cell_type": "code",
   "execution_count": 12,
   "metadata": {},
   "outputs": [
    {
     "data": {
      "text/plain": [
       "array([0, 1, 2])"
      ]
     },
     "execution_count": 12,
     "metadata": {},
     "output_type": "execute_result"
    }
   ],
   "source": [
    "kernel_fn = \"poly\"\n",
    "kernel_coef = 2\n",
    "\n",
    "saved_model = np.load(f\"../data/saved_models/fair_emoji_sent_race/{ratio}/cleaned_{kernel_fn}_{kernel_coef}_Train{N}_Test{N_test}.npz\")\n",
    "debiased_x_train_0 = saved_model['debiased_x_train_0']\n",
    "debiased_x_test_0 = saved_model['debiased_x_test_0']\n",
    "debiased_x_train_1 = saved_model['debiased_x_train_1']\n",
    "debiased_x_test_1 = saved_model['debiased_x_test_1']\n",
    "debiased_x_train_2 = saved_model['debiased_x_train_2']\n",
    "debiased_x_test_2 = saved_model['debiased_x_test_2']\n",
    "\n",
    "\n",
    "debiased_x_train_all = [debiased_x_train_0, debiased_x_train_1, debiased_x_train_2]\n",
    "debiased_x_test_all = [debiased_x_test_0, debiased_x_test_1, debiased_x_test_2]\n",
    "\n",
    "removel_range = np.arange(0, len(debiased_x_train_all))\n",
    "removel_range\n"
   ]
  },
  {
   "cell_type": "code",
   "execution_count": 13,
   "metadata": {},
   "outputs": [
    {
     "data": {
      "text/plain": [
       "defaultdict(dict,\n",
       "            {0: {'p_acc': 0.865216304076019,\n",
       "              'biased_diff_tpr': 0.1502091848184275,\n",
       "              'debiased_diff_tpr': 0.14451395083761795,\n",
       "              'biased_acc': 0.7619404851212803,\n",
       "              'debiased_acc': 0.7509377344336085},\n",
       "             1: {'p_acc': 0.8643410852713178,\n",
       "              'biased_diff_tpr': 0.1502091848184275,\n",
       "              'debiased_diff_tpr': 0.14486564891478834,\n",
       "              'biased_acc': 0.7619404851212803,\n",
       "              'debiased_acc': 0.750812703175794},\n",
       "             2: {'p_acc': 0.4441110277569392,\n",
       "              'biased_diff_tpr': 0.1502091848184275,\n",
       "              'debiased_diff_tpr': 0.13027443128532498,\n",
       "              'biased_acc': 0.7619404851212803,\n",
       "              'debiased_acc': 0.7504376094023506}})"
      ]
     },
     "execution_count": 13,
     "metadata": {},
     "output_type": "execute_result"
    }
   ],
   "source": [
    "results = check_result_ksal(x_train[:N], x_test[:N_test], y_m_train[:N], y_m_test[:N_test], y_p_train[:N], y_p_test[:N_test], \\\n",
    "                      debiased_x_train_all, debiased_x_test_all)\n",
    "results"
   ]
  },
  {
   "cell_type": "code",
   "execution_count": 14,
   "metadata": {},
   "outputs": [
    {
     "data": {
      "text/plain": [
       "defaultdict(list,\n",
       "            {'biased_diff_tpr': [0.1502091848184275,\n",
       "              0.1502091848184275,\n",
       "              0.1502091848184275],\n",
       "             'debiased_diff_tpr': [0.14451395083761795,\n",
       "              0.14486564891478834,\n",
       "              0.13027443128532498],\n",
       "             'biased_acc': [0.7619404851212803,\n",
       "              0.7619404851212803,\n",
       "              0.7619404851212803],\n",
       "             'debiased_acc': [0.7509377344336085,\n",
       "              0.750812703175794,\n",
       "              0.7504376094023506]})"
      ]
     },
     "execution_count": 14,
     "metadata": {},
     "output_type": "execute_result"
    }
   ],
   "source": [
    "plot_results = convert_to_plot_results(results, removel_range)\n",
    "plot_results"
   ]
  },
  {
   "cell_type": "code",
   "execution_count": 15,
   "metadata": {},
   "outputs": [
    {
     "data": {
      "image/png": "[encoded data removed]",
      "text/plain": [
       "<Figure size 432x288 with 2 Axes>"
      ]
     },
     "metadata": {
      "needs_background": "light"
     },
     "output_type": "display_data"
    }
   ],
   "source": [
    "data2plot(plot_results, removel_range)"
   ]
  },
  {
   "cell_type": "markdown",
   "metadata": {},
   "source": [
    "## 1.4 Polynomial kernel at degree=5"
   ]
  },
  {
   "cell_type": "code",
   "execution_count": 16,
   "metadata": {},
   "outputs": [
    {
     "data": {
      "text/plain": [
       "array([0, 1, 2])"
      ]
     },
     "execution_count": 16,
     "metadata": {},
     "output_type": "execute_result"
    }
   ],
   "source": [
    "kernel_fn = \"poly\"\n",
    "kernel_coef = 5\n",
    "\n",
    "saved_model = np.load(f\"../data/saved_models/fair_emoji_sent_race/{ratio}/cleaned_{kernel_fn}_{kernel_coef}_Train{N}_Test{N_test}.npz\")\n",
    "debiased_x_train_0 = saved_model['debiased_x_train_0']\n",
    "debiased_x_test_0 = saved_model['debiased_x_test_0']\n",
    "debiased_x_train_1 = saved_model['debiased_x_train_1']\n",
    "debiased_x_test_1 = saved_model['debiased_x_test_1']\n",
    "debiased_x_train_2 = saved_model['debiased_x_train_2']\n",
    "debiased_x_test_2 = saved_model['debiased_x_test_2']\n",
    "\n",
    "\n",
    "debiased_x_train_all = [debiased_x_train_0, debiased_x_train_1, debiased_x_train_2]\n",
    "debiased_x_test_all = [debiased_x_test_0, debiased_x_test_1, debiased_x_test_2]\n",
    "\n",
    "removel_range = np.arange(0, len(debiased_x_train_all))\n",
    "removel_range\n"
   ]
  },
  {
   "cell_type": "code",
   "execution_count": null,
   "metadata": {},
   "outputs": [],
   "source": [
    "results = check_result_ksal(x_train[:N], x_test[:N_test], y_m_train[:N], y_m_test[:N_test], y_p_train[:N], y_p_test[:N_test], \\\n",
    "                      debiased_x_train_all, debiased_x_test_all)\n",
    "results"
   ]
  },
  {
   "cell_type": "code",
   "execution_count": null,
   "metadata": {},
   "outputs": [],
   "source": [
    "plot_results = convert_to_plot_results(results, removel_range)\n",
    "plot_results"
   ]
  },
  {
   "cell_type": "code",
   "execution_count": null,
   "metadata": {},
   "outputs": [],
   "source": [
    "data2plot(plot_results, removel_range)"
   ]
  },
  {
   "cell_type": "code",
   "execution_count": null,
   "metadata": {},
   "outputs": [],
   "source": []
  },
  {
   "cell_type": "code",
   "execution_count": null,
   "metadata": {},
   "outputs": [],
   "source": []
  },
  {
   "cell_type": "code",
   "execution_count": null,
   "metadata": {},
   "outputs": [],
   "source": []
  },
  {
   "cell_type": "code",
   "execution_count": null,
   "metadata": {},
   "outputs": [],
   "source": []
  },
  {
   "cell_type": "code",
   "execution_count": null,
   "metadata": {},
   "outputs": [],
   "source": []
  },
  {
   "cell_type": "code",
   "execution_count": null,
   "metadata": {},
   "outputs": [],
   "source": []
  }
 ],
 "metadata": {
  "kernelspec": {
   "display_name": "Python 3 (ipykernel)",
   "language": "python",
   "name": "python3"
  },
  "language_info": {
   "codemirror_mode": {
    "name": "ipython",
    "version": 3
   },
   "file_extension": ".py",
   "mimetype": "text/x-python",
   "name": "python",
   "nbconvert_exporter": "python",
   "pygments_lexer": "ipython3",
   "version": "3.7.11"
  }
 },
 "nbformat": 4,
 "nbformat_minor": 4
}
