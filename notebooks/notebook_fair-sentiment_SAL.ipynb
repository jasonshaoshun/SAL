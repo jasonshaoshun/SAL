{
 "cells": [
  {
   "cell_type": "code",
   "execution_count": 1,
   "metadata": {},
   "outputs": [],
   "source": [
    "import sys\n",
    "sys.path.append(\"../src\")\n",
    "sys.path.append(\"../data/embeddings\")\n",
    "import classifier\n",
    "import debias\n",
    "#import debias_old as debias\n",
    "import gensim\n",
    "import codecs\n",
    "import json\n",
    "from gensim.models.keyedvectors import Word2VecKeyedVectors\n",
    "from gensim.models import KeyedVectors\n",
    "import numpy as np\n",
    "import random\n",
    "import sklearn\n",
    "from sklearn import model_selection\n",
    "from sklearn import cluster\n",
    "from sklearn import metrics\n",
    "from sklearn.manifold import TSNE\n",
    "from sklearn.svm import LinearSVC, SVC\n",
    "from sklearn.linear_model import SGDClassifier, Perceptron, LogisticRegression, PassiveAggressiveClassifier\n",
    "from sklearn.discriminant_analysis import LinearDiscriminantAnalysis\n",
    "from sklearn.neural_network import MLPClassifier\n",
    "from sklearn.metrics.pairwise import cosine_similarity\n",
    "from sklearn.decomposition import PCA\n",
    "import scipy\n",
    "from scipy import linalg\n",
    "from scipy.stats.stats import pearsonr\n",
    "import tqdm\n",
    "import matplotlib\n",
    "import matplotlib.pyplot as plt\n",
    "# %matplotlib inline\n",
    "# matplotlib.rcParams['agg.path.chunksize'] = 10000\n",
    "from sklearn.utils import shuffle\n",
    "\n",
    "# import warnings\n",
    "# warnings.filterwarnings(\"ignore\")\n",
    "# %load_ext autoreload\n",
    "# %autoreload\n",
    "\n",
    "from collections import Counter, defaultdict\n",
    "import seaborn as sns\n",
    "# sns.set_style(\"whitegrid\")"
   ]
  },
  {
   "cell_type": "markdown",
   "metadata": {},
   "source": [
    "# Function"
   ]
  },
  {
   "cell_type": "code",
   "execution_count": 2,
   "metadata": {},
   "outputs": [],
   "source": [
    "def load_data(path, size, ratio=0.5):\n",
    "    fnames = [\"neg_neg.npy\", \"neg_pos.npy\", \"pos_neg.npy\", \"pos_pos.npy\"]\n",
    "    protected_labels = [0, 1, 0, 1]\n",
    "    main_labels = [0, 0, 1, 1]\n",
    "    X, Y_p, Y_m = [], [], []\n",
    "    n1 = int(size * ratio / 2)\n",
    "    n2 = int(size * (1 - ratio) / 2)\n",
    "#     print(n1, n2)\n",
    "\n",
    "    for fname, p_label, m_label, n in zip(fnames, protected_labels, main_labels, [n1, n2, n2, n1]):\n",
    "#         print(path + '/' + fname)\n",
    "#         print(np.load(path + '/' + fname).shape)\n",
    "        data = np.load(path + '/' + fname)[:n]\n",
    "        for x in data:\n",
    "            X.append(x)\n",
    "        for _ in data:\n",
    "            Y_p.append(p_label)\n",
    "        for _ in data:\n",
    "            Y_m.append(m_label)\n",
    "\n",
    "    Y_p = np.array(Y_p)\n",
    "    Y_m = np.array(Y_m)\n",
    "    X = np.array(X)\n",
    "    X, Y_p, Y_m = shuffle(X, Y_p, Y_m, random_state=0)\n",
    "    return X, Y_p, Y_m"
   ]
  },
  {
   "cell_type": "code",
   "execution_count": 3,
   "metadata": {},
   "outputs": [],
   "source": [
    "def get_TPR(y_main, y_hat_main, y_protected):\n",
    "    \n",
    "    all_y = list(Counter(y_main).keys())\n",
    "    \n",
    "    protected_vals = defaultdict(dict)\n",
    "    for label in all_y:\n",
    "        for i in range(2):\n",
    "            used_vals = (y_main == label) & (y_protected == i)\n",
    "            y_label = y_main[used_vals]\n",
    "            y_hat_label = y_hat_main[used_vals]\n",
    "            protected_vals['y:{}'.format(label)]['p:{}'.format(i)] = (y_label == y_hat_label).mean()\n",
    "            \n",
    "    diffs = {}\n",
    "    for k, v in protected_vals.items():\n",
    "        vals = list(v.values())\n",
    "        diffs[k] = vals[0] - vals[1]\n",
    "    return protected_vals, diffs"
   ]
  },
  {
   "cell_type": "code",
   "execution_count": 4,
   "metadata": {},
   "outputs": [],
   "source": [
    "def rms(arr):\n",
    "    return np.sqrt(np.mean(np.square(arr)))"
   ]
  },
  {
   "cell_type": "code",
   "execution_count": 5,
   "metadata": {},
   "outputs": [],
   "source": [
    "def calc_plot_tpr(P):\n",
    "    \n",
    "    results = defaultdict(dict)\n",
    "    for ratio in [0.5, 0.6, 0.7, 0.8]:\n",
    "\n",
    "        x_train, y_p_train, y_m_train = load_data(\n",
    "            '../data/emoji_sent_race_{}/train/'.format(ratio),\n",
    "            size=100000, ratio=ratio)\n",
    "        x_dev, y_p_dev, y_m_dev = load_data(\n",
    "            '../data/emoji_sent_race_{}/test/'.format(ratio),\n",
    "            size=100000, ratio=0.5)\n",
    "\n",
    "        biased_classifier = LinearSVC(fit_intercept=True, class_weight='balanced', dual=False, C=0.1, max_iter=10000)\n",
    "\n",
    "        biased_classifier.fit(x_train, y_m_train)\n",
    "        biased_score = biased_classifier.score(x_dev, y_m_dev)\n",
    "\n",
    "    #     P = np.load('../data/emoji_sent_race_{}/P_svm.num-clfs=300.npy'.format(ratio), allow_pickle=True)\n",
    "    #     P = P[1]\n",
    "\n",
    "    #     n_dims = 120\n",
    "    # #     n_dims = 70\n",
    "    #     if ratio == 0.5:\n",
    "    #         n_dims = 200\n",
    "    #     elif ratio == 0.6:\n",
    "    #         n_dims = 100\n",
    "    #     elif ratio == 0.7:\n",
    "    #         n_dims = 115\n",
    "    #     elif ratio == 0.8:\n",
    "    #         n_dims = 200\n",
    "\n",
    "    #     P = debias.get_projection_to_intersection_of_nullspaces(P[:n_dims], input_dim=300)\n",
    "\n",
    "        debiased_x_train = P.dot(x_train.T).T\n",
    "        debiased_x_dev = P.dot(x_dev.T).T\n",
    "\n",
    "        classifier = LinearSVC(fit_intercept=True, class_weight='balanced', dual=False, C=0.1, max_iter=10000)\n",
    "\n",
    "        classifier.fit(debiased_x_train, y_m_train)\n",
    "        debiased_score = classifier.score(debiased_x_dev, y_m_dev)\n",
    "\n",
    "        p_classifier = SGDClassifier(warm_start=True, loss='log', n_jobs=64, max_iter=10000, random_state=0, tol=1e-3)\n",
    "        p_classifier.fit(debiased_x_train, y_p_train)\n",
    "        p_score = p_classifier.score(debiased_x_dev, y_p_dev)\n",
    "        results[ratio]['p_acc'] = p_score\n",
    "\n",
    "        _, biased_diffs = get_TPR(y_m_dev, biased_classifier.predict(x_dev), y_p_dev)\n",
    "\n",
    "        _, debiased_diffs = get_TPR(y_m_dev, classifier.predict(debiased_x_dev), y_p_dev)\n",
    "\n",
    "    #     results[ratio]['biased_diff_tpr'] = biased_diffs['y:0']\n",
    "        results[ratio]['biased_diff_tpr'] = rms(list(biased_diffs.values()))\n",
    "    #     results[ratio]['debiased_diff_tpr'] = debiased_diffs['y:0']\n",
    "        results[ratio]['debiased_diff_tpr'] = rms(list(debiased_diffs.values()))\n",
    "\n",
    "        results[ratio]['biased_acc'] = biased_score\n",
    "        results[ratio]['debiased_acc'] = debiased_score\n",
    "\n",
    "    plot_results = defaultdict(list)\n",
    "    for r in [0.5, 0.6, 0.7, 0.8]:\n",
    "        plot_results['biased_diff_tpr'].append(results[r]['biased_diff_tpr'])\n",
    "        plot_results['debiased_diff_tpr'].append(results[r]['debiased_diff_tpr'])\n",
    "        plot_results['biased_acc'].append(results[r]['biased_acc'])\n",
    "        plot_results['debiased_acc'].append(results[r]['debiased_acc'])\n",
    "\n",
    "    return results, plot_results"
   ]
  },
  {
   "cell_type": "code",
   "execution_count": 6,
   "metadata": {},
   "outputs": [],
   "source": [
    "def data2plot(results, removal_range):\n",
    "    x = removal_range\n",
    "\n",
    "    fig, ax1 = plt.subplots()\n",
    "\n",
    "    color = 'tab:red'\n",
    "    ax1.set_xlabel('ratio')\n",
    "    ax1.set_ylabel('diff tpr', color=color)\n",
    "    ax1.plot(x, results['biased_diff_tpr'], '.--', label='biased tpr diff', color=color)\n",
    "    ax1.plot(x, results['debiased_diff_tpr'], '*:', label='debiased tpr diff', color=color)\n",
    "    ax1.tick_params(axis='y', labelcolor=color)\n",
    "    plt.ylim(0.,0.6)\n",
    "\n",
    "    ax2 = ax1.twinx()  # instantiate a second axes that shares the same x-axis\n",
    "\n",
    "    color = 'tab:blue'\n",
    "    ax2.set_ylabel('acc', color=color)  # we already handled the x-label with ax1\n",
    "    ax2.plot(x, results['biased_acc'], '^-', label='biased acc', color=color)\n",
    "    ax2.plot(x, results['debiased_acc'], 'o--', label='debiased acc', color=color)\n",
    "    ax2.tick_params(axis='y', labelcolor=color)\n",
    "    \n",
    "    # ask matplotlib for the plotted objects and their labels\n",
    "    lines, labels = ax1.get_legend_handles_labels()\n",
    "    lines2, labels2 = ax2.get_legend_handles_labels()\n",
    "    ax2.legend(lines, labels, loc='lower right')\n",
    "    \n",
    "    from matplotlib.legend import Legend\n",
    "    leg = Legend(ax2, lines2, labels2,\n",
    "             loc='upper left', frameon=False)\n",
    "    ax2.add_artist(leg);\n",
    "\n",
    "    plt.title('TPR rates as a function of the ratio')\n",
    "    plt.ylim(0.5,.85)\n",
    "#     plt.legend()\n",
    "#     plt.savefig('tpr_rates_ratio.png', dpi=1000)\n",
    "    plt.show()\n",
    "    \n",
    "# data2plot(plot_results)"
   ]
  },
  {
   "cell_type": "markdown",
   "metadata": {},
   "source": [
    "# Cross-validate"
   ]
  },
  {
   "cell_type": "code",
   "execution_count": 7,
   "metadata": {},
   "outputs": [],
   "source": [
    "def check_result(u, removel_range, x_train, x_dev, y_m_train, y_m_dev, y_p_train, y_p_dev):\n",
    "    results = defaultdict(dict)\n",
    "\n",
    "    biased_classifier = LinearSVC(fit_intercept=True, class_weight='balanced', dual=False, C=0.1, max_iter=10000)\n",
    "\n",
    "    biased_classifier.fit(x_train, y_m_train)\n",
    "    biased_score = biased_classifier.score(x_dev, y_m_dev)\n",
    "    _, biased_diffs = get_TPR(y_m_dev, biased_classifier.predict(x_dev), y_p_dev)\n",
    "    \n",
    "    for removal in removel_range:\n",
    "        u_r = u[:, removal:]\n",
    "        proj = u_r @ u_r.T\n",
    "        P = proj\n",
    "\n",
    "        debiased_x_train = P.dot(x_train.T).T\n",
    "        debiased_x_dev = P.dot(x_dev.T).T\n",
    "\n",
    "        classifier = LinearSVC(fit_intercept=True, class_weight='balanced', dual=False, C=0.1, max_iter=10000)\n",
    "\n",
    "        classifier.fit(debiased_x_train, y_m_train)\n",
    "        debiased_score = classifier.score(debiased_x_dev, y_m_dev)\n",
    "\n",
    "        p_classifier = SGDClassifier(warm_start=True, loss='log', n_jobs=64, max_iter=10000, random_state=0, tol=1e-3)\n",
    "        p_classifier.fit(debiased_x_train, y_p_train)\n",
    "        p_score = p_classifier.score(debiased_x_dev, y_p_dev)\n",
    "\n",
    "        _, debiased_diffs = get_TPR(y_m_dev, classifier.predict(debiased_x_dev), y_p_dev)\n",
    "\n",
    "\n",
    "        results[removal]['p_acc'] = p_score\n",
    "        #     results[ratio]['biased_diff_tpr'] = biased_diffs['y:0']\n",
    "        results[removal]['biased_diff_tpr'] = rms(list(biased_diffs.values()))\n",
    "        #     results[ratio]['debiased_diff_tpr'] = debiased_diffs['y:0']\n",
    "        results[removal]['debiased_diff_tpr'] = rms(list(debiased_diffs.values()))\n",
    "\n",
    "        results[removal]['biased_acc'] = biased_score\n",
    "        results[removal]['debiased_acc'] = debiased_score\n",
    "        \n",
    "    return results"
   ]
  },
  {
   "cell_type": "code",
   "execution_count": 8,
   "metadata": {},
   "outputs": [],
   "source": [
    "def check_result_ksvd(W, K_x_sqrt2, U_Kx, K_x_dv_sqrt2, U_Kx_dv, removel_range, x_train, x_dev, y_m_train, y_m_dev, y_p_train, y_p_dev):\n",
    "    results = defaultdict(dict)\n",
    "\n",
    "    biased_classifier = LinearSVC(fit_intercept=True, class_weight='balanced', dual=False, C=0.1, max_iter=10000)\n",
    "\n",
    "    biased_classifier.fit(x_train, y_m_train)\n",
    "    biased_score = biased_classifier.score(x_dev, y_m_dev)\n",
    "    _, biased_diffs = get_TPR(y_m_dev, biased_classifier.predict(x_dev), y_p_dev)\n",
    "    \n",
    "    for removal in removel_range:\n",
    "        W2 = W[:, :removal]\n",
    "        Wprime = W2\n",
    "        U_proj_ker = linalg.null_space((K_x_sqrt2 @ Wprime).T)\n",
    "        \n",
    "        debiased_x_train = (U_proj_ker.T @ K_x_sqrt2).T\n",
    "        debiased_x_dev = (U_proj_ker.T @ U_Kx  @ U_Kx_dv.T @ K_x_dv_sqrt2).T\n",
    "\n",
    "        classifier = LinearSVC(fit_intercept=True, class_weight='balanced', dual=False, C=0.1, max_iter=10000)\n",
    "\n",
    "        classifier.fit(debiased_x_train, y_m_train)\n",
    "        debiased_score = classifier.score(debiased_x_dev, y_m_dev)\n",
    "\n",
    "        p_classifier = SGDClassifier(warm_start=True, loss='log', n_jobs=64, max_iter=10000, random_state=0, tol=1e-3)\n",
    "        p_classifier.fit(debiased_x_train, y_p_train)\n",
    "        p_score = p_classifier.score(debiased_x_dev, y_p_dev)\n",
    "\n",
    "        _, debiased_diffs = get_TPR(y_m_dev, classifier.predict(debiased_x_dev), y_p_dev)\n",
    "\n",
    "\n",
    "        results[removal]['p_acc'] = p_score\n",
    "        #     results[ratio]['biased_diff_tpr'] = biased_diffs['y:0']\n",
    "        results[removal]['biased_diff_tpr'] = rms(list(biased_diffs.values()))\n",
    "        #     results[ratio]['debiased_diff_tpr'] = debiased_diffs['y:0']\n",
    "        results[removal]['debiased_diff_tpr'] = rms(list(debiased_diffs.values()))\n",
    "\n",
    "        results[removal]['biased_acc'] = biased_score\n",
    "        results[removal]['debiased_acc'] = debiased_score\n",
    "        \n",
    "    return results"
   ]
  },
  {
   "cell_type": "code",
   "execution_count": 9,
   "metadata": {},
   "outputs": [],
   "source": [
    "def convert_to_plot_results(results, removel_range):\n",
    "    plot_results = defaultdict(list)\n",
    "    for r in removel_range:\n",
    "        plot_results['biased_diff_tpr'].append(results[r]['biased_diff_tpr'])\n",
    "        plot_results['debiased_diff_tpr'].append(results[r]['debiased_diff_tpr'])\n",
    "        plot_results['biased_acc'].append(results[r]['biased_acc'])\n",
    "        plot_results['debiased_acc'].append(results[r]['debiased_acc'])\n",
    "    return plot_results"
   ]
  },
  {
   "cell_type": "code",
   "execution_count": null,
   "metadata": {},
   "outputs": [],
   "source": []
  },
  {
   "cell_type": "code",
   "execution_count": null,
   "metadata": {},
   "outputs": [],
   "source": []
  },
  {
   "cell_type": "code",
   "execution_count": 9,
   "metadata": {},
   "outputs": [],
   "source": [
    "# ratio = 0.5\n",
    "\n",
    "# x_train, y_p_train, y_m_train = load_data(\n",
    "#     '../data/emoji_sent_race_{}/train/'.format(ratio),\n",
    "#     size=100000, ratio=ratio)\n",
    "# x_dev, y_p_dev, y_m_dev = load_data(\n",
    "#     '../data/emoji_sent_race_{}/test/'.format(ratio),\n",
    "#     size=100000, ratio=0.5)\n",
    "# np.savetxt(f\"../data/saved_models/fair_emoji_sent_race/{ratio}/x_train.csv\", x_train, delimiter=\",\")\n",
    "# np.savetxt(f\"../data/saved_models/fair_emoji_sent_race/{ratio}/y_p_train.csv\", y_p_train, delimiter=\",\")\n",
    "# np.savetxt(f\"../data/saved_models/fair_emoji_sent_race/{ratio}/y_m_train.csv\", y_m_train, delimiter=\",\")\n",
    "# np.savetxt(f\"../data/saved_models/fair_emoji_sent_race/{ratio}/x_dev.csv\", x_dev, delimiter=\",\")\n",
    "# np.savetxt(f\"../data/saved_models/fair_emoji_sent_race/{ratio}/y_p_dev.csv\", y_p_dev, delimiter=\",\")\n",
    "# np.savetxt(f\"../data/saved_models/fair_emoji_sent_race/{ratio}/y_m_dev.csv\", y_m_dev, delimiter=\",\")\n",
    "# np.savez(f\"../data/saved_models/fair_emoji_sent_race/{ratio}/all.npz\", x_train = x_train, y_p_train = y_p_train, y_m_train = y_m_train, x_dev = x_dev, y_p_dev = y_p_dev, y_m_dev = y_m_dev)"
   ]
  },
  {
   "cell_type": "markdown",
   "metadata": {},
   "source": [
    "# Null it out"
   ]
  },
  {
   "cell_type": "code",
   "execution_count": 10,
   "metadata": {},
   "outputs": [],
   "source": [
    "# ratio = 0.5\n",
    "\n",
    "# saved_dataset = np.load(f\"../data/saved_models/fair_emoji_sent_race/{ratio}/all.npz\")\n",
    "\n",
    "# x_train = saved_dataset['x_train']\n",
    "# y_m_train = saved_dataset['y_m_train']\n",
    "# y_p_train = saved_dataset['y_p_train']\n",
    "\n",
    "# x_dev = saved_dataset['x_dev']\n",
    "# y_p_dev = saved_dataset['y_p_dev']\n",
    "# y_m_dev = saved_dataset['y_m_dev']"
   ]
  },
  {
   "cell_type": "code",
   "execution_count": 10,
   "metadata": {},
   "outputs": [
    {
     "name": "stdout",
     "output_type": "stream",
     "text": [
      "ratio = 0.5, train size (100000, 300), dev size (7998, 300)\n",
      "\n",
      "\n",
      "\n",
      "ratio = 0.6, train size (100000, 300), dev size (7998, 300)\n",
      "\n",
      "\n",
      "\n",
      "ratio = 0.7, train size (100000, 300), dev size (7998, 300)\n",
      "\n",
      "\n",
      "\n",
      "ratio = 0.8, train size (99998, 300), dev size (7998, 300)\n",
      "\n",
      "\n",
      "\n"
     ]
    }
   ],
   "source": [
    "for ratio in [0.5, 0.6, 0.7, 0.8]:\n",
    "\n",
    "#     x_train, y_p_train, y_m_train = load_data(\n",
    "#         '../data/emoji_sent_race_{}/train/'.format(ratio),\n",
    "#         size=100000, ratio=ratio)\n",
    "#     x_dev, y_p_dev, y_m_dev = load_data(\n",
    "#         '../data/emoji_sent_race_{}/test/'.format(ratio),\n",
    "#         size=100000, ratio=0.5)\n",
    "    saved_dataset = np.load(f\"../data/saved_models/fair_emoji_sent_race/{ratio}/all.npz\")\n",
    "\n",
    "    x_train = saved_dataset['x_train']\n",
    "    y_m_train = saved_dataset['y_m_train']\n",
    "    y_p_train = saved_dataset['y_p_train']\n",
    "\n",
    "    x_dev = saved_dataset['x_dev']\n",
    "    y_p_dev = saved_dataset['y_p_dev']\n",
    "    y_m_dev = saved_dataset['y_m_dev']\n",
    "    \n",
    "    print(f\"ratio = {ratio}, train size {x_train.shape}, dev size {x_dev.shape}\\n\\n\\n\")"
   ]
  },
  {
   "cell_type": "code",
   "execution_count": null,
   "metadata": {},
   "outputs": [],
   "source": []
  },
  {
   "cell_type": "code",
   "execution_count": 12,
   "metadata": {},
   "outputs": [],
   "source": [
    "results = defaultdict(dict)\n",
    "\n",
    "for ratio in [0.5, 0.6, 0.7, 0.8]:\n",
    "\n",
    "#     x_train, y_p_train, y_m_train = load_data(\n",
    "#         '../data/emoji_sent_race_{}/train/'.format(ratio),\n",
    "#         size=100000, ratio=ratio)\n",
    "#     x_dev, y_p_dev, y_m_dev = load_data(\n",
    "#         '../data/emoji_sent_race_{}/test/'.format(ratio),\n",
    "#         size=100000, ratio=0.5)\n",
    "    saved_dataset = np.load(f\"../data/saved_models/fair_emoji_sent_race/{ratio}/all.npz\")\n",
    "\n",
    "    x_train = saved_dataset['x_train']\n",
    "    y_m_train = saved_dataset['y_m_train']\n",
    "    y_p_train = saved_dataset['y_p_train']\n",
    "\n",
    "    x_dev = saved_dataset['x_dev']\n",
    "    y_p_dev = saved_dataset['y_p_dev']\n",
    "    y_m_dev = saved_dataset['y_m_dev']\n",
    "    \n",
    "    biased_classifier = LinearSVC(fit_intercept=True, class_weight='balanced', dual=False, C=0.1, max_iter=10000)\n",
    "\n",
    "    biased_classifier.fit(x_train, y_m_train)\n",
    "    biased_score = biased_classifier.score(x_dev, y_m_dev)\n",
    "    \n",
    "    P = np.load('../data/emoji_sent_race_{}/P_svm.num-clfs=300.npy'.format(ratio), allow_pickle=True)\n",
    "    P = P[1]\n",
    "    n_dims = 120\n",
    "#     n_dims = 70\n",
    "    if ratio == 0.5:\n",
    "        n_dims = 200\n",
    "    elif ratio == 0.6:\n",
    "        n_dims = 100\n",
    "    elif ratio == 0.7:\n",
    "        n_dims = 115\n",
    "    elif ratio == 0.8:\n",
    "        n_dims = 200\n",
    "    P = debias.get_projection_to_intersection_of_nullspaces(P[:n_dims], input_dim=300)\n",
    "    \n",
    "    debiased_x_train = P.dot(x_train.T).T\n",
    "    debiased_x_dev = P.dot(x_dev.T).T\n",
    "\n",
    "    classifier = LinearSVC(fit_intercept=True, class_weight='balanced', dual=False, C=0.1, max_iter=10000)\n",
    "\n",
    "    classifier.fit(debiased_x_train, y_m_train)\n",
    "    debiased_score = classifier.score(debiased_x_dev, y_m_dev)\n",
    "    \n",
    "    p_classifier = SGDClassifier(warm_start=True, loss='log', n_jobs=64, max_iter=10000, random_state=0, tol=1e-3)\n",
    "    p_classifier.fit(debiased_x_train, y_p_train)\n",
    "    p_score = p_classifier.score(debiased_x_dev, y_p_dev)\n",
    "    results[ratio]['p_acc'] = p_score\n",
    "    \n",
    "    _, biased_diffs = get_TPR(y_m_dev, biased_classifier.predict(x_dev), y_p_dev)\n",
    "    \n",
    "    _, debiased_diffs = get_TPR(y_m_dev, classifier.predict(debiased_x_dev), y_p_dev)\n",
    "    \n",
    "#     results[ratio]['biased_diff_tpr'] = biased_diffs['y:0']\n",
    "    results[ratio]['biased_diff_tpr'] = rms(list(biased_diffs.values()))\n",
    "#     results[ratio]['debiased_diff_tpr'] = debiased_diffs['y:0']\n",
    "    results[ratio]['debiased_diff_tpr'] = rms(list(debiased_diffs.values()))\n",
    "    \n",
    "    results[ratio]['biased_acc'] = biased_score\n",
    "    results[ratio]['debiased_acc'] = debiased_score"
   ]
  },
  {
   "cell_type": "code",
   "execution_count": 13,
   "metadata": {},
   "outputs": [
    {
     "data": {
      "text/plain": [
       "defaultdict(dict,\n",
       "            {0.5: {'p_acc': 0.5396349087271818,\n",
       "              'biased_diff_tpr': 0.14560632483708713,\n",
       "              'debiased_diff_tpr': 0.11974302439852863,\n",
       "              'biased_acc': 0.7653163290822705,\n",
       "              'debiased_acc': 0.7625656414103525},\n",
       "             0.6: {'p_acc': 0.5946486621655414,\n",
       "              'biased_diff_tpr': 0.22630502371727185,\n",
       "              'debiased_diff_tpr': 0.19067232927585404,\n",
       "              'biased_acc': 0.7531882970742686,\n",
       "              'debiased_acc': 0.7579394848712178},\n",
       "             0.7: {'p_acc': 0.6257814453613403,\n",
       "              'biased_diff_tpr': 0.31864557675474753,\n",
       "              'debiased_diff_tpr': 0.26266284955843594,\n",
       "              'biased_acc': 0.741185296324081,\n",
       "              'debiased_acc': 0.7478119529882471},\n",
       "             0.8: {'p_acc': 0.5043760940235059,\n",
       "              'biased_diff_tpr': 0.4043010400370602,\n",
       "              'debiased_diff_tpr': 0.010947167516829342,\n",
       "              'biased_acc': 0.7200550137534384,\n",
       "              'debiased_acc': 0.5290072518129533}})"
      ]
     },
     "execution_count": 13,
     "metadata": {},
     "output_type": "execute_result"
    }
   ],
   "source": [
    "results"
   ]
  },
  {
   "cell_type": "code",
   "execution_count": 14,
   "metadata": {},
   "outputs": [
    {
     "data": {
      "text/plain": [
       "defaultdict(list,\n",
       "            {'biased_diff_tpr': [0.14560632483708713,\n",
       "              0.22630502371727185,\n",
       "              0.31864557675474753,\n",
       "              0.4043010400370602],\n",
       "             'debiased_diff_tpr': [0.11974302439852863,\n",
       "              0.19067232927585404,\n",
       "              0.26266284955843594,\n",
       "              0.010947167516829342],\n",
       "             'biased_acc': [0.7653163290822705,\n",
       "              0.7531882970742686,\n",
       "              0.741185296324081,\n",
       "              0.7200550137534384],\n",
       "             'debiased_acc': [0.7625656414103525,\n",
       "              0.7579394848712178,\n",
       "              0.7478119529882471,\n",
       "              0.5290072518129533]})"
      ]
     },
     "execution_count": 14,
     "metadata": {},
     "output_type": "execute_result"
    }
   ],
   "source": [
    "plot_results = defaultdict(list)\n",
    "for r in [0.5, 0.6, 0.7, 0.8]:\n",
    "    plot_results['biased_diff_tpr'].append(results[r]['biased_diff_tpr'])\n",
    "    plot_results['debiased_diff_tpr'].append(results[r]['debiased_diff_tpr'])\n",
    "    plot_results['biased_acc'].append(results[r]['biased_acc'])\n",
    "    plot_results['debiased_acc'].append(results[r]['debiased_acc'])\n",
    "plot_results"
   ]
  },
  {
   "cell_type": "code",
   "execution_count": null,
   "metadata": {},
   "outputs": [],
   "source": []
  },
  {
   "cell_type": "code",
   "execution_count": 10,
   "metadata": {},
   "outputs": [],
   "source": [
    "removel_range = [0, 1, 2, 5, 30, 50, 100, 200, 220, 240, 260, 280, 290, 295]"
   ]
  },
  {
   "cell_type": "code",
   "execution_count": 12,
   "metadata": {},
   "outputs": [],
   "source": [
    "import time"
   ]
  },
  {
   "cell_type": "code",
   "execution_count": 13,
   "metadata": {},
   "outputs": [
    {
     "name": "stdout",
     "output_type": "stream",
     "text": [
      "sal took 0.37548398971557617 seconds\n",
      "u has shape (300, 300), s has shape (2,), vh has shape (2, 2)\n"
     ]
    }
   ],
   "source": [
    "ratio = 0.5\n",
    "\n",
    "saved_dataset = np.load(f\"../data/saved_models/fair_emoji_sent_race/{ratio}/all.npz\")\n",
    "\n",
    "x_train = saved_dataset['x_train']\n",
    "y_m_train = saved_dataset['y_m_train']\n",
    "y_p_train = saved_dataset['y_p_train']\n",
    "y_p_train_2d = np.asarray([y_p_train, - y_p_train + 1]).T\n",
    "\n",
    "x_dev = saved_dataset['x_dev']\n",
    "y_p_dev = saved_dataset['y_p_dev']\n",
    "y_m_dev = saved_dataset['y_m_dev']\n",
    "\n",
    "t = time.time()\n",
    "A = np.dot(x_train.T, y_p_train_2d) / x_train.shape[0]\n",
    "u, s, vh = np.linalg.svd(A, full_matrices=True)\n",
    "elapsed = time.time() - t\n",
    "print(f\"sal took {elapsed} seconds\")\n",
    "print(f\"u has shape {u.shape}, s has shape {s.shape}, vh has shape {vh.shape}\")"
   ]
  },
  {
   "cell_type": "code",
   "execution_count": 26,
   "metadata": {},
   "outputs": [
    {
     "data": {
      "text/plain": [
       "defaultdict(dict,\n",
       "            {0: {'p_acc': 0.8714678669667417,\n",
       "              'biased_diff_tpr': 0.14560632483708713,\n",
       "              'debiased_diff_tpr': 0.14560632483708713,\n",
       "              'biased_acc': 0.7653163290822705,\n",
       "              'debiased_acc': 0.7653163290822705},\n",
       "             1: {'p_acc': 0.8630907726931732,\n",
       "              'biased_diff_tpr': 0.14560632483708713,\n",
       "              'debiased_diff_tpr': 0.1445020833238553,\n",
       "              'biased_acc': 0.7653163290822705,\n",
       "              'debiased_acc': 0.7653163290822705},\n",
       "             2: {'p_acc': 0.49699924981245314,\n",
       "              'biased_diff_tpr': 0.14560632483708713,\n",
       "              'debiased_diff_tpr': 0.11020173553336259,\n",
       "              'biased_acc': 0.7653163290822705,\n",
       "              'debiased_acc': 0.766816704176044},\n",
       "             5: {'p_acc': 0.4959989997499375,\n",
       "              'biased_diff_tpr': 0.14560632483708713,\n",
       "              'debiased_diff_tpr': 0.11007656356661116,\n",
       "              'biased_acc': 0.7653163290822705,\n",
       "              'debiased_acc': 0.7669417354338585},\n",
       "             30: {'p_acc': 0.4948737184296074,\n",
       "              'biased_diff_tpr': 0.14560632483708713,\n",
       "              'debiased_diff_tpr': 0.10621266898739956,\n",
       "              'biased_acc': 0.7653163290822705,\n",
       "              'debiased_acc': 0.7660665166291573},\n",
       "             50: {'p_acc': 0.4973743435858965,\n",
       "              'biased_diff_tpr': 0.14560632483708713,\n",
       "              'debiased_diff_tpr': 0.10841554967602068,\n",
       "              'biased_acc': 0.7653163290822705,\n",
       "              'debiased_acc': 0.766816704176044},\n",
       "             100: {'p_acc': 0.49637409352338085,\n",
       "              'biased_diff_tpr': 0.14560632483708713,\n",
       "              'debiased_diff_tpr': 0.10844931019709282,\n",
       "              'biased_acc': 0.7653163290822705,\n",
       "              'debiased_acc': 0.7664416104026006},\n",
       "             200: {'p_acc': 0.5248812203050762,\n",
       "              'biased_diff_tpr': 0.14560632483708713,\n",
       "              'debiased_diff_tpr': 0.1042793080915506,\n",
       "              'biased_acc': 0.7653163290822705,\n",
       "              'debiased_acc': 0.7656914228557139},\n",
       "             220: {'p_acc': 0.44711177794448614,\n",
       "              'biased_diff_tpr': 0.14560632483708713,\n",
       "              'debiased_diff_tpr': 0.09987399516901178,\n",
       "              'biased_acc': 0.7653163290822705,\n",
       "              'debiased_acc': 0.7661915478869717},\n",
       "             240: {'p_acc': 0.45023755938984744,\n",
       "              'biased_diff_tpr': 0.14560632483708713,\n",
       "              'debiased_diff_tpr': 0.1032924184615246,\n",
       "              'biased_acc': 0.7653163290822705,\n",
       "              'debiased_acc': 0.7656914228557139},\n",
       "             260: {'p_acc': 0.450112528132033,\n",
       "              'biased_diff_tpr': 0.14560632483708713,\n",
       "              'debiased_diff_tpr': 0.10346416206559751,\n",
       "              'biased_acc': 0.7653163290822705,\n",
       "              'debiased_acc': 0.7656914228557139},\n",
       "             280: {'p_acc': 0.4587396849212303,\n",
       "              'biased_diff_tpr': 0.14560632483708713,\n",
       "              'debiased_diff_tpr': 0.1043429019092808,\n",
       "              'biased_acc': 0.7653163290822705,\n",
       "              'debiased_acc': 0.7591897974493623},\n",
       "             290: {'p_acc': 0.5001250312578145,\n",
       "              'biased_diff_tpr': 0.14560632483708713,\n",
       "              'debiased_diff_tpr': 0.10178012864537783,\n",
       "              'biased_acc': 0.7653163290822705,\n",
       "              'debiased_acc': 0.7596899224806202},\n",
       "             295: {'p_acc': 0.49987496874218557,\n",
       "              'biased_diff_tpr': 0.14560632483708713,\n",
       "              'debiased_diff_tpr': 0.09851762574167189,\n",
       "              'biased_acc': 0.7653163290822705,\n",
       "              'debiased_acc': 0.7548137034258565}})"
      ]
     },
     "execution_count": 26,
     "metadata": {},
     "output_type": "execute_result"
    }
   ],
   "source": [
    "results = check_result(u, removel_range, x_train, x_dev, y_m_train, y_m_dev, y_p_train, y_p_dev)\n",
    "results"
   ]
  },
  {
   "cell_type": "code",
   "execution_count": 27,
   "metadata": {},
   "outputs": [
    {
     "data": {
      "text/plain": [
       "defaultdict(list,\n",
       "            {'biased_diff_tpr': [0.14560632483708713,\n",
       "              0.14560632483708713,\n",
       "              0.14560632483708713,\n",
       "              0.14560632483708713,\n",
       "              0.14560632483708713,\n",
       "              0.14560632483708713,\n",
       "              0.14560632483708713,\n",
       "              0.14560632483708713,\n",
       "              0.14560632483708713,\n",
       "              0.14560632483708713,\n",
       "              0.14560632483708713,\n",
       "              0.14560632483708713,\n",
       "              0.14560632483708713,\n",
       "              0.14560632483708713],\n",
       "             'debiased_diff_tpr': [0.14560632483708713,\n",
       "              0.1445020833238553,\n",
       "              0.11020173553336259,\n",
       "              0.11007656356661116,\n",
       "              0.10621266898739956,\n",
       "              0.10841554967602068,\n",
       "              0.10844931019709282,\n",
       "              0.1042793080915506,\n",
       "              0.09987399516901178,\n",
       "              0.1032924184615246,\n",
       "              0.10346416206559751,\n",
       "              0.1043429019092808,\n",
       "              0.10178012864537783,\n",
       "              0.09851762574167189],\n",
       "             'biased_acc': [0.7653163290822705,\n",
       "              0.7653163290822705,\n",
       "              0.7653163290822705,\n",
       "              0.7653163290822705,\n",
       "              0.7653163290822705,\n",
       "              0.7653163290822705,\n",
       "              0.7653163290822705,\n",
       "              0.7653163290822705,\n",
       "              0.7653163290822705,\n",
       "              0.7653163290822705,\n",
       "              0.7653163290822705,\n",
       "              0.7653163290822705,\n",
       "              0.7653163290822705,\n",
       "              0.7653163290822705],\n",
       "             'debiased_acc': [0.7653163290822705,\n",
       "              0.7653163290822705,\n",
       "              0.766816704176044,\n",
       "              0.7669417354338585,\n",
       "              0.7660665166291573,\n",
       "              0.766816704176044,\n",
       "              0.7664416104026006,\n",
       "              0.7656914228557139,\n",
       "              0.7661915478869717,\n",
       "              0.7656914228557139,\n",
       "              0.7656914228557139,\n",
       "              0.7591897974493623,\n",
       "              0.7596899224806202,\n",
       "              0.7548137034258565]})"
      ]
     },
     "execution_count": 27,
     "metadata": {},
     "output_type": "execute_result"
    }
   ],
   "source": [
    "plot_results = convert_to_plot_results(results, removel_range)\n",
    "plot_results"
   ]
  },
  {
   "cell_type": "code",
   "execution_count": 28,
   "metadata": {},
   "outputs": [
    {
     "data": {
      "image/png": "[encoded data removed]",
      "text/plain": [
       "<Figure size 432x288 with 2 Axes>"
      ]
     },
     "metadata": {
      "needs_background": "light"
     },
     "output_type": "display_data"
    }
   ],
   "source": [
    "data2plot(plot_results, removel_range)"
   ]
  },
  {
   "cell_type": "code",
   "execution_count": null,
   "metadata": {},
   "outputs": [],
   "source": []
  },
  {
   "cell_type": "code",
   "execution_count": null,
   "metadata": {},
   "outputs": [],
   "source": []
  },
  {
   "cell_type": "code",
   "execution_count": 29,
   "metadata": {},
   "outputs": [
    {
     "name": "stdout",
     "output_type": "stream",
     "text": [
      "u has shape (300, 300), s has shape (2,), vh has shape (2, 2)\n"
     ]
    }
   ],
   "source": [
    "ratio = 0.6\n",
    "\n",
    "saved_dataset = np.load(f\"../data/saved_models/fair_emoji_sent_race/{ratio}/all.npz\")\n",
    "\n",
    "x_train = saved_dataset['x_train']\n",
    "y_m_train = saved_dataset['y_m_train']\n",
    "y_p_train = saved_dataset['y_p_train']\n",
    "y_p_train_2d = np.asarray([y_p_train, - y_p_train + 1]).T\n",
    "\n",
    "x_dev = saved_dataset['x_dev']\n",
    "y_p_dev = saved_dataset['y_p_dev']\n",
    "y_m_dev = saved_dataset['y_m_dev']\n",
    "\n",
    "A = np.dot(x_train.T, y_p_train_2d) / x_train.shape[0]\n",
    "u, s, vh = np.linalg.svd(A, full_matrices=True)\n",
    "print(f\"u has shape {u.shape}, s has shape {s.shape}, vh has shape {vh.shape}\")"
   ]
  },
  {
   "cell_type": "code",
   "execution_count": 30,
   "metadata": {},
   "outputs": [
    {
     "data": {
      "text/plain": [
       "defaultdict(dict,\n",
       "            {0: {'p_acc': 0.840960240060015,\n",
       "              'biased_diff_tpr': 0.22630502371727185,\n",
       "              'debiased_diff_tpr': 0.22630502371727185,\n",
       "              'biased_acc': 0.7531882970742686,\n",
       "              'debiased_acc': 0.7531882970742686},\n",
       "             1: {'p_acc': 0.8508377094273568,\n",
       "              'biased_diff_tpr': 0.22630502371727185,\n",
       "              'debiased_diff_tpr': 0.22803630357189353,\n",
       "              'biased_acc': 0.7531882970742686,\n",
       "              'debiased_acc': 0.7530632658164541},\n",
       "             2: {'p_acc': 0.4711177794448612,\n",
       "              'biased_diff_tpr': 0.22630502371727185,\n",
       "              'debiased_diff_tpr': 0.08988024196274066,\n",
       "              'biased_acc': 0.7531882970742686,\n",
       "              'debiased_acc': 0.7531882970742686},\n",
       "             5: {'p_acc': 0.4708677169292323,\n",
       "              'biased_diff_tpr': 0.22630502371727185,\n",
       "              'debiased_diff_tpr': 0.09037932830110916,\n",
       "              'biased_acc': 0.7531882970742686,\n",
       "              'debiased_acc': 0.7526881720430108},\n",
       "             30: {'p_acc': 0.4723680920230057,\n",
       "              'biased_diff_tpr': 0.22630502371727185,\n",
       "              'debiased_diff_tpr': 0.09126866357639556,\n",
       "              'biased_acc': 0.7531882970742686,\n",
       "              'debiased_acc': 0.7530632658164541},\n",
       "             50: {'p_acc': 0.5066266566641661,\n",
       "              'biased_diff_tpr': 0.22630502371727185,\n",
       "              'debiased_diff_tpr': 0.09258461867418033,\n",
       "              'biased_acc': 0.7531882970742686,\n",
       "              'debiased_acc': 0.7511877969492373},\n",
       "             100: {'p_acc': 0.5031257814453614,\n",
       "              'biased_diff_tpr': 0.22630502371727185,\n",
       "              'debiased_diff_tpr': 0.09496617559255267,\n",
       "              'biased_acc': 0.7531882970742686,\n",
       "              'debiased_acc': 0.7484371092773193},\n",
       "             200: {'p_acc': 0.5007501875468867,\n",
       "              'biased_diff_tpr': 0.22630502371727185,\n",
       "              'debiased_diff_tpr': 0.10150799279833236,\n",
       "              'biased_acc': 0.7531882970742686,\n",
       "              'debiased_acc': 0.7403100775193798},\n",
       "             220: {'p_acc': 0.5002500625156289,\n",
       "              'biased_diff_tpr': 0.22630502371727185,\n",
       "              'debiased_diff_tpr': 0.10921997885015855,\n",
       "              'biased_acc': 0.7531882970742686,\n",
       "              'debiased_acc': 0.7353088272068017},\n",
       "             240: {'p_acc': 0.5001250312578145,\n",
       "              'biased_diff_tpr': 0.22630502371727185,\n",
       "              'debiased_diff_tpr': 0.10635797301822242,\n",
       "              'biased_acc': 0.7531882970742686,\n",
       "              'debiased_acc': 0.733183295823956},\n",
       "             260: {'p_acc': 0.5002500625156289,\n",
       "              'biased_diff_tpr': 0.22630502371727185,\n",
       "              'debiased_diff_tpr': 0.10776873695187088,\n",
       "              'biased_acc': 0.7531882970742686,\n",
       "              'debiased_acc': 0.729307326831708},\n",
       "             280: {'p_acc': 0.4981245311327832,\n",
       "              'biased_diff_tpr': 0.22630502371727185,\n",
       "              'debiased_diff_tpr': 0.11257271707339944,\n",
       "              'biased_acc': 0.7531882970742686,\n",
       "              'debiased_acc': 0.7215553888472118},\n",
       "             290: {'p_acc': 0.5036259064766192,\n",
       "              'biased_diff_tpr': 0.22630502371727185,\n",
       "              'debiased_diff_tpr': 0.1257355117153975,\n",
       "              'biased_acc': 0.7531882970742686,\n",
       "              'debiased_acc': 0.7189297324331083},\n",
       "             295: {'p_acc': 0.49987496874218557,\n",
       "              'biased_diff_tpr': 0.22630502371727185,\n",
       "              'debiased_diff_tpr': 0.11164602462363725,\n",
       "              'biased_acc': 0.7531882970742686,\n",
       "              'debiased_acc': 0.6765441360340085}})"
      ]
     },
     "execution_count": 30,
     "metadata": {},
     "output_type": "execute_result"
    }
   ],
   "source": [
    "results = check_result(u, removel_range, x_train, x_dev, y_m_train, y_m_dev, y_p_train, y_p_dev)\n",
    "results"
   ]
  },
  {
   "cell_type": "code",
   "execution_count": 31,
   "metadata": {},
   "outputs": [
    {
     "data": {
      "text/plain": [
       "defaultdict(list,\n",
       "            {'biased_diff_tpr': [0.22630502371727185,\n",
       "              0.22630502371727185,\n",
       "              0.22630502371727185,\n",
       "              0.22630502371727185,\n",
       "              0.22630502371727185,\n",
       "              0.22630502371727185,\n",
       "              0.22630502371727185,\n",
       "              0.22630502371727185,\n",
       "              0.22630502371727185,\n",
       "              0.22630502371727185,\n",
       "              0.22630502371727185,\n",
       "              0.22630502371727185,\n",
       "              0.22630502371727185,\n",
       "              0.22630502371727185],\n",
       "             'debiased_diff_tpr': [0.22630502371727185,\n",
       "              0.22803630357189353,\n",
       "              0.08988024196274066,\n",
       "              0.09037932830110916,\n",
       "              0.09126866357639556,\n",
       "              0.09258461867418033,\n",
       "              0.09496617559255267,\n",
       "              0.10150799279833236,\n",
       "              0.10921997885015855,\n",
       "              0.10635797301822242,\n",
       "              0.10776873695187088,\n",
       "              0.11257271707339944,\n",
       "              0.1257355117153975,\n",
       "              0.11164602462363725],\n",
       "             'biased_acc': [0.7531882970742686,\n",
       "              0.7531882970742686,\n",
       "              0.7531882970742686,\n",
       "              0.7531882970742686,\n",
       "              0.7531882970742686,\n",
       "              0.7531882970742686,\n",
       "              0.7531882970742686,\n",
       "              0.7531882970742686,\n",
       "              0.7531882970742686,\n",
       "              0.7531882970742686,\n",
       "              0.7531882970742686,\n",
       "              0.7531882970742686,\n",
       "              0.7531882970742686,\n",
       "              0.7531882970742686],\n",
       "             'debiased_acc': [0.7531882970742686,\n",
       "              0.7530632658164541,\n",
       "              0.7531882970742686,\n",
       "              0.7526881720430108,\n",
       "              0.7530632658164541,\n",
       "              0.7511877969492373,\n",
       "              0.7484371092773193,\n",
       "              0.7403100775193798,\n",
       "              0.7353088272068017,\n",
       "              0.733183295823956,\n",
       "              0.729307326831708,\n",
       "              0.7215553888472118,\n",
       "              0.7189297324331083,\n",
       "              0.6765441360340085]})"
      ]
     },
     "execution_count": 31,
     "metadata": {},
     "output_type": "execute_result"
    }
   ],
   "source": [
    "plot_results = convert_to_plot_results(results, removel_range)\n",
    "plot_results"
   ]
  },
  {
   "cell_type": "code",
   "execution_count": 32,
   "metadata": {},
   "outputs": [
    {
     "data": {
      "image/png": "[encoded data removed]",
      "text/plain": [
       "<Figure size 432x288 with 2 Axes>"
      ]
     },
     "metadata": {
      "needs_background": "light"
     },
     "output_type": "display_data"
    }
   ],
   "source": [
    "data2plot(plot_results, removel_range)"
   ]
  },
  {
   "cell_type": "code",
   "execution_count": null,
   "metadata": {},
   "outputs": [],
   "source": []
  },
  {
   "cell_type": "code",
   "execution_count": 33,
   "metadata": {},
   "outputs": [
    {
     "name": "stdout",
     "output_type": "stream",
     "text": [
      "u has shape (300, 300), s has shape (2,), vh has shape (2, 2)\n"
     ]
    }
   ],
   "source": [
    "ratio = 0.7\n",
    "\n",
    "saved_dataset = np.load(f\"../data/saved_models/fair_emoji_sent_race/{ratio}/all.npz\")\n",
    "\n",
    "x_train = saved_dataset['x_train']\n",
    "y_m_train = saved_dataset['y_m_train']\n",
    "y_p_train = saved_dataset['y_p_train']\n",
    "y_p_train_2d = np.asarray([y_p_train, - y_p_train + 1]).T\n",
    "\n",
    "x_dev = saved_dataset['x_dev']\n",
    "y_p_dev = saved_dataset['y_p_dev']\n",
    "y_m_dev = saved_dataset['y_m_dev']\n",
    "\n",
    "A = np.dot(x_train.T, y_p_train_2d) / x_train.shape[0]\n",
    "u, s, vh = np.linalg.svd(A, full_matrices=True)\n",
    "print(f\"u has shape {u.shape}, s has shape {s.shape}, vh has shape {vh.shape}\")"
   ]
  },
  {
   "cell_type": "code",
   "execution_count": 34,
   "metadata": {},
   "outputs": [
    {
     "data": {
      "text/plain": [
       "defaultdict(dict,\n",
       "            {0: {'p_acc': 0.8199549887471868,\n",
       "              'biased_diff_tpr': 0.31864557675474753,\n",
       "              'debiased_diff_tpr': 0.31864557675474753,\n",
       "              'biased_acc': 0.741185296324081,\n",
       "              'debiased_acc': 0.741185296324081},\n",
       "             1: {'p_acc': 0.8438359589897474,\n",
       "              'biased_diff_tpr': 0.31864557675474753,\n",
       "              'debiased_diff_tpr': 0.31575482093361984,\n",
       "              'biased_acc': 0.741185296324081,\n",
       "              'debiased_acc': 0.7346836709177295},\n",
       "             2: {'p_acc': 0.463615903975994,\n",
       "              'biased_diff_tpr': 0.31864557675474753,\n",
       "              'debiased_diff_tpr': 0.11635856368415173,\n",
       "              'biased_acc': 0.741185296324081,\n",
       "              'debiased_acc': 0.7363090772693174},\n",
       "             5: {'p_acc': 0.46399099774943736,\n",
       "              'biased_diff_tpr': 0.31864557675474753,\n",
       "              'debiased_diff_tpr': 0.11674792676509015,\n",
       "              'biased_acc': 0.741185296324081,\n",
       "              'debiased_acc': 0.734558639659915},\n",
       "             30: {'p_acc': 0.5030007501875469,\n",
       "              'biased_diff_tpr': 0.31864557675474753,\n",
       "              'debiased_diff_tpr': 0.12023899899338386,\n",
       "              'biased_acc': 0.741185296324081,\n",
       "              'debiased_acc': 0.7366841710427607},\n",
       "             50: {'p_acc': 0.5018754688672168,\n",
       "              'biased_diff_tpr': 0.31864557675474753,\n",
       "              'debiased_diff_tpr': 0.12100513006482054,\n",
       "              'biased_acc': 0.741185296324081,\n",
       "              'debiased_acc': 0.7349337334333583},\n",
       "             100: {'p_acc': 0.4981245311327832,\n",
       "              'biased_diff_tpr': 0.31864557675474753,\n",
       "              'debiased_diff_tpr': 0.12715509044451567,\n",
       "              'biased_acc': 0.741185296324081,\n",
       "              'debiased_acc': 0.7334333583395849},\n",
       "             200: {'p_acc': 0.47999499874968743,\n",
       "              'biased_diff_tpr': 0.31864557675474753,\n",
       "              'debiased_diff_tpr': 0.15675297512285796,\n",
       "              'biased_acc': 0.741185296324081,\n",
       "              'debiased_acc': 0.7150537634408602},\n",
       "             220: {'p_acc': 0.4673668417104276,\n",
       "              'biased_diff_tpr': 0.31864557675474753,\n",
       "              'debiased_diff_tpr': 0.1525863232511454,\n",
       "              'biased_acc': 0.741185296324081,\n",
       "              'debiased_acc': 0.7150537634408602},\n",
       "             240: {'p_acc': 0.5385096274068517,\n",
       "              'biased_diff_tpr': 0.31864557675474753,\n",
       "              'debiased_diff_tpr': 0.15004721659847078,\n",
       "              'biased_acc': 0.741185296324081,\n",
       "              'debiased_acc': 0.7125531382845711},\n",
       "             260: {'p_acc': 0.5482620655163791,\n",
       "              'biased_diff_tpr': 0.31864557675474753,\n",
       "              'debiased_diff_tpr': 0.1537984908912681,\n",
       "              'biased_acc': 0.741185296324081,\n",
       "              'debiased_acc': 0.7040510127531883},\n",
       "             280: {'p_acc': 0.5118779694923731,\n",
       "              'biased_diff_tpr': 0.31864557675474753,\n",
       "              'debiased_diff_tpr': 0.15392966588017956,\n",
       "              'biased_acc': 0.741185296324081,\n",
       "              'debiased_acc': 0.6950487621905477},\n",
       "             290: {'p_acc': 0.5113778444611152,\n",
       "              'biased_diff_tpr': 0.31864557675474753,\n",
       "              'debiased_diff_tpr': 0.1504312844224986,\n",
       "              'biased_acc': 0.741185296324081,\n",
       "              'debiased_acc': 0.691297824456114},\n",
       "             295: {'p_acc': 0.49987496874218557,\n",
       "              'biased_diff_tpr': 0.31864557675474753,\n",
       "              'debiased_diff_tpr': 0.1759445240878502,\n",
       "              'biased_acc': 0.741185296324081,\n",
       "              'debiased_acc': 0.661790447611903}})"
      ]
     },
     "execution_count": 34,
     "metadata": {},
     "output_type": "execute_result"
    }
   ],
   "source": [
    "results = check_result(u, removel_range, x_train, x_dev, y_m_train, y_m_dev, y_p_train, y_p_dev)\n",
    "results"
   ]
  },
  {
   "cell_type": "code",
   "execution_count": 35,
   "metadata": {},
   "outputs": [
    {
     "data": {
      "text/plain": [
       "defaultdict(list,\n",
       "            {'biased_diff_tpr': [0.31864557675474753,\n",
       "              0.31864557675474753,\n",
       "              0.31864557675474753,\n",
       "              0.31864557675474753,\n",
       "              0.31864557675474753,\n",
       "              0.31864557675474753,\n",
       "              0.31864557675474753,\n",
       "              0.31864557675474753,\n",
       "              0.31864557675474753,\n",
       "              0.31864557675474753,\n",
       "              0.31864557675474753,\n",
       "              0.31864557675474753,\n",
       "              0.31864557675474753,\n",
       "              0.31864557675474753],\n",
       "             'debiased_diff_tpr': [0.31864557675474753,\n",
       "              0.31575482093361984,\n",
       "              0.11635856368415173,\n",
       "              0.11674792676509015,\n",
       "              0.12023899899338386,\n",
       "              0.12100513006482054,\n",
       "              0.12715509044451567,\n",
       "              0.15675297512285796,\n",
       "              0.1525863232511454,\n",
       "              0.15004721659847078,\n",
       "              0.1537984908912681,\n",
       "              0.15392966588017956,\n",
       "              0.1504312844224986,\n",
       "              0.1759445240878502],\n",
       "             'biased_acc': [0.741185296324081,\n",
       "              0.741185296324081,\n",
       "              0.741185296324081,\n",
       "              0.741185296324081,\n",
       "              0.741185296324081,\n",
       "              0.741185296324081,\n",
       "              0.741185296324081,\n",
       "              0.741185296324081,\n",
       "              0.741185296324081,\n",
       "              0.741185296324081,\n",
       "              0.741185296324081,\n",
       "              0.741185296324081,\n",
       "              0.741185296324081,\n",
       "              0.741185296324081],\n",
       "             'debiased_acc': [0.741185296324081,\n",
       "              0.7346836709177295,\n",
       "              0.7363090772693174,\n",
       "              0.734558639659915,\n",
       "              0.7366841710427607,\n",
       "              0.7349337334333583,\n",
       "              0.7334333583395849,\n",
       "              0.7150537634408602,\n",
       "              0.7150537634408602,\n",
       "              0.7125531382845711,\n",
       "              0.7040510127531883,\n",
       "              0.6950487621905477,\n",
       "              0.691297824456114,\n",
       "              0.661790447611903]})"
      ]
     },
     "execution_count": 35,
     "metadata": {},
     "output_type": "execute_result"
    }
   ],
   "source": [
    "plot_results = convert_to_plot_results(results, removel_range)\n",
    "plot_results"
   ]
  },
  {
   "cell_type": "code",
   "execution_count": 36,
   "metadata": {},
   "outputs": [
    {
     "data": {
      "image/png": "[encoded data removed]",
      "text/plain": [
       "<Figure size 432x288 with 2 Axes>"
      ]
     },
     "metadata": {
      "needs_background": "light"
     },
     "output_type": "display_data"
    }
   ],
   "source": [
    "data2plot(plot_results, removel_range)"
   ]
  },
  {
   "cell_type": "code",
   "execution_count": null,
   "metadata": {},
   "outputs": [],
   "source": []
  },
  {
   "cell_type": "code",
   "execution_count": 21,
   "metadata": {},
   "outputs": [
    {
     "name": "stdout",
     "output_type": "stream",
     "text": [
      "u has shape (300, 300), s has shape (2,), vh has shape (2, 2)\n"
     ]
    }
   ],
   "source": [
    "ratio = 0.8\n",
    "\n",
    "saved_dataset = np.load(f\"../data/saved_models/fair_emoji_sent_race/{ratio}/all.npz\")\n",
    "\n",
    "x_train = saved_dataset['x_train']\n",
    "y_m_train = saved_dataset['y_m_train']\n",
    "y_p_train = saved_dataset['y_p_train']\n",
    "y_p_train_2d = np.asarray([y_p_train, - y_p_train + 1]).T\n",
    "\n",
    "x_dev = saved_dataset['x_dev']\n",
    "y_p_dev = saved_dataset['y_p_dev']\n",
    "y_m_dev = saved_dataset['y_m_dev']\n",
    "\n",
    "A = np.dot(x_train.T, y_p_train_2d) / x_train.shape[0]\n",
    "u, s, vh = np.linalg.svd(A, full_matrices=True)\n",
    "print(f\"u has shape {u.shape}, s has shape {s.shape}, vh has shape {vh.shape}\")"
   ]
  },
  {
   "cell_type": "code",
   "execution_count": 22,
   "metadata": {},
   "outputs": [
    {
     "data": {
      "text/plain": [
       "defaultdict(dict,\n",
       "            {0: {'p_acc': 0.8379594898724682,\n",
       "              'biased_diff_tpr': 0.4043010400370602,\n",
       "              'debiased_diff_tpr': 0.40411721363762787,\n",
       "              'biased_acc': 0.7200550137534384,\n",
       "              'debiased_acc': 0.7201800450112528},\n",
       "             1: {'p_acc': 0.7973243310827707,\n",
       "              'biased_diff_tpr': 0.4043010400370602,\n",
       "              'debiased_diff_tpr': 0.3654118278211388,\n",
       "              'biased_acc': 0.7200550137534384,\n",
       "              'debiased_acc': 0.7148037009252313},\n",
       "             2: {'p_acc': 0.47186796699174793,\n",
       "              'biased_diff_tpr': 0.4043010400370602,\n",
       "              'debiased_diff_tpr': 0.18610177633438116,\n",
       "              'biased_acc': 0.7200550137534384,\n",
       "              'debiased_acc': 0.7191797949487372},\n",
       "             5: {'p_acc': 0.47199299824956237,\n",
       "              'biased_diff_tpr': 0.4043010400370602,\n",
       "              'debiased_diff_tpr': 0.184739631028025,\n",
       "              'biased_acc': 0.7200550137534384,\n",
       "              'debiased_acc': 0.7193048262065517},\n",
       "             30: {'p_acc': 0.4668667166791698,\n",
       "              'biased_diff_tpr': 0.4043010400370602,\n",
       "              'debiased_diff_tpr': 0.18506971632421484,\n",
       "              'biased_acc': 0.7200550137534384,\n",
       "              'debiased_acc': 0.7191797949487372},\n",
       "             50: {'p_acc': 0.46524131032758187,\n",
       "              'biased_diff_tpr': 0.4043010400370602,\n",
       "              'debiased_diff_tpr': 0.1867917631297146,\n",
       "              'biased_acc': 0.7200550137534384,\n",
       "              'debiased_acc': 0.7181795448862216},\n",
       "             100: {'p_acc': 0.4736184046011503,\n",
       "              'biased_diff_tpr': 0.4043010400370602,\n",
       "              'debiased_diff_tpr': 0.18737210776237648,\n",
       "              'biased_acc': 0.7200550137534384,\n",
       "              'debiased_acc': 0.7146786696674169},\n",
       "             200: {'p_acc': 0.5230057514378594,\n",
       "              'biased_diff_tpr': 0.4043010400370602,\n",
       "              'debiased_diff_tpr': 0.19752038343148395,\n",
       "              'biased_acc': 0.7200550137534384,\n",
       "              'debiased_acc': 0.6956739184796199},\n",
       "             220: {'p_acc': 0.5100025006251563,\n",
       "              'biased_diff_tpr': 0.4043010400370602,\n",
       "              'debiased_diff_tpr': 0.202949662154134,\n",
       "              'biased_acc': 0.7200550137534384,\n",
       "              'debiased_acc': 0.6937984496124031},\n",
       "             240: {'p_acc': 0.5075018754688673,\n",
       "              'biased_diff_tpr': 0.4043010400370602,\n",
       "              'debiased_diff_tpr': 0.20801803316486164,\n",
       "              'biased_acc': 0.7200550137534384,\n",
       "              'debiased_acc': 0.6820455113778444},\n",
       "             260: {'p_acc': 0.502750687671918,\n",
       "              'biased_diff_tpr': 0.4043010400370602,\n",
       "              'debiased_diff_tpr': 0.18813856463946912,\n",
       "              'biased_acc': 0.7200550137534384,\n",
       "              'debiased_acc': 0.6614153538384596},\n",
       "             280: {'p_acc': 0.49987496874218557,\n",
       "              'biased_diff_tpr': 0.4043010400370602,\n",
       "              'debiased_diff_tpr': 0.19263016753347223,\n",
       "              'biased_acc': 0.7200550137534384,\n",
       "              'debiased_acc': 0.6404101025256314},\n",
       "             290: {'p_acc': 0.49987496874218557,\n",
       "              'biased_diff_tpr': 0.4043010400370602,\n",
       "              'debiased_diff_tpr': 0.1721118417919755,\n",
       "              'biased_acc': 0.7200550137534384,\n",
       "              'debiased_acc': 0.6280320080020005},\n",
       "             295: {'p_acc': 0.49987496874218557,\n",
       "              'biased_diff_tpr': 0.4043010400370602,\n",
       "              'debiased_diff_tpr': 0.0834654770143427,\n",
       "              'biased_acc': 0.7200550137534384,\n",
       "              'debiased_acc': 0.5681420355088772}})"
      ]
     },
     "execution_count": 22,
     "metadata": {},
     "output_type": "execute_result"
    }
   ],
   "source": [
    "results = check_result(u, removel_range, x_train, x_dev, y_m_train, y_m_dev, y_p_train, y_p_dev)\n",
    "results"
   ]
  },
  {
   "cell_type": "code",
   "execution_count": 23,
   "metadata": {},
   "outputs": [
    {
     "data": {
      "text/plain": [
       "defaultdict(list,\n",
       "            {'biased_diff_tpr': [0.4043010400370602,\n",
       "              0.4043010400370602,\n",
       "              0.4043010400370602,\n",
       "              0.4043010400370602,\n",
       "              0.4043010400370602,\n",
       "              0.4043010400370602,\n",
       "              0.4043010400370602,\n",
       "              0.4043010400370602,\n",
       "              0.4043010400370602,\n",
       "              0.4043010400370602,\n",
       "              0.4043010400370602,\n",
       "              0.4043010400370602,\n",
       "              0.4043010400370602,\n",
       "              0.4043010400370602],\n",
       "             'debiased_diff_tpr': [0.40411721363762787,\n",
       "              0.3654118278211388,\n",
       "              0.18610177633438116,\n",
       "              0.184739631028025,\n",
       "              0.18506971632421484,\n",
       "              0.1867917631297146,\n",
       "              0.18737210776237648,\n",
       "              0.19752038343148395,\n",
       "              0.202949662154134,\n",
       "              0.20801803316486164,\n",
       "              0.18813856463946912,\n",
       "              0.19263016753347223,\n",
       "              0.1721118417919755,\n",
       "              0.0834654770143427],\n",
       "             'biased_acc': [0.7200550137534384,\n",
       "              0.7200550137534384,\n",
       "              0.7200550137534384,\n",
       "              0.7200550137534384,\n",
       "              0.7200550137534384,\n",
       "              0.7200550137534384,\n",
       "              0.7200550137534384,\n",
       "              0.7200550137534384,\n",
       "              0.7200550137534384,\n",
       "              0.7200550137534384,\n",
       "              0.7200550137534384,\n",
       "              0.7200550137534384,\n",
       "              0.7200550137534384,\n",
       "              0.7200550137534384],\n",
       "             'debiased_acc': [0.7201800450112528,\n",
       "              0.7148037009252313,\n",
       "              0.7191797949487372,\n",
       "              0.7193048262065517,\n",
       "              0.7191797949487372,\n",
       "              0.7181795448862216,\n",
       "              0.7146786696674169,\n",
       "              0.6956739184796199,\n",
       "              0.6937984496124031,\n",
       "              0.6820455113778444,\n",
       "              0.6614153538384596,\n",
       "              0.6404101025256314,\n",
       "              0.6280320080020005,\n",
       "              0.5681420355088772]})"
      ]
     },
     "execution_count": 23,
     "metadata": {},
     "output_type": "execute_result"
    }
   ],
   "source": [
    "plot_results = convert_to_plot_results(results, removel_range)\n",
    "plot_results"
   ]
  },
  {
   "cell_type": "code",
   "execution_count": 24,
   "metadata": {},
   "outputs": [
    {
     "data": {
      "image/png": "[encoded data removed]",
      "text/plain": [
       "<Figure size 432x288 with 2 Axes>"
      ]
     },
     "metadata": {
      "needs_background": "light"
     },
     "output_type": "display_data"
    }
   ],
   "source": [
    "data2plot(plot_results, removel_range)"
   ]
  },
  {
   "cell_type": "markdown",
   "metadata": {},
   "source": [
    "# Old"
   ]
  },
  {
   "cell_type": "code",
   "execution_count": 9,
   "metadata": {},
   "outputs": [],
   "source": [
    "removel_range = [0, 1, 2, 5, 30, 50, 100, 200, 220, 240, 260, 280, 290, 295]"
   ]
  },
  {
   "cell_type": "code",
   "execution_count": 10,
   "metadata": {},
   "outputs": [
    {
     "name": "stdout",
     "output_type": "stream",
     "text": [
      "u has shape (300, 300), s has shape (2,), vh has shape (2, 2)\n"
     ]
    }
   ],
   "source": [
    "ratio = 0.5\n",
    "\n",
    "x_train, y_p_train, y_m_train = load_data(\n",
    "    '../data/emoji_sent_race_{}/train/'.format(ratio),\n",
    "    size=100000, ratio=ratio)\n",
    "x_dev, y_p_dev, y_m_dev = load_data(\n",
    "    '../data/emoji_sent_race_{}/test/'.format(ratio),\n",
    "    size=100000, ratio=0.5)\n",
    "\n",
    "# y_p_train_2d = np.asarray([y_p_train, y_p_train*-1 +1]).T\n",
    "\n",
    "# A = np.dot(x_train.T, y_p_train_2d) / x_train.shape[0]\n",
    "# u, s, vh = np.linalg.svd(A, full_matrices=True)\n",
    "# print(f\"u has shape {u.shape}, s has shape {s.shape}, vh has shape {vh.shape}\")"
   ]
  },
  {
   "cell_type": "code",
   "execution_count": 11,
   "metadata": {},
   "outputs": [
    {
     "data": {
      "text/plain": [
       "defaultdict(dict,\n",
       "            {0: {'p_acc': 0.8714678669667417,\n",
       "              'biased_diff_tpr': 0.14560632483708713,\n",
       "              'debiased_diff_tpr': 0.14560632483708713,\n",
       "              'biased_acc': 0.7653163290822705,\n",
       "              'debiased_acc': 0.7653163290822705},\n",
       "             1: {'p_acc': 0.8630907726931732,\n",
       "              'biased_diff_tpr': 0.14560632483708713,\n",
       "              'debiased_diff_tpr': 0.1445020833238553,\n",
       "              'biased_acc': 0.7653163290822705,\n",
       "              'debiased_acc': 0.7653163290822705},\n",
       "             2: {'p_acc': 0.49699924981245314,\n",
       "              'biased_diff_tpr': 0.14560632483708713,\n",
       "              'debiased_diff_tpr': 0.11020173553336259,\n",
       "              'biased_acc': 0.7653163290822705,\n",
       "              'debiased_acc': 0.766816704176044},\n",
       "             5: {'p_acc': 0.4959989997499375,\n",
       "              'biased_diff_tpr': 0.14560632483708713,\n",
       "              'debiased_diff_tpr': 0.11007656356661116,\n",
       "              'biased_acc': 0.7653163290822705,\n",
       "              'debiased_acc': 0.7669417354338585},\n",
       "             30: {'p_acc': 0.4948737184296074,\n",
       "              'biased_diff_tpr': 0.14560632483708713,\n",
       "              'debiased_diff_tpr': 0.10621266898739956,\n",
       "              'biased_acc': 0.7653163290822705,\n",
       "              'debiased_acc': 0.7660665166291573},\n",
       "             50: {'p_acc': 0.4973743435858965,\n",
       "              'biased_diff_tpr': 0.14560632483708713,\n",
       "              'debiased_diff_tpr': 0.10841554967602068,\n",
       "              'biased_acc': 0.7653163290822705,\n",
       "              'debiased_acc': 0.766816704176044},\n",
       "             100: {'p_acc': 0.49637409352338085,\n",
       "              'biased_diff_tpr': 0.14560632483708713,\n",
       "              'debiased_diff_tpr': 0.10844931019709282,\n",
       "              'biased_acc': 0.7653163290822705,\n",
       "              'debiased_acc': 0.7664416104026006},\n",
       "             200: {'p_acc': 0.5248812203050762,\n",
       "              'biased_diff_tpr': 0.14560632483708713,\n",
       "              'debiased_diff_tpr': 0.1042793080915506,\n",
       "              'biased_acc': 0.7653163290822705,\n",
       "              'debiased_acc': 0.7656914228557139},\n",
       "             220: {'p_acc': 0.44711177794448614,\n",
       "              'biased_diff_tpr': 0.14560632483708713,\n",
       "              'debiased_diff_tpr': 0.09987399516901178,\n",
       "              'biased_acc': 0.7653163290822705,\n",
       "              'debiased_acc': 0.7661915478869717},\n",
       "             240: {'p_acc': 0.45023755938984744,\n",
       "              'biased_diff_tpr': 0.14560632483708713,\n",
       "              'debiased_diff_tpr': 0.1032924184615246,\n",
       "              'biased_acc': 0.7653163290822705,\n",
       "              'debiased_acc': 0.7656914228557139},\n",
       "             260: {'p_acc': 0.450112528132033,\n",
       "              'biased_diff_tpr': 0.14560632483708713,\n",
       "              'debiased_diff_tpr': 0.10346416206559751,\n",
       "              'biased_acc': 0.7653163290822705,\n",
       "              'debiased_acc': 0.7656914228557139},\n",
       "             280: {'p_acc': 0.4587396849212303,\n",
       "              'biased_diff_tpr': 0.14560632483708713,\n",
       "              'debiased_diff_tpr': 0.1043429019092808,\n",
       "              'biased_acc': 0.7653163290822705,\n",
       "              'debiased_acc': 0.7591897974493623},\n",
       "             290: {'p_acc': 0.5001250312578145,\n",
       "              'biased_diff_tpr': 0.14560632483708713,\n",
       "              'debiased_diff_tpr': 0.10178012864537783,\n",
       "              'biased_acc': 0.7653163290822705,\n",
       "              'debiased_acc': 0.7596899224806202},\n",
       "             295: {'p_acc': 0.49987496874218557,\n",
       "              'biased_diff_tpr': 0.14560632483708713,\n",
       "              'debiased_diff_tpr': 0.09851762574167189,\n",
       "              'biased_acc': 0.7653163290822705,\n",
       "              'debiased_acc': 0.7548137034258565}})"
      ]
     },
     "execution_count": 11,
     "metadata": {},
     "output_type": "execute_result"
    }
   ],
   "source": [
    "results = check_result(u, removel_range, x_train, x_dev, y_m_train, y_m_dev, y_p_train, y_p_dev)\n",
    "results"
   ]
  },
  {
   "cell_type": "code",
   "execution_count": 14,
   "metadata": {},
   "outputs": [
    {
     "data": {
      "text/plain": [
       "defaultdict(list,\n",
       "            {'biased_diff_tpr': [0.14560632483708713,\n",
       "              0.14560632483708713,\n",
       "              0.14560632483708713,\n",
       "              0.14560632483708713,\n",
       "              0.14560632483708713,\n",
       "              0.14560632483708713,\n",
       "              0.14560632483708713,\n",
       "              0.14560632483708713,\n",
       "              0.14560632483708713,\n",
       "              0.14560632483708713,\n",
       "              0.14560632483708713,\n",
       "              0.14560632483708713,\n",
       "              0.14560632483708713,\n",
       "              0.14560632483708713],\n",
       "             'debiased_diff_tpr': [0.14560632483708713,\n",
       "              0.1445020833238553,\n",
       "              0.11020173553336259,\n",
       "              0.11007656356661116,\n",
       "              0.10621266898739956,\n",
       "              0.10841554967602068,\n",
       "              0.10844931019709282,\n",
       "              0.1042793080915506,\n",
       "              0.09987399516901178,\n",
       "              0.1032924184615246,\n",
       "              0.10346416206559751,\n",
       "              0.1043429019092808,\n",
       "              0.10178012864537783,\n",
       "              0.09851762574167189],\n",
       "             'biased_acc': [0.7653163290822705,\n",
       "              0.7653163290822705,\n",
       "              0.7653163290822705,\n",
       "              0.7653163290822705,\n",
       "              0.7653163290822705,\n",
       "              0.7653163290822705,\n",
       "              0.7653163290822705,\n",
       "              0.7653163290822705,\n",
       "              0.7653163290822705,\n",
       "              0.7653163290822705,\n",
       "              0.7653163290822705,\n",
       "              0.7653163290822705,\n",
       "              0.7653163290822705,\n",
       "              0.7653163290822705],\n",
       "             'debiased_acc': [0.7653163290822705,\n",
       "              0.7653163290822705,\n",
       "              0.766816704176044,\n",
       "              0.7669417354338585,\n",
       "              0.7660665166291573,\n",
       "              0.766816704176044,\n",
       "              0.7664416104026006,\n",
       "              0.7656914228557139,\n",
       "              0.7661915478869717,\n",
       "              0.7656914228557139,\n",
       "              0.7656914228557139,\n",
       "              0.7591897974493623,\n",
       "              0.7596899224806202,\n",
       "              0.7548137034258565]})"
      ]
     },
     "execution_count": 14,
     "metadata": {},
     "output_type": "execute_result"
    }
   ],
   "source": [
    "plot_results = convert_to_plot_results(results, removel_range)\n",
    "plot_results"
   ]
  },
  {
   "cell_type": "code",
   "execution_count": 15,
   "metadata": {},
   "outputs": [
    {
     "data": {
      "image/png": "[encoded data removed]",
      "text/plain": [
       "<Figure size 432x288 with 2 Axes>"
      ]
     },
     "metadata": {},
     "output_type": "display_data"
    }
   ],
   "source": [
    "data2plot(plot_results, removel_range)"
   ]
  },
  {
   "cell_type": "code",
   "execution_count": null,
   "metadata": {},
   "outputs": [],
   "source": []
  },
  {
   "cell_type": "code",
   "execution_count": 16,
   "metadata": {},
   "outputs": [
    {
     "name": "stdout",
     "output_type": "stream",
     "text": [
      "u has shape (300, 300), s has shape (2,), vh has shape (2, 2)\n"
     ]
    }
   ],
   "source": [
    "ratio = 0.6\n",
    "\n",
    "x_train, y_p_train, y_m_train = load_data(\n",
    "    '../data/emoji_sent_race_{}/train/'.format(ratio),\n",
    "    size=100000, ratio=ratio)\n",
    "x_dev, y_p_dev, y_m_dev = load_data(\n",
    "    '../data/emoji_sent_race_{}/test/'.format(ratio),\n",
    "    size=100000, ratio=0.5)\n",
    "\n",
    "y_p_train_2d = np.asarray([y_p_train, y_p_train*-1 +1]).T\n",
    "\n",
    "A = np.dot(x_train.T, y_p_train_2d) / x_train.shape[0]\n",
    "u, s, vh = np.linalg.svd(A, full_matrices=True)\n",
    "print(f\"u has shape {u.shape}, s has shape {s.shape}, vh has shape {vh.shape}\")"
   ]
  },
  {
   "cell_type": "code",
   "execution_count": 17,
   "metadata": {},
   "outputs": [
    {
     "data": {
      "text/plain": [
       "defaultdict(dict,\n",
       "            {0: {'p_acc': 0.840960240060015,\n",
       "              'biased_diff_tpr': 0.22630502371727185,\n",
       "              'debiased_diff_tpr': 0.22630502371727185,\n",
       "              'biased_acc': 0.7531882970742686,\n",
       "              'debiased_acc': 0.7531882970742686},\n",
       "             1: {'p_acc': 0.8508377094273568,\n",
       "              'biased_diff_tpr': 0.22630502371727185,\n",
       "              'debiased_diff_tpr': 0.22803630357189353,\n",
       "              'biased_acc': 0.7531882970742686,\n",
       "              'debiased_acc': 0.7530632658164541},\n",
       "             2: {'p_acc': 0.4711177794448612,\n",
       "              'biased_diff_tpr': 0.22630502371727185,\n",
       "              'debiased_diff_tpr': 0.08988024196274066,\n",
       "              'biased_acc': 0.7531882970742686,\n",
       "              'debiased_acc': 0.7531882970742686},\n",
       "             5: {'p_acc': 0.4708677169292323,\n",
       "              'biased_diff_tpr': 0.22630502371727185,\n",
       "              'debiased_diff_tpr': 0.09037932830110916,\n",
       "              'biased_acc': 0.7531882970742686,\n",
       "              'debiased_acc': 0.7526881720430108},\n",
       "             30: {'p_acc': 0.4723680920230057,\n",
       "              'biased_diff_tpr': 0.22630502371727185,\n",
       "              'debiased_diff_tpr': 0.09126866357639556,\n",
       "              'biased_acc': 0.7531882970742686,\n",
       "              'debiased_acc': 0.7530632658164541},\n",
       "             50: {'p_acc': 0.5066266566641661,\n",
       "              'biased_diff_tpr': 0.22630502371727185,\n",
       "              'debiased_diff_tpr': 0.09258461867418033,\n",
       "              'biased_acc': 0.7531882970742686,\n",
       "              'debiased_acc': 0.7511877969492373},\n",
       "             100: {'p_acc': 0.5031257814453614,\n",
       "              'biased_diff_tpr': 0.22630502371727185,\n",
       "              'debiased_diff_tpr': 0.09496617559255267,\n",
       "              'biased_acc': 0.7531882970742686,\n",
       "              'debiased_acc': 0.7484371092773193},\n",
       "             200: {'p_acc': 0.5007501875468867,\n",
       "              'biased_diff_tpr': 0.22630502371727185,\n",
       "              'debiased_diff_tpr': 0.10150799279833236,\n",
       "              'biased_acc': 0.7531882970742686,\n",
       "              'debiased_acc': 0.7403100775193798},\n",
       "             220: {'p_acc': 0.5002500625156289,\n",
       "              'biased_diff_tpr': 0.22630502371727185,\n",
       "              'debiased_diff_tpr': 0.10921997885015855,\n",
       "              'biased_acc': 0.7531882970742686,\n",
       "              'debiased_acc': 0.7353088272068017},\n",
       "             240: {'p_acc': 0.5001250312578145,\n",
       "              'biased_diff_tpr': 0.22630502371727185,\n",
       "              'debiased_diff_tpr': 0.10635797301822242,\n",
       "              'biased_acc': 0.7531882970742686,\n",
       "              'debiased_acc': 0.733183295823956},\n",
       "             260: {'p_acc': 0.5002500625156289,\n",
       "              'biased_diff_tpr': 0.22630502371727185,\n",
       "              'debiased_diff_tpr': 0.10776873695187088,\n",
       "              'biased_acc': 0.7531882970742686,\n",
       "              'debiased_acc': 0.729307326831708},\n",
       "             280: {'p_acc': 0.4981245311327832,\n",
       "              'biased_diff_tpr': 0.22630502371727185,\n",
       "              'debiased_diff_tpr': 0.11257271707339944,\n",
       "              'biased_acc': 0.7531882970742686,\n",
       "              'debiased_acc': 0.7215553888472118},\n",
       "             290: {'p_acc': 0.5036259064766192,\n",
       "              'biased_diff_tpr': 0.22630502371727185,\n",
       "              'debiased_diff_tpr': 0.1257355117153975,\n",
       "              'biased_acc': 0.7531882970742686,\n",
       "              'debiased_acc': 0.7189297324331083},\n",
       "             295: {'p_acc': 0.49987496874218557,\n",
       "              'biased_diff_tpr': 0.22630502371727185,\n",
       "              'debiased_diff_tpr': 0.11164602462363725,\n",
       "              'biased_acc': 0.7531882970742686,\n",
       "              'debiased_acc': 0.6765441360340085}})"
      ]
     },
     "execution_count": 17,
     "metadata": {},
     "output_type": "execute_result"
    }
   ],
   "source": [
    "results = check_result(u, removel_range, x_train, x_dev, y_m_train, y_m_dev, y_p_train, y_p_dev)\n",
    "results"
   ]
  },
  {
   "cell_type": "code",
   "execution_count": 18,
   "metadata": {},
   "outputs": [
    {
     "data": {
      "text/plain": [
       "defaultdict(list,\n",
       "            {'biased_diff_tpr': [0.22630502371727185,\n",
       "              0.22630502371727185,\n",
       "              0.22630502371727185,\n",
       "              0.22630502371727185,\n",
       "              0.22630502371727185,\n",
       "              0.22630502371727185,\n",
       "              0.22630502371727185,\n",
       "              0.22630502371727185,\n",
       "              0.22630502371727185,\n",
       "              0.22630502371727185,\n",
       "              0.22630502371727185,\n",
       "              0.22630502371727185,\n",
       "              0.22630502371727185,\n",
       "              0.22630502371727185],\n",
       "             'debiased_diff_tpr': [0.22630502371727185,\n",
       "              0.22803630357189353,\n",
       "              0.08988024196274066,\n",
       "              0.09037932830110916,\n",
       "              0.09126866357639556,\n",
       "              0.09258461867418033,\n",
       "              0.09496617559255267,\n",
       "              0.10150799279833236,\n",
       "              0.10921997885015855,\n",
       "              0.10635797301822242,\n",
       "              0.10776873695187088,\n",
       "              0.11257271707339944,\n",
       "              0.1257355117153975,\n",
       "              0.11164602462363725],\n",
       "             'biased_acc': [0.7531882970742686,\n",
       "              0.7531882970742686,\n",
       "              0.7531882970742686,\n",
       "              0.7531882970742686,\n",
       "              0.7531882970742686,\n",
       "              0.7531882970742686,\n",
       "              0.7531882970742686,\n",
       "              0.7531882970742686,\n",
       "              0.7531882970742686,\n",
       "              0.7531882970742686,\n",
       "              0.7531882970742686,\n",
       "              0.7531882970742686,\n",
       "              0.7531882970742686,\n",
       "              0.7531882970742686],\n",
       "             'debiased_acc': [0.7531882970742686,\n",
       "              0.7530632658164541,\n",
       "              0.7531882970742686,\n",
       "              0.7526881720430108,\n",
       "              0.7530632658164541,\n",
       "              0.7511877969492373,\n",
       "              0.7484371092773193,\n",
       "              0.7403100775193798,\n",
       "              0.7353088272068017,\n",
       "              0.733183295823956,\n",
       "              0.729307326831708,\n",
       "              0.7215553888472118,\n",
       "              0.7189297324331083,\n",
       "              0.6765441360340085]})"
      ]
     },
     "execution_count": 18,
     "metadata": {},
     "output_type": "execute_result"
    }
   ],
   "source": [
    "plot_results = convert_to_plot_results(results, removel_range)\n",
    "plot_results"
   ]
  },
  {
   "cell_type": "code",
   "execution_count": 19,
   "metadata": {},
   "outputs": [
    {
     "data": {
      "image/png": "[encoded data removed]",
      "text/plain": [
       "<Figure size 432x288 with 2 Axes>"
      ]
     },
     "metadata": {},
     "output_type": "display_data"
    }
   ],
   "source": [
    "data2plot(plot_results, removel_range)"
   ]
  },
  {
   "cell_type": "code",
   "execution_count": null,
   "metadata": {},
   "outputs": [],
   "source": []
  },
  {
   "cell_type": "code",
   "execution_count": 20,
   "metadata": {},
   "outputs": [
    {
     "name": "stdout",
     "output_type": "stream",
     "text": [
      "u has shape (300, 300), s has shape (2,), vh has shape (2, 2)\n"
     ]
    }
   ],
   "source": [
    "ratio = 0.7\n",
    "\n",
    "x_train, y_p_train, y_m_train = load_data(\n",
    "    '../data/emoji_sent_race_{}/train/'.format(ratio),\n",
    "    size=100000, ratio=ratio)\n",
    "x_dev, y_p_dev, y_m_dev = load_data(\n",
    "    '../data/emoji_sent_race_{}/test/'.format(ratio),\n",
    "    size=100000, ratio=0.5)\n",
    "\n",
    "y_p_train_2d = np.asarray([y_p_train, y_p_train*-1 +1]).T\n",
    "\n",
    "A = np.dot(x_train.T, y_p_train_2d) / x_train.shape[0]\n",
    "u, s, vh = np.linalg.svd(A, full_matrices=True)\n",
    "print(f\"u has shape {u.shape}, s has shape {s.shape}, vh has shape {vh.shape}\")"
   ]
  },
  {
   "cell_type": "code",
   "execution_count": 21,
   "metadata": {},
   "outputs": [
    {
     "data": {
      "text/plain": [
       "defaultdict(dict,\n",
       "            {0: {'p_acc': 0.8199549887471868,\n",
       "              'biased_diff_tpr': 0.31864557675474753,\n",
       "              'debiased_diff_tpr': 0.31864557675474753,\n",
       "              'biased_acc': 0.741185296324081,\n",
       "              'debiased_acc': 0.741185296324081},\n",
       "             1: {'p_acc': 0.8438359589897474,\n",
       "              'biased_diff_tpr': 0.31864557675474753,\n",
       "              'debiased_diff_tpr': 0.31575482093361984,\n",
       "              'biased_acc': 0.741185296324081,\n",
       "              'debiased_acc': 0.7346836709177295},\n",
       "             2: {'p_acc': 0.463615903975994,\n",
       "              'biased_diff_tpr': 0.31864557675474753,\n",
       "              'debiased_diff_tpr': 0.11635856368415173,\n",
       "              'biased_acc': 0.741185296324081,\n",
       "              'debiased_acc': 0.7363090772693174},\n",
       "             5: {'p_acc': 0.46399099774943736,\n",
       "              'biased_diff_tpr': 0.31864557675474753,\n",
       "              'debiased_diff_tpr': 0.11674792676509015,\n",
       "              'biased_acc': 0.741185296324081,\n",
       "              'debiased_acc': 0.734558639659915},\n",
       "             30: {'p_acc': 0.5030007501875469,\n",
       "              'biased_diff_tpr': 0.31864557675474753,\n",
       "              'debiased_diff_tpr': 0.12023899899338386,\n",
       "              'biased_acc': 0.741185296324081,\n",
       "              'debiased_acc': 0.7366841710427607},\n",
       "             50: {'p_acc': 0.5018754688672168,\n",
       "              'biased_diff_tpr': 0.31864557675474753,\n",
       "              'debiased_diff_tpr': 0.12100513006482054,\n",
       "              'biased_acc': 0.741185296324081,\n",
       "              'debiased_acc': 0.7349337334333583},\n",
       "             100: {'p_acc': 0.4981245311327832,\n",
       "              'biased_diff_tpr': 0.31864557675474753,\n",
       "              'debiased_diff_tpr': 0.12715509044451567,\n",
       "              'biased_acc': 0.741185296324081,\n",
       "              'debiased_acc': 0.7334333583395849},\n",
       "             200: {'p_acc': 0.47999499874968743,\n",
       "              'biased_diff_tpr': 0.31864557675474753,\n",
       "              'debiased_diff_tpr': 0.15675297512285796,\n",
       "              'biased_acc': 0.741185296324081,\n",
       "              'debiased_acc': 0.7150537634408602},\n",
       "             220: {'p_acc': 0.4673668417104276,\n",
       "              'biased_diff_tpr': 0.31864557675474753,\n",
       "              'debiased_diff_tpr': 0.1525863232511454,\n",
       "              'biased_acc': 0.741185296324081,\n",
       "              'debiased_acc': 0.7150537634408602},\n",
       "             240: {'p_acc': 0.5385096274068517,\n",
       "              'biased_diff_tpr': 0.31864557675474753,\n",
       "              'debiased_diff_tpr': 0.15004721659847078,\n",
       "              'biased_acc': 0.741185296324081,\n",
       "              'debiased_acc': 0.7125531382845711},\n",
       "             260: {'p_acc': 0.5482620655163791,\n",
       "              'biased_diff_tpr': 0.31864557675474753,\n",
       "              'debiased_diff_tpr': 0.1537984908912681,\n",
       "              'biased_acc': 0.741185296324081,\n",
       "              'debiased_acc': 0.7040510127531883},\n",
       "             280: {'p_acc': 0.5118779694923731,\n",
       "              'biased_diff_tpr': 0.31864557675474753,\n",
       "              'debiased_diff_tpr': 0.15392966588017956,\n",
       "              'biased_acc': 0.741185296324081,\n",
       "              'debiased_acc': 0.6950487621905477},\n",
       "             290: {'p_acc': 0.5113778444611152,\n",
       "              'biased_diff_tpr': 0.31864557675474753,\n",
       "              'debiased_diff_tpr': 0.1504312844224986,\n",
       "              'biased_acc': 0.741185296324081,\n",
       "              'debiased_acc': 0.691297824456114},\n",
       "             295: {'p_acc': 0.49987496874218557,\n",
       "              'biased_diff_tpr': 0.31864557675474753,\n",
       "              'debiased_diff_tpr': 0.1759445240878502,\n",
       "              'biased_acc': 0.741185296324081,\n",
       "              'debiased_acc': 0.661790447611903}})"
      ]
     },
     "execution_count": 21,
     "metadata": {},
     "output_type": "execute_result"
    }
   ],
   "source": [
    "results = check_result(u, removel_range, x_train, x_dev, y_m_train, y_m_dev, y_p_train, y_p_dev)\n",
    "results"
   ]
  },
  {
   "cell_type": "code",
   "execution_count": 22,
   "metadata": {},
   "outputs": [
    {
     "data": {
      "text/plain": [
       "defaultdict(list,\n",
       "            {'biased_diff_tpr': [0.31864557675474753,\n",
       "              0.31864557675474753,\n",
       "              0.31864557675474753,\n",
       "              0.31864557675474753,\n",
       "              0.31864557675474753,\n",
       "              0.31864557675474753,\n",
       "              0.31864557675474753,\n",
       "              0.31864557675474753,\n",
       "              0.31864557675474753,\n",
       "              0.31864557675474753,\n",
       "              0.31864557675474753,\n",
       "              0.31864557675474753,\n",
       "              0.31864557675474753,\n",
       "              0.31864557675474753],\n",
       "             'debiased_diff_tpr': [0.31864557675474753,\n",
       "              0.31575482093361984,\n",
       "              0.11635856368415173,\n",
       "              0.11674792676509015,\n",
       "              0.12023899899338386,\n",
       "              0.12100513006482054,\n",
       "              0.12715509044451567,\n",
       "              0.15675297512285796,\n",
       "              0.1525863232511454,\n",
       "              0.15004721659847078,\n",
       "              0.1537984908912681,\n",
       "              0.15392966588017956,\n",
       "              0.1504312844224986,\n",
       "              0.1759445240878502],\n",
       "             'biased_acc': [0.741185296324081,\n",
       "              0.741185296324081,\n",
       "              0.741185296324081,\n",
       "              0.741185296324081,\n",
       "              0.741185296324081,\n",
       "              0.741185296324081,\n",
       "              0.741185296324081,\n",
       "              0.741185296324081,\n",
       "              0.741185296324081,\n",
       "              0.741185296324081,\n",
       "              0.741185296324081,\n",
       "              0.741185296324081,\n",
       "              0.741185296324081,\n",
       "              0.741185296324081],\n",
       "             'debiased_acc': [0.741185296324081,\n",
       "              0.7346836709177295,\n",
       "              0.7363090772693174,\n",
       "              0.734558639659915,\n",
       "              0.7366841710427607,\n",
       "              0.7349337334333583,\n",
       "              0.7334333583395849,\n",
       "              0.7150537634408602,\n",
       "              0.7150537634408602,\n",
       "              0.7125531382845711,\n",
       "              0.7040510127531883,\n",
       "              0.6950487621905477,\n",
       "              0.691297824456114,\n",
       "              0.661790447611903]})"
      ]
     },
     "execution_count": 22,
     "metadata": {},
     "output_type": "execute_result"
    }
   ],
   "source": [
    "plot_results = convert_to_plot_results(results, removel_range)\n",
    "plot_results"
   ]
  },
  {
   "cell_type": "code",
   "execution_count": 23,
   "metadata": {},
   "outputs": [
    {
     "data": {
      "image/png": "[encoded data removed]",
      "text/plain": [
       "<Figure size 432x288 with 2 Axes>"
      ]
     },
     "metadata": {},
     "output_type": "display_data"
    }
   ],
   "source": [
    "data2plot(plot_results, removel_range)"
   ]
  },
  {
   "cell_type": "code",
   "execution_count": null,
   "metadata": {},
   "outputs": [],
   "source": []
  },
  {
   "cell_type": "code",
   "execution_count": null,
   "metadata": {},
   "outputs": [],
   "source": []
  },
  {
   "cell_type": "code",
   "execution_count": 24,
   "metadata": {},
   "outputs": [
    {
     "name": "stdout",
     "output_type": "stream",
     "text": [
      "u has shape (300, 300), s has shape (2,), vh has shape (2, 2)\n"
     ]
    }
   ],
   "source": [
    "ratio = 0.8\n",
    "\n",
    "x_train, y_p_train, y_m_train = load_data(\n",
    "    '../data/emoji_sent_race_{}/train/'.format(ratio),\n",
    "    size=100000, ratio=ratio)\n",
    "x_dev, y_p_dev, y_m_dev = load_data(\n",
    "    '../data/emoji_sent_race_{}/test/'.format(ratio),\n",
    "    size=100000, ratio=0.5)\n",
    "\n",
    "y_p_train_2d = np.asarray([y_p_train, y_p_train*-1 +1]).T\n",
    "\n",
    "A = np.dot(x_train.T, y_p_train_2d) / x_train.shape[0]\n",
    "u, s, vh = np.linalg.svd(A, full_matrices=True)\n",
    "print(f\"u has shape {u.shape}, s has shape {s.shape}, vh has shape {vh.shape}\")"
   ]
  },
  {
   "cell_type": "code",
   "execution_count": 25,
   "metadata": {},
   "outputs": [
    {
     "data": {
      "text/plain": [
       "defaultdict(dict,\n",
       "            {0: {'p_acc': 0.8379594898724682,\n",
       "              'biased_diff_tpr': 0.4043010400370602,\n",
       "              'debiased_diff_tpr': 0.40411721363762787,\n",
       "              'biased_acc': 0.7200550137534384,\n",
       "              'debiased_acc': 0.7201800450112528},\n",
       "             1: {'p_acc': 0.7973243310827707,\n",
       "              'biased_diff_tpr': 0.4043010400370602,\n",
       "              'debiased_diff_tpr': 0.3654118278211388,\n",
       "              'biased_acc': 0.7200550137534384,\n",
       "              'debiased_acc': 0.7148037009252313},\n",
       "             2: {'p_acc': 0.47186796699174793,\n",
       "              'biased_diff_tpr': 0.4043010400370602,\n",
       "              'debiased_diff_tpr': 0.18610177633438116,\n",
       "              'biased_acc': 0.7200550137534384,\n",
       "              'debiased_acc': 0.7191797949487372},\n",
       "             5: {'p_acc': 0.47199299824956237,\n",
       "              'biased_diff_tpr': 0.4043010400370602,\n",
       "              'debiased_diff_tpr': 0.184739631028025,\n",
       "              'biased_acc': 0.7200550137534384,\n",
       "              'debiased_acc': 0.7193048262065517},\n",
       "             30: {'p_acc': 0.4668667166791698,\n",
       "              'biased_diff_tpr': 0.4043010400370602,\n",
       "              'debiased_diff_tpr': 0.18506971632421484,\n",
       "              'biased_acc': 0.7200550137534384,\n",
       "              'debiased_acc': 0.7191797949487372},\n",
       "             50: {'p_acc': 0.46524131032758187,\n",
       "              'biased_diff_tpr': 0.4043010400370602,\n",
       "              'debiased_diff_tpr': 0.1867917631297146,\n",
       "              'biased_acc': 0.7200550137534384,\n",
       "              'debiased_acc': 0.7181795448862216},\n",
       "             100: {'p_acc': 0.4736184046011503,\n",
       "              'biased_diff_tpr': 0.4043010400370602,\n",
       "              'debiased_diff_tpr': 0.18737210776237648,\n",
       "              'biased_acc': 0.7200550137534384,\n",
       "              'debiased_acc': 0.7146786696674169},\n",
       "             200: {'p_acc': 0.5230057514378594,\n",
       "              'biased_diff_tpr': 0.4043010400370602,\n",
       "              'debiased_diff_tpr': 0.19752038343148395,\n",
       "              'biased_acc': 0.7200550137534384,\n",
       "              'debiased_acc': 0.6956739184796199},\n",
       "             220: {'p_acc': 0.5100025006251563,\n",
       "              'biased_diff_tpr': 0.4043010400370602,\n",
       "              'debiased_diff_tpr': 0.202949662154134,\n",
       "              'biased_acc': 0.7200550137534384,\n",
       "              'debiased_acc': 0.6937984496124031},\n",
       "             240: {'p_acc': 0.5075018754688673,\n",
       "              'biased_diff_tpr': 0.4043010400370602,\n",
       "              'debiased_diff_tpr': 0.20801803316486164,\n",
       "              'biased_acc': 0.7200550137534384,\n",
       "              'debiased_acc': 0.6820455113778444},\n",
       "             260: {'p_acc': 0.502750687671918,\n",
       "              'biased_diff_tpr': 0.4043010400370602,\n",
       "              'debiased_diff_tpr': 0.18813856463946912,\n",
       "              'biased_acc': 0.7200550137534384,\n",
       "              'debiased_acc': 0.6614153538384596},\n",
       "             280: {'p_acc': 0.49987496874218557,\n",
       "              'biased_diff_tpr': 0.4043010400370602,\n",
       "              'debiased_diff_tpr': 0.19263016753347223,\n",
       "              'biased_acc': 0.7200550137534384,\n",
       "              'debiased_acc': 0.6404101025256314},\n",
       "             290: {'p_acc': 0.49987496874218557,\n",
       "              'biased_diff_tpr': 0.4043010400370602,\n",
       "              'debiased_diff_tpr': 0.1721118417919755,\n",
       "              'biased_acc': 0.7200550137534384,\n",
       "              'debiased_acc': 0.6280320080020005},\n",
       "             295: {'p_acc': 0.49987496874218557,\n",
       "              'biased_diff_tpr': 0.4043010400370602,\n",
       "              'debiased_diff_tpr': 0.0834654770143427,\n",
       "              'biased_acc': 0.7200550137534384,\n",
       "              'debiased_acc': 0.5681420355088772}})"
      ]
     },
     "execution_count": 25,
     "metadata": {},
     "output_type": "execute_result"
    }
   ],
   "source": [
    "results = check_result(u, removel_range, x_train, x_dev, y_m_train, y_m_dev, y_p_train, y_p_dev)\n",
    "results"
   ]
  },
  {
   "cell_type": "code",
   "execution_count": 26,
   "metadata": {},
   "outputs": [
    {
     "data": {
      "text/plain": [
       "defaultdict(list,\n",
       "            {'biased_diff_tpr': [0.4043010400370602,\n",
       "              0.4043010400370602,\n",
       "              0.4043010400370602,\n",
       "              0.4043010400370602,\n",
       "              0.4043010400370602,\n",
       "              0.4043010400370602,\n",
       "              0.4043010400370602,\n",
       "              0.4043010400370602,\n",
       "              0.4043010400370602,\n",
       "              0.4043010400370602,\n",
       "              0.4043010400370602,\n",
       "              0.4043010400370602,\n",
       "              0.4043010400370602,\n",
       "              0.4043010400370602],\n",
       "             'debiased_diff_tpr': [0.40411721363762787,\n",
       "              0.3654118278211388,\n",
       "              0.18610177633438116,\n",
       "              0.184739631028025,\n",
       "              0.18506971632421484,\n",
       "              0.1867917631297146,\n",
       "              0.18737210776237648,\n",
       "              0.19752038343148395,\n",
       "              0.202949662154134,\n",
       "              0.20801803316486164,\n",
       "              0.18813856463946912,\n",
       "              0.19263016753347223,\n",
       "              0.1721118417919755,\n",
       "              0.0834654770143427],\n",
       "             'biased_acc': [0.7200550137534384,\n",
       "              0.7200550137534384,\n",
       "              0.7200550137534384,\n",
       "              0.7200550137534384,\n",
       "              0.7200550137534384,\n",
       "              0.7200550137534384,\n",
       "              0.7200550137534384,\n",
       "              0.7200550137534384,\n",
       "              0.7200550137534384,\n",
       "              0.7200550137534384,\n",
       "              0.7200550137534384,\n",
       "              0.7200550137534384,\n",
       "              0.7200550137534384,\n",
       "              0.7200550137534384],\n",
       "             'debiased_acc': [0.7201800450112528,\n",
       "              0.7148037009252313,\n",
       "              0.7191797949487372,\n",
       "              0.7193048262065517,\n",
       "              0.7191797949487372,\n",
       "              0.7181795448862216,\n",
       "              0.7146786696674169,\n",
       "              0.6956739184796199,\n",
       "              0.6937984496124031,\n",
       "              0.6820455113778444,\n",
       "              0.6614153538384596,\n",
       "              0.6404101025256314,\n",
       "              0.6280320080020005,\n",
       "              0.5681420355088772]})"
      ]
     },
     "execution_count": 26,
     "metadata": {},
     "output_type": "execute_result"
    }
   ],
   "source": [
    "plot_results = convert_to_plot_results(results, removel_range)\n",
    "plot_results"
   ]
  },
  {
   "cell_type": "code",
   "execution_count": 27,
   "metadata": {},
   "outputs": [
    {
     "data": {
      "image/png": "[encoded data removed]",
      "text/plain": [
       "<Figure size 432x288 with 2 Axes>"
      ]
     },
     "metadata": {},
     "output_type": "display_data"
    }
   ],
   "source": [
    "data2plot(plot_results, removel_range)"
   ]
  },
  {
   "cell_type": "code",
   "execution_count": null,
   "metadata": {},
   "outputs": [],
   "source": []
  }
 ],
 "metadata": {
  "kernelspec": {
   "display_name": "Python 3 (ipykernel)",
   "language": "python",
   "name": "python3"
  },
  "language_info": {
   "codemirror_mode": {
    "name": "ipython",
    "version": 3
   },
   "file_extension": ".py",
   "mimetype": "text/x-python",
   "name": "python",
   "nbconvert_exporter": "python",
   "pygments_lexer": "ipython3",
   "version": "3.7.11"
  }
 },
 "nbformat": 4,
 "nbformat_minor": 4
}
