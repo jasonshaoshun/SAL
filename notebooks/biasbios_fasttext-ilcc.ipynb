{
 "cells": [
  {
   "cell_type": "code",
   "execution_count": 1,
   "metadata": {},
   "outputs": [],
   "source": [
    "%load_ext autoreload\n",
    "%autoreload 2\n",
    "import sys\n",
    "sys.path.append(\"../src\")\n",
    "sys.path.append(\"../data/embeddings\")\n",
    "sys.path.append(\"../data/biasbios\")\n",
    "sys.path.append(\"../data/embeddings/biasbios\")\n",
    "import classifier\n",
    "import debias\n",
    "import gensim\n",
    "import codecs\n",
    "import json\n",
    "from gensim.models.keyedvectors import Word2VecKeyedVectors\n",
    "from gensim.models import KeyedVectors\n",
    "import numpy as np\n",
    "import random\n",
    "import sklearn\n",
    "from sklearn import model_selection\n",
    "from sklearn import cluster\n",
    "from sklearn import metrics\n",
    "from sklearn.manifold import TSNE\n",
    "from sklearn.svm import LinearSVC, SVC\n",
    "from sklearn.neural_network import MLPClassifier\n",
    "from sklearn.metrics.pairwise import cosine_similarity\n",
    "from sklearn.feature_extraction import DictVectorizer\n",
    "from pytorch_transformers import BertTokenizer, BertModel, BertForMaskedLM\n",
    "\n",
    "import scipy\n",
    "from scipy import linalg\n",
    "from scipy import sparse\n",
    "from scipy.stats.stats import pearsonr\n",
    "import tqdm\n",
    "import matplotlib\n",
    "import matplotlib.pyplot as plt\n",
    "from sklearn.linear_model import SGDClassifier, SGDRegressor, Perceptron, LogisticRegression\n",
    "from sklearn.utils import shuffle\n",
    "\n",
    "%matplotlib inline\n",
    "matplotlib.rcParams['agg.path.chunksize'] = 10000\n",
    "\n",
    "import warnings\n",
    "warnings.filterwarnings(\"ignore\")\n",
    "\n",
    "import pickle\n",
    "from collections import defaultdict, Counter\n",
    "from typing import List, Dict\n",
    "\n",
    "import torch\n",
    "from torch import utils\n",
    "\n",
    "# import pytorch_lightning as pl\n",
    "# from pytorch_lightning import Trainer\n",
    "import copy\n",
    "import pandas as pd\n",
    "from gensim.models import FastText\n",
    "import time\n",
    "from gensim.scripts.glove2word2vec import glove2word2vec\n",
    "\n",
    "STOPWORDS = set([\"i\", \"me\", \"my\", \"myself\", \"we\", \"our\", \"ours\", \"ourselves\", \"you\", \"your\", \"yours\", \"yourself\", \"yourselves\", \"he\", \"him\", \"his\", \"himself\", \"she\", \"her\", \"hers\", \"herself\", \"it\", \"its\", \"itself\", \"they\", \"them\", \"their\", \"theirs\", \"themselves\", \"what\", \"which\", \"who\", \"whom\", \"this\", \"that\", \"these\", \"those\", \"am\", \"is\", \"are\", \"was\", \"were\", \"be\", \"been\", \"being\", \"have\", \"has\", \"had\", \"having\", \"do\", \"does\", \"did\", \"doing\", \"a\", \"an\", \"the\", \"and\", \"but\", \"if\", \"or\", \"because\", \"as\", \"until\", \"while\", \"of\", \"at\", \"by\", \"for\", \"with\", \"about\", \"against\", \"between\", \"into\", \"through\", \"during\", \"before\", \"after\", \"above\", \"below\", \"to\", \"from\", \"up\", \"down\", \"in\", \"out\", \"on\", \"off\", \"over\", \"under\", \"again\", \"further\", \"then\", \"once\", \"here\", \"there\", \"when\", \"where\", \"why\", \"how\", \"all\", \"any\", \"both\", \"each\", \"few\", \"more\", \"most\", \"other\", \"some\", \"such\", \"no\", \"nor\", \"not\", \"only\", \"own\", \"same\", \"so\", \"than\", \"too\", \"very\", \"s\", \"t\", \"can\", \"will\", \"just\", \"don\", \"should\", \"now\"])"
   ]
  },
  {
   "cell_type": "code",
   "execution_count": 2,
   "metadata": {},
   "outputs": [],
   "source": [
    "\n",
    "\n",
    "def load_dataset(path):\n",
    "    \n",
    "    with open(path, \"rb\") as f:\n",
    "        \n",
    "        data = pickle.load(f)\n",
    "    return data\n",
    "\n",
    "def load_dictionary(path):\n",
    "    \n",
    "    with open(path, \"r\", encoding = \"utf-8\") as f:\n",
    "        \n",
    "        lines = f.readlines()\n",
    "        \n",
    "    k2v, v2k = {}, {}\n",
    "    for line in lines:\n",
    "        \n",
    "        k,v = line.strip().split(\"\\t\")\n",
    "        v = int(v)\n",
    "        k2v[k] = v\n",
    "        v2k[v] = k\n",
    "    \n",
    "    return k2v, v2k\n",
    "    \n",
    "def count_profs_and_gender(data: List[dict]):\n",
    "    \n",
    "    counter = defaultdict(Counter)\n",
    "    for entry in data:\n",
    "        gender, prof = entry[\"g\"], entry[\"p\"]\n",
    "        counter[prof][gender] += 1\n",
    "        \n",
    "    return counter\n"
   ]
  },
  {
   "cell_type": "code",
   "execution_count": 3,
   "metadata": {},
   "outputs": [],
   "source": [
    "train = load_dataset(\"../data/biasbios/train.pickle\")\n",
    "dev = load_dataset(\"../data/biasbios/dev.pickle\")\n",
    "test = load_dataset(\"../data/biasbios/test.pickle\")\n",
    "\n",
    "p2i, i2p = load_dictionary(\"../data/biasbios/profession2index.txt\")\n",
    "g2i, i2g = load_dictionary(\"../data/biasbios/gender2index.txt\")\n",
    "counter = count_profs_and_gender(train+dev+test)"
   ]
  },
  {
   "cell_type": "code",
   "execution_count": 4,
   "metadata": {
    "scrolled": true
   },
   "outputs": [
    {
     "data": {
      "text/plain": [
       "{'g': 'f',\n",
       " 'p': 'professor',\n",
       " 'text': 'Dr. Jessica Orlofske is an Assistant Professor of Biology at the University of Wisconsin-Parkside. Her research program areas include invertebrate biodiversity and conservation and biomonitoring and assessment of ecological integrity. She obtained her PhD from the University of New Brunswick under the direction of Dr. Donald Baird. Dr. Orlofske was also a post-doctoral fellow with the CRI before taking up her current position, making her the first CRI student to become a Science Director.',\n",
       " 'start': 98,\n",
       " 'hard_text': 'Her research program areas include invertebrate biodiversity and conservation and biomonitoring and assessment of ecological integrity. She obtained her PhD from the University of New Brunswick under the direction of Dr. Donald Baird. Dr. Orlofske was also a post-doctoral fellow with the CRI before taking up her current position, making her the first CRI student to become a Science Director.',\n",
       " 'text_without_gender': '_ research program areas include invertebrate biodiversity and conservation and biomonitoring and assessment of ecological integrity. _ obtained _ PhD from the University of New Brunswick under the direction of Dr. Donald Baird. Dr. _ was also a post-doctoral fellow with the CRI before taking up _ current position, making _ the first CRI student to become a Science Director.',\n",
       " 'hard_text_tokenized': 'Her research program areas include invertebrate biodiversity and conservation and biomonitoring and assessment of ecological integrity . She obtained her PhD from the University of New Brunswick under the direction of Dr. Donald Baird . Dr. Orlofske was also a post - doctoral fellow with the CRI before taking up her current position , making her the first CRI student to become a Science Director .'}"
      ]
     },
     "execution_count": 4,
     "metadata": {},
     "output_type": "execute_result"
    }
   ],
   "source": [
    "train[0]"
   ]
  },
  {
   "cell_type": "code",
   "execution_count": 5,
   "metadata": {},
   "outputs": [
    {
     "name": "stdout",
     "output_type": "stream",
     "text": [
      "{'accountant': 0, 'architect': 1, 'attorney': 2, 'chiropractor': 3, 'comedian': 4, 'composer': 5, 'dentist': 6, 'dietitian': 7, 'dj': 8, 'filmmaker': 9, 'interior_designer': 10, 'journalist': 11, 'model': 12, 'nurse': 13, 'painter': 14, 'paralegal': 15, 'pastor': 16, 'personal_trainer': 17, 'photographer': 18, 'physician': 19, 'poet': 20, 'professor': 21, 'psychologist': 22, 'rapper': 23, 'software_engineer': 24, 'surgeon': 25, 'teacher': 26, 'yoga_teacher': 27}\n"
     ]
    }
   ],
   "source": [
    "print(p2i)"
   ]
  },
  {
   "cell_type": "code",
   "execution_count": 6,
   "metadata": {},
   "outputs": [
    {
     "name": "stdout",
     "output_type": "stream",
     "text": [
      "0.44541700643683746\n",
      "{'professor': 0.4533699535765501, 'psychologist': 0.627327974906881, 'pastor': 0.2583668005354752, 'comedian': 0.21605667060212513, 'nurse': 0.9126009126009126, 'yoga_teacher': 0.825, 'attorney': 0.3766122913505311, 'photographer': 0.3563658099222953, 'composer': 0.16329625884732052, 'model': 0.7858407079646018, 'surgeon': 0.12832108535895986, 'physician': 0.4158485273492286, 'software_engineer': 0.17130434782608694, 'poet': 0.5133630289532294, 'painter': 0.47116788321167885, 'dj': 0.1636828644501279, 'journalist': 0.5159589626674266, 'architect': 0.23372781065088757, 'paralegal': 0.8618677042801557, 'dentist': 0.3672911787665886, 'personal_trainer': 0.4410377358490566, 'teacher': 0.5943396226415094, 'accountant': 0.3950091296409008, 'interior_designer': 0.7874493927125507, 'dietitian': 0.934412955465587, 'filmmaker': 0.3533007334963325, 'chiropractor': 0.3069908814589666, 'rapper': 0.09438775510204081}\n"
     ]
    }
   ],
   "source": [
    "counter = count_profs_and_gender(train+dev+test)\n",
    "f,m = 0., 0.\n",
    "prof2fem = dict()\n",
    "\n",
    "for k, values in counter.items():\n",
    "    f += values['f']\n",
    "    m += values['m']\n",
    "    prof2fem[k] = values['f']/(values['f'] + values['m'])\n",
    "\n",
    "print(f / (f + m))\n",
    "print(prof2fem)"
   ]
  },
  {
   "cell_type": "code",
   "execution_count": 7,
   "metadata": {
    "scrolled": true
   },
   "outputs": [
    {
     "name": "stdout",
     "output_type": "stream",
     "text": [
      "{'accountant': 0, 'architect': 1, 'attorney': 2, 'chiropractor': 3, 'comedian': 4, 'composer': 5, 'dentist': 6, 'dietitian': 7, 'dj': 8, 'filmmaker': 9, 'interior_designer': 10, 'journalist': 11, 'model': 12, 'nurse': 13, 'painter': 14, 'paralegal': 15, 'pastor': 16, 'personal_trainer': 17, 'photographer': 18, 'physician': 19, 'poet': 20, 'professor': 21, 'psychologist': 22, 'rapper': 23, 'software_engineer': 24, 'surgeon': 25, 'teacher': 26, 'yoga_teacher': 27}\n"
     ]
    }
   ],
   "source": [
    "print(p2i)"
   ]
  },
  {
   "cell_type": "markdown",
   "metadata": {},
   "source": [
    "### get input representatons "
   ]
  },
  {
   "cell_type": "code",
   "execution_count": 8,
   "metadata": {},
   "outputs": [],
   "source": [
    "\n",
    "def load_word_vectors(fname):\n",
    "    \n",
    "    model = KeyedVectors.load_word2vec_format(fname, binary=False)\n",
    "    vecs = model.vectors\n",
    "    words = list(model.vocab.keys())\n",
    "    return model, vecs, words\n",
    "\n",
    "\n",
    "def get_embeddings_based_dataset(data: List[dict], word2vec_model, p2i, filter_stopwords = False):\n",
    "    \n",
    "    X, Y = [], []\n",
    "    unk, total = 0., 0.\n",
    "    unknown = []\n",
    "    vocab_counter = Counter()\n",
    "    \n",
    "    for entry in tqdm.tqdm_notebook(data, total = len(data)):\n",
    "        \n",
    "        y = p2i[entry[\"p\"]]\n",
    "        words = entry[\"hard_text_tokenized\"].split(\" \")\n",
    "        if filter_stopwords:\n",
    "            words = [w for w in words if w.lower() not in STOPWORDS]\n",
    "            \n",
    "        vocab_counter.update(words) \n",
    "        bagofwords = np.sum([word2vec_model[w] if w in word2vec_model else word2vec_model[\"unk\"] for w in words], axis = 0)\n",
    "        #print(bagofwords.shape)\n",
    "        X.append(bagofwords)\n",
    "        Y.append(y)\n",
    "        total += len(words)\n",
    "        \n",
    "        unknown_entry = [w for w in words if w not in word2vec_model]\n",
    "        unknown.extend(unknown_entry)\n",
    "        unk += len(unknown_entry)\n",
    "    \n",
    "    X = np.array(X)\n",
    "    Y = np.array(Y)\n",
    "    print(\"% unknown: {}\".format(unk/total))\n",
    "    return X,Y,unknown,vocab_counter\n",
    "\n"
   ]
  },
  {
   "cell_type": "code",
   "execution_count": 9,
   "metadata": {},
   "outputs": [],
   "source": [
    "word2vec, vecs, words = load_word_vectors(\"../data/embeddings/crawl-300d-2M.vec\")"
   ]
  },
  {
   "cell_type": "code",
   "execution_count": 10,
   "metadata": {},
   "outputs": [
    {
     "data": {
      "application/vnd.jupyter.widget-view+json": {
       "model_id": "d82c5b5735b94948a205af1c9bc31045",
       "version_major": 2,
       "version_minor": 0
      },
      "text/plain": [
       "  0%|          | 0/74882 [00:00<?, ?it/s]"
      ]
     },
     "metadata": {},
     "output_type": "display_data"
    },
    {
     "name": "stdout",
     "output_type": "stream",
     "text": [
      "% unknown: 0.010167678378823583\n"
     ]
    },
    {
     "data": {
      "application/vnd.jupyter.widget-view+json": {
       "model_id": "758f6e69806e4f1783d8d59b2b35d425",
       "version_major": 2,
       "version_minor": 0
      },
      "text/plain": [
       "  0%|          | 0/11550 [00:00<?, ?it/s]"
      ]
     },
     "metadata": {},
     "output_type": "display_data"
    },
    {
     "name": "stdout",
     "output_type": "stream",
     "text": [
      "% unknown: 0.010116209992979287\n"
     ]
    },
    {
     "data": {
      "application/vnd.jupyter.widget-view+json": {
       "model_id": "3f5a9ad077a0417baac596d738a3332d",
       "version_major": 2,
       "version_minor": 0
      },
      "text/plain": [
       "  0%|          | 0/28842 [00:00<?, ?it/s]"
      ]
     },
     "metadata": {},
     "output_type": "display_data"
    },
    {
     "name": "stdout",
     "output_type": "stream",
     "text": [
      "% unknown: 0.01018950257509165\n"
     ]
    }
   ],
   "source": [
    "X_train, Y_train, unknown_train, vocab_counter_train = get_embeddings_based_dataset(train, word2vec, p2i)\n",
    "X_dev, Y_dev, unknown_dev, vocab_counter_dev =  get_embeddings_based_dataset(dev, word2vec, p2i)\n",
    "X_test, Y_test, unknown_test, vocab_counter_test =  get_embeddings_based_dataset(test, word2vec, p2i)"
   ]
  },
  {
   "cell_type": "code",
   "execution_count": 11,
   "metadata": {},
   "outputs": [],
   "source": [
    "# Run only at initialization\n",
    "# def save_in_word2vec_format(vecs: np.ndarray, words: np.ndarray, fname: str):\n",
    "\n",
    "\n",
    "#     with open(fname, \"w\", encoding = \"utf-8\") as f:\n",
    "\n",
    "#         f.write(str(len(vecs)) + \" \" + \"300\" + \"\\n\")\n",
    "#         for i, (v,w) in tqdm.tqdm_notebook(enumerate(zip(vecs, words))):\n",
    "\n",
    "#             vec_as_str = \" \".join([str(x) for x in v])\n",
    "#             f.write(w + \" \" + vec_as_str + \"\\n\")\n",
    "\n",
    "\n",
    "# vocab_bios, _ = list(zip(*vocab_counter_train.most_common(120000)))\n",
    "# words_set = set(words)\n",
    "# vocab_bios = [w for w in tqdm.tqdm_notebook(vocab_bios) if w in words_set]\n",
    "# vecs_for_vocab = np.array([word2vec[w] for w in tqdm.tqdm_notebook(vocab_bios)])\n",
    "# print(\"here\")\n",
    "# save_in_word2vec_format(vecs_for_vocab, vocab_bios, \"vecs.vocab.bios.txt\")\n",
    "\n",
    "# word2vec_bios, _, _ = load_word_vectors(\"vecs.vocab.bios.txt\")"
   ]
  },
  {
   "cell_type": "code",
   "execution_count": 12,
   "metadata": {},
   "outputs": [
    {
     "name": "stdout",
     "output_type": "stream",
     "text": [
      "len train: 74882; len dev: 11550; len test: 28842\n"
     ]
    }
   ],
   "source": [
    "print(\"len train: {}; len dev: {}; len test: {}\".format(len(train), len(dev), len(test)))\n",
    "mean_train = np.mean(X_train, axis = 0, keepdims = True)\n",
    "mean_dev = np.mean(X_dev, axis = 0, keepdims = True)\n",
    "mean_test = np.mean(X_test, axis = 0, keepdims = True)\n",
    "\n",
    "#X_train -= mean_train\n",
    "#X_dev -= mean_dev\n",
    "#X_test -= mean_test"
   ]
  },
  {
   "cell_type": "markdown",
   "metadata": {},
   "source": [
    "## Classify by profession"
   ]
  },
  {
   "cell_type": "code",
   "execution_count": 13,
   "metadata": {
    "scrolled": false
   },
   "outputs": [
    {
     "name": "stderr",
     "output_type": "stream",
     "text": [
      "[Parallel(n_jobs=64)]: Using backend ThreadingBackend with 64 concurrent workers.\n"
     ]
    },
    {
     "name": "stdout",
     "output_type": "stream",
     "text": [
      "max_iter reached after 17 seconds\n",
      "time: 17.3991961479187\n"
     ]
    },
    {
     "name": "stderr",
     "output_type": "stream",
     "text": [
      "[Parallel(n_jobs=64)]: Done   1 tasks      | elapsed:   17.3s\n",
      "[Parallel(n_jobs=64)]: Done   1 out of   1 | elapsed:   17.3s finished\n"
     ]
    },
    {
     "name": "stdout",
     "output_type": "stream",
     "text": [
      "0.7554112554112554\n"
     ]
    }
   ],
   "source": [
    "#clf = LinearSVC(max_iter = 10) #LogisticRegression()\n",
    "#clf = SGDClassifier(warm_start = True, loss = 'log', n_jobs = 64, max_iter = 250, random_state = 0)\n",
    "\n",
    "clf = LogisticRegression(warm_start = True, penalty = 'l2',\n",
    "                         solver = \"sag\", multi_class = 'multinomial', fit_intercept = True,\n",
    "                         verbose = 10, max_iter = 4, n_jobs = 64, random_state = 1)\n",
    "#clf = SGDClassifier(loss= 'log', max_iter= 3000, fit_intercept= True, class_weight= None, n_jobs= 100)\n",
    "#clf = LinearSVC(max_iter = 50) #LogisticRegression()\n",
    "\n",
    "start = time.time()\n",
    "idx = np.random.rand(X_train.shape[0]) < 1.0\n",
    "clf.fit(X_train[idx], Y_train[idx])\n",
    "print(\"time: {}\".format(time.time() - start))\n",
    "print(clf.score(X_dev, Y_dev))\n",
    "#print(clf.score(X_test, Y_test))\n",
    "clf_original = copy.deepcopy(clf)"
   ]
  },
  {
   "cell_type": "code",
   "execution_count": 14,
   "metadata": {},
   "outputs": [
    {
     "name": "stdout",
     "output_type": "stream",
     "text": [
      "0.7553914430344636\n"
     ]
    }
   ],
   "source": [
    "print(clf.score(X_test, Y_test))"
   ]
  },
  {
   "cell_type": "markdown",
   "metadata": {},
   "source": [
    "### perform debiasing"
   ]
  },
  {
   "cell_type": "code",
   "execution_count": 15,
   "metadata": {
    "scrolled": true
   },
   "outputs": [
    {
     "name": "stderr",
     "output_type": "stream",
     "text": [
      "iteration: 149, accuracy: 0.6567164179104478: 100%|█████████████████████████████████████████████████████████████████████████████████████| 150/150 [05:30<00:00,  2.20s/it]\n"
     ]
    },
    {
     "name": "stdout",
     "output_type": "stream",
     "text": [
      "time: 330.5958001613617\n"
     ]
    }
   ],
   "source": [
    "def get_projection_matrix(num_clfs, X_train, Y_train, X_dev, Y_dev, Y_train_task, Y_dev_task, dim, all_data_prob, by_class = False):\n",
    "\n",
    "    is_autoregressive = True\n",
    "    min_acc = 0.\n",
    "    dim = 300\n",
    "    n = num_clfs\n",
    "    random_subset = 1\n",
    "    start = time.time()\n",
    "    TYPE= \"svm\"\n",
    "    penalty = \"l2\"\n",
    "    MLP = False\n",
    "    \n",
    "    if MLP:\n",
    "        x_train_gender = np.matmul(X_train, clf.coefs_[0]) + clf.intercepts_[0]\n",
    "        x_dev_gender = np.matmul(X_dev, clf.coefs_[0]) + clf.intercepts_[0]\n",
    "    else:\n",
    "        x_train_gender = X_train.copy()\n",
    "        x_dev_gender = X_dev.copy()\n",
    "        \n",
    "    \n",
    "    if TYPE == \"sgd\":\n",
    "        print(\"using sgd\")\n",
    "        gender_clf = SGDClassifier\n",
    "        params = {'alpha': 0.01, 'penalty': penalty, 'loss': 'hinge', 'fit_intercept': True, 'class_weight': \"balanced\", 'n_jobs': 16}\n",
    "    elif TYPE == \"svm\":\n",
    "        gender_clf = LinearSVC\n",
    "        params = {'fit_intercept': True, 'C': 0.3, 'class_weight': None, \"dual\": False}\n",
    "    elif TYPE == \"perceptron\":\n",
    "        gender_clf = Perceptron\n",
    "        params = {'max_iter': 1000, 'fit_intercept': True, 'class_weight': None}\n",
    "    elif TYPE == \"logistic\":\n",
    "        gender_clf = LogisticRegression\n",
    "        params = {}\n",
    "        \n",
    "    result = debias.get_debiasing_projection(gender_clf, params, n, dim, is_autoregressive, min_acc,\n",
    "                                              x_train_gender, Y_train, x_dev_gender, Y_dev,\n",
    "                                       Y_train_main=Y_train_task, Y_dev_main=Y_dev_task, \n",
    "                                        by_class = by_class)\n",
    "    print(\"time: {}\".format(time.time() - start))\n",
    "    return result\n",
    "\n",
    "# was c=0.15, num_clfs=130\n",
    "num_clfs = 150\n",
    "Y_dev_gender = np.array([g2i[d[\"g\"]] for d in dev])\n",
    "Y_test_gender = np.array([g2i[d[\"g\"]] for d in test])\n",
    "Y_train_gender = np.array([g2i[d[\"g\"]] for d in train])\n",
    "P, rowspace_projs, Ws = get_projection_matrix(num_clfs, X_train, Y_train_gender, X_dev, Y_dev_gender, Y_train, Y_dev, 300, 0.0, by_class= True)\n",
    "\n"
   ]
  },
  {
   "cell_type": "code",
   "execution_count": null,
   "metadata": {},
   "outputs": [],
   "source": [
    "# np.savez(\"P_FastText.npz\", P = P, rowspace_projs = rowspace_projs, Ws = Ws)"
   ]
  },
  {
   "cell_type": "code",
   "execution_count": null,
   "metadata": {},
   "outputs": [],
   "source": []
  },
  {
   "cell_type": "code",
   "execution_count": null,
   "metadata": {},
   "outputs": [],
   "source": [
    "# with open(\"P.bios.fasttext.{}.svm.pickle\".format(num_clfs), \"wb\") as f:\n",
    "    \n",
    "#     pickle.dump(P, f)\n",
    "    \n",
    "# np.linalg.norm(Ws[-1])"
   ]
  },
  {
   "cell_type": "code",
   "execution_count": null,
   "metadata": {
    "scrolled": true
   },
   "outputs": [],
   "source": [
    "# Ws[-50].dot(Ws[0].T)"
   ]
  },
  {
   "cell_type": "code",
   "execution_count": 15,
   "metadata": {},
   "outputs": [
    {
     "name": "stderr",
     "output_type": "stream",
     "text": [
      "[Parallel(n_jobs=64)]: Using backend ThreadingBackend with 64 concurrent workers.\n"
     ]
    },
    {
     "name": "stdout",
     "output_type": "stream",
     "text": [
      "max_iter reached after 4 seconds\n"
     ]
    },
    {
     "name": "stderr",
     "output_type": "stream",
     "text": [
      "[Parallel(n_jobs=64)]: Done   1 tasks      | elapsed:    4.2s\n",
      "[Parallel(n_jobs=64)]: Done   1 out of   1 | elapsed:    4.2s finished\n"
     ]
    },
    {
     "data": {
      "text/plain": [
       "0.5925541125541125"
      ]
     },
     "execution_count": 15,
     "metadata": {},
     "output_type": "execute_result"
    }
   ],
   "source": [
    "gender_clf = LogisticRegression(warm_start = True, penalty = 'l2',\n",
    "                         solver = \"sag\", multi_class = 'multinomial', fit_intercept = True,\n",
    "                         verbose = 10, max_iter = 7, n_jobs = 64, random_state = 1)\n",
    "\n",
    "gender_clf.fit(P.dot(X_train.T).T, Y_train_gender)\n",
    "gender_clf.score(P.dot(X_dev.T).T, Y_dev_gender)"
   ]
  },
  {
   "cell_type": "code",
   "execution_count": 16,
   "metadata": {},
   "outputs": [
    {
     "data": {
      "text/plain": [
       "0.5894741059266579"
      ]
     },
     "execution_count": 16,
     "metadata": {},
     "output_type": "execute_result"
    }
   ],
   "source": [
    "gender_clf.score(P.dot(X_train.T).T, Y_train_gender)"
   ]
  },
  {
   "cell_type": "markdown",
   "metadata": {},
   "source": [
    "### Perform finetuning"
   ]
  },
  {
   "cell_type": "code",
   "execution_count": 17,
   "metadata": {},
   "outputs": [
    {
     "name": "stderr",
     "output_type": "stream",
     "text": [
      "[Parallel(n_jobs=64)]: Using backend ThreadingBackend with 64 concurrent workers.\n"
     ]
    },
    {
     "name": "stdout",
     "output_type": "stream",
     "text": [
      "max_iter reached after 27 seconds\n"
     ]
    },
    {
     "name": "stderr",
     "output_type": "stream",
     "text": [
      "[Parallel(n_jobs=64)]: Done   1 tasks      | elapsed:   26.8s\n",
      "[Parallel(n_jobs=64)]: Done   1 out of   1 | elapsed:   26.8s finished\n"
     ]
    },
    {
     "data": {
      "text/plain": [
       "LogisticRegression(max_iter=6, multi_class='multinomial', n_jobs=64,\n",
       "                   random_state=0, solver='sag', verbose=10, warm_start=True)"
      ]
     },
     "execution_count": 17,
     "metadata": {},
     "output_type": "execute_result"
    }
   ],
   "source": [
    "clf = LogisticRegression(warm_start = True, penalty = 'l2',\n",
    "                         solver = \"sag\", multi_class = 'multinomial', fit_intercept = True,\n",
    "                         verbose = 10, max_iter = 6, n_jobs = 64, random_state = 0, class_weight = None)\n",
    "\n",
    "clf.fit(P.dot(X_train.T).T, Y_train)"
   ]
  },
  {
   "cell_type": "code",
   "execution_count": 27,
   "metadata": {},
   "outputs": [
    {
     "name": "stdout",
     "output_type": "stream",
     "text": [
      "Train accuracy 0.7203466787746053\n",
      "\n",
      "Test accuracy 0.7149989598502184\n"
     ]
    }
   ],
   "source": [
    "print(f\"Train accuracy {clf.score(P.dot(X_train.T).T, Y_train)}\\n\")\n",
    "print(f\"Test accuracy {clf.score((P.dot(X_test.T)).T, Y_test)}\")"
   ]
  },
  {
   "cell_type": "code",
   "execution_count": null,
   "metadata": {},
   "outputs": [],
   "source": [
    "# clf = LogisticRegression(warm_start = True, penalty = 'l2',\n",
    "#                          solver = \"sag\", multi_class = 'multinomial', fit_intercept = True,\n",
    "#                          verbose = 10, max_iter = 3, n_jobs = 64, random_state = 1)\n",
    "# clf.fit(X_train, Y_train)\n",
    "\n",
    "# print(f\"Biased Train accuracy {clf.score(X_train, Y_train)}\")\n",
    "# print(f\"Biased Train accuracy {clf.score(X_test, Y_test)}\")\n",
    "# print(f\"Train accuracy {clf.score(P.dot(X_train.T).T, Y_train)}\")\n",
    "# print(f\"Test accuracy {clf.score((P.dot(X_test.T)).T, Y_test)}\")"
   ]
  },
  {
   "cell_type": "markdown",
   "metadata": {},
   "source": [
    "#### test again"
   ]
  },
  {
   "cell_type": "code",
   "execution_count": 29,
   "metadata": {},
   "outputs": [],
   "source": [
    "def get_TPR(y_pred, y_true, p2i, i2p, gender):\n",
    "    \n",
    "    scores = defaultdict(Counter)\n",
    "    prof_count_total = defaultdict(Counter)\n",
    "    \n",
    "    assert len(y_pred) == len(y_true) == len(gender)\n",
    "               \n",
    "    for y_hat, y, g in zip(y_pred, y_true, gender):\n",
    "                \n",
    "        if y == y_hat:\n",
    "            \n",
    "            scores[i2p[y]][g] += 1\n",
    "        \n",
    "        prof_count_total[i2p[y]][g] += 1\n",
    "    \n",
    "    tprs = defaultdict(dict)\n",
    "    tprs_change = dict()\n",
    "    tprs_ratio = []\n",
    "    \n",
    "    for profession, scores_dict in scores.items():\n",
    "        \n",
    "        good_m, good_f = scores_dict[\"m\"], scores_dict[\"f\"]\n",
    "        prof_total_f = prof_count_total[profession][\"f\"]\n",
    "        prof_total_m = prof_count_total[profession][\"m\"]\n",
    "        tpr_m = (good_m) / prof_total_m\n",
    "        tpr_f = (good_f) / prof_total_f\n",
    "        \n",
    "        tprs[profession][\"m\"] = tpr_m\n",
    "        tprs[profession][\"f\"] = tpr_f\n",
    "        tprs_ratio.append(0)\n",
    "        tprs_change[profession] = tpr_f - tpr_m\n",
    "        \n",
    "    return tprs, tprs_change, np.mean(np.abs(tprs_ratio))\n",
    "\n",
    "def get_FPR(y_pred, y_true, p2i, i2p, gender):\n",
    "    \n",
    "    fp = defaultdict(Counter)\n",
    "    neg_count_total = defaultdict(Counter)\n",
    "    pos_count_total = defaultdict(Counter)\n",
    "    \n",
    "    \n",
    "               \n",
    "    for y_hat, y, g in zip(y_pred, y_true, gender):\n",
    "        \n",
    "        if y != y_hat:\n",
    "            \n",
    "            fp[i2p[y_hat]][g] += 1 # count false positives for y_hat\n",
    "        \n",
    "        neg_count_total[i2p[y_hat]][g] += 1 # count \"not y_hat\"\n",
    "                \n",
    "    fprs = defaultdict(dict)\n",
    "    fprs_change = dict()\n",
    "    fprs_ratio = []\n",
    "    \n",
    "    #print(prof_count_total)\n",
    "    \n",
    "    for profession, scores_dict in fp.items():\n",
    "        \n",
    "        good_m, good_f = scores_dict[\"m\"], scores_dict[\"f\"]\n",
    "        prof_total_f = neg_count_total[profession][\"f\"]\n",
    "        prof_total_m = neg_count_total[profession][\"m\"]\n",
    "        print(profession)\n",
    "        fpr_m = (good_m+good_f) / prof_total_m\n",
    "        fpr_f = (good_m+good_f) / prof_total_f\n",
    "        \n",
    "        fprs[profession][\"m\"] = fpr_m\n",
    "        fprs[profession][\"f\"] = fpr_f\n",
    "        fprs_ratio.append(0)\n",
    "        fprs_change[profession] = fpr_m - fpr_f\n",
    "        \n",
    "    return fprs, fprs_change, np.mean(np.abs(fprs_ratio))    \n",
    "    \n",
    "def similarity_vs_tpr(tprs, word2vec, title, measure, prof2fem):\n",
    "    \n",
    "    professions = list(tprs.keys())\n",
    "    #\n",
    "    \"\"\" \n",
    "    sims = dict()\n",
    "    gender_direction = word2vec[\"he\"] - word2vec[\"she\"]\n",
    "    \n",
    "    for p in professions:\n",
    "        sim = word2vec.cosine_similarities(word2vec[p], [gender_direction])[0]\n",
    "        sims[p] = sim\n",
    "    \"\"\"\n",
    "    tpr_lst = [tprs[p] for p in professions]\n",
    "    sim_lst = [prof2fem[p] for p in professions]\n",
    "\n",
    "    #professions = [p.replace(\"_\", \" \") for p in professions if p in word2vec]\n",
    "    \n",
    "    plt.plot(sim_lst, tpr_lst, marker = \"o\", linestyle = \"none\")\n",
    "    plt.xlabel(\"% women\", fontsize = 13)\n",
    "    plt.ylabel(r'$GAP_{female,y}^{TPR}$', fontsize = 13)\n",
    "    for p in professions:\n",
    "        x,y = prof2fem[p], tprs[p]\n",
    "        plt.annotate(p , (x,y), size = 7, color = \"red\")\n",
    "    \n",
    "    plt.ylim(-0.4,0.55)\n",
    "    z = np.polyfit(sim_lst, tpr_lst, 1)\n",
    "    p = np.poly1d(z)\n",
    "    plt.plot(sim_lst,p(sim_lst),\"b--\")\n",
    "\n",
    "    plt.savefig(\"{}_vs_bias_{}_fasttext\".format(measure, title), dpi = 600)\n",
    "    print(\"Correlation: {}; p-value: {}\".format(*pearsonr(sim_lst, tpr_lst)))\n",
    "    plt.show()\n",
    "    \n",
    "def rms_diff(tpr_diff):\n",
    "    \n",
    "    return np.sqrt(np.mean(tpr_diff**2))\n",
    "    \n",
    "def save_vecs_and_words(vecs, words):\n",
    "    def to_string(arr):\n",
    "        return \"\\t\".join([str(x) for x in arr])\n",
    "    \n",
    "    with open(\"vecs.txt\", \"w\") as f:\n",
    "        for v in vecs:\n",
    "            assert len(v) == 300\n",
    "            f.write(to_string(v) + \"\\n\")\n",
    "    \n",
    "    with open(\"labels.txt\", \"w\") as f:\n",
    "            f.write(\"Profession\\n\")\n",
    "            for w in words:\n",
    "                f.write(w + \"\\n\")"
   ]
  },
  {
   "cell_type": "code",
   "execution_count": 30,
   "metadata": {
    "scrolled": true
   },
   "outputs": [
    {
     "name": "stdout",
     "output_type": "stream",
     "text": [
      "Correlation: 0.8229158334674403; p-value: 7.657770186244778e-08\n"
     ]
    },
    {
     "data": {
      "image/png": "[encoded data removed]",
      "text/plain": [
       "<Figure size 432x288 with 1 Axes>"
      ]
     },
     "metadata": {
      "needs_background": "light"
     },
     "output_type": "display_data"
    },
    {
     "name": "stdout",
     "output_type": "stream",
     "text": [
      "Correlation: 0.4625654647200439; p-value: 0.015122273151764936\n"
     ]
    },
    {
     "data": {
      "image/png": "[encoded data removed]",
      "text/plain": [
       "<Figure size 432x288 with 1 Axes>"
      ]
     },
     "metadata": {
      "needs_background": "light"
     },
     "output_type": "display_data"
    },
    {
     "name": "stdout",
     "output_type": "stream",
     "text": [
      "rms-diff before: 0.20125138721368724; rms-diff after: 0.09203048936545488\n"
     ]
    }
   ],
   "source": [
    "y_pred_before = clf_original.predict(X_test)\n",
    "test_gender = [d[\"g\"] for d in test]\n",
    "dev_gender = [d[\"g\"] for d in dev]\n",
    "train_gender = [d[\"g\"] for d in train]\n",
    "\n",
    "tprs_before, tprs_change_before, mean_ratio_before = get_TPR(y_pred_before, Y_test, p2i, i2p, test_gender)\n",
    "similarity_vs_tpr(tprs_change_before, word2vec, \"before\", \"TPR\", prof2fem)\n",
    "#y_pred_after = clf.predict(X_test.dot(P))\n",
    "y_pred_after = clf.predict(X_test.dot(P))\n",
    "tprs, tprs_change_after, mean_ratio_after = get_TPR(y_pred_after, Y_test, p2i, i2p, test_gender)\n",
    "similarity_vs_tpr(tprs_change_after, word2vec, \"after\", \"TPR\", prof2fem)\n",
    "\n",
    "change_vals_before = np.array(list((tprs_change_before.values())))\n",
    "change_vals_after = np.array(list(tprs_change_after.values()))\n",
    "\n",
    "print(\"rms-diff before: {}; rms-diff after: {}\".format(rms_diff(change_vals_before), rms_diff(change_vals_after)))"
   ]
  },
  {
   "cell_type": "code",
   "execution_count": null,
   "metadata": {},
   "outputs": [],
   "source": [
    "def tsne_by_gender(vecs, labels, title, words = None):\n",
    "\n",
    "  tsne = TSNE(n_components=2, random_state=0)\n",
    "  vecs_2d = tsne.fit_transform(vecs)\n",
    "  num_labels = len(set(labels.tolist()))\n",
    "\n",
    "  names = [\"class {}\".format(i) for i in range(num_labels)]\n",
    "  plt.figure(figsize=(6, 5))\n",
    "  colors = 'r', 'b', 'orange'\n",
    "  for i, c, label in zip(set(labels.tolist()), colors, names):\n",
    "    print(len(vecs_2d[labels == i, 0]))\n",
    "    plt.scatter(vecs_2d[labels == i, 0], vecs_2d[labels == i, 1], c=c,\n",
    "                label=label, alpha = 0.6)\n",
    "  plt.legend(loc = \"upper right\")\n",
    "  plt.title(title)\n",
    "  \n",
    "  if words is not None:\n",
    "        k = 60\n",
    "        for i in range(k):\n",
    "            \n",
    "            j = np.random.choice(range(len(words)))\n",
    "            label = labels[i]\n",
    "            w = words[j]\n",
    "            x,y = vecs_2d[i]\n",
    "            plt.annotate(w , (x,y), size = 10, color = \"black\" if label == 1 else \"black\")\n",
    "            \n",
    "  plt.show()\n",
    "  return vecs_2d"
   ]
  },
  {
   "cell_type": "code",
   "execution_count": null,
   "metadata": {},
   "outputs": [],
   "source": [
    "prof = \"professor\"\n",
    "idx = np.random.rand(X_dev.shape[0]) < 0.1\n",
    "prof_idx = Y_dev == p2i[prof]\n",
    "n = 800\n",
    "tsne_by_gender(X_dev[prof_idx][:n], np.array(dev_gender)[prof_idx][:n], \"tsne by gender, before, {}\".format(prof))\n",
    "tsne_by_gender((X_dev[prof_idx].dot(P))[:n], np.array(dev_gender)[prof_idx][:n], \"tsne by gender, after. {}\".format(prof))"
   ]
  },
  {
   "cell_type": "code",
   "execution_count": null,
   "metadata": {},
   "outputs": [],
   "source": [
    "def count_profs(data_y, i2p):\n",
    "    d = Counter()\n",
    "    for y in data_y:\n",
    "        d[i2p[y]] += 1\n",
    "    return d"
   ]
  },
  {
   "cell_type": "code",
   "execution_count": null,
   "metadata": {},
   "outputs": [],
   "source": [
    "count_profs(Y_train, i2p)"
   ]
  },
  {
   "cell_type": "code",
   "execution_count": null,
   "metadata": {},
   "outputs": [],
   "source": [
    "count_profs(Y_dev, i2p)"
   ]
  },
  {
   "cell_type": "code",
   "execution_count": null,
   "metadata": {},
   "outputs": [],
   "source": [
    "p0 = all_Ps[0]\n",
    "p1 = all_Ps[1]\n",
    "p2 = all_Ps[2]"
   ]
  },
  {
   "cell_type": "code",
   "execution_count": 34,
   "metadata": {},
   "outputs": [
    {
     "ename": "SyntaxError",
     "evalue": "invalid syntax (<ipython-input-34-bb1006037f2f>, line 1)",
     "output_type": "error",
     "traceback": [
      "\u001b[0;36m  File \u001b[0;32m\"<ipython-input-34-bb1006037f2f>\"\u001b[0;36m, line \u001b[0;32m1\u001b[0m\n\u001b[0;31m    p2.dot(p2.T)<\u001b[0m\n\u001b[0m                 ^\u001b[0m\n\u001b[0;31mSyntaxError\u001b[0m\u001b[0;31m:\u001b[0m invalid syntax\n"
     ]
    }
   ],
   "source": [
    "p2.dot(p2.T)<"
   ]
  },
  {
   "cell_type": "code",
   "execution_count": null,
   "metadata": {},
   "outputs": [],
   "source": [
    "p0 = all_Ps[0]\n",
    "p1 = all_Ps[1]\n",
    "p2 = all_Ps[2]\n",
    "\n",
    "p2.dot(p2.T)"
   ]
  },
  {
   "cell_type": "code",
   "execution_count": null,
   "metadata": {},
   "outputs": [],
   "source": [
    "def get_common_words(data: List[dict], word2vec_model):\n",
    "    \n",
    "    words_counter = Counter()\n",
    "    vecs = []\n",
    "    all_words = []\n",
    "    \n",
    "    \n",
    "    for entry in tqdm.tqdm(data, total = len(data)):\n",
    "        \n",
    "        y = p2i[entry[\"p\"]]\n",
    "        words = entry[\"hard_text\"].split(\" \")\n",
    "        all_words.extend(words)\n",
    "            \n",
    "    \n",
    "    words_counter = Counter(all_words)\n",
    "    common_words = [w for w in words_counter if words_counter[w] > 10 and (w in word2vec_model)]\n",
    "    common_vecs = [word2vec_model[w] for w in common_words]\n",
    "    \n",
    "    return common_words, common_vecs\n",
    "        \n",
    "        "
   ]
  },
  {
   "cell_type": "code",
   "execution_count": null,
   "metadata": {
    "scrolled": true
   },
   "outputs": [],
   "source": [
    "words, vecs = get_common_words(train,word2vec)\n",
    "\n",
    "vecs_normed = vecs / np.linalg.norm(vecs, keepdims = True)\n",
    "ws_normed = [w/np.linalg.norm(w) for w in all_ws]\n",
    "k = 1000\n",
    "groups, labels = [], []\n",
    "\n",
    "for i,w in enumerate(ws_normed):\n",
    "    print(\"INLP ITERATION: {}\".format(i))\n",
    "    sims_i = w.dot(vecs_normed.T).squeeze(0)\n",
    "    zipped = zip(words, vecs_normed, sims_i)\n",
    "    zipped = sorted(list(zipped), key = lambda tuple: -abs(tuple[2]))\n",
    "    ws,vs, sims = list(zip(*zipped))\n",
    "    print(ws[:k])\n",
    "    groups.append(vs[:k])\n",
    "    labels.append(i)\n",
    "    print(\"------------------------------------------------------------------\")"
   ]
  },
  {
   "cell_type": "code",
   "execution_count": null,
   "metadata": {},
   "outputs": [],
   "source": [
    "def visualize_gender_subspace(vecs, labels):\n",
    "    \n",
    "        N = len(labels)\n",
    "        \n",
    "        all_vecs = []\n",
    "        all_labels = []\n",
    "        \n",
    "        for vecs_list,l in zip(vecs, labels):\n",
    "            \n",
    "            all_labels.append(np.ones(len(vecs_list)) * l)\n",
    "        \n",
    "        all_vecs_np = np.concatenate(vecs, axis = 0)\n",
    "        all_labels_np = np.concatenate(all_labels, axis = 0)\n",
    "        tsne = TSNE(n_components=2, random_state=0)\n",
    "        vecs_2d = tsne.fit_transform(all_vecs_np)\n",
    "    \n",
    "        fig, ax = plt.subplots()\n",
    "        # define the colormap\n",
    "        cmap = plt.cm.jet\n",
    "        # extract all colors from the .jet map\n",
    "        cmaplist = [cmap(i) for i in range(cmap.N)]\n",
    "        # create the new map\n",
    "        cmap = cmap.from_list('Custom cmap', cmaplist, cmap.N)\n",
    "        # define the bins and normalize\n",
    "        bounds = np.linspace(0, N, N + 1)\n",
    "        norm = matplotlib.colors.BoundaryNorm(bounds, cmap.N)\n",
    "        print(\"here\")\n",
    "        print(all_labels_np.shape)\n",
    "        scat = ax.scatter(vecs_2d[:,0], vecs_2d[:,1], c=all_labels_np, cmap=cmap, norm=norm, alpha=0.15)\n",
    "        cb = plt.colorbar(scat, spacing='proportional')#, ticks=bounds)\n",
    "        cb.set_label(\"INLP iteration number\")\n",
    "        plt.savefig(\"INLP progress\", dpi = 600)\n",
    "        plt.show()"
   ]
  },
  {
   "cell_type": "code",
   "execution_count": null,
   "metadata": {},
   "outputs": [],
   "source": [
    "#visualize_gender_subspace(groups, labels)"
   ]
  },
  {
   "cell_type": "code",
   "execution_count": null,
   "metadata": {},
   "outputs": [],
   "source": [
    "word2vec"
   ]
  },
  {
   "cell_type": "code",
   "execution_count": 362,
   "metadata": {},
   "outputs": [
    {
     "name": "stdout",
     "output_type": "stream",
     "text": [
      "gender direction 0.\n",
      " most_similar male: ('himself', 'his', 'he', 'Fatherhood', 'His', 'vExpert', 'Freemasonry', 'He', 'Topman', 'fatherhood', 'Grails', 'homoerotic', 'everyman', 'FanDuel', 'Masonry', 'VMworld', 'varicocele', '.His', 'journeyman', 'APEX')\n",
      "; most_similar female: ('herself', 'she', 'her', 'She', 'Her', 'hers', 'Carolyn', 'Colleen', 'Susan', 'Diane', '.She', 'Ms.', 'Kathleen', 'Chairwoman', 'Kathryn', 'Laura', 'Kathy', 'Alyssa', 'Karen', 'Tricia')\n",
      "=====================================\n",
      "gender direction 1.\n",
      " most_similar male: ('shortwave', 'E.F.', 'Henceforth', 'R.T.', 'Rattling', 'CMG', 'SGM', 'GMR', 'microstructure', 'faithfully', 'periodically', 'Wyner', 'SPT', 'impulse', 'W.R.', 'henceforth', 'J.E.', 'mesoscale', 'maestro', 'urges')\n",
      "; most_similar female: ('Childbirth', 'Yoga', 'Hatha', 'Midwifery', 'Pregnancy', 'pregnancy', 'yoga', 'Maternity', 'yoginis', 'Childbearing', 'Asana', 'YOGA', 'childbirth', 'midwifery', 'YogaWorks', 'Intimates', 'Jivamukti', 'AcroYoga', 'motherhood', 'maternity')\n",
      "=====================================\n",
      "gender direction 2.\n",
      " most_similar male: ('2410', 'Ichimura', 'Br', 'Bienkowski', 'Hedden', 'Fr', 'Furuya', 'Tsutsui', 'Uchiyama', 'Streu', 'Tirone', 'Eisch', 'Desper', 'Kawamoto', 'Oberdick', 'Sma', 'Demler', 'Bollinger', 'Dubos', 'Hepato')\n",
      "; most_similar female: ('Feminists', 'Whoopi', 'Herstory', 'feminists', 'Hillary', 'Latinos', 'dressage', 'Hispanics', 'Skechers', 'Footwear', 'Portia', 'blacks', 'Africans', 'gays', 'shoe', 'victimization', 'transgenders', 'Women', 'victimisation', 'Nkechi')\n",
      "=====================================\n",
      "gender direction 3.\n",
      " most_similar male: ('talking', 'talk', 'talked', 'saying', 'engineer', 'Gordon', 'electromagnetics', 'secondly', 'stressing', 'arguing', 'CTO', 'Electric', 'loner', 'said', 'speaking', 'explaining', 'Electromagnetics', 'electromagnetism', 'Aldous', 'Swendsen')\n",
      "; most_similar female: ('Lentils', 'Kayte', 'PopSugar', 'Blessings', 'endowments', 'heirlooms', 'ornaments', 'VAL', 'KYM', 'Scarves', 'Peppers', 'Halftime', 'Culinary', '//', 'Peas', 'Aashirwad', 'bustlines', 'Portfolios', 'Hers', 'ornament')\n",
      "=====================================\n",
      "gender direction 4.\n",
      " most_similar male: ('RSA', 'O', 'Mantle', 'softly', 'unattended', 'hushed', 'alone', 'WSC', 'undisturbed', 'Reverie', 'Lament', 'serenely', 'preindustrial', 'slower', 'multiplied', 'slowly', 'Goodnight', 'unguarded', 'Rexroth', 'Alice')\n",
      "; most_similar female: ('Pacitti', 'Athletica', 'bronchitis', 'yoga', 'myofascial', 'Paltrow', 'Chloë', 'Kurti', 'Drumline', 'Corburn', 'Mattocks', 'Sweatpants', 'Adames', 'Kesha', 'shetty', 'Vitalia', 'Antimicrobials', 'Activism', 'Fighter', '9244')\n",
      "=====================================\n",
      "gender direction 5.\n",
      " most_similar male: ('Uwe', 'Hoctor', '−', 'Ralf', 'Sadly', 'Susanne', 'Unfortunately', 'M3', '64', 'Rostock', '7154', 'Bernd', 'Jochen', '4029', 'Günter', '6914', 'Torben', 'Jürgen', 'Mickey', 'drivers')\n",
      "; most_similar female: ('CPMC', 'NEDO', 'Polyclinics', 'valorem', 'propos', 'telepresence', 'HBS', 'Hermeneutics', 'clinic-', 'Vietnam', 'tug', 'FDI', 'Manchuria', 'Sarang', 'adjudged', 'Shreveport', 'ICBC', 'valuation', 'Studies-', 'antimonopoly')\n",
      "=====================================\n",
      "gender direction 6.\n",
      " most_similar male: ('Davidians', 'Davidian', 'ensuring', 'cans', 'OD', 'persecuted', 'insuring', 'TOD', 'VO', 'knob', 'vowel', 'ameliorating', 'Michalak', 'Lip', 'ignition', 'Pedal', 'EIN', 'Tung', 'correct', 'assuring')\n",
      "; most_similar female: ('php', 'ruby', 'Embedded', 'surf', 'RPC', 'webs', 'defences', 'Hypervisor', 'Guilt', 'TCL', 'marvel', 'mommy', 'sentinel', 'ICD', 'backend', 'daydream', 'PHP', 'antivirus', 'Moorestown', 'domesticity')\n",
      "=====================================\n",
      "gender direction 7.\n",
      " most_similar male: ('whilst', 'ITS', 'ISSUES', 'FRUIT', 'Jurisdictions', 'size', 'oppressions', 'DIFFERENT', 'Heresies', 'Histories', 'inequality', 'Essays', 'Patriarchy', 'parcel', 'Myths', 'circumnavigating', 'Lavinia', 'Unpacking', 'Wherein', 'fleet')\n",
      "; most_similar female: ('Minneapolis', 'Wayzata', 'Lucado', 'Bemidji', 'Metrodome', 'HealthPartners', 'AHCA', 'Politte', 'Chanhassen', 'Novocaine', 'Wichita', 'Robbinsdale', 'KC', 'Lindstrom', 'Hazanavicius', 'SLP', 'Owatonna', 'Minn.', 'audiologists', 'otolaryngologist')\n",
      "=====================================\n",
      "gender direction 8.\n",
      " most_similar male: ('Masur', 'Clemens', 'bark', 'Gibbon', 'rowers', 'commands', 'mute', 'bin', 'pauses', 'Olberding', 'rower', 'wood', 'Holmgren', 'CHORD', 'chord', 'rowing', 'WASH', 'geese', 'Sacchi', 'SFS')\n",
      "; most_similar female: ('Scoreland', '34DD', 'Striptease', 'Curvy', 'Adalynn', 'Alona', 'Brazzers', 'Voluptuous', 'Glamorous', 'Busty', 'Sexy', 'Redhead', 'Heels', 'Boobs', 'bombshell', 'Optometrists', '36D', 'Blonde', 'Disclosure', 'Brunette')\n",
      "=====================================\n",
      "gender direction 9.\n",
      " most_similar male: ('92', '82', '84', '86', '91', '83', '76', '66', '78', '79', '94', '87', '68', '89', '88', '74', '63', '93', '71', '67')\n",
      "; most_similar female: ('OpenID', 'ITRC', 'Malware', 'Symantec', 'OSCON', 'committer', 'Xeon', 'Undertow', 'Greenplum', 'cybercrime', 'Itanium', 'Solr', 'Zeitgeist', 'PostgreSQL', 'filmography', 'committers', 'Sideshow', 'URLs', 'CERIAS', 'MySpace')\n",
      "=====================================\n",
      "gender direction 10.\n",
      " most_similar male: ('Fog', 'E-40', 'DMZ', 'Rade', 'Shaper', 'Philips', 'Profoto', 'fog', 'Sharp', 'grinder', 'Elster', 'sharpness', 'magnifies', 'Ree', 'Quit', 'Mifune', 'macros', 'Bogie', 'Doc', 'Kirk')\n",
      "; most_similar female: ('RBD', 'POMCO', 'Storytime', 'caregivers', 'Associati', 'Builders', 'preschool', 'Populus', 'GPR', 'schizotypy', 'completion', 'Nursery', 'Constructions', 'nursery', 'Pawsitively', 'Debnam', 'Paez', 'Aadya', 'BCMG', 'Tlc')\n",
      "=====================================\n",
      "gender direction 11.\n",
      " most_similar male: ('Bug', 'gamma', 'Scissorhands', 'Redmond', 'X-', 'D.from', 'America-', 'Gizmo', 'hyperactive', 'Fauvist', 'tyrosine', 'messes', 'scolded', 'Gamma', 'Hulk', 'Georgia-', 'Ladybug', 'Merah', 'bakes', 'CNET')\n",
      "; most_similar female: ('polyamory', 'intersectional', 'PrEP', 'ECHS', 'ODU', 'Equality', 'endourology', 'Archivaria', '7x7', 'Mutuality', 'photovoice', 'bisexuality', 'GBV', 'epidemiology', 'SFA', 'fabricating', 'PhotoVoice', 'GIPA', 'EdM', 'JAAPA')\n",
      "=====================================\n",
      "gender direction 12.\n",
      " most_similar male: ('Schumpeter', 'thought', 'GST', 'occurred', 'Krakatoa', 'remark', 'Question', 'INSET', 'encountered', 'What', 'HST', 'abolished', 'Pentecost', 'remembered', 'Bathtub', 'wondered', 'Remarks', 'assumed', 'Sugata', 'Exactly')\n",
      "; most_similar female: ('Stalley', 'Hartgrove', 'Ravens', 'ravens', 'falcons', 'Exempla', 'Hemby', 'caseworker', 'consignment', 'Consignment', 'Nightjar', 'Gourds', 'MCSA', 'staking', 'Waxwing', 'Stonebridge', 'Skins', 'BRIT', 'Coldplay', 'Patience')\n",
      "=====================================\n",
      "gender direction 13.\n",
      " most_similar male: ('Largent', 'Ensminger', 'Whorley', 'Kouns', 'Gooch', 'Mcquaid', 'uniforms', 'Hass', 'jerseys', 'cunt', 'glove', 'McElfresh', 'Narus', 'Moby', 'SOE', 'Pihos', 'Musil', 'sigmoidoscopy', \"'em\", 'cloth')\n",
      "; most_similar female: ('bachelors', 'newlyweds', 'Spousal', 'Brides.com', 'Kiara', 'build', 'UPR', 'couples', 'Meera', 'bachelor', 'Couples', 'Pi', 'variable', 'Camila', 'Essence.com', '⠀', 'Lifespan', 'regenerating', 'healthily', 'DIY')\n",
      "=====================================\n",
      "gender direction 14.\n",
      " most_similar male: ('mid-80s', 'EPD', 'Fuji', 'definition', 'podium', 'crews', 'Corning', 'Schindler', 'glossary', 'stairs', 'Libbey', 'Dow', 'mid-1980', 'Ballinger', 'Schwing', 'Near', 'Gorge', 'USGS', 'quarry', 'cetera')\n",
      "; most_similar female: ('untrusted', 'Abyei', 'MLB', 'Antinomianism', 'WeddingWire', 'ligament', 'Scrappy', 'cupcake', 'Vodou', 'Broncos', 'Somaliland', 'Premal', 'LLM', 'CCM', 'PURCHASE', 'Criminology', 'Yankees', 'Him', 'Ruminate', 'Peacebuilding')\n",
      "=====================================\n",
      "gender direction 15.\n",
      " most_similar male: ('flaw', 'HIDE', 'closeness', 'Owosso', 'Him', 'Lint', '\\u200b', 'predictability', 'Bonifas', 'underwear', 'Beaufort', 'THEN', 'HE', 'Allegan', 'INSTEAD', 'Audit', 'SHE', 'embolism', 'Petoskey', 'COST')\n",
      "; most_similar female: ('Mixcloud', 'XLR8R', 'soundcloud', 'dietetic', 'Vocalo', 'ill', 'Southasian', 'reportage', 'undertaking', 'Bookslut', 'modding', 'earthbound', 'hemisphere', 'PopMatters', 'JVC', 'KCRW', 'videogaming', 'febrile', 'Kerrang', 'Populous')\n",
      "=====================================\n"
     ]
    },
    {
     "name": "stdout",
     "output_type": "stream",
     "text": [
      "gender direction 16.\n",
      " most_similar male: ('Azab', 'Assi', 'Headliners', 'rammed', 'main', 'Loconte', 'AFP', 'Faux', 'Antiwar.com', 'millimeter', 'Zig', 'expounds', 'Yad', 'animating', 'MERS', 'Propagation', 'rails', 'propagation', 'extrema', 'collapsed')\n",
      "; most_similar female: ('Nest', 'poems', 'Haiku', 'Poems', 'poem', 'POEM', 'solitude', 'PANK', 'poet', 'LARK', 'Reveries', 'sweetheart', 'elegies', 'moniker', 'Hawthornden', 'Peranakan', 'sobriquet', 'Ramanujan', 'mama', 'smart')\n",
      "=====================================\n",
      "gender direction 17.\n",
      " most_similar male: ('Idiom', 'Raiders', 'Rodel', 'Swalwell', 'Raka', 'McNair', 'Spindrift', 'Mcnair', 'Vikings', 'Whiz', 'Dunmore', 'Hampton', 'OJ', 'Merriman', 'NHBA', '7011', 'Baffert', 'Tulley', 'Harlene', 'Excelsior')\n",
      "; most_similar female: ('Lambda', 'RNAs', 'Granade', 'VDI', 'Curves', 'MIRA', 'Glamour', 'LiDAR', 'Inked', 'PLOS', 'heterosexual', 'lobe', 'carnivore', 'Ceph', 'MAV', 'sexes', 'Palimpsest', 'Complutense', 'MATLAB', 'Département')\n",
      "=====================================\n",
      "gender direction 18.\n",
      " most_similar male: ('Neurofeedback', 'Ratatouille', 'pizza', 'amusement', 'XD', 'Berardinelli', 'Koontz', 'cheesy', 'Lucifer', 'neurofeedback', 'salad', 'Voted', 'Timpano', 'Drago', 'behaviorists', 'chaos', 'blaze', 'Geauga', '\\ufeff', 'Dragonfall')\n",
      "; most_similar female: ('Marginalized', 'ADU', 'BME', '0280', 'Intimacies', '0279', '28304', 'Pasifika', '54401', 'intimacies', 'VUP', '53233', 'Marshallese', 'Identities', 'Hyphen', 'macro-', 'data', 'linkages', 'Herstory', 'rowing')\n",
      "=====================================\n",
      "gender direction 19.\n",
      " most_similar male: ('Wex', 'Sherkin', 'Isley', 'Rooks', 'vultures', 'Vultures', 'Cafaro', 'externing', 'Blackfish', 'Manos', 'Gulfcoast', 'Nordlund', 'Roda', 'Buffett', 'HHC', 'Graul', 'Oddball', 'mainland', 'Healthsouth', 'Kurre')\n",
      "; most_similar female: ('cardiomyocyte', 'cystectomy', 'Querying', 'terrified', 'frustrated', 'sympathectomy', 'contractility', 'cardiomyocytes', 'scared', 'myocytes', 'amenorrhea', 'PCOS', 'Arabe', 'dysmenorrhea', 'hypertrophy', 'EHESS', 'intimidated', 'CIBSE', 'radicalised', 'intravesical')\n",
      "=====================================\n",
      "gender direction 20.\n",
      " most_similar male: ('Juraj', 'Lalande', 'Halina', 'Szent', 'Jerold', 'Keven', 'Simma', 'Luc', 'Gyorgy', 'Praha', 'Endre', 'Orlin', 'Laci', 'Floriano', 'Wery', 'Malec', 'Sonnenburg', 'Steenbergen', 'unneeded', 'Lebar')\n",
      "; most_similar female: ('100-Mile', 'MEND', 'AFSP', 'Fairey', 'Creatives', 'PlayMakers', 'hydrogel', 'Bravery', 'Tees', 'hydrogels', 'polymer', 'Toughest', 'Activism', 'mettle', 'nonviolence', 'paddleboarding', 'militancy', 'Activists', 'activism', 'flyer')\n",
      "=====================================\n",
      "gender direction 21.\n",
      " most_similar male: ('oro', 'Sumitomo', 'tution', 'immunity', 'Riken', 'Trembling', 'Cooling', 'mint', 'Below', 'Kuro', 'Mitsubishi', 'Mint', 'cooling', 'vivos', 'victor', 'Voltage', 'dispositive', 'compensation', 'Mamiya', 'orchid')\n",
      "; most_similar female: ('Mongo', 'nesting', 'charting', 'Wayfarer', 'Saundra', 'Fb', 'Angular', 'HTML5', 'Coasters', 'Greasemonkey', 'Bhagwat', 'gestation', 'Chabon', 'Shona', 'concurrently', 'Jaswinder', 'populating', 'jQuery', 'JavaScript', 'CIDR')\n",
      "=====================================\n",
      "gender direction 22.\n",
      " most_similar male: ('Impossibility', 'EMMA', 'con-', 'hus', 'Sketch', 'LIM', 'AMOS', 'in-', 'Fancy', 'the-', 'Stitch', 're-', 'REX', 'SIR', 'silico', 'tion', 'sharply', 'securely', 'sketch', 'of-')\n",
      "; most_similar female: ('Regardless', 'K-6', 'mastery', 'cyberharassment', 'geared', 'mystique', 'fan', 'sourcebook', 'resurgence', 'melee', 'Shadowrun', 'MAcc', 'Celene', 'intrigue', 'MSLS', 'prefer', 'allure', 'Internists', 'Jaclyn', 'reignite')\n",
      "=====================================\n",
      "gender direction 23.\n",
      " most_similar male: ('MoreRead', '\\u200b', 'reservations', 'consults', 'presides', 'immobilization', 'hikes', 'steps', 'Dipl', 'Hendersonville', 'walks', 'conducts', 'negotiations', 'Sandals', 'perishables', 'consultative', 'treks', 'Ca', 'Saturdays', 'weekends')\n",
      "; most_similar female: ('youtube', 'username', 'microsoft', 'Youtube', 'censored', 'yours', 'muppet', 'flickr', 'creationists', 'machinima', 'haters', 'Orkut', 'barbie', 'alright', 'deviantART', 'deniers', 'mr', 'Diddy', 'Blogging', 'xxxx')\n",
      "=====================================\n",
      "gender direction 24.\n",
      " most_similar male: ('Allegro', 'move', 'Nathans', 'Schild', 'Motta', 'typing', 'Morsani', 'VBA', 'Chromatin', 'Sparr', 'PeopleSoft', 'VB', 'Traurig', 'Nucleus', 'strings', 'handles', 'Seibel', 'IMG', 'moves', 'Weitzenhoffer')\n",
      "; most_similar female: ('Khoon', 'interventionism', 'fanciful', 'bailouts', 'Tidepools', 'Catwalk', 'fantastical', 'Keynesian', 'empiric', 'bazaars', 'Vientiane', 'Mun', 'Spooked', 'Thuy', 'TARP', 'DSGE', 'Blithe', 'Traveller', 'Selfie', 'storybooks')\n",
      "=====================================\n",
      "gender direction 25.\n",
      " most_similar male: ('Venturi', 'Orlando', 'cluttering', 'Ugo', 'scrutinized', 'McGruff', 'Nürnberg', 'Textron', 'AMG', 'Bucerius', 'loitering', 'HSV', 'DSM', 'Ricciardelli', 'Nuremberg', 'Deltona', 'Chirico', 'Bosch', 'Gotti', 'Schnee')\n",
      "; most_similar female: ('Carnatic', 'flautist', 'erhu', 'caving', 'Rupee', 'Karnatic', 'marimba', 'quartets', '1857', 'Govinda', 'NIC', 'Bansuri', 'sitar', '8-bit', 'Selah', 'Sharath', 'Metroid', 'Saira', 'rock', 'Sibelius')\n",
      "=====================================\n",
      "gender direction 26.\n",
      " most_similar male: ('Bertram', 'Bramwell', '1927', 'novelty', 'anachronism', 'foolishness', 'Cheriton', 'Lovegren', '1928', 'p', 'Fairbanks', '1908', 'inventory', 'Hirschberg', 'Blois', 'Chesterton', '1936', 'historicism', 'beehives', 'Blondel')\n",
      "; most_similar female: ('abdominoplasty', 'Banglalink', 'Pawsitively', 'Tummy', 'PYP', 'Beaconhouse', 'NOSM', 'Anam', 'VIVO', 'Colaiste', 'Seo', 'Sprouts', 'Squeeze', 'DIEP', 'inking', 'POSTECH', 'Tuna', 'Pak', 'cholangiocarcinoma', 'Critters')\n",
      "=====================================\n",
      "gender direction 27.\n",
      " most_similar male: ('stints', 'Trammell', 'presumably', 'Shoals', 'Garrigues', 'post-1980', 'Housecall', '41.2', 'orthopedist', '2009-present', 'Ambulatory', 'Emmy-', 'propelling', 'averaged', '12-time', 'dutifully', 'ESPN.com', 'tilts', 'nods', 'showrunner')\n",
      "; most_similar female: ('food', 'childish', 'sensitization', 'greedy', 'weather', 'firework', 'dermatologic', 'rain', 'hunger', 'hungry', 'science', 'itchy', 'preparedness', 'cancer', 'bitter', 'sad', 'anticancer', 'chemical', 'rainy', 'eczema')\n",
      "=====================================\n",
      "gender direction 28.\n",
      " most_similar male: ('alarmed', 'alarm', 'Convinced', 'Puzzled', 'Worried', 'postman', 'Upset', 'rung', 'clanking', 'dismay', 'shaken', 'checked', 'Initially', 'Enabled', 'sceptical', 'Undaunted', 'ringing', 'suitcases', 'suitcase', 'worried')\n",
      "; most_similar female: ('excels', 'wanna', 'transcends', 'PL', 'laude', 'Femme', 'objectively', 'did', 'idolize', 'NEED', 'exposures', '1-on-1', 'chose', 'manages', 'gender-', 'strive', 'exists', 'CF', 'crave', 'excelling')\n",
      "=====================================\n",
      "gender direction 29.\n",
      " most_similar male: ('Papierski', 'folklorist', 'ENSA', 'Wartman', 'Nogowski', 'muralist', 'WKBW', 'Kandy', 'Ngoi', 'MidAmerica', 'SPUR', 'Shereen', 'accordionist', 'Tongan', 'Raekwon', 'regionalism', 'griot', 'Castagnola', 'Dafford', 'locals')\n",
      "; most_similar female: ('Kamchatka', 'Parenthood', 'Admit', '6560', 'Concern', 'Omsk', 'Natacha', 'Watcher', 'Novosibirsk', 'Responsibility', 'FOF', 'observed', 'România', '7733', '6339', 'stalked', 'Creation', 'Numéro', 'Males', 'Females')\n",
      "=====================================\n",
      "gender direction 30.\n",
      " most_similar male: ('pic', 'mani', 'Popeye', 'hill', 'CG', 'layout', 'Charmed', 'Mcgraw', 'devour', 'eat', 'devours', 'TCM', 'Hercules', 'Thirumala', 'pics', 'Jaws', 'pickiest', 'movie', 'Hooters', 'Maxim')\n",
      "; most_similar female: ('RCAH', 'CLIR', 'P-16', 'WEFT', 'caucuses', 'Junctures', 'EGAP', 'StoryCorps', 'ELMCIP', 'Conversations', 'Pambazuka', 'Undercurrents', 'countercultures', 'Oikocredit', 'futures', 'Futures', 'DAAD', 'AICGS', 'WOLA', 'KUOW')\n",
      "=====================================\n",
      "gender direction 31.\n",
      " most_similar male: ('Maccabees', 'tank', 'crater', 'Phantoms', 'deeds', 'JNF', 'shadow', 'Avigdor', 'Bombers', 'tanks', 'spotter', 'Pravda', 'Menachem', 'Wiesel', 'Lancer', 'jets', 'Jets', 'Squadrons', 'faint', 'afford')\n",
      "; most_similar female: ('introduces', 'welcomes', 'Pinterest', 'introducing', 'imposes', 'kidnaps', 'Hardy', 'proposes', 'derails', 'Wiggs', 'teases', 'Banga', 'establishes', 'pinterest', 'adopts', '}', '{', 'appropriates', 'poses', 'proposing')\n",
      "=====================================\n",
      "gender direction 32.\n",
      " most_similar male: ('Delventhal', 'Baking', 'Littles', 'Coop', 'brainstormed', 'Crafting', 'Duesterhaus', 'Shivar', 'Grains', 'Telling', 'Trottier', 'DuVernay', 'Chaffin', 'Viticulture', 'Baranowski', 'DeMeo', 'Ashworth', 'Boydston', '@', 'Hagopian')\n",
      "; most_similar female: ('nude', 'BNA', 'iPSC', 'Venezuelan', 'BPMN', 'EPO', 'Ilia', 'Macedonian', 'humpback', 'Slovenian', 'Serbian', 'Revlon', 'Ruffian', 'Maracaibo', 'UTP', 'macaque', 'premature', 'autologous', 'PPP', 'Republic')\n",
      "=====================================\n",
      "gender direction 33.\n",
      " most_similar male: ('5871', 'Discolored', '9131', 'blistering', '6177', '6659', '7787', '4483', '7664', '2523', 'Repair', '6564', 'Boil', '6426', '5588', '2584', 'Topsham', 'Distinguish', '4888', '9059')\n",
      "; most_similar female: ('AVID', 'Anglicare', 'EMAP', 'ACAP', 'Shelter', 'cages', 'ACTF', 'Caritas', 'LSS', 'ZSL', 'SPM', 'Takahe', 'INGOs', 'cage', 'DIVE', 'shifters', 'MassHealth', 'welfare', 'Nari', 'SAS')\n",
      "=====================================\n",
      "gender direction 34.\n",
      " most_similar male: ('POLA', 'heuristic', 'Sunga', 'webmasters', 'surfers', 'heuristics', 'scripts', 'Ahdoot', 'Asian', 'roberto', 'BitTorrent', 'ruthless', 'empires', 'inexperienced', 'Umeko', 'Sapan', 'actresses', 'Atsuko', 'Savalia', 'Vipul')\n",
      "; most_similar female: ('celebrating', 'nuptials', 'Watertown', 'wedding', 'Moraine', 'Mass', 'celebratory', 'celebration', 'vouchers', 'MSP', 'Celebrate', 'celebrate', 'AF', 'tethered', 'festivities', 'baptized', 'Stillwater', 'jubilant', 'voucher', 'captured')\n",
      "=====================================\n"
     ]
    },
    {
     "name": "stdout",
     "output_type": "stream",
     "text": [
      "gender direction 35.\n",
      " most_similar male: ('poodle', 'fluffy', 'poodles', 'Goldendoodle', 'schnauzer', 'ditzy', 'darling', 'dreamy', 'delicate', 'dachshunds', 'Javaheri', 'leggy', 'angelic', 'Farshid', 'Julee', 'Zilker', 'Chelsi', 'scrumptious', 'Heidi', 'embellishments')\n",
      "; most_similar female: ('Ss', 'Corman', 'Handed', 'Sell', 'Fly', 'LD', 'Pay', 'dimorphism', 'Eynde', 'indicator', 'ACP', 'Coffin', 'Ca', 'Aware', 'Paid', 'Bottle', 'Differently', 'rites', 'pay', 'Detect')\n",
      "=====================================\n",
      "gender direction 36.\n",
      " most_similar male: ('Papanikolaou', 'Bersani', 'Chihara', 'Violi', 'Bernardi', 'Risch', 'Hamori', 'Appearing', 'Fabius', 'aplomb', 'Kokas', 'invitations', 'Papaconstantinou', 'Bartschi', 'Camilleri', 'Noblet', 'Yokomizo', 'Albanese', 'premiers', 'Frattini')\n",
      "; most_similar female: ('SAI', 'Burrough', 'MMS', 'RISC', 'OI', 'MMU', 'SLF', 'FLL', 'HMP', 'shorted', 'BAH', 'LEF', 'CMP', 'VCO', 'Tektronix', 'HUM', 'BPC', 'EME', 'DFN', 'NI')\n",
      "=====================================\n",
      "gender direction 37.\n",
      " most_similar male: ('Bang', 'Money', '6x6', '1015', '1017', 'mattered', 'Whole', 'Sufi', 'Picasso', 'Creativity', 'bang', 'Imagination', 'disclosed', 'Door', 'probed', 'Indiatimes', 'MPS', 'Tv', 'stimulated', 'Led')\n",
      "; most_similar female: ('Addison', 'Kingwood', 'Trish', 'ARMS', 'Ophthalmologist', 'Oncologist', 'Olmsted', 'birthmark', 'Skeeters', 'brachioplasty', 'Phoebe', 'Elissa', 'Machemer', 'SouthEast', 'hyperhidrosis', 'Histiocytosis', 'Pearland', 'Radburn', 'Litchman', 'Settlers')\n",
      "=====================================\n",
      "gender direction 38.\n",
      " most_similar male: ('Fatales', 'Adrien', 'Jackal', 'Vargas', 'Maldonado', 'colonia', 'Madara', 'Decree', 'Racecourse', 'Diaz', 'Alphas', 'ingrained', 'Minardi', 'ruins', 'Mayweather', 'stables', '1787', 'Velasquez', '1777', 'Adonis')\n",
      "; most_similar female: ('segmental', 'Siemens', 'Vinyasa', 'hatha', 'Hatha', 'Falun', 'Timpe', 'Davita', 'Raychem', 'interrelatedness', 'Gaiam', 'Nortel', 'CorePower', 'G.E.', 'Sears', 'Conveyor', 'offshoring', 'Wipro', 'Cathay', 'HPB')\n",
      "=====================================\n",
      "gender direction 39.\n",
      " most_similar male: ('Bar', 'CMJ', 'Porthole', 'Scribes', 'Bands', 'Jockey', 'Jukebox', 'Dein', 'Skull', 'Tribe', 'Medicus', 'Slippers', 'Morrisey', 'Fedora', 'Fan', 'Slack', 'Lesion', 'Cantor', 'Congressional', 'radiologists')\n",
      "; most_similar female: ('̶', 'ending', 'canola', 'frying', 'demystifying', 'repurposing', 'lifecycle', 'underbanked', 'personne', 'GLA', 'maki', 'Waititi', 'honey', 'noncommunicable', 'fluffy', 'countering', '\\u200b', 'mixture', 'aHUS', 'dripping')\n",
      "=====================================\n",
      "gender direction 40.\n",
      " most_similar male: ('Resurgent', 'wagons', 'formations', 'post-2003', 'Chargers', 'cowboys', 'Confederate', 'dismantled', 'marshal', 'subnational', 'Yeovil', 'Haverfordwest', 'Batteries', 'postbellum', 'Callies', 'Division', '01655', 'dyads', 'declining', 'institutionalization')\n",
      "; most_similar female: ('Gain', 'Achieve', 'Lifestyle', 'lifestyle', 'Ideal', 'Perfect', 'Faizan', 'Striving', 'IDEAL', 'Helping', 'Livelihood', 'Upscale', 'Worldly', 'Tangible', 'taste', 'Helps', 'comfort', 'Able', 'Viterbi', 'degrees')\n",
      "=====================================\n",
      "gender direction 41.\n",
      " most_similar male: ('Woon', 'investigating', 'Quek', 'Sims', 'Wait', 'Wadley', 'Balazs', 'Hmm', 'Tue', 'Rowell', 'Posted', 'Thu', 'glitch', 'Flux', 'dragging', 'Teo', 'underwater', 'investigate', 'Yawn', 'Josey')\n",
      "; most_similar female: ('donna', 'ArtScroll', 'ings', 'reprinted', 'Twiztid', 'jerseys', 'Bioidentical', 'telugu', 'bioidentical', 'marathi', 'Tradizionale', 'Sorelle', 'nce', 'Champe', 'clit', 'ISLS', 'cation', 'inserts', 'convent', '34DD')\n",
      "=====================================\n",
      "gender direction 42.\n",
      " most_similar male: ('broadsides', 'Kimmel', 'hammered', 'rapped', 'podium', 'Guggenheim', 'premieres', 'Premiered', 'emcee', 'NYSE', 'amNewYork', 'bearer', 'Verizon', 'Shorenstein', 'emcees', 'date', 'WNYC', 'news', 'engraved', 'syphilis')\n",
      "; most_similar female: ('Annai', 'River', 'gradient', 'Samiti', 'Territory', 'PATHS', 'Sturt', 'Unschooling', 'gradients', 'NLP', 'Warlpiri', 'Godavari', 'Sharavathi', 'Shivpuri', 'Siang', 'Shipibo', 'ILP', 'Rivers', 'Swamp', 'Mahavidyalaya')\n",
      "=====================================\n",
      "gender direction 43.\n",
      " most_similar male: ('Was', 'Tired', 'Got', 'Not', 'Did', 'Can', 'Wanted', 'Became', 'Want', 'Are', 'Should', 'Thrilled', 'Need', 'Reluctant', 'Largely', 'Never', 'Shall', 'sat', 'Hated', 'Would')\n",
      "; most_similar female: ('worded', 'generalize', 'generalization', 'classifies', 'contextualized', 'Senge', 'operationalize', 'Boutique', 'behave', 'heading', 'Mr.', 'implement', 'Ms.', 'Fashions', 'accordance', 'spelled', 'contextually', 'actionable', 'categorize', 'interpretable')\n",
      "=====================================\n",
      "gender direction 44.\n",
      " most_similar male: ('monotonous', 'restrictive', 'monotonic', 'furthermore', 'leukemic', 'stratified', 'TRIPS', 'hurry', 'Malawian', 'shapeless', 'STAM', 'Noth', 'deepness', 'abolish', 'PEL', 'burdensome', 'quantity', 'Andriessen', 'psychedelic', 'eternal')\n",
      "; most_similar female: ('athlete', 'ProActive', 'Jaguar', 'GoPro', 'sports', 'geolocation', 'botnets', 'Dasher', 'Giffin', 'analytics', 'Proactive', 'operations', 'arthroscopy', 'Analytics', 'Citi', 'USAA', 'botnet', 'Nike', 'KeyBank', 'Hoppes')\n",
      "=====================================\n",
      "gender direction 45.\n",
      " most_similar male: ('Recep', 'Foxworthy', 'Grainger', 'Tracie', '18th', 'Shanna', '19th', 'McKnight', 'Dorman', 'Seine', 'Ferrell', 'Rudisill', '20th', 'Selz', 'Gena', 'Garey', 'Shaun', 'Ronna', 'Ferguson', 'Shellie')\n",
      "; most_similar female: ('Populi', 'Portfolios', 'Modest', 'Espacio', 'applets', 'Impetus', 'substantial', 'Abierta', 'Ercol', 'educative', 'reforms', 'Magma', 'Veldt', 'compulsory', 'Finale', 'sizeable', 'ETFs', 'movable', 'Constructive', 'Nimbus')\n",
      "=====================================\n",
      "gender direction 46.\n",
      " most_similar male: ('Fade', 'Rated', 'Statistical', 'corrections', 'Rating', 'Correction', 'CCTV', 'Revealing', 'fugitive', 'handcuffed', 'Flash', 'aid', 'Imager', 'fading', 'aided', 'hiding', 'Exterior', 'handcuffs', 'Interior', 'manipulated')\n",
      "; most_similar female: ('Essig', 'Ellzey', 'Nespresso', 'Teeter', 'Zachman', 'Coles', 'Brockmeier', 'Bombeck', 'Herweg', 'Diedrich', 'coworking', 'Bendel', 'Malouf', 'kubernetes', 'sustainer', 'RBD', 'Friese', 'apt', 'savannas', 'Specht')\n",
      "=====================================\n",
      "gender direction 47.\n",
      " most_similar male: ('fraught', 'UCD', 'tense', 'earlier', 'Globes', 'metre', 'metres', 'Holi', '9NEWS', 'calmer', 'Firstpost', 'Starry', 'hackathon', 'Festive', 'Moments', 'contentious', 'tantrums', 'improvised', 'Sawant', 'Cochabamba')\n",
      "; most_similar female: ('handyman', 'Handyman', 'presses', 'Woodbury', 'Chipley', 'woodworker', 'Chubb', 'Brooksville', 'Woodworker', 'Wendell', 'Grandy', 'Batesville', 'Homeowner', 'watercolorist', 'Pawling', 'insures', 'carpenter', 'Bookkeeper', 'Clewiston', 'jobbing')\n",
      "=====================================\n",
      "gender direction 48.\n",
      " most_similar male: ('Elvira', 'juvenile', 'juveniles', 'PPU', 'Adolf', 'stork', 'Englund', 'Seghers', 'Francoist', 'Komala', 'Polanski', 'BAD', 'Kuczynski', 'Malathi', 'Showgirls', 'inmates', 'Böll', 'Picazo', 'homosexual', 'lesbianism')\n",
      "; most_similar female: ('Haptic', 'ADAS', 'Embedded', 'QTI', 'webcasts', 'Adaptive', 'Modality', 'Stream', 'webcast', 'podcasts', 'Planner', 'Cutoff', 'dominate', 'Sensory', 'Quizlet', 'podcast', 'mLearning', 'Cognitive', 'MassCUE', 'Analyzer')\n",
      "=====================================\n",
      "gender direction 49.\n",
      " most_similar male: ('Navodaya', 'Bahraini', 'Saudi', 'Hardinge', 'Corea', 'Amal', 'Mayas', 'Yucatan', 'Bahrain', 'Emirati', 'Filipinas', 'HBSC', 'Bengaluru', 'aspirants', 'Deccan', 'satires', 'Naipaul', 'Malabar', 'Sidhwa', 'Lakdawala')\n",
      "; most_similar female: ('Stimulus', 'inventory', 'Infusion', 'Wubs', 'increases', 'Sunnyview', 'quantities', 'Bonus', 'Yarn', 'infusions', 'overdoses', 'irrationally', 'NETA', 'Omega-3', 'Artie', 'Organismic', 'regenerating', 'decrease', 'baby', 'Collectibles')\n",
      "=====================================\n",
      "gender direction 50.\n",
      " most_similar male: ('reformulation', '￼', 'Celaya', 'neurotoxin', 'Cengage', 'Shh', 'option', 'Ayyash', 'explicit', 'Alembic', 'adding', 'adrenalectomy', 'adobe', 'panicked', 'Schrager', 'smell', 'AJE', 'D.E.A.', 'rhinoplasties', 'Answer')\n",
      "; most_similar female: ('imagers', 'Hitachi', 'GMD', 'Mirka', 'Portable', 'Imke', 'imager', 'Miniature', 'Appreciation', 'polymath', 'Princesses', 'Outings', 'Ribbons', 'Tennis', 'ODD', 'CTO', 'Roundtables', 'breakthroughs', 'holders', 'Slippers')\n",
      "=====================================\n",
      "gender direction 51.\n",
      " most_similar male: ('fats', '4100', '5900', '5650', '2555', '2562', '7050', '4231', 'body', '5500', '6700', '5600', '8200', 'Matkin', 'bodys', '1725', 'valves', '1820', '9200', 'Thomassen')\n",
      "; most_similar female: ('Guerilla', 'Posters', 'Peep', 'Penned', 'Guerrilla', 'Ads', 'Superbowl', 'guerrilla', 'Advertisements', 'Tagline', 'Informer', 'Poster', 'Political', 'guerilla', 'NOON', 'Apologies', 'TYPO', 'Monocle', 'Dumbest', 'glimpsed')\n",
      "=====================================\n",
      "gender direction 52.\n",
      " most_similar male: ('applets', 'implementations', 'pixie', 'Atomics', 'Atol', 'SSA', 'LineRate', 'SoCs', 'caching', 'carousel', 'arbitrarily', 'Semiconductor', 'Chubby', 'Architecting', 'FTF', 'workforces', 'Daiichi', 'Vanger', 'ActiveX', '1637')\n",
      "; most_similar female: ('M.d', 'HH', 'upcycling', 'canvass', 'URBZ', 'reserach', 'tous', 'Ranawat', 'C.S', 'lifestyle', 'eco-', 'Rav', 'passions', 'Studying', 'Kolb', 'leather', 'Choma', 'Involvement', 'Shailee', 'ArtLab')\n",
      "=====================================\n",
      "gender direction 53.\n",
      " most_similar male: ('blocked', 'injured', 'totaled', 'brakes', 'Nobis', 'Coffman', 'Gutterman', 'redirected', 'Majus', 'Meyers', 'Garns', 'Kaster', 'Karman', 'Bahr', 'ligaments', 'Alman', 'Amster', 'Shoulder', 'Lumbar', 'angles')\n",
      "; most_similar female: ('Piagetian', 'blackboard', 'Melanesian', 'Unpacking', 'SciPy', 'precollege', 'eResearch', 'numeracy', 'Statistical', 'macrobiotic', 'ISME', 'Nonparametric', 'Honiara', 'Behaviours', 'Dietary', 'Inference', 'lice', 'Representational', 'powerpoint', 'schoolwide')\n",
      "=====================================\n",
      "gender direction 54.\n",
      " most_similar male: ('Linings', 'threaded', 'Drenner', 'scrapers', 'donning', 'gray', 'newsreaders', 'Keaton', 'Fracturing', 'CFTC', 'opaque', 'Geoscientists', 'Ridgeway', 'Carbide', 'piecing', 'CJA', 'tungsten', 'dominate', 'processors', 'Drilling')\n",
      "; most_similar female: ('wanderlust', 'Francophile', 'Philosophie', 'hazard', 'Condé', 'Toots', 'concomitance', 'Docent', 'Lettres', 'una', 'Voltaire', 'Gallico', 'Passi', 'CNAP', 'VD', 'foodie', 'Montesquieu', 'Stendhal', 'Giannuzzi', 'Galatians')\n",
      "=====================================\n"
     ]
    },
    {
     "name": "stdout",
     "output_type": "stream",
     "text": [
      "gender direction 55.\n",
      " most_similar male: ('Cenac', 'Gilfillan', 'Ghouse', 'Rothberg', 'Talwar', 'McGillivray', 'Loughlin', 'Maclean', 'Purdey', 'Schorr', 'Spinella', 'Saperstein', 'manifold', 'Carrell', 'Mazzei', 'Valiant', 'Rigg', 'Chisholm', 'Advani', 'Ruffalo')\n",
      "; most_similar female: ('AUP', 'cyberpunk', 'tos', 'Troopers', 'interlocal', 'assignement', 'netlabel', 'GNU', 'PED', 'Aomori', 'Paintsville', 'po', 'intermedia', 'carpal', 'github', 'Symfony2', 'ville', 'Lona', 'Kaiapoi', 'parapsychological')\n",
      "=====================================\n",
      "gender direction 56.\n",
      " most_similar male: ('Palatka', 'Slocumb', 'Wests', 'Opdyke', 'LaCrosse', 'Wasco', 'Designers', 'Kucha', 'Dowdy', 'Kaukauna', 'Westfield', 'Lamson', 'Should', 'Brookville', 'Goodyear', 'Wainscott', 'Bechers', 'Elco', 'Allworth', 'Millville')\n",
      "; most_similar female: ('caseworker', 'Sociale', 'penpal', 'Volunteering', 'monitor', 'adjust', 'Reintegration', 'LGBTI', 'monitoring', 'Aftercare', 'clinic-', 'volunteering', 'see', 'waitlists', 'reintegration', 'VSO', 'culturale', 'TPR', 'organise', 'EDGI')\n",
      "=====================================\n",
      "gender direction 57.\n",
      " most_similar male: ('Sketchbook', 'Binders', 'Sketchbooks', 'Manuscript', 'Entries', 'Prose', 'Templates', 'Bookbinding', 'Inventories', 'Handal', 'Pages', 'Zine', 'Everyday', 'Conscientious', 'Calendars', 'Jernej', 'Page', 'Blurb.com', 'Critiques', 'Binder')\n",
      "; most_similar female: ('Afrobeats', 'Nigerian', 'landmine', 'Ukranian', 'Cameroonian', 'kidnapping', 'Congolese', 'scaling', 'grappling', 'collision', 'abduction', 'dodging', 'explosion', 'Brazillian', 'grapples', 'survivor', 'Ukrainian', 'homing', 'dual', 'shapeshifting')\n",
      "=====================================\n",
      "gender direction 58.\n",
      " most_similar male: ('AskMen', 'Mitochondrion', 'apostasy', 'Hashemi', 'Jackets', 'uterus', 'Women', 'sexism', 'misogyny', 'Ghaddar', 'imports', 'womens', 'Polarize', 'andropause', 'equivalents', 'famine', 'breadwinner', 'post-1970s', 'huh', 'women')\n",
      "; most_similar female: ('preschoolers', 'BES', 'PreK', 'preschool', 'identified', 'SEP', 'Briarwood', 'PreK-3', 'planted', 'MAR', 'Montessori', 'disabled', 'Playworld', 'belonging', 'NCSS', 'kindergarten', '0022', '0280', 'ILD', 'Educare')\n",
      "=====================================\n",
      "gender direction 59.\n",
      " most_similar male: ('Chafee', 'Lasell', 'Babson', 'CFMA', 'Applicability', 'Subsection', 'Heuristics', 'loopholes', 'Shepard', 'Predoctoral', 'G.S.', 'Paragraph', 'Greylock', 'Incivility', 'Shepherds', 'Arbitrator', 'ECE', 'MANETs', 'Quarters', 'Sentence')\n",
      "; most_similar female: ('FreeOnes', 'nudes', 'Garters', 'striptease', 'Playboy', 'softcore', 'ladyboy', 'Bayamon', 'Dansk', 'pictorials', 'GGurls', 'Kata', 'annexation', 'arousing', 'porno', 'Nudes', 'babe', 'FHM', 'pornographic', 'Kmart')\n",
      "=====================================\n",
      "gender direction 60.\n",
      " most_similar male: ('whipped', 'Moore', 'Calvin', 'Stringfellow', 'Gray', 'Lacroix', 'unquestionably', 'Switzer', 'Heade', 'Ingels', 'Mayhew', 'Katt', 'cornerstones', 'Hobbes', 'Hendricks', 'Mugler', 'screenshots', 'Mapp', 'McCray', 'stripes')\n",
      "; most_similar female: ('4th-8th', '4th-6th', 'Seatown', 'ureter', '10th-12th', 'chondrocytes', 'Raise', 'Inguinal', 'Carpal', 'Fermoy', 'carpel', 'Gorkem', 'Iraqi', 'microtia', 'Cartilage', 'DePuy', 'Zilvinas', 'cartilage', 'Rachna', 'orthopaedic')\n",
      "=====================================\n",
      "gender direction 61.\n",
      " most_similar male: ('choline', 'Tau', 'UAlbany', 'Estrich', 'Brahma', 'Tok', 'theologically', 'QSM', 'xoJane', 'theorize', 'Gok', 'Apatow', 'ecofeminism', 'exegesis', 'Misogyny', 'eggs', 'Har', 'chant', 'Kra', 'Ecofeminism')\n",
      "; most_similar female: ('Children', 'children', 'braces', 'Activity', 'marionettes', 'kids', 'Activities', 'kid', 'kiddos', 'Kids', 'Interests', 'Adults', 'childrens', 'Braces', 'impairments', 'LOVED', 'child', 'strabismus', 'rates', 'minimum')\n",
      "=====================================\n",
      "gender direction 62.\n",
      " most_similar male: ('utilizing', 'Merriman', 'Traumatology', 'incorporates', 'utilizes', 'AAOS', 'cardiothoracic', 'knee', 'VATS', 'spinal', 'thoracic', 'echos', 'rearfoot', 'clavicle', 'articular', 'Employing', 'patellofemoral', 'UAA', 'dislocated', 'preexisting')\n",
      "; most_similar female: ('Bus', 'Stonehenge', 'Nasik', 'bus', 'Siddhi', 'Hezbollah', 'Harihareshwar', 'Gangapur', 'Poona', 'Kingfisher', 'Satguru', 'P1', 'Porsche', '004', 'Haridwar', 'Holi', 'Hitech', 'Kalam', 'Belur', 'Atheists')\n",
      "=====================================\n",
      "gender direction 63.\n",
      " most_similar male: ('Gird', 'forecasting', 'Sanghi', 'OND', 'Ahya', 'GBM', 'someday', 'EEE', 'sis', 'A380', 'engraftment', 'B.E', 'Gab', 'IBRAHIM', 'Fratello', 'Isetan', 'Spencers', 'plotting', 'Shifa', 'Defy')\n",
      "; most_similar female: ('contested', 'Symbolism', 'marginalised', 'devalued', 'Comprehensive', 'Engaging', 'Critically', 'Chaplin', 'Importance', 'unrepresented', 'Meanings', 'Cultural', 'grappled', 'minoritized', 'Communities', 'disempowered', 'Problematizing', 'stigmatized', 'Reframing', 'Ethnography')\n",
      "=====================================\n",
      "gender direction 64.\n",
      " most_similar male: ('depraved', 'uncivilized', 'barbarism', 'dandyism', 'civilized', 'barbaric', 'Abdellah', 'atrocity', 'decadence', 'heinous', 'Sade', 'abomination', 'southerner', 'Moslem', 'squalid', 'disgusting', 'Timbuktu', 'mutilated', 'Libertines', 'stigmatized')\n",
      "; most_similar female: ('Busines', 'teambuilding', 'Business', 'Collider', 'clients', 'Agility', 'Pros', 'pipeline', 'strategy', 'solopreneurs', 'Dragon', 'Teamwork', 'hurdles', 'skillsets', 'chances', 'queries', 'Propeller', 'business', 'strategies', 'workstations')\n",
      "=====================================\n",
      "gender direction 65.\n",
      " most_similar male: ('Khar', 'Firmly', 'Mangal', 'Aashirwad', 'Kuber', 'Essel', 'Shahi', 'tenement', 'Deal', 'mogul', 'victimisation', 'Kashi', 'Atta', 'Ansari', 'Panchsheel', 'Jayshree', 'Ambika', 'Khurshid', 'Poddar', 'Listed')\n",
      "; most_similar female: ('Liaisons', 'Wartburg', 'Overtime', 'downtime', 'UGA', 'Chattahoochee', 'clinicals', 'CLCE', 'uniforms', 'exam', 'Cerner', 'Coding', 'CCHS', 'Knoxville', 'Corrections', 'evolves', 'Revolutions', 'labors', 'Benefis', 'Portneuf')\n",
      "=====================================\n",
      "gender direction 66.\n",
      " most_similar male: ('This', 'Biannual', 'Such', 'That', 'AMA', 'Panchali', 'Ruchira', 'Generally', 'It', 'ISCM', 'Certain', 'One', 'Another', 'Having', 'VONA', 'Aosdána', 'Biopics', 'lifetime', 'The', 'MELUS')\n",
      "; most_similar female: ('overtones', 'silliness', 'profitably', 'continued', 'absurdity', 'resumed', 'misadventures', 'difficulties', 'aggressively', 'supersymmetric', 'Carlinville', 'begin', 'excels', 'Qs', 'familiar', 'singled', 'resorting', 'strangeness', 'commonplaces', 'resorted')\n",
      "=====================================\n",
      "gender direction 67.\n",
      " most_similar male: ('ColorLines', 'Kondabolu', 'undo', 'MLJ', 'peep', '0170', 'Transgress', 'Colorlines', 'diff', 'disproportionality', 'Theol', 'Mic', 'Gest', 'Tuebingen', 'Deutsche', 'injustices', 'Hochschule', 'Tanaz', 'gap', '0066')\n",
      "; most_similar female: ('occupants', 'perishable', 'warm', 'possessions', 'warmer', 'blankets', 'transient', 'responders', 'dependable', 'Oliviero', 'Mustang', 'Statesville', 'nonspecific', 'Warm', 'Fernandina', 'linens', 'Dependable', 'porous', 'Ormond', 'Kennealy')\n",
      "=====================================\n",
      "gender direction 68.\n",
      " most_similar male: ('copyright', 'copyrights', 'copyleft', 'chemokines', 'dementias', 'guilds', 'ribosome', 'copyrighted', 'Faeries', 'Sigcomm', 'URBZ', 'pathogenic', 'KONAMI', 'Legalities', 'chemotaxis', 'mafias', 'Crytek', 'goblins', 'Giants', 'AIAS')\n",
      "; most_similar female: ('hs', 'pediatrician', '12-years', 'Worth', 'Children', 'Coroner', 'child', 'recommended', 'Diagnostician', 'P.E.', 'Pediatrician', 'willingness', 'Jett', 'Breckinridge', 'tire', 'physician', 'Tilden', 'Holabird', 'Northshore', 'Snorkel')\n",
      "=====================================\n",
      "gender direction 69.\n",
      " most_similar male: ('Sociedad', 'Torcuato', 'lexical', 'Quechua', 'Akademi', 'psycholinguistic', 'Musa', 'Azerbaijani', 'Emiri', 'Iñupiat', 'Maulana', 'GLS', 'Sangeet', 'Vygotsky', 'Republika', 'Sahrawi', 'Cristóbal', 'IALA', 'Uzbekistan', 'Circulo')\n",
      "; most_similar female: ('repaired', 'Lyme', 'Doylestown', 'enough', 'Weld', 'civilly', 'repair', 'fix', 'Herkimer', 'DHMC', 'Sherbourne', 'EDAC', 'Fishkill', 'Paltz', 'Bullett', 'Fries', 'inexpensively', 'Cozen', 'Ober', 'reconfigure')\n",
      "=====================================\n",
      "gender direction 70.\n",
      " most_similar male: ('IDG', 'Piaget', 'undisputed', 'elevates', 'catwalk', 'outlets', 'disputed', 'ADN', 'neuroanatomical', 'Huffington', 'Enquirer', 'MoMa', 'claims', 'MLB.com', 'Radar', 'catwalks', 'tuatara', 'celeb', 'elevated', 'mainstream')\n",
      "; most_similar female: ('Compiled', 'environnment', 'sands', 'Theme', 'Coins', 'Winds', 'Cleansing', 'Runes', 'Used', 'Wishing', 'Horseman', 'percussions', 'Seaside', 'Conducting', 'Rider', 'Liberating', 'Crusade', 'Bountiful', 'Prosperous', 'Kindler')\n",
      "=====================================\n",
      "gender direction 71.\n",
      " most_similar male: ('estimations', 'Suono', 'BBC3', 'Yankers', 'Bomba', 'interference', 'genus', 'linguists', 'PCS', 'Mosca', 'hermaphrodite', 'Milli', 'Armonica', 'ranking', 'unscientific', 'Grub', 'spin', 'Scienza', 'Squad', 'MIMO')\n",
      "; most_similar female: ('Monadnock', 'Timeline', 'fairmont', 'Amiel', 'Wiser', 'overnight', 'AJN', 'lade', 'Pilgrim', 'Sendai', 'Staying', 'Fairmont', 'mindful', 'vigilant', 'Badertscher', 'cookies', 'Lurene', 'Carmel', 'awhile', 'HIE')\n",
      "=====================================\n",
      "gender direction 72.\n",
      " most_similar male: ('Karr', 'MacIntyre', 'Shrout', 'Laird', 'Heit', 'Bluedorn', 'MacLean', 'Empirically', 'Braden', 'Rossman', 'Melnyk', 'Aitken', 'Tatman', 'Shefrin', 'Kornfield', 'Kendall', 'Russell', 'Laughing', 'Cowen', 'Krupnick')\n",
      "; most_similar female: ('sweltering', 'humid', 'stopover', 'showpiece', 'spiders', 'knockout', 'migrant', 'pulsating', 'bays', 'torrid', 'humidity', 'dusky', 'fixture', 'ingress', 'hotbed', 'injection', 'pivotal', 'afterhour', 'spider', 'teeming')\n",
      "=====================================\n",
      "gender direction 73.\n",
      " most_similar male: ('optioned', 'SMOKE', 'unmarketable', 'jobbing', 'ASPECT', 'emblazoned', 'Backlash', 'REGION', 'MuscleMag', 'veto', 'Relapse', 'flexes', 'noticeable', 'Hellraiser', 'occasional', 'début', 'Kerrang', 'flung', 'birthmark', 'pisses')\n",
      "; most_similar female: ('coastal', 'riverine', 'Vital', 'Nurul', 'Nasrul', 'calming', 'analytics', 'sophisticated', 'upazila', 'mangrove', 'Erudite', 'modernizing', 'cardiothoracic', 'defense', 'Pantai', 'Tarik', 'Anam', 'wetlands', 'mangroves', 'Boko')\n",
      "=====================================\n"
     ]
    },
    {
     "name": "stdout",
     "output_type": "stream",
     "text": [
      "gender direction 74.\n",
      " most_similar male: ('entice', 'not', 'Peirce', 'Durgin', 'teaser', 'Courant', 'vagueness', 'adjectives', 'descriptive', 'Rendell', 'persuade', 'ought', 'Propositions', 'Culliton', 'description', 'EPPA', 'Lussier', 'coin', 'might', 'propositions')\n",
      "; most_similar female: ('Zhanna', 'choreographing', 'logistical', 'Eurosport', 'YMT', 'choreographs', 'Rostov', 'Baku', 'aerials', 'upmost', 'spectating', 'Shanghainese', 'epicentre', 'parental', 'hora', 'T1D', 'bespoke', 'orchestrates', 'Dynastic', 'interruptions')\n",
      "=====================================\n",
      "gender direction 75.\n",
      " most_similar male: ('mythological', 'Maratha', 'ideological', 'nationalistic', 'historical', 'nationalist', 'militarized', 'microbiological', 'heritage', 'historiographic', 'bureaucratic', 'Ossetian', 'scientific', 'mythical', 'Bicentenary', 'Odissi', 'missionary', 'Afrikaner', 'Kuka', 'delegations')\n",
      "; most_similar female: ('admit', 'Bornstein', 'LL', 'Mcgee', 'Kaz', 'Biddle', 'Attell', 'Wiz', 'Hebb', 'Reggie', 'Golson', 'McNally', 'Ullman', 'Burrell', 'Macklin', 'Ivey', 'Darnell', 'Holzman', 'Spades', 'Sacks')\n",
      "=====================================\n",
      "gender direction 76.\n",
      " most_similar male: ('Mazzaglia', 'Plale', 'Crosbie', 'Gallaway', 'cents', 'indictment', 'Heifner', 'twenties', 'Wardrobe', 'Keg', 'Flinn', 'lb', 'barge', 'Geddings', 'storesThe', 'comment', 'Reckless', 'Shields', 'ANY', 'Boon')\n",
      "; most_similar female: ('CGS', 'Endocrinology', 'Shaare', 'HIAS', 'Kedar', 'Openhouse', 'SFVAMC', 'KCRW', 'Outpatient', 'institutionalization', 'asylum', 'Terman', 'Shalem', 'Yeshurun', 'Rivka', 'CARECEN', 'cardiology', 'Schwartzman', 'Asylum', 'Perlin')\n",
      "=====================================\n",
      "gender direction 77.\n",
      " most_similar male: ('Nines', 'Dirksen', 'humiliation', '2441', 'disfigurement', 'Lehnert', 'embarrassment', 'Notes', 'Pietrangelo', 'legs', 'meningioma', '2147', 'Luebbert', 'memories', '4144', 'Boram', 'Yusaf', 'Rhinos', 'Aamer', 'iceberg')\n",
      "; most_similar female: ('scrutinizing', 'UPV', 'scrutinize', 'Perform', 'Regulate', 'naturopathic', 'naturopath', 'MovNat', 'Inverse', 'lauded', 'conducting', 'Undertaking', 'surprised', 'parapsychologist', 'Conducting', 'prover', 'Proactive', 'scrutinized', 'correlating', 'Prove')\n",
      "=====================================\n",
      "gender direction 78.\n",
      " most_similar male: ('VxWorks', 'WRL', 'Uludağ', 'panoramas', 'HiRISE', 'Norikura', 'Keweenaw', 'panorama', 'Stegner', 'Yangtze', 'Alexanderplatz', 'PanoTools', 'Sharp', 'windsurfing', 'daylighting', 'stitching', 'AOFAS', 'CME', 'Dolin', 'hydroelectric')\n",
      "; most_similar female: ('Idols', 'Politiques', 'normalities', 'crushes', 'Valedictorian', 'princes', 'Mentality', 'precepts', 'outcasts', 'mantras', 'buddies', 'vows', 'idols', 'misfits', 'acts', 'Ideals', 'pranks', 'brothers', 'Ideologies', 'kings')\n",
      "=====================================\n",
      "gender direction 79.\n",
      " most_similar male: ('Korsakov', 'shipbuilding', 'Tula', 'Grandin', 'Georgi', 'neuroprotection', 'Calva', 'Vor', 'Perm', 'Nizhny', 'neuroprotective', 'arts', 'soy', 'NMS', 'gar', 'Canman', 'Bast', 'novo', 'Crucible', 'polyaromatic')\n",
      "; most_similar female: ('privacy', 'Knesset', 'smile', 'Privacy', 'Ridges', 'knob', 'millimeter', 'wholeness', 'consent', 'Erlbaum', 'unbearable', 'smiles', 'Dharamsala', 'obstacle', 'apart', 'Hearing', 'continuously', 'Smiling', 'Dharamshala', 'Osho')\n",
      "=====================================\n",
      "gender direction 80.\n",
      " most_similar male: ('Atol', 'thieves', 'jewelery', 'shielding', 'theft', 'dwarfs', 'Hoppé', 'Bielik', 'Stieg', 'generators', 'jewellery', 'Hugo', 'thefts', 'Ekstrand', 'jewllery', 'Koscielniak', 'masks', 'Oppermann', 'crooks', 'Steffan')\n",
      "; most_similar female: ('Refresh', 'Commanding', 'readmission', 'YLD', 'reminiscing', 'Rotation', 'Nittany', 'GSAPP', 'Transitioning', 'Dining', 'Forward', 'commanding', 'converged', 'Transgress', 'Admissions', 'Moderation', 'Pivot', 'Readmissions', 'Command', 'Healthy')\n",
      "=====================================\n",
      "gender direction 81.\n",
      " most_similar male: ('Outsiders', 'unsurprisingly', 'Retailers', 'assortment', 'Bigger', 'ACEP', 'lineup', 'fanfare', 'Issue', 'traditionally', 'pervade', 'Hoops', 'retailers', 'fewer', 'Freshmen', 'lotta', 'Princesses', 'Mavericks', 'wraparound', 'seemingly')\n",
      "; most_similar female: ('crucis', 'Bacillus', 'artemisinin', 'Basil', 'cerevisiae', 'Mathan', 'Edapally', 'whistleblower', 'whistleblowing', 'Hanbury', 'Perumbavoor', 'Shoba', 'multiferroic', 'Dhanya', 'Sreenivasan', 'SAPA', 'Soham', 'Katherine', 'Huy', 'testimonio')\n",
      "=====================================\n",
      "gender direction 82.\n",
      " most_similar male: ('Sabah', 'Huay', 'Sarawak', 'Khai', 'Tok', 'Topaz', 'Dian', 'Yue', 'Fen', 'ranger', 'Amulet', 'Lao', 'Kedah', 'Haji', 'Kalimantan', 'Tabin', 'Idris', 'Joss', 'Shou', 'Shang')\n",
      "; most_similar female: ('shootings', 'Victimology', 'Obsessive', 'Futurism', 'Nihilism', 'Shootings', 'femicide', 'fixation', 'casein', 'Fascists', 'gynecomastia', 'molestation', 'Interventions', 'Lacanian', 'PCI', 'infill', 'Compulsive', 'Psychopathy', 'Postmodern', 'autodidact')\n",
      "=====================================\n",
      "gender direction 83.\n",
      " most_similar male: ('epitomized', 'modeled', 'seasons', 'furthered', 'variation', 'explored', 'variations', 'phenology', 'demonstrated', 'facilitated', 'reinterpretation', 'explore', 'characterized', 'NCHA', 'summarized', 'season', 'identified', 'characterize', 'host', 'oversaw')\n",
      "; most_similar female: ('e-', 'pos', 'photosensitive', '0', 'Godrej', 'Akansha', 'Thio', 'HCL', 'Narmada', 'Veldt', 'l', 'Crawshaw', 'Lesen', 'orang', 'Akshaya', '10.0', 'Arnab', 'Akruti', 'Vats', 'Amitav')\n",
      "=====================================\n",
      "gender direction 84.\n",
      " most_similar male: ('MPC', 'Starfighter', 'Cranberry', 'pilots', 'touched', 'glide', 'Landings', 'landings', 'Pilots', 'Eke', 'Drosophila', 'SPB', 'AJK', 'fondled', 'Aikins', 'Neonatal', 'PAs', 'FCS', 'gliders', 'nurses')\n",
      "; most_similar female: ('skepticism', 'Zócalo', 'disagreement', 'Corbis', 'edX', 'cultura', 'mistrust', 'Postmodernity', 'distrust', 'cocina', 'originates', 'belief', 'Environmentalism', 'agrees', 'indemnification', 'clause', 'environmentalism', 'Belief', 'wealthy', 'presuppositions')\n",
      "=====================================\n",
      "gender direction 85.\n",
      " most_similar male: ('widow', 'Nicu', 'gure', 'heroic', '90th', 'prince', 'RAF', 'Molar', 'child-', 'tenth', 'Hardest', 'Hedi', 'fresco', 'molar', 'Heimlich', 'infant', 'twentieth', 'Airman', 'selfless', '0.7')\n",
      "; most_similar female: ('EVP', 'TRIP', 'expands', 'BUILD', 'Bioenergy', 'energy', 'SHIFT', 'generated', 'soundscapes', 'INNS', 'REC', 'MAKE', 'Trek', 'mapped', 'unleashes', 'Geographics', 'Quantum', 'contracts', 'generates', 'MIND')\n",
      "=====================================\n",
      "gender direction 86.\n",
      " most_similar male: ('Handwritten', 'Mornington', 'alphabet', 'alphabets', 'handwritten', 'Phrases', 'letters', 'Hawkesbury', 'Complicated', 'Solitaire', 'Typing', 'sums', 'Entertaining', 'Valentines', 'scribbling', 'Ab', 'variations', 'verses', 'Manly', 'emoji')\n",
      "; most_similar female: ('FLACSO', 'UHM', 'MESA', 'generalist', 'spatialization', 'Schimmelpfennig', 'rehabilitates', 'interdisciplinary', 'coordinates', 'colloquium', 'restores', 'phenomenologist', 'MSSW', 'Commonweal', 'NAU', 'Codirector', 'gathers', 'UABC', 'SDI', 'EHESS')\n",
      "=====================================\n",
      "gender direction 87.\n",
      " most_similar male: ('grown', 'aggregated', 'Velvet', 'cultivars', 'Charcoal', 'matured', 'Ash', 'gotten', 'beetle', 'pest', 'beetles', 'darker', 'Pug', 'grained', 'mite', 'Bark', 'Marl', 'ash', 'Beetles', 'mature')\n",
      "; most_similar female: ('emerita', 'RAICES', 'Iker', '\"The', 'speechwriter', 'Migrantes', 'veteran', 'Macri', 'veterans', 'CARECEN', 'lector', 'Sojourners', 'newfound', 'pedagogue', 'sainted', 'Agustín', 'LIRS', 'embattled', 'reassignment', 'reinsertion')\n",
      "=====================================\n",
      "gender direction 88.\n",
      " most_similar male: ('Amongst', 'cobalt', 'aqua', 'Buchenwald', 'dyes', 'Plaisir', 'Among', 'Arkansan', 'pistachio', 'Graduating', 'abalone', 'scrolls', 'Brevis', 'augmentative', 'polka', 'alphabetical', 'din', 'Theresienstadt', 'conjugation', 'Etoiles')\n",
      "; most_similar female: ('sanctioning', '7420', 'partnering', 'don’t', 'consider', 'Gateway', 'rethink', 'reconsider', 'Saldana', 'partnership', 'reinterpreting', 'Northlake', 'Watts', 'accusing', 'Partners', 'Windermere', 'reexamine', 'Wellmont', 'ProMedica', 'upfront')\n",
      "=====================================\n",
      "gender direction 89.\n",
      " most_similar male: ('conveniently', 'contemporaneously', 'paperless', 'effectively', 'Orwellian', 'unopposed', 'Zeitgeist', 'occurring', 'circulate', 'obtain', 'robotically', 'Conveniently', 'erasure', 'alternatively', 'TDSB', 'damning', 'Korydallos', 'vacate', 'Nightline', 'simultaneously')\n",
      "; most_similar female: ('lakeside', 'neuroendocrinology', 'Bassmaster', 'Sig', 'camaraderie', 'luthier', 'picnic', 'waterfowl', 'AKC', 'boating', 'trad', 'motorcycling', 'SUT', 'wheeler', 'motorsports', 'Mountaineering', '4-wheeling', 'Bavarian', 'bluegrass', 'family')\n",
      "=====================================\n",
      "gender direction 90.\n",
      " most_similar male: ('Fahmi', 'SOAS', 'Ishai', 'Yunan', 'Rachman', 'Shenkar', 'Icelandic', 'depths', 'BookFest', 'thee', 'Sadia', 'Barkat', 'Badawi', 'Sallam', 'Gan', 'Yiddishland', 'internationalization', 'Aku', 'Demain', 'Arab')\n",
      "; most_similar female: ('timeshare', 'Hepatitis', 'HCV', 'Homefront', 'hepatitis', 'DSG', 'rubella', 'HTLV', 'cytomegalovirus', 'Escalera', 'immaculate', 'Heizer', 'HSV', 'Telfair', 'sniper', 'HSV-2', 'Fluor', 'HCA', 'mesothelioma', 'Hartmayer')\n",
      "=====================================\n",
      "gender direction 91.\n",
      " most_similar male: ('homelessness', 'consolidations', 'metamorphosis', 'Allegiance', 'bullying', 'Leaps', 'WLRN', 'reshape', 'Menino', 'reinvention', 'transformation', 'redistricting', 'reform', 'reshaped', 'reshapes', 'Homelessness', 'jowl', 'Newhart', 'Philanthropies', 'leaps')\n",
      "; most_similar female: ('instructing', 'impregnated', 'Aymar', 'DF', 'camping', 'B.V.', 'visiting', 'Savasta', 'PF', 'Haemostasis', 'applicable', 'responsible', 'Découverte', 'seducing', 'für', 'C.G', 'guarding', 'Shobo', 'Camping', 'LifeForce')\n",
      "=====================================\n",
      "gender direction 92.\n",
      " most_similar male: ('jumpsuit', 'wallpaper', 'aqua', 'Estella', 'Snakeskin', 'Lenor', 'longing', 'Anthropologie', 'blouse', 'Barbarella', 'retro', 'maxi', 'saloon', 'Voyeur', 'strapless', 'frills', 'costar', 'love', 'tunic', 'neon')\n",
      "; most_similar female: ('FRONTLINE', 'Churchill', 'DOCUMENTARY', 'Documentary', 'Shatz', 'Grodzinski', 'historiography', 'WhoWhatWhy', 'ICH', 'sovereign', 'historiographies', 'RUSI', 'SPOTLIGHT', 'Frankfurter', 'Gatekeepers', 'MRC', 'OZY', 'Katzenstein', 'Rosenfeld', 'Kelner')\n",
      "=====================================\n"
     ]
    },
    {
     "name": "stdout",
     "output_type": "stream",
     "text": [
      "gender direction 93.\n",
      " most_similar male: ('shoulders', 'weakened', 'modifier', 'competed', 'compete', 'shoulder', 'grappled', 'braces', 'bows', 'decorate', 'weaker', 'qualifiers', 'solidify', 'Braces', 'PRODUCTS', 'top', 'icing', 'piping', 'grabs', 'squeezed')\n",
      "; most_similar female: ('reincarnation', 'Airpark', 'Ctr', 'madness', 'painless', 'Tun', 'eugenics', 'resort', 'millenials', 'martinis', 'Deming', 'Spira', 'Tread', 'folly', 'Th', 'fusion', 'Interval', 'Reynolda', 'paradoxes', 'quaint')\n",
      "=====================================\n",
      "gender direction 94.\n",
      " most_similar male: ('cup', 'kissed', 'Shade', 'kiss', 'adoration', 'Sailor', 'Lalah', 'stroll', 'infatuation', 'download', 'escort', 'Prince', 'Nerds', 'shake', 'Ishq', 'Alto', 'Morning', 'sake', 'Sake', 'Nylon')\n",
      "; most_similar female: ('ACLA', 'RFE', 'extracorporeal', 'ILSI', 'NAACL', 'AstraZeneca', 'Paleontological', 'Mallinckrodt', 'EMNLP', 'Medstat', 'CJA', 'ILP', 'Iterative', 'IPPE', 'AHFMR', 'CDCI', 'nongovernmental', 'CIGNA', 'LINGUIST', 'CRNI')\n",
      "=====================================\n",
      "gender direction 95.\n",
      " most_similar male: ('reporter', 'Lasswell', 'columnist', 'ambushes', 'insurgents', 'guerrillas', 'snipers', 'Laird', 'covertly', 'Irregulars', 'contributor', 'subversive', 'Flanagin', 'editor', 'columnists', 'intrepid', 'ink', 'UWEX', 'obscure', 'ambush')\n",
      "; most_similar female: ('Bugatti', 'orofacial', 'shoulders', 'MB', 'Cycladic', 'Bardot', 'EMST', 'Chiron', 'soreness', 'motions', 'Rearing', 'Motions', 'torque', 'Heals', 'dystocia', 'Porsche', 'pain', '600k', 'Karting', 'Transgenerational')\n",
      "=====================================\n",
      "gender direction 96.\n",
      " most_similar male: ('shortages', 'cosmic', 'shortage', 'unexplained', 'slowdown', 'inexplicable', 'ECCC', 'Lightning', 'enclave', 'finish', 'suffered', 'Lucky', 'cluster', 'Zodiac', 'experiencing', 'pieced', 'LepreCon', 'glitch', 'sweater', 'pavilion')\n",
      "; most_similar female: ('Ranges', 'Ultrasonography', 'ESEM', 'OpenLayers', 'AOI', 'ABPP', 'Depth', 'Agar', 'provably', 'DKI', 'VASER', 'AI2', 'caudatum', 'Instants', 'Paramecium', 'elegans', 'Transanal', 'Blacher', 'reflectometry', 'LESS')\n",
      "=====================================\n",
      "gender direction 97.\n",
      " most_similar male: ('roasting', 'Interregional', 'NMT', 'Dierks', 'Bulk', 'harvesting', 'lymphadenopathy', 'bulk', 'transplanting', 'cultivation', 'CO2', 'DWI', 'DeCordova', 'epidural', 'stimulation', 'interregional', 'intrathecal', 'transnasal', 'FCI', 'Biochar')\n",
      "; most_similar female: ('Prophecy', 'castle', 'Sectarianism', 'Aaj', 'Shahrzad', 'kingdom', 'Hazar', 'Shades', 'sworn', 'Foscari', 'dynasty', 'Synopsys', 'ruins', 'Naagin', 'torn', 'Loyalty', 'Number', 'Malahide', 'Tide', 'Qubool')\n",
      "=====================================\n",
      "gender direction 98.\n",
      " most_similar male: ('Internationaux', 'des', 'Mille', 'éditions', 'Des', 'Héros', 'Nouvelle', 'Ritz', 'Seuil', 'historique', 'Figues', 'flags', 'Etoiles', 'Nemours', 'Cues', 'Sequins', 'décoratifs', 'Souper', 'Au', 'accrued')\n",
      "; most_similar female: ('K-20', 'IT', 'sane', '587', 'interoperability', 'ARUP', 'standardize', 'screwball', 'SOME', 'OF', 'practicality', 'standardization', '0595', 'TO', 'PG', 'consensual', '3566', '787', 'OUT', '0694')\n",
      "=====================================\n",
      "gender direction 99.\n",
      " most_similar male: ('Cela', 'Lancet', 'last.fm', 'Asterism', 'detract', 'Kritya', 'Aosdána', 'Permafrost', 'Juste', 'Societas', 'cru', 'Gilius', 'icicles', 'eFiction', 'Exaudi', 'lowlands', 'Requiem', 'Klinikum', 'Ploughshares', 'Vita')\n",
      "; most_similar female: ('K-12', 'classroom', 'Toddler', 'nanny', 'instructional', 'Kids', 'schooling', 'Top', 'laminate', 'sitter', 'education', 'prekindergarten', 'Whitson', 'Teacher', 'kids', 'TEACHER', 'daycare', 'Chalkboard', 'Parents', 'preK')\n",
      "=====================================\n",
      "gender direction 100.\n",
      " most_similar male: ('sigma', 'Studien', 'Husserl', 'Parmenides', 'ab', 'magna', 'Epistemological', 'Lateral', 'venia', 'nos', 'docendi', 'Angle', 'DEXA', 'Extremity', 'Sigma', 'lateral', 'Gadamer', 'Hegel', 'Ser', 'Noven')\n",
      "; most_similar female: ('entertainer', 'lifestyle', 'consumption', 'vacationing', 'writer', 'rainforests', 'wordsmith', 'raconteur', 'newsman', 'florist', 'pollution', 'TODAY.com', 'Lifestyles', 'pollutant', 'Journatic', 'Madang', 'Rotarian', 'vaping', 'lifestyles', 'gossip')\n",
      "=====================================\n",
      "gender direction 101.\n",
      " most_similar male: ('Feaga', 'Farivar', 'Jurden', 'Horrocks', 'woodwork', 'Moylan', 'Csaky', 'inbreeding', 'loyalism', 'Bowyer', 'Swilley', 'Broadhead', 'Waddell', 'Partin', 'attracts', 'interstellar', 'Barwick', 'PMTrump', 'cholangitis', 'Vrana')\n",
      "; most_similar female: ('methodologies', 'supplier', 'modalities', 'authenticate', 'Standard', 'franchised', 'technologies', 'Presses', 'Centric', 'anew', 'Agencia', 'APress', 'STANDARD', 'GHD', 'validated', 'Supplier', 'Eastern', 'OCM', 'BPM', 'Presently')\n",
      "=====================================\n",
      "gender direction 102.\n",
      " most_similar male: ('Cenegenics', 'adulthood', 'Olympics', 'academy', 'IAE', 'Boz', 'intertemporal', 'storefront', 'Academy', 'widowhood', 'promotion', 'Paralympics', 'Phelps', 'NCQA', 'Viator', 'Menopause', 'adolescence', 'unmanaged', 'bandwagon', 'Grasshopper')\n",
      "; most_similar female: ('Charged', 'Arrest', 'Mesna', 'rinse', 'Needed', 'Nd', 'Meth', 'Convicted', 'washed', 'ore', 'n', 'syringe', 'în', 'fue', 'Florida1', 'cleaned', 'wiping', 'Arrestee', 'wash', 'Laundering')\n",
      "=====================================\n",
      "gender direction 103.\n",
      " most_similar male: ('Below', 'Warning', 'lengths', '10-Year', 'Above', '7-year', 'perils', 'BAC', 'dystopias', '5-year', 'above', 'NWSA', 'dangers', 'DEF', '25-year', 'Passengers', 'predicting', '10-year', 'below', 'UOWD')\n",
      "; most_similar female: ('Senat', 'Chatter', 'dello', '·', 'Pancake', 'informally', 'mojo', 'tele', 'Small', 'Boutique', 'Vall', 'Bayard', 'refocused', 'Dudy', 'Tele', 'Longuet', 'informal', 'Arbogast', 'Mon', 'Kermit')\n",
      "=====================================\n",
      "gender direction 104.\n",
      " most_similar male: ('Cressy', 'Groene', 'Gregoire', 'pitting', 'hardening', 'knot', 'Nationals', 'pitted', 'Stier', 'pits', 'Dufour', 'Sevigny', 'DeVos', 'bulging', 'Fournier', 'Pulled', 'PHOTOS', 'Kolbe', 'VSBA', 'Mises')\n",
      "; most_similar female: ('assistive', 'sedentary', 'Coltrane', 'downside', '77030', 'Ornette', 'bebop', 'R01', 'Sobh', '61801', 'cognitive-', 'neurorehabilitation', 'ergonomic', 'Nasrullah', 'paraplegic', 'underserved', 'accelerometry', 'upside', 'ambulatory', 'UCB')\n",
      "=====================================\n",
      "gender direction 105.\n",
      " most_similar male: ('altitude', 'topographic', 'potty', 'glacier', 'woodland', 'subalpine', 'crater', 'glaciers', 'glaciated', 'Garmin', 'snowpack', 'Polar', 'Fitbit', 'meadow', 'carb', 'U.S.-led', 'vegetation', 'Snowdon', 'elliptical', 'forecasters')\n",
      "; most_similar female: ('Karpal', 'demands', 'essence', 'Onstage', 'spirit', 'Sabai', 'DeVita', 'expressions', 'Jayan', 'theatrics', 'Playwright', 'Danley', 'pathos', 'Sincerity', 'Silat', 'epitome', 'expression', 'Jax', 'alive', 'playwright')\n",
      "=====================================\n",
      "gender direction 106.\n",
      " most_similar male: ('campfire', 'bonfire', 'alight', 'Tiene', 'shag', 'Farewell', 'fiddle', 'Primates', 'pants', 'rockin', 'shirtless', 'chop', 'underwear', 'flannel', 'escribir', 'willy', 'baggy', 'pee', 'Thriller', 'scent')\n",
      "; most_similar female: ('Commerce', 'Mercatus', 'FNB', 'Corporation', 'Marchenko', 'Kharkov', 'Yaroslav', 'Kiron', 'Blum', 'Sigel', 'Starkman', 'Thaler', 'DDA', 'CEC', 'JDC', 'voter', 'KMC', 'IFAS', 'TVM', 'Maltz')\n",
      "=====================================\n",
      "gender direction 107.\n",
      " most_similar male: ('Liceo', 'Primaria', 'Bonum', 'Colegio', 'liceo', 'Cinco', 'Tétouan', 'Admiral', 'Sabancı', 'Fondo', 'Gulbenkian', 'Shorenstein', 'acromegaly', 'Infantil', '1516', 'Stomatology', 'toreros', 'prognosis', 'leukemia', 'divorced')\n",
      "; most_similar female: ('Anywhere', 'Everywhere', 'raves', 'Bump', 'bump', 'stream', 'Requests', 'Devotees', 'Ventured', 'logs', 'Raves', 'Recommendations', 'butters', 'streams', 'Massive', 'speedups', 'snowpack', 'suggestions', 'Utube', 'Deeper')\n",
      "=====================================\n",
      "gender direction 108.\n",
      " most_similar male: ('Bringing', 'Rumor', 'rediscovers', 'fetched', 'contention', 'Stays', 'revived', 'stokes', 'benchmark', 'tumbled', 'GALLERY', 'bringing', 'Feature', 'Reviving', 'Refreshing', 'News', 'tumbling', 'Quite', 'alive', 'gone')\n",
      "; most_similar female: ('NJMS', 'Preprofessional', 'Muhimbili', 'Oculoplastics', 'Sokoine', 'Trabalhadores', 'sonography', 'dotting', '01089', 'ARDMS', 'S.U.N.Y.', 'InterAmerican', 'PUCRS', 'USCIS', 'NYCDOE', 'Sonography', '02115', 'UCEDD', 'Javits', '02114')\n",
      "=====================================\n",
      "gender direction 109.\n",
      " most_similar male: ('probationary', 'unreasonable', 'reasonable', 'qualify', 'prohibitive', 'subsidize', 'unfair', 'justify', 'fairer', 'gyms', 'rid', 'ranks', 'Disciplined', 'preferable', 'rank', 'accustomed', 'tiered', 'normal', 'memberships', 'fair')\n",
      "; most_similar female: ('Depuy', 'Duralde', 'Karlheinz', 'Lore', 'Gallenberger', 'Lado', 'Calva', 'Bayona', 'Morell', 'Ramón', 'McNeel', 'folklore', 'produced', 'Himmat', 'Paldi', 'Rickman', 'Gérard', 'Kirschstein', 'woodcarver', 'Brochet')\n",
      "=====================================\n",
      "gender direction 110.\n",
      " most_similar male: ('structure-', 'Preacher', 'buckle', 'Cites', 'Scarface', 'Xzibit', 'mLearning', 'Poker', 'theÂ', 'ACCU', '85-year', 'Reparations', 'Grudge', 'Kidnapped', 'Executions', 'W.Va', 'Hakes', 'Heckler', 'Nazi', 'bloodline')\n",
      "; most_similar female: ('Sagar', 'vernal', 'Ganymede', 'COMMUNICATION', 'Saptarshi', 'Slava', 'oneiric', 'Krishan', 'Vasant', 'moon', 'Gagan', 'Kripa', 'Vitebsk', 'Shveta', 'sublimation', 'Neeti', 'Anu', 'Metamorphoses', 'Jivan', 'Kenora')\n",
      "=====================================\n",
      "gender direction 111.\n",
      " most_similar male: ('Leawood', 'covenant', 'HASSELL', 'walkers', 'equating', 'zombies', 'sorghum', 'L.L.M.', 'conveyancer', 'Mahayana', 'RapidResponse', 'restatements', 'Shaara', 'MDes', 'mindless', 'Courtyard', 'grit', 'CADRE', 'NRP', 'pointillism')\n",
      "; most_similar female: ('Bald', 'XXX', 'Stenn', 'cam', 'webcam', 'FreeOnes', 'Compilation', 'Vixon', 'webcams', 'Cheeks', 'Tapes', 'pornstar', 'Deshon', 'Booty', 'ModelMayhem', 'Hotties', 'Playboy', 'Cam', 'Playgirl', 'Starr')\n",
      "=====================================\n"
     ]
    },
    {
     "name": "stdout",
     "output_type": "stream",
     "text": [
      "gender direction 112.\n",
      " most_similar male: ('securitized', 'numerics', 'topologies', 'topology', 'topological', 'syllabic', 'hygiene', 'securitizations', 'notated', 'insulated', 'multicenter', 'SCNM', 'superconducting', 'loops', 'maintained', 'essentialized', 'modulated', 'collateralized', 'DownBeat', 'tamed')\n",
      "; most_similar female: ('usher', 'Marketing', 'Labor', 'scraping', 'Ministry', 'Gribble', 'Capitalist', 'Rafat', 'Shuck', 'Winstanley', 'scouring', 'poking', 'graveyard', 'dawn', 'Victim', 'Brogden', 'Scraping', 'Deese', 'pit', 'Usher')\n",
      "=====================================\n",
      "gender direction 113.\n",
      " most_similar male: ('GAP', 'DSM', 'Outback', 'Voyagers', 'MPI', 'Numero', 'GEO', 'TSI', 'ION', 'exposing', '8410', 'Rorvik', 'Eggert', 'OnEarth', 'scanning', 'metadata', 'loader', 'offending', 'scanned', 'Vagabond')\n",
      "; most_similar female: ('Jimi', 'denies', 'B.Ed', 'lawful', 'Hanafi', 'faculties', 'Faculties', 'Singhania', 'Hendrix', 'Subha', 'M.M', 'Truvy', 'Bisexual', 'say', 'B.D.S', 'M.ed', 'Piercings', 'recollection', 'pupil', 'Boitnott')\n",
      "=====================================\n",
      "gender direction 114.\n",
      " most_similar male: ('perturb', 'regression', 'Mantle', 'amplification', 'reproducible', 'Stochastic', 'progenitors', 'Reproducing', 'Kidner', 'purify', 'ethnoarchaeology', 'Progeny', 'variants', 'generative', 'bless', 'emulation', 'hybridisation', 'dilute', 'Gush', 'variant')\n",
      "; most_similar female: ('nut', 'Compliance', 'Backpacker', '2013-', 'UNI', 'Priorities', 'traineeship', 'obligations', 'COOKIE', 'priorities', 'Dietitian', 'FISMA', 'PROFILE', 'taxes', 'Resolutions', 'FEDERAL', 'Budget', 'compliance', 'Worksite', 'reimbursements')\n",
      "=====================================\n",
      "gender direction 115.\n",
      " most_similar male: ('rehearsing', 'frantic', 'afternoon', 'tuck', 'Shortly', 'chore', 'nervous', 'habit', 'Cue', 'hurried', 'prologue', 'Zoot', 'beastly', 'finish', 'frantically', 'Lunaris', 'Queue', 'dreaded', 'Mallinger', 'Queuing')\n",
      "; most_similar female: ('ministries', 'churches', 'NTUA', 'Churches', 'regionalization', 'MRE', 'decentralization', 'Geodesy', 'MEG', 'ACN', 'TEC', 'DYS', 'dioceses', 'Regionalization', 'Steubenville', 'denominational', 'CREC', 'groundwater', 'generalizability', 'Ministries')\n",
      "=====================================\n",
      "gender direction 116.\n",
      " most_similar male: ('Defensive', 'Conestoga', 'Grossmont', 'EHow', 'Bears', 'Claiborne', 'Evangelista', 'polarity', 'Ledyard', 'Diggs', 'Lyndsie', 'Offense', 'Bollier', 'Nichelson', 'Thiel', 'Ayinde', 'offense', 'Tice', 'Dighton', 'Kalyn')\n",
      "; most_similar female: ('SPR', 'glazed', 'nan', 'begs', 'core', 'HMC', 'infill', 'Supercomputing', 'Enhancements', 'Endemic', 'Kielder', 'biomedically', 'abstraction', 'oncologists', 'Gaeilge', 'Owler', 'parallelization', 'shaders', 'Aged', 'sip')\n",
      "=====================================\n",
      "gender direction 117.\n",
      " most_similar male: ('3686', 'Alder', 'Blazer', '4064', 'Millican', 'occasion', 'Nephi', 'reads', 'fervour', 'disappoint', 'nan', 'votes', 'Temuco', 'interpretation', 'Lafferty', 'Duff', 'Carrico', 'nothing', 'Vizenor', 'Smithville')\n",
      "; most_similar female: ('wealthiest', 'externalizing', 'Externalization', 'Disappearing', 'richest', 'Benefits', 'Ruining', 'Decline', 'downloadable', 'Rethinking', 'Maximizing', 'earners', 'reconceptualizing', 'Strides', 'Profits', 'Interdependent', 'Effects', 'maximizing', 'benefits', 'Minimized')\n",
      "=====================================\n",
      "gender direction 118.\n",
      " most_similar male: ('swollen', 'debt', 'benign', 'recovers', 'Ganges', 'warlike', 'cognates', 'Metaphilosophy', 'debts', 'Bharata', 'recuperates', 'Douro', 'doubtful', 'securitized', 'entangled', 'withdraws', 'Persianate', 'republicanism', 'reorganize', 'degraded')\n",
      "; most_similar female: ('Keys', 'Mims', 'Wiggs', 'classroom', 'FOUR', 'Leichman', 'Pointer', 'Crayton', 'SIX', 'Sherling', 'Row', 'Nevermind', 'KIRA', 'WARD', 'keys', 'Angello', 'row', 'Parkview', 'Jonell', 'Moshi')\n",
      "=====================================\n",
      "gender direction 119.\n",
      " most_similar male: ('watched', 'Kalamazoo', 'Rapids', 'Kalida', 'Benda', 'Saginaw', 'deciding', 'faced', 'Openness', 'Dowagiac', 'Allegan', 'Chauncey', 'Farmington', 'Troy', 'unfold', 'Marquette', 'MI', 'WDIV', 'MAKE', 'Jalen')\n",
      "; most_similar female: ('pointillism', 'Belotero', 'immunohistochemistry', 'Juvederm', 'Radiesse', 'brushwork', 'monochromes', 'anatomical', 'Byun', 'Smilex', 'Joo', 'Volbella', 'museological', 'Precise', 'Shevchenko', 'MCZ', 'Choo', 'Ishida', 'Kybella', 'Swelling')\n",
      "=====================================\n",
      "gender direction 120.\n",
      " most_similar male: ('TSC2', 'terpenoid', 'mysteriously', 'Slack', 'remote', 'JVM', 'conf', 'headaches', 'middleware', 'Headaches', 'bullied', 'RxJS', 'multiplatform', 'Confederated', 'streaming', 'binds', 'Piscataway', 'inexplicably', 'Fios', 'integrations')\n",
      "; most_similar female: ('Strauss', 'Eisenstein', 'Ethical', 'ethically', 'Artistic', 'Bucharest', 'Braun', 'Domestic', 'Urban', 'Museology', 'Ettinger', 'responsibly', 'Oster', 'Oberholzer', 'Disegno', 'Metropolis', 'Curatorship', 'portray', 'Ethically', 'Singer')\n",
      "=====================================\n",
      "gender direction 121.\n",
      " most_similar male: ('actionable', 'achieving', 'Graduating', 'attaining', 'graduating', 'earning', 'garnering', 'achievable', 'constructive', 'stabilizing', '4228', 'brightest', 'implementers', 'implementable', 'MCP', 'CPIP', 'feedback', 'smartest', 'sabotaging', 'rejoining')\n",
      "; most_similar female: ('hymnals', 'Passenger', 'bilingually', 'Englishes', 'Trapp', 'Houten', 'Sharan', 'Ahlstrom', 'Weiter', 'Dindy', 'van', 'Wyk', 'vocabulary', 'Dass', 'Proulx', 'B.V.', 'Vistar', 'Luso', 'Homero', 'Uden')\n",
      "=====================================\n",
      "gender direction 122.\n",
      " most_similar male: ('DF', 'parametric', 'SSG', 'EOS', 'Eos', 'ROC', 'TOR', 'TAI', 'LX', 'LIV', 'RES', 'Ruina', 'MCF', 'MF', 'DSG', 'DFC', 'BEG', 'SM', 'GK', 'APG')\n",
      "; most_similar female: ('Educationally', 'selfhood', 'psychologies', 'portrayals', 'antidotes', 'undermined', 'enactments', 'authentically', 'confrontations', 'injurious', 'Positively', 'transpersonal', 'Americanization', 'educationally', 'selves', 'detrimental', 'Mäori', 'harmful', 'undesirable', 'Māori')\n",
      "=====================================\n",
      "gender direction 123.\n",
      " most_similar male: ('Vision', 'Syntha', 'Adagio', 'Harmony', 'K7', 'Solace', 'potentials', 'Bandy', 'intentions', 'Concerto', 'Astell', 'Gleneagles', 'Revelation', 'irons', 'lifes', 'twin', 'No.2', 'GH4', 'Swope', '4AD')\n",
      "; most_similar female: ('Smithsonian', 'Testudo', 'Polynesian', 'Wendy', 'mammal', 'SCBWI', 'crocodile', 'Capitals', 'penguins', 'D.C.', 'je', 'PowerPoint', 'Kissing', 'penguin', 'Penguins', 'WTOP', 'Disneyland', 'Cafeteria', 'doughnut', 'Jafar')\n",
      "=====================================\n",
      "gender direction 124.\n",
      " most_similar male: ('internalize', 'suffer', 'perish', 'TIRR', 'Inflammation', 'Immunodeficiency', 'Thrombophilia', 'Immunobiology', 'Retardation', 'sit', 'Sperm', 'Ischemia', 'perpetuate', 'Syndrom', 'Psychophysiology', 'jumble', 'Supremacist', 'plastered', 'Thrombosis', 'Tumor')\n",
      "; most_similar female: ('Cudahy', 'Kildare', 'discreet', 'Las', 'Meath', 'Tipperary', 'Cesar', 'Broadbent', 'g.', 'stepson', 'informal', 'involving', 'Clare', 'Daly', 'Calabasas', 'Hacienda', 'Fiore', 'attending', 'Richie', 'Wicklow')\n",
      "=====================================\n",
      "gender direction 125.\n",
      " most_similar male: ('worldwide', 'adventurers', 'globally', 'arises', 'trachomatis', 'Discontinuity', 'rift', 'Keenly', 'Globally', 'motorcyclists', 'Ahmadabad', 'Mpumalanga', 'Gauteng', 'polarized', 'Maharastra', '%', 'region', 'rifts', 'Raigad', 'wherein')\n",
      "; most_similar female: ('Adelphi', 'iSchool', 'Widener', 'REU', 'ODU', 'ORNL', 'Towson', 'EdD', 'SU', 'UMBC', 'NYIT', '4-volume', 'SJSU', 'instructorship', 'ORAU', 'UMD', 'assistantship', 'JHU', 'Michener', 'UConn')\n",
      "=====================================\n",
      "gender direction 126.\n",
      " most_similar male: ('Tiered', 'vertically', 'discipled', 'Align', 'concentric', 'approx', 'Kukatpally', '3-tier', 'horizontally', '2x', '946', 'catalyze', 'interconnects', '2223', 'catalyse', 'mentored', 'spaced', 'labelled', 'Ø', 'tiered')\n",
      "; most_similar female: ('contraband', 'rhinovirus', 'Harpold', 'smuggling', 'animating', 'NMU', 'foreignness', 'impersonations', 'objectionable', 'weariness', 'Orientalist', 'impersonation', 'Bribery', 'enforcing', 'customs', 'Bers', 'asthma', 'Wassenaar', 'Mounties', 'vacationing')\n",
      "=====================================\n",
      "gender direction 127.\n",
      " most_similar male: ('propeller', 'AIJ', '2035', 'propellers', 'impossible', '2025', 'computationally', 'Goncharov', 'Farooqui', 'Abidi', 'Shestakov', 'Mehndiratta', 'nonlinearities', 'microfluidics', 'nonconvex', 'Ruchita', 'metabarcoding', '2030', 'MFC', 'deuterium')\n",
      "; most_similar female: ('OTHER', 'wondering', 'sowing', 'referring', 'Ranting', 'homophobic', 'COURSE', 'sore', 'courses', 'turf', 'preacher', 'Heartland', 'concerned', 'horsewoman', 'teaching', 'bigot', 'See', 'unaccredited', 'Episcopalian', 'offended')\n",
      "=====================================\n",
      "gender direction 128.\n",
      " most_similar male: ('Mois', 'implode', 'CPN', 'Kettler', 'infect', 'Sitbon', 'CDMS', 'psychotherapeutic', 'Brayton', 'infecting', 'Nicoloff', 'Kadmon', 'psychoanalyst', 'Spaniol', 'estranged', 'Dyadic', 'psychopathological', 'Barkin', 'psychoses', 'CPNP')\n",
      "; most_similar female: ('Transportation', 'Talent', 'guesswork', 'Restaurants', 'Tip', 'section', 'Ambassadors', 'jug', 'Motoring', 'recommendations', 'tips', 'ambassadors', 'Musicians', 'Generosity', 'Abundance', 'Shaykh', 'itinerary', 'rule', 'wineries', 'Tell')\n",
      "=====================================\n",
      "gender direction 129.\n",
      " most_similar male: ('Wiens', 'Denice', 'Haag', 'Kolar', 'Jonelle', 'Leiva', 'Milam', 'Kosak', 'Huberty', 'Wiese', 'Tanja', 'Whitten', 'Tollefson', 'Darci', 'Ibarra', 'Killeen', 'Jann', 'Haggard', 'Davidsonville', 'Jeannie')\n",
      "; most_similar female: ('irritation', 'rivalry', 'Papyrus', 'prophylaxis', 'rivalries', 'impact-', 'rule-', 'religiously', 'Rivalry', 'Obstetric', 'hangover', 'continuous', 'enmity', 'Acute', 'prophylactic', 'Prophylaxis', 'Traction', 'Mild', 'PPD', 'preference')\n",
      "=====================================\n",
      "gender direction 130.\n",
      " most_similar male: ('cultures', 'PCI', 'differences', 'polarity', 'Colombians', 'Ideals', 'genders', 'discs', 'polarities', 'hours', 'NDAs', 'Quidditch', 'ideals', 'loyalties', 'commonality', 'uncommon', 'Initech', 'peaceful', 'commonalities', 'faiths')\n",
      "; most_similar female: ('LINE', 'Introducing', 'Communications', 'ala', 'Multimedia', 'ported', 'ann', 'arsenal', 'Telephony', 'Telecommunication', 'tempt', 'esque', 'iPhone', 'telecommunications', 'iphone', 'N8', 'veto', 'cf', 'leake', 'hurled')\n",
      "=====================================\n",
      "gender direction 131.\n",
      " most_similar male: ('VMs', 'VMware', 'Eleazar', 'filesystem', 'filesystems', 'HDFS', 'aggregates', 'EMFStore', 'ClearCase', 'QRadar', 'virtualization', 'NVM', 'vSphere', 'Win32', 'hyperconverged', 'VM', 'HCS', 'debugger', 'Crashlytics', 'MidoNet')\n",
      "; most_similar female: ('Challenging', 'Rediscover', 'Mornings', 'dare', 'exhilarating', 'flair', 'urban', 'mornings', 'invigorating', 'Towards', 'Contemporary', 'rediscover', 'challenging', 'contemporary', 'Rabat', 'novelty', 'Urban', 'Marrakesh', 'Someday', 'Copenhagen')\n",
      "=====================================\n"
     ]
    },
    {
     "name": "stdout",
     "output_type": "stream",
     "text": [
      "gender direction 132.\n",
      " most_similar male: ('Realists', 'australis', 'potted', 'Raphaels', 'Columba', 'Aristote', 'Boathouse', 'Seagull', 'borealis', 'neo', 'Fireweed', 'Swans', 'emanated', 'Herter', 'Augustine', 'literati', 'Expressionists', 'Basking', 'asemic', 'lighthouse')\n",
      "; most_similar female: ('multiple', 'assignments', 'specialisation', 'specialization', 'assigments', 'selective', 'coverages', 'seniority', 'Selective', 'specialist', 'Specialist', 'AIT', 'arbitrations', 'specialisations', 'job', 'Tuba', 'reservist', 'Tez', 'specializations', 'IBN7')\n",
      "=====================================\n",
      "gender direction 133.\n",
      " most_similar male: ('conventionally', 'andhas', 'well-', 'classically', 'ruff', 'francophone', 'lotta', 'asa', 'Kortright', 'sizeable', 'clubhouse', 'provincially', 'large-', 'dyke', 'nonformal', 'a', 'Rideau', 'civically', 'TCC', 'Lisgar')\n",
      "; most_similar female: ('Devices', 'Sorcery', 'saddened', 'heading', 'Demise', 'Elder', 'Intent', 'Falling', 'disclosure', 'closeness', 'heartbeats', 'passing', 'idolizes', 'discontinuing', 'Controller', 'Obsession', 'Orson', 'Monopolies', 'Presidency', 'Hardship')\n",
      "=====================================\n",
      "gender direction 134.\n",
      " most_similar male: ('Microbiologists', 'Ragtime', 'Niccolai', 'Kubernetes', 'Docker', 'Meyerson', 'Lerone', 'Narcisi', 'Novello', 'Chemists', 'Astronautical', 'Hortonworks', 'Garvey', 'Organists', 'Rhysling', 'Buttigieg', 'Alumnae', 'musicology', 'Aretha', 'Ayyar')\n",
      "; most_similar female: ('SZ', 'uncertainties', 'trembling', 'depiction', 'TM', 'stress', 'bearing', 'reliefs', 'outflow', 'numbness', 'flashes', 'uncertainty', 'springs', 'flickering', 'TS', 'animations', 'Ts', 'sublimation', 'displays', 'KL')\n",
      "=====================================\n",
      "gender direction 135.\n",
      " most_similar male: ('interiority', 'HAL', 'ATM', 'Grief', 'Cleansing', 'Ergonomic', 'PCOS', 'Disappeared', 'CPAP', 'PML', 'Enquiry', 'Personhood', 'personhood', 'CART', 'OI', 'Ondaatje', 'Intimacies', 'CARD', 'Activa', 'Facilitation')\n",
      "; most_similar female: ('freshmen', 'freshman', 'sophomores', 'chancellor', 'college', 'dean', 'grades', 'semesters', 'headmaster', 'classmates', 'deans', 'WCU', 'school', 'colleges', 'students', 'tom', 'graduate', 'roommates', 'varsity', 'graduates')\n",
      "=====================================\n",
      "gender direction 136.\n",
      " most_similar male: ('Thema', 'Approximately', 'foreigners', 'wie', 'Match', 'Mariel', 'Saidy', '�', 'Ich', 'Pairs', 'Euros', 'Following', 'Tag', 'Lucerne', 'Maxi', 'Simple', 'hier', 'Loose', 'Eder', 'Freestyle')\n",
      "; most_similar female: ('technoscience', 'medicolegal', 'zooming', 'docket', 'subspeciality', 'litigative', '98105', 'paleoclimate', 'io9', 'conferencing', 'reinventing', 'dc', '15224', 'redeveloping', 'Horsham', 'sci', 'neglecting', 'otosclerosis', 'VR', 'rheumatology')\n",
      "=====================================\n",
      "gender direction 137.\n",
      " most_similar male: ('Lohmann', 'INRS', 'Heuer', 'CIRANO', 'Bernick', 'Hofmann', 'Hauger', 'Rohling', 'OTREC', 'Goller', 'Eawag', 'Lalive', 'FNRS', 'Foth', 'EUROGRAPHICS', 'Kallmeyer', 'flexography', 'Hasselberg', 'IHDP', 'Kling')\n",
      "; most_similar female: ('Far', 'dreaded', 'deemed', 'Sword', 'deems', 'weathers', 'sickle', 'Anvil', 'biblical', 'Warrior', 'Tyranny', 'tolerable', 'sacred', 'heath', 'truths', 'encountered', 'Cairn', 'mighty', 'Mornings', 'none')\n",
      "=====================================\n",
      "gender direction 138.\n",
      " most_similar male: ('syndromes', 'Gamewell', '-omics', 'farce', 'Taymor', 'braking', 'cytogenetics', 'MCC', 'Aster', 'assays', 'Sibley', 'bells', 'redundant', 'farcical', 'occlusive', 'STEMI', 'misusing', 'Heights', 'jeopardy', 'yield')\n",
      "; most_similar female: ('contributor', 'URL', 'tanned', 'models.com', 'Rusher', 'Juxtapoz', '1413', 'Rippy', '15203', 'Academia.edu', 'XLR8R', 'academia.edu', 'DLD', 'Influencers', 'SSRN', 'http', '4577', '8796', 'Jelen', 'surfs')\n",
      "=====================================\n",
      "gender direction 139.\n",
      " most_similar male: ('imagination', 'Hypochondria', 'Reveal', 'Depicting', 'Regard', 'Bartók', 'fascination', 'resides', 'Heracles', 'Revealing', 'ailment', 'nature', 'Geographical', 'Fairies', 'persistence', 'inner', 'Ravel', 'mythical', 'tranquility', 'fixated')\n",
      "; most_similar female: ('BMT', 'LSC', 'grading', 'IPS', 'grad', 'WMU', 'CU', 'seminary', 'MDX', 'IMRT', 'TSX', 'flotation', 'CGS', 'BCU', 'cadets', 'Vantage', 'grade', 'ELPS', 'UHV', 'shootouts')\n",
      "=====================================\n",
      "gender direction 140.\n",
      " most_similar male: ('Concertino', 'Affinities', 'chances', 'stats', 'Kindle', 'Defender', 'IMDb', 'Transcendent', 'Civilisation', 'Iolani', 'Artifact', 'Notables', '200th', 'historicity', 'IMDB', 'Masterpieces', 'Civilization', 'category', 'Literati', 'Quintet')\n",
      "; most_similar female: ('CALM', 'calm', 'applicator', 'sage', 'hazel', 'lavender', 'Nicosia', 'Tangier', 'beck', 'counselors', 'supervisors', 'spill', 'calmness', 'RCRA', 'hotline', 'biomonitoring', 'consultants', 'gray', 'regulators', 'Willner')\n",
      "=====================================\n",
      "gender direction 141.\n",
      " most_similar male: ('9400', '757', '9550', '8007', '1070', '1061', '1144', '7080', 'FEES', '1150', '4600', '1250', '9850', '1045', '980', '7000', '5250', '4200', '990', '8950')\n",
      "; most_similar female: ('intertwine', 'meld', 'intermingle', 'harmonize', 'melds', 'counterbalance', 'aligns', 'resonates', 'detective', 'interlinking', 'coexist', 'sleuth', 'personified', 'imbues', 'emanate', 'pinpoints', 'spotlights', 'juxtapose', 'align', 'bureaus')\n",
      "=====================================\n",
      "gender direction 142.\n",
      " most_similar male: ('imprint', 'chancery', 'digest', 'unsettled', 'salivary', 'whether', 'Biopsy', 'rereleased', 'bullet', 'superannuation', 'elastomer', 'gland', 'biopsy', 'release', 'roost', 'reissue', 'Doubt', 'seminal', 'environs', 'unsettling')\n",
      "; most_similar female: ('Teller', 'Peoples', 'Dornsife', 'Basset', 'Online', 'AJS', 'Bonanza', 'Wayuu', 'Poker', 'Morongo', 'Maidu', 'Fortney', 'Biker', 'Agoura', 'Eckley', 'BBW', 'Hippie', 'Iroquois', 'Javan', 'Lovers')\n",
      "=====================================\n",
      "gender direction 143.\n",
      " most_similar male: ('breakers', 'reached', 'Ameriprise', 'Protection', 'DSL', 'Ngoepe', 'Sash', 'Comission', 'Hallandale', 'consulation', 'Breakers', 'Pretoria', 'zoned', 'Counselor', 'Appt', 'Rang', 'Nedbank', 'advise', 'Barrier', 'Fikile')\n",
      "; most_similar female: ('egos', 'wrangles', '\\x97', 'backstage', 'musicians', 'creativities', 'wrangling', 'restless', 'biopharma', 'enriches', 'collaborating', 'hyperactive', 'juggles', 'overactive', 'dicks', 'collaboration', 'teamwork', 'insatiable', 'cocks', 'colossal')\n",
      "=====================================\n",
      "gender direction 144.\n",
      " most_similar male: ('church', 'pharmacy', 'coffee', 'latte', 'milk', 'Finnegan', 'Presti', 'Nicks', 'league', 'wifi', 'Collinsworth', 'Starbucks', 'concussions', 'candlelight', 'Conformation', 'meatballs', 'NFL', 'lattes', 'surfed', 'AFTRA')\n",
      "; most_similar female: ('Shahdara', '1541', '1546', 'Adugodi', '1483', 'Banashankari', '1185', 'MRTA', '7780', '14203', '1276', '14215', '1591', '1255', 'BAU', '1386', '10400', '1231', 'Domlur', '1617')\n",
      "=====================================\n",
      "gender direction 145.\n",
      " most_similar male: ('coils', 'Webs', 'coil', 'rods', 'webs', 'exhibit', 'rugs', 'loops', 'impulsively', 'nanotube', 'ducts', 'transgression', 'rug', 'exhibits', 'spirals', 'fibers', 'reticulum', 'cascades', 'exhibited', 'Zanjan')\n",
      "; most_similar female: ('MPS', 'iSeries', 'KODAK', 'CEREC', 'OpenEmbedded', 'Socialists', 'COA', 'Austerity', 'Convenience', 'relying', 'Relying', 'Bolstering', 'OPS', 'SAD', 'ELITE', 'Ricoh', 'GPC', 'Tories', 'OPC', 'electing')\n",
      "=====================================\n",
      "gender direction 146.\n",
      " most_similar male: ('Marathwada', 'Sangh', 'Orissa', 'Odisha', 'rainfall', 'clothed', 'Ujjain', 'fed', 'Bihar', 'Berhampur', 'Jharkhand', 'Utkal', 'Vicenza', 'Gorakhpur', 'Pontificial', 'Chattisgarh', 'Todi', 'Arunachal', 'Pontifical', 'Govt')\n",
      "; most_similar female: ('Litigator', 'Cruising', 'blepharoplasty', 'Kravis', 'Hellraiser', 'Painkiller', 'Zofia', 'multisport', 'Epix', 'Eye', 'ILW.COM', 'POZ', 'Dentons', 'LeClairRyan', 'genderqueer', 'Beholder', 'Jinx', 'Swix', 'Cozen', 'gel')\n",
      "=====================================\n",
      "gender direction 147.\n",
      " most_similar male: ('Shrek', 'Lancome', '50.000', 'prize', 'lemmings', 'Harrods', 'Huntsman', 'Fairytale', 'Frozen', 'giveaway', 'wishes', 'Disney', 'Pixar', 'Lancôme', 'refused', 'beens', 'price', 'Apple', '5000', 'Miliband')\n",
      "; most_similar female: ('Started', 'Conceived', 'Incorporating', 'breeze', 'Formed', 'aegis', '90.1', 'Propagation', '90.7', 'Recorded', 'Maddoux', 'Separating', 'Getting', 'Deriving', 'Adherence', 'Implementing', 'ASCA', 'breezy', '88.5', 'Baselios')\n",
      "=====================================\n",
      "gender direction 148.\n",
      " most_similar male: ('3121', 'biorefinery', 'B.S.E.E.', 'Hilfinger', '3090', '2801', 'Kanbar', 'coinventor', '2980', 'NREL', 'Bellcore', 'Fachhochschule', '3045', 'Outfest', '2901', 'BAVC', 'CITRIS', '2701', '2360', 'CEEE')\n",
      "; most_similar female: ('explanations', 'descriptions', 'helpful', 'explanation', 'heartbreaking', 'spoiling', 'understandable', 'exaggeration', 'complicating', 'unhelpful', 'colouring', 'drastically', 'tremendously', 'mood', 'Heartbreaking', 'greatly', 'Easter', 'distressing', 'upsetting', 'prayers')\n",
      "=====================================\n",
      "gender direction 149.\n",
      " most_similar male: ('30-year', '20-year', '10-year', 'MEDEX', 'trialled', 'Wanderings', 'Scandinavia', '30-day', 'commemorate', 'Arbour', '25-year', 'Maritimes', 'Saltspring', '15-year', 'Pangnirtung', 'NorthShore', '5-year', 'laminates', '40-year', 'laminate')\n",
      "; most_similar female: ('Hayek', 'optional', 'Barbi', 'Libertarian', 'Poonam', 'Laxmi', 'Fed', 'Paz', 'libertarian', 'extraneous', 'Wataru', 'Salaz', 'Krit', 'F.A.', 'Shinji', 'Ram', 'Kavya', 'Gakuen', 'Twombly', 'fork')\n",
      "=====================================\n"
     ]
    }
   ],
   "source": [
    "i = 0\n",
    "for w in Ws[:150]:\n",
    "    \n",
    "    #sims = word2vec.similar_by_vector(-w.squeeze(), topn = 60, restrict_vocab=None)\n",
    "    most_similar_f, _ =  list(zip(*word2vec_bios.similar_by_vector(w.squeeze(), topn = 20, restrict_vocab=None)))\n",
    "    most_similar_m, _ =  list(zip(*word2vec_bios.similar_by_vector(-w.squeeze(), topn = 20, restrict_vocab=None)))\n",
    "    print(\"gender direction {}.\\n most_similar male: {}\\n; most_similar female: {}\".format(i, most_similar_m, most_similar_f))\n",
    "    print(\"=====================================\")\n",
    "    i += 1"
   ]
  },
  {
   "cell_type": "code",
   "execution_count": null,
   "metadata": {},
   "outputs": [],
   "source": []
  },
  {
   "cell_type": "code",
   "execution_count": 243,
   "metadata": {},
   "outputs": [
    {
     "data": {
      "text/plain": [
       "{'g': 'f',\n",
       " 'p': 'nurse',\n",
       " 'text': 'Esther E Brown is a Nurse Practitioner Specialist in Salem, Oregon. She graduated with honors in 2002. Having more than 15 years of diverse experiences, especially in NURSE PRACTITIONER, Esther E Brown affiliates with Salem Hospital, and cooperates with other doctors and specialists in medical group Salem Clinic, Pc. Call Esther E Brown on phone number (503) 399-2424 for more information and advises or to book an appointment.',\n",
       " 'start': 67,\n",
       " 'hard_text': 'She graduated with honors in 2002. Having more than 15 years of diverse experiences, especially in NURSE PRACTITIONER, Esther E Brown affiliates with Salem Hospital, and cooperates with other doctors and specialists in medical group Salem Clinic, Pc. Call Esther E Brown on phone number (503) 399-2424 for more information and advises or to book an appointment.',\n",
       " 'text_without_gender': '_ graduated with honors in 2002. Having more than 15 years of diverse experiences, especially in NURSE PRACTITIONER, _ _ _ affiliates with Salem Hospital, and cooperates with other doctors and specialists in medical group Salem Clinic, Pc. Call _ _ _ on phone number (503) 399-2424 for more information and advises or to book an appointment.',\n",
       " 'hard_text_tokenized': 'She graduated with honors in 2002 . Having more than 15 years of diverse experiences , especially in NURSE PRACTITIONER , Esther E Brown affiliates with Salem Hospital , and cooperates with other doctors and specialists in medical group Salem Clinic , Pc . Call Esther E Brown on phone number ( 503 ) 399 - 2424 for more information and advises or to book an appointment .'}"
      ]
     },
     "execution_count": 243,
     "metadata": {},
     "output_type": "execute_result"
    }
   ],
   "source": [
    "nurse_train = [r for r in train if r[\"p\"] == \"nurse\"]\n",
    "nurse_train[0]"
   ]
  },
  {
   "cell_type": "code",
   "execution_count": 128,
   "metadata": {},
   "outputs": [],
   "source": [
    "profs_train_str = np.array([i2p[y] for y in Y_train[:]])"
   ]
  },
  {
   "cell_type": "code",
   "execution_count": 131,
   "metadata": {},
   "outputs": [
    {
     "data": {
      "text/plain": [
       "((255682, 300), (255682,))"
      ]
     },
     "execution_count": 131,
     "metadata": {},
     "output_type": "execute_result"
    }
   ],
   "source": [
    "X_train.shape, profs_train_str.shape"
   ]
  },
  {
   "cell_type": "code",
   "execution_count": 332,
   "metadata": {},
   "outputs": [
    {
     "name": "stdout",
     "output_type": "stream",
     "text": [
      "accountant 1.4361589787313929 % 0.6947167755991286 0.6636710239651417\n",
      "architect 2.570380394396164 % 0.615642118076689 0.5348447961046866\n",
      "attorney 8.288420772678561 % 0.8696677991694979 0.8259720649301623\n",
      "chiropractor 0.6601950860834944 % 0.47334123222748814 0.44016587677725116\n",
      "comedian 0.7110394943719152 % 0.7442244224422442 0.7046204620462047\n",
      "composer 1.422861210409806 % 0.7660802638812534 0.7218251786695987\n",
      "dentist 3.6799618275827006 % 0.8686364119460092 0.8567329152938675\n",
      "dietitian 1.01063039244061 % 0.7430340557275542 0.6385448916408669\n",
      "dj 0.37663973216730157 % 0.6542056074766355 0.6105919003115264\n",
      "filmmaker 1.7815098442596662 % 0.7369923161361142 0.706476399560922\n",
      "interior_designer 0.3715552913384595 % 0.5452631578947369 0.43894736842105264\n",
      "journalist 5.070751949687502 % 0.7170844581565754 0.6748168145005785\n",
      "model 1.9066653108157792 % 0.7577435897435898 0.683076923076923\n",
      "nurse 4.822396570740216 % 0.7705596107055961 0.7046228710462287\n",
      "painter 1.9657230465969444 % 0.7600477516912058 0.7278153601273378\n",
      "paralegal 0.44899523627005417 % 0.27439024390243905 0.2029616724738676\n",
      "pastor 0.6429862094320288 % 0.5395377128953771 0.4811435523114355\n",
      "personal_trainer 0.3633419638457146 % 0.6027987082884823 0.573735199138859\n",
      "photographer 6.183071158704954 % 0.8666582326522867 0.8209247896767664\n",
      "physician 9.8035841396735 % 0.8291310939120722 0.7955796696720657\n",
      "poet 1.7819009550926541 % 0.7047848990342406 0.6202809482001755\n",
      "professor 30.025969759310396 % 0.8593609566112204 0.8587487462713785\n",
      "psychologist 4.6503078042255614 % 0.6747687132043734 0.6119428090832633\n",
      "rapper 0.35708419051790896 % 0.7053669222343921 0.6232201533406353\n",
      "software_engineer 1.7549143076164926 % 0.6469801649208825 0.5910407844885224\n",
      "surgeon 3.373722045353212 % 0.6291444470206353 0.5503130071875725\n",
      "teacher 4.117223738863119 % 0.5994110382825116 0.47829391089579176\n",
      "yoga_teacher 0.4220085887938924 % 0.6200185356811863 0.5987025023169601\n"
     ]
    }
   ],
   "source": [
    "for p in p2i.keys():\n",
    "    x_train_nurse = X_train[profs_train_str == p]\n",
    "    y_train_nurse = Y_train[profs_train_str == p]\n",
    "    print(p,len(x_train_nurse)/len(X_train)*100,\"%\", clf_original.score(x_train_nurse, y_train_nurse), clf.score(P.dot(x_train_nurse.T).T, y_train_nurse))"
   ]
  },
  {
   "cell_type": "code",
   "execution_count": 266,
   "metadata": {},
   "outputs": [
    {
     "data": {
      "text/plain": [
       "((4556, 300), (4556,))"
      ]
     },
     "execution_count": 266,
     "metadata": {},
     "output_type": "execute_result"
    }
   ],
   "source": [
    "x_train_nurse.shape, y_train_nurse.shape"
   ]
  },
  {
   "cell_type": "code",
   "execution_count": 267,
   "metadata": {},
   "outputs": [
    {
     "data": {
      "text/plain": [
       "0.6248902546093064"
      ]
     },
     "execution_count": 267,
     "metadata": {},
     "output_type": "execute_result"
    }
   ],
   "source": []
  },
  {
   "cell_type": "code",
   "execution_count": 268,
   "metadata": {},
   "outputs": [
    {
     "data": {
      "text/plain": [
       "0.7047848990342406"
      ]
     },
     "execution_count": 268,
     "metadata": {},
     "output_type": "execute_result"
    }
   ],
   "source": []
  },
  {
   "cell_type": "code",
   "execution_count": 306,
   "metadata": {},
   "outputs": [
    {
     "data": {
      "text/plain": [
       "{'professor': 0.45118956904580476,\n",
       " 'chiropractor': 0.26558891454965355,\n",
       " 'psychologist': 0.6223011751844766,\n",
       " 'architect': 0.23712053792148718,\n",
       " 'physician': 0.507688318423441,\n",
       " 'nurse': 0.9085446207369142,\n",
       " 'dentist': 0.35589474411216243,\n",
       " 'surgeon': 0.14857228961048746,\n",
       " 'rapper': 0.09665955934612651,\n",
       " 'model': 0.8283124500133298,\n",
       " 'photographer': 0.35721920736720936,\n",
       " 'composer': 0.16392857142857142,\n",
       " 'comedian': 0.21150410861021793,\n",
       " 'filmmaker': 0.3295762590954487,\n",
       " 'paralegal': 0.8483305036785512,\n",
       " 'journalist': 0.49488721804511276,\n",
       " 'personal_trainer': 0.45670391061452514,\n",
       " 'teacher': 0.603111879476414,\n",
       " 'painter': 0.4579886246122027,\n",
       " 'attorney': 0.38316925813475633,\n",
       " 'accountant': 0.36818825194621374,\n",
       " 'software_engineer': 0.1576889661164205,\n",
       " 'poet': 0.49080017115960634,\n",
       " 'dj': 0.1420875420875421,\n",
       " 'pastor': 0.24052132701421802,\n",
       " 'yoga_teacher': 0.8454600120264583,\n",
       " 'dietitian': 0.9273504273504274,\n",
       " 'interior_designer': 0.8086124401913876}"
      ]
     },
     "execution_count": 306,
     "metadata": {},
     "output_type": "execute_result"
    }
   ],
   "source": [
    "{'professor': 0.45118956904580476, 'chiropractor': 0.26558891454965355, 'psychologist': 0.6223011751844766, 'architect': 0.23712053792148718, 'physician': 0.507688318423441, 'nurse': 0.9085446207369142, 'dentist': 0.35589474411216243, 'surgeon': 0.14857228961048746, 'rapper': 0.09665955934612651, 'model': 0.8283124500133298, 'photographer': 0.35721920736720936, 'composer': 0.16392857142857142, 'comedian': 0.21150410861021793, 'filmmaker': 0.3295762590954487, 'paralegal': 0.8483305036785512, 'journalist': 0.49488721804511276, 'personal_trainer': 0.45670391061452514, 'teacher': 0.603111879476414, 'painter': 0.4579886246122027, 'attorney': 0.38316925813475633, 'accountant': 0.36818825194621374, 'software_engineer': 0.1576889661164205, 'poet': 0.49080017115960634, 'dj': 0.1420875420875421, 'pastor': 0.24052132701421802, 'yoga_teacher': 0.8454600120264583, 'dietitian': 0.9273504273504274, 'interior_designer': 0.8086124401913876}"
   ]
  },
  {
   "cell_type": "code",
   "execution_count": null,
   "metadata": {},
   "outputs": [],
   "source": []
  }
 ],
 "metadata": {
  "kernelspec": {
   "display_name": "Python 3 (ipykernel)",
   "language": "python",
   "name": "python3"
  },
  "language_info": {
   "codemirror_mode": {
    "name": "ipython",
    "version": 3
   },
   "file_extension": ".py",
   "mimetype": "text/x-python",
   "name": "python",
   "nbconvert_exporter": "python",
   "pygments_lexer": "ipython3",
   "version": "3.7.11"
  }
 },
 "nbformat": 4,
 "nbformat_minor": 2
}
