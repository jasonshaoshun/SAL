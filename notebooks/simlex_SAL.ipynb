{
 "cells": [
  {
   "cell_type": "code",
   "execution_count": 1,
   "metadata": {},
   "outputs": [],
   "source": [
    "import pandas as pd\n",
    "import numpy as np\n",
    "from scipy.stats.mstats import spearmanr"
   ]
  },
  {
   "cell_type": "code",
   "execution_count": 2,
   "metadata": {},
   "outputs": [],
   "source": [
    "glove_orig = '../data/embeddings/glove.42B.300d.zip'"
   ]
  },
  {
   "cell_type": "code",
   "execution_count": 3,
   "metadata": {},
   "outputs": [],
   "source": [
    "import pandas as pd\n",
    "import csv\n",
    "# words = pd.read_csv(glove_orig, index_col=0, header=None, quoting=csv.QUOTE_NONE)\n",
    "words = pd.read_table(glove_orig, sep=\" \", index_col=0, header=None, quoting=csv.QUOTE_NONE)"
   ]
  },
  {
   "cell_type": "code",
   "execution_count": 4,
   "metadata": {},
   "outputs": [],
   "source": [
    "def vec(w):\n",
    "    return words.loc[w].values"
   ]
  },
  {
   "cell_type": "code",
   "execution_count": 5,
   "metadata": {},
   "outputs": [],
   "source": [
    "def cos_sim(a, b):\n",
    "    return a.dot(b) / (np.linalg.norm(a) * np.linalg.norm(b))"
   ]
  },
  {
   "cell_type": "code",
   "execution_count": 6,
   "metadata": {},
   "outputs": [],
   "source": [
    "def measure_emb_correlation(df, all_emb_words, P):\n",
    "    df = df.loc[df['word1'].isin(all_emb_words)]\n",
    "    df = df.loc[df['word2'].isin(all_emb_words)]\n",
    "    \n",
    "    rel_words = list(set(df['word1'].tolist() + df['word2'].tolist()))\n",
    "    \n",
    "    words_glove_vec = {}\n",
    "    for word in rel_words:\n",
    "        words_glove_vec[word] = vec(word)\n",
    "        \n",
    "    glove_sim = []\n",
    "    proj_glove_sim = []\n",
    "    for _, row in df.iterrows():\n",
    "        w1, w2 = row['word1'], row['word2']\n",
    "        sim = cos_sim(words_glove_vec[w1], words_glove_vec[w2])\n",
    "        glove_sim.append(sim)\n",
    "\n",
    "        p_sim = cos_sim(P.dot(words_glove_vec[w1].T), P.dot(words_glove_vec[w2].T))\n",
    "        proj_glove_sim.append(p_sim)\n",
    "    \n",
    "    df['glove_sim'] = np.array(glove_sim)\n",
    "    df['proj_glove_sim'] = np.array(proj_glove_sim)\n",
    "    \n",
    "    print('glove:', spearmanr(df['similarity'], df['glove_sim']))\n",
    "    print('glove -P:', spearmanr(df['similarity'], df['proj_glove_sim']))\n",
    "    return df"
   ]
  },
  {
   "cell_type": "code",
   "execution_count": 7,
   "metadata": {},
   "outputs": [],
   "source": [
    "all_glove_words = words.index.tolist()"
   ]
  },
  {
   "cell_type": "code",
   "execution_count": 8,
   "metadata": {},
   "outputs": [],
   "source": [
    "saved_model = np.load(\"../data/saved_models/general/USV.npz\")\n",
    "u = saved_model['u']\n",
    "s = saved_model['s']\n",
    "vh = saved_model['vh']\n",
    "u_r = u[:, 2:]\n",
    "P = u_r @ u_r.T"
   ]
  },
  {
   "cell_type": "markdown",
   "metadata": {},
   "source": [
    "# Simlex"
   ]
  },
  {
   "cell_type": "markdown",
   "metadata": {},
   "source": [
    "Data from: https://fh295.github.io/simlex.html"
   ]
  },
  {
   "cell_type": "markdown",
   "metadata": {},
   "source": [
    "@article{hill2015simlex,\n",
    "  title={Simlex-999: Evaluating semantic models with (genuine) similarity estimation},\n",
    "  author={Hill, Felix and Reichart, Roi and Korhonen, Anna},\n",
    "  journal={Computational Linguistics},\n",
    "  volume={41},\n",
    "  number={4},\n",
    "  pages={665--695},\n",
    "  year={2015},\n",
    "  publisher={MIT Press}\n",
    "}"
   ]
  },
  {
   "cell_type": "code",
   "execution_count": 13,
   "metadata": {},
   "outputs": [],
   "source": [
    "df_simlex = pd.read_csv('SimLex-999.txt', sep='\\t')"
   ]
  },
  {
   "cell_type": "code",
   "execution_count": 14,
   "metadata": {},
   "outputs": [],
   "source": [
    "df_simlex = df_simlex.rename(columns={\"SimLex999\": \"similarity\"})"
   ]
  },
  {
   "cell_type": "code",
   "execution_count": 15,
   "metadata": {},
   "outputs": [
    {
     "data": {
      "text/html": [
       "<div>\n",
       "<style scoped>\n",
       "    .dataframe tbody tr th:only-of-type {\n",
       "        vertical-align: middle;\n",
       "    }\n",
       "\n",
       "    .dataframe tbody tr th {\n",
       "        vertical-align: top;\n",
       "    }\n",
       "\n",
       "    .dataframe thead th {\n",
       "        text-align: right;\n",
       "    }\n",
       "</style>\n",
       "<table border=\"1\" class=\"dataframe\">\n",
       "  <thead>\n",
       "    <tr style=\"text-align: right;\">\n",
       "      <th></th>\n",
       "      <th>word1</th>\n",
       "      <th>word2</th>\n",
       "      <th>POS</th>\n",
       "      <th>similarity</th>\n",
       "      <th>conc(w1)</th>\n",
       "      <th>conc(w2)</th>\n",
       "      <th>concQ</th>\n",
       "      <th>Assoc(USF)</th>\n",
       "      <th>SimAssoc333</th>\n",
       "      <th>SD(SimLex)</th>\n",
       "    </tr>\n",
       "  </thead>\n",
       "  <tbody>\n",
       "    <tr>\n",
       "      <th>0</th>\n",
       "      <td>old</td>\n",
       "      <td>new</td>\n",
       "      <td>A</td>\n",
       "      <td>1.58</td>\n",
       "      <td>2.72</td>\n",
       "      <td>2.81</td>\n",
       "      <td>2</td>\n",
       "      <td>7.25</td>\n",
       "      <td>1</td>\n",
       "      <td>0.41</td>\n",
       "    </tr>\n",
       "    <tr>\n",
       "      <th>1</th>\n",
       "      <td>smart</td>\n",
       "      <td>intelligent</td>\n",
       "      <td>A</td>\n",
       "      <td>9.20</td>\n",
       "      <td>1.75</td>\n",
       "      <td>2.46</td>\n",
       "      <td>1</td>\n",
       "      <td>7.11</td>\n",
       "      <td>1</td>\n",
       "      <td>0.67</td>\n",
       "    </tr>\n",
       "    <tr>\n",
       "      <th>2</th>\n",
       "      <td>hard</td>\n",
       "      <td>difficult</td>\n",
       "      <td>A</td>\n",
       "      <td>8.77</td>\n",
       "      <td>3.76</td>\n",
       "      <td>2.21</td>\n",
       "      <td>2</td>\n",
       "      <td>5.94</td>\n",
       "      <td>1</td>\n",
       "      <td>1.19</td>\n",
       "    </tr>\n",
       "    <tr>\n",
       "      <th>3</th>\n",
       "      <td>happy</td>\n",
       "      <td>cheerful</td>\n",
       "      <td>A</td>\n",
       "      <td>9.55</td>\n",
       "      <td>2.56</td>\n",
       "      <td>2.34</td>\n",
       "      <td>1</td>\n",
       "      <td>5.85</td>\n",
       "      <td>1</td>\n",
       "      <td>2.18</td>\n",
       "    </tr>\n",
       "    <tr>\n",
       "      <th>4</th>\n",
       "      <td>hard</td>\n",
       "      <td>easy</td>\n",
       "      <td>A</td>\n",
       "      <td>0.95</td>\n",
       "      <td>3.76</td>\n",
       "      <td>2.07</td>\n",
       "      <td>2</td>\n",
       "      <td>5.82</td>\n",
       "      <td>1</td>\n",
       "      <td>0.93</td>\n",
       "    </tr>\n",
       "  </tbody>\n",
       "</table>\n",
       "</div>"
      ],
      "text/plain": [
       "   word1        word2 POS  similarity  conc(w1)  conc(w2)  concQ  Assoc(USF)  \\\n",
       "0    old          new   A        1.58      2.72      2.81      2        7.25   \n",
       "1  smart  intelligent   A        9.20      1.75      2.46      1        7.11   \n",
       "2   hard    difficult   A        8.77      3.76      2.21      2        5.94   \n",
       "3  happy     cheerful   A        9.55      2.56      2.34      1        5.85   \n",
       "4   hard         easy   A        0.95      3.76      2.07      2        5.82   \n",
       "\n",
       "   SimAssoc333  SD(SimLex)  \n",
       "0            1        0.41  \n",
       "1            1        0.67  \n",
       "2            1        1.19  \n",
       "3            1        2.18  \n",
       "4            1        0.93  "
      ]
     },
     "execution_count": 15,
     "metadata": {},
     "output_type": "execute_result"
    }
   ],
   "source": [
    "df_simlex.head()"
   ]
  },
  {
   "cell_type": "code",
   "execution_count": 16,
   "metadata": {
    "scrolled": true
   },
   "outputs": [
    {
     "name": "stdout",
     "output_type": "stream",
     "text": [
      "glove: SpearmanrResult(correlation=0.3737987757655539, pvalue=1.752960783934323e-34)\n",
      "glove -P: SpearmanrResult(correlation=0.39089092019034416, pvalue=8.130936653229414e-38)\n"
     ]
    }
   ],
   "source": [
    "df_simlex = measure_emb_correlation(df_simlex, all_glove_words, P)"
   ]
  },
  {
   "cell_type": "markdown",
   "metadata": {},
   "source": [
    "### WordSim 353"
   ]
  },
  {
   "cell_type": "markdown",
   "metadata": {},
   "source": [
    "source: http://alfonseca.org/eng/research/wordsim353.html"
   ]
  },
  {
   "cell_type": "markdown",
   "metadata": {},
   "source": [
    "@inproceedings{agirre2009study,\n",
    "  title={A Study on Similarity and Relatedness Using Distributional and WordNet-based Approaches},\n",
    "  author={Agirre, Eneko and Alfonseca, Enrique and Hall, Keith and Kravalov{\\'a}, Jana and Pasca, Marius and Soroa, Aitor},\n",
    "  booktitle={Proceedings of Human Language Technologies: The 2009 Annual Conference of the North American Chapter of the Association for Computational Linguistics},\n",
    "  pages={19--27},\n",
    "  year={2009}\n",
    "}"
   ]
  },
  {
   "cell_type": "code",
   "execution_count": 13,
   "metadata": {},
   "outputs": [],
   "source": [
    "df_353_sim = pd.read_csv('wordsim_similarity_goldstandard.txt', sep='\\t', names=['word1', 'word2', 'similarity'])"
   ]
  },
  {
   "cell_type": "code",
   "execution_count": 14,
   "metadata": {},
   "outputs": [
    {
     "name": "stdout",
     "output_type": "stream",
     "text": [
      "glove: SpearmanrResult(correlation=0.6953847581116936, pvalue=1.1908298243958436e-29)\n",
      "glove -P: SpearmanrResult(correlation=0.7002491155403305, pvalue=3.276705177565873e-30)\n"
     ]
    }
   ],
   "source": [
    "df_353_sim = measure_emb_correlation(df_353_sim, all_glove_words, P)"
   ]
  },
  {
   "cell_type": "code",
   "execution_count": 15,
   "metadata": {},
   "outputs": [],
   "source": [
    "df_353_rel = pd.read_csv('wordsim_relatedness_goldstandard.txt', sep='\\t', names=['word1', 'word2', 'similarity'])"
   ]
  },
  {
   "cell_type": "code",
   "execution_count": 16,
   "metadata": {},
   "outputs": [
    {
     "name": "stdout",
     "output_type": "stream",
     "text": [
      "glove: SpearmanrResult(correlation=0.5999016814083603, pvalue=1.1815135039496508e-24)\n",
      "glove -P: SpearmanrResult(correlation=0.6049124268290367, pvalue=3.830895178481072e-25)\n"
     ]
    }
   ],
   "source": [
    "df_353_rel = measure_emb_correlation(df_353_rel, all_glove_words, P)"
   ]
  },
  {
   "cell_type": "markdown",
   "metadata": {},
   "source": [
    "### Mturk"
   ]
  },
  {
   "cell_type": "markdown",
   "metadata": {},
   "source": [
    "source: http://www2.mta.ac.il/~gideon/mturk771.html"
   ]
  },
  {
   "cell_type": "markdown",
   "metadata": {},
   "source": [
    "@inproceedings{halawi2012large,\n",
    "  title={Large-scale learning of word relatedness with constraints},\n",
    "  author={Halawi, Guy and Dror, Gideon and Gabrilovich, Evgeniy and Koren, Yehuda},\n",
    "  booktitle={Proceedings of the 18th ACM SIGKDD international conference on Knowledge discovery and data mining},\n",
    "  pages={1406--1414},\n",
    "  year={2012}\n",
    "}"
   ]
  },
  {
   "cell_type": "code",
   "execution_count": 17,
   "metadata": {},
   "outputs": [],
   "source": [
    "df_mturk = pd.read_csv('MTURK-771.csv', names=['word1', 'word2', 'similarity'])"
   ]
  },
  {
   "cell_type": "code",
   "execution_count": 18,
   "metadata": {
    "scrolled": true
   },
   "outputs": [
    {
     "name": "stdout",
     "output_type": "stream",
     "text": [
      "glove: SpearmanrResult(correlation=0.684252286603461, pvalue=1.4888186861090302e-107)\n",
      "glove -P: SpearmanrResult(correlation=0.697744654653516, pvalue=1.6005660022755625e-113)\n"
     ]
    }
   ],
   "source": [
    "df_mturk = measure_emb_correlation(df_mturk, all_glove_words, P)"
   ]
  },
  {
   "cell_type": "markdown",
   "metadata": {},
   "source": [
    "### PCA"
   ]
  },
  {
   "cell_type": "code",
   "execution_count": 9,
   "metadata": {},
   "outputs": [],
   "source": [
    "X = words.to_numpy()"
   ]
  },
  {
   "cell_type": "code",
   "execution_count": 10,
   "metadata": {},
   "outputs": [
    {
     "data": {
      "text/plain": [
       "(1917494, 300)"
      ]
     },
     "execution_count": 10,
     "metadata": {},
     "output_type": "execute_result"
    }
   ],
   "source": [
    "X.shape"
   ]
  },
  {
   "cell_type": "code",
   "execution_count": 11,
   "metadata": {},
   "outputs": [
    {
     "data": {
      "text/plain": [
       "PCA(n_components=195)"
      ]
     },
     "execution_count": 11,
     "metadata": {},
     "output_type": "execute_result"
    }
   ],
   "source": [
    "from sklearn.decomposition import PCA\n",
    "\n",
    "pca = PCA(n_components=195)\n",
    "pca.fit(X)"
   ]
  },
  {
   "cell_type": "code",
   "execution_count": 17,
   "metadata": {},
   "outputs": [],
   "source": [
    "pca_sim = []\n",
    "for _, row in df_simlex.iterrows():\n",
    "    w1, w2 = row['word1'], row['word2']\n",
    "    \n",
    "    sim = cos_sim(pca.transform([vec(w1)])[0], pca.transform([vec(w2)])[0])\n",
    "    pca_sim.append(sim)"
   ]
  },
  {
   "cell_type": "code",
   "execution_count": 18,
   "metadata": {},
   "outputs": [],
   "source": [
    "df_simlex['pca_sim'] = np.array(pca_sim)"
   ]
  },
  {
   "cell_type": "code",
   "execution_count": 19,
   "metadata": {},
   "outputs": [
    {
     "data": {
      "text/plain": [
       "SpearmanrResult(correlation=0.31444164136196745, pvalue=2.3001643227649338e-24)"
      ]
     },
     "execution_count": 19,
     "metadata": {},
     "output_type": "execute_result"
    }
   ],
   "source": [
    "spearmanr(df_simlex['similarity'], df_simlex['pca_sim'])"
   ]
  },
  {
   "cell_type": "markdown",
   "metadata": {},
   "source": [
    "### Most affected examples"
   ]
  },
  {
   "cell_type": "code",
   "execution_count": 20,
   "metadata": {},
   "outputs": [],
   "source": [
    "df_simlex['abs_diff'] = (df_simlex['glove_sim'] - df_simlex['proj_glove_sim']).abs()"
   ]
  },
  {
   "cell_type": "code",
   "execution_count": 21,
   "metadata": {},
   "outputs": [
    {
     "data": {
      "text/html": [
       "<div>\n",
       "<style scoped>\n",
       "    .dataframe tbody tr th:only-of-type {\n",
       "        vertical-align: middle;\n",
       "    }\n",
       "\n",
       "    .dataframe tbody tr th {\n",
       "        vertical-align: top;\n",
       "    }\n",
       "\n",
       "    .dataframe thead th {\n",
       "        text-align: right;\n",
       "    }\n",
       "</style>\n",
       "<table border=\"1\" class=\"dataframe\">\n",
       "  <thead>\n",
       "    <tr style=\"text-align: right;\">\n",
       "      <th></th>\n",
       "      <th>word1</th>\n",
       "      <th>word2</th>\n",
       "      <th>similarity</th>\n",
       "      <th>glove_sim</th>\n",
       "      <th>proj_glove_sim</th>\n",
       "    </tr>\n",
       "  </thead>\n",
       "  <tbody>\n",
       "    <tr>\n",
       "      <th>446</th>\n",
       "      <td>man</td>\n",
       "      <td>victor</td>\n",
       "      <td>1.90</td>\n",
       "      <td>0.422428</td>\n",
       "      <td>0.305230</td>\n",
       "    </tr>\n",
       "    <tr>\n",
       "      <th>330</th>\n",
       "      <td>man</td>\n",
       "      <td>father</td>\n",
       "      <td>4.83</td>\n",
       "      <td>0.614493</td>\n",
       "      <td>0.499174</td>\n",
       "    </tr>\n",
       "    <tr>\n",
       "      <th>515</th>\n",
       "      <td>rabbi</td>\n",
       "      <td>minister</td>\n",
       "      <td>7.62</td>\n",
       "      <td>0.353535</td>\n",
       "      <td>0.243533</td>\n",
       "    </tr>\n",
       "    <tr>\n",
       "      <th>595</th>\n",
       "      <td>father</td>\n",
       "      <td>god</td>\n",
       "      <td>3.57</td>\n",
       "      <td>0.643352</td>\n",
       "      <td>0.539941</td>\n",
       "    </tr>\n",
       "    <tr>\n",
       "      <th>77</th>\n",
       "      <td>happy</td>\n",
       "      <td>young</td>\n",
       "      <td>2.00</td>\n",
       "      <td>0.511416</td>\n",
       "      <td>0.408170</td>\n",
       "    </tr>\n",
       "    <tr>\n",
       "      <th>431</th>\n",
       "      <td>god</td>\n",
       "      <td>priest</td>\n",
       "      <td>4.50</td>\n",
       "      <td>0.498079</td>\n",
       "      <td>0.400399</td>\n",
       "    </tr>\n",
       "    <tr>\n",
       "      <th>279</th>\n",
       "      <td>man</td>\n",
       "      <td>uncle</td>\n",
       "      <td>3.92</td>\n",
       "      <td>0.488005</td>\n",
       "      <td>0.393521</td>\n",
       "    </tr>\n",
       "    <tr>\n",
       "      <th>614</th>\n",
       "      <td>politician</td>\n",
       "      <td>president</td>\n",
       "      <td>7.38</td>\n",
       "      <td>0.465059</td>\n",
       "      <td>0.372126</td>\n",
       "    </tr>\n",
       "    <tr>\n",
       "      <th>642</th>\n",
       "      <td>baby</td>\n",
       "      <td>daughter</td>\n",
       "      <td>5.00</td>\n",
       "      <td>0.584546</td>\n",
       "      <td>0.492868</td>\n",
       "    </tr>\n",
       "    <tr>\n",
       "      <th>694</th>\n",
       "      <td>girl</td>\n",
       "      <td>maid</td>\n",
       "      <td>2.93</td>\n",
       "      <td>0.524451</td>\n",
       "      <td>0.434312</td>\n",
       "    </tr>\n",
       "    <tr>\n",
       "      <th>708</th>\n",
       "      <td>friend</td>\n",
       "      <td>mother</td>\n",
       "      <td>2.53</td>\n",
       "      <td>0.669510</td>\n",
       "      <td>0.581763</td>\n",
       "    </tr>\n",
       "    <tr>\n",
       "      <th>479</th>\n",
       "      <td>right</td>\n",
       "      <td>justice</td>\n",
       "      <td>7.05</td>\n",
       "      <td>0.454089</td>\n",
       "      <td>0.370550</td>\n",
       "    </tr>\n",
       "    <tr>\n",
       "      <th>50</th>\n",
       "      <td>bad</td>\n",
       "      <td>great</td>\n",
       "      <td>0.35</td>\n",
       "      <td>0.609925</td>\n",
       "      <td>0.533050</td>\n",
       "    </tr>\n",
       "    <tr>\n",
       "      <th>441</th>\n",
       "      <td>brother</td>\n",
       "      <td>soul</td>\n",
       "      <td>0.97</td>\n",
       "      <td>0.420562</td>\n",
       "      <td>0.345929</td>\n",
       "    </tr>\n",
       "    <tr>\n",
       "      <th>302</th>\n",
       "      <td>bride</td>\n",
       "      <td>princess</td>\n",
       "      <td>2.80</td>\n",
       "      <td>0.570489</td>\n",
       "      <td>0.496360</td>\n",
       "    </tr>\n",
       "    <tr>\n",
       "      <th>336</th>\n",
       "      <td>woman</td>\n",
       "      <td>wife</td>\n",
       "      <td>5.72</td>\n",
       "      <td>0.666801</td>\n",
       "      <td>0.593774</td>\n",
       "    </tr>\n",
       "    <tr>\n",
       "      <th>329</th>\n",
       "      <td>woman</td>\n",
       "      <td>secretary</td>\n",
       "      <td>1.98</td>\n",
       "      <td>0.352962</td>\n",
       "      <td>0.281304</td>\n",
       "    </tr>\n",
       "    <tr>\n",
       "      <th>510</th>\n",
       "      <td>boy</td>\n",
       "      <td>partner</td>\n",
       "      <td>1.90</td>\n",
       "      <td>0.376547</td>\n",
       "      <td>0.306600</td>\n",
       "    </tr>\n",
       "    <tr>\n",
       "      <th>73</th>\n",
       "      <td>bad</td>\n",
       "      <td>guilty</td>\n",
       "      <td>4.20</td>\n",
       "      <td>0.448157</td>\n",
       "      <td>0.379541</td>\n",
       "    </tr>\n",
       "    <tr>\n",
       "      <th>537</th>\n",
       "      <td>man</td>\n",
       "      <td>husband</td>\n",
       "      <td>5.32</td>\n",
       "      <td>0.559195</td>\n",
       "      <td>0.492510</td>\n",
       "    </tr>\n",
       "  </tbody>\n",
       "</table>\n",
       "</div>"
      ],
      "text/plain": [
       "          word1      word2  similarity  glove_sim  proj_glove_sim\n",
       "446         man     victor        1.90   0.422428        0.305230\n",
       "330         man     father        4.83   0.614493        0.499174\n",
       "515       rabbi   minister        7.62   0.353535        0.243533\n",
       "595      father        god        3.57   0.643352        0.539941\n",
       "77        happy      young        2.00   0.511416        0.408170\n",
       "431         god     priest        4.50   0.498079        0.400399\n",
       "279         man      uncle        3.92   0.488005        0.393521\n",
       "614  politician  president        7.38   0.465059        0.372126\n",
       "642        baby   daughter        5.00   0.584546        0.492868\n",
       "694        girl       maid        2.93   0.524451        0.434312\n",
       "708      friend     mother        2.53   0.669510        0.581763\n",
       "479       right    justice        7.05   0.454089        0.370550\n",
       "50          bad      great        0.35   0.609925        0.533050\n",
       "441     brother       soul        0.97   0.420562        0.345929\n",
       "302       bride   princess        2.80   0.570489        0.496360\n",
       "336       woman       wife        5.72   0.666801        0.593774\n",
       "329       woman  secretary        1.98   0.352962        0.281304\n",
       "510         boy    partner        1.90   0.376547        0.306600\n",
       "73          bad     guilty        4.20   0.448157        0.379541\n",
       "537         man    husband        5.32   0.559195        0.492510"
      ]
     },
     "execution_count": 21,
     "metadata": {},
     "output_type": "execute_result"
    }
   ],
   "source": [
    "df_simlex.nlargest(20, 'abs_diff')[['word1', 'word2', 'similarity', 'glove_sim', 'proj_glove_sim']]"
   ]
  },
  {
   "cell_type": "code",
   "execution_count": 22,
   "metadata": {},
   "outputs": [
    {
     "data": {
      "text/html": [
       "<div>\n",
       "<style scoped>\n",
       "    .dataframe tbody tr th:only-of-type {\n",
       "        vertical-align: middle;\n",
       "    }\n",
       "\n",
       "    .dataframe tbody tr th {\n",
       "        vertical-align: top;\n",
       "    }\n",
       "\n",
       "    .dataframe thead th {\n",
       "        text-align: right;\n",
       "    }\n",
       "</style>\n",
       "<table border=\"1\" class=\"dataframe\">\n",
       "  <thead>\n",
       "    <tr style=\"text-align: right;\">\n",
       "      <th></th>\n",
       "      <th>word1</th>\n",
       "      <th>word2</th>\n",
       "      <th>similarity</th>\n",
       "      <th>glove_sim</th>\n",
       "      <th>proj_glove_sim</th>\n",
       "    </tr>\n",
       "  </thead>\n",
       "  <tbody>\n",
       "    <tr>\n",
       "      <th>8</th>\n",
       "      <td>stupid</td>\n",
       "      <td>dumb</td>\n",
       "      <td>9.58</td>\n",
       "      <td>0.902445</td>\n",
       "      <td>0.896271</td>\n",
       "    </tr>\n",
       "    <tr>\n",
       "      <th>115</th>\n",
       "      <td>south</td>\n",
       "      <td>north</td>\n",
       "      <td>2.20</td>\n",
       "      <td>0.892447</td>\n",
       "      <td>0.888085</td>\n",
       "    </tr>\n",
       "    <tr>\n",
       "      <th>234</th>\n",
       "      <td>attorney</td>\n",
       "      <td>lawyer</td>\n",
       "      <td>9.35</td>\n",
       "      <td>0.889351</td>\n",
       "      <td>0.881147</td>\n",
       "    </tr>\n",
       "    <tr>\n",
       "      <th>111</th>\n",
       "      <td>wife</td>\n",
       "      <td>husband</td>\n",
       "      <td>2.30</td>\n",
       "      <td>0.886078</td>\n",
       "      <td>0.857401</td>\n",
       "    </tr>\n",
       "    <tr>\n",
       "      <th>125</th>\n",
       "      <td>woman</td>\n",
       "      <td>man</td>\n",
       "      <td>3.33</td>\n",
       "      <td>0.804799</td>\n",
       "      <td>0.853317</td>\n",
       "    </tr>\n",
       "    <tr>\n",
       "      <th>9</th>\n",
       "      <td>weird</td>\n",
       "      <td>strange</td>\n",
       "      <td>8.93</td>\n",
       "      <td>0.855492</td>\n",
       "      <td>0.852946</td>\n",
       "    </tr>\n",
       "    <tr>\n",
       "      <th>813</th>\n",
       "      <td>understand</td>\n",
       "      <td>know</td>\n",
       "      <td>7.47</td>\n",
       "      <td>0.849868</td>\n",
       "      <td>0.846670</td>\n",
       "    </tr>\n",
       "    <tr>\n",
       "      <th>142</th>\n",
       "      <td>winter</td>\n",
       "      <td>summer</td>\n",
       "      <td>2.38</td>\n",
       "      <td>0.841660</td>\n",
       "      <td>0.835611</td>\n",
       "    </tr>\n",
       "    <tr>\n",
       "      <th>127</th>\n",
       "      <td>actress</td>\n",
       "      <td>actor</td>\n",
       "      <td>7.12</td>\n",
       "      <td>0.783117</td>\n",
       "      <td>0.829640</td>\n",
       "    </tr>\n",
       "    <tr>\n",
       "      <th>138</th>\n",
       "      <td>sunset</td>\n",
       "      <td>sunrise</td>\n",
       "      <td>2.47</td>\n",
       "      <td>0.825414</td>\n",
       "      <td>0.823947</td>\n",
       "    </tr>\n",
       "  </tbody>\n",
       "</table>\n",
       "</div>"
      ],
      "text/plain": [
       "          word1    word2  similarity  glove_sim  proj_glove_sim\n",
       "8        stupid     dumb        9.58   0.902445        0.896271\n",
       "115       south    north        2.20   0.892447        0.888085\n",
       "234    attorney   lawyer        9.35   0.889351        0.881147\n",
       "111        wife  husband        2.30   0.886078        0.857401\n",
       "125       woman      man        3.33   0.804799        0.853317\n",
       "9         weird  strange        8.93   0.855492        0.852946\n",
       "813  understand     know        7.47   0.849868        0.846670\n",
       "142      winter   summer        2.38   0.841660        0.835611\n",
       "127     actress    actor        7.12   0.783117        0.829640\n",
       "138      sunset  sunrise        2.47   0.825414        0.823947"
      ]
     },
     "execution_count": 22,
     "metadata": {},
     "output_type": "execute_result"
    }
   ],
   "source": [
    "df_simlex.nlargest(10, 'proj_glove_sim')[['word1', 'word2', 'similarity', 'glove_sim', 'proj_glove_sim']]"
   ]
  },
  {
   "cell_type": "code",
   "execution_count": 23,
   "metadata": {},
   "outputs": [
    {
     "data": {
      "text/html": [
       "<div>\n",
       "<style scoped>\n",
       "    .dataframe tbody tr th:only-of-type {\n",
       "        vertical-align: middle;\n",
       "    }\n",
       "\n",
       "    .dataframe tbody tr th {\n",
       "        vertical-align: top;\n",
       "    }\n",
       "\n",
       "    .dataframe thead th {\n",
       "        text-align: right;\n",
       "    }\n",
       "</style>\n",
       "<table border=\"1\" class=\"dataframe\">\n",
       "  <thead>\n",
       "    <tr style=\"text-align: right;\">\n",
       "      <th></th>\n",
       "      <th>word1</th>\n",
       "      <th>word2</th>\n",
       "      <th>similarity</th>\n",
       "      <th>glove_sim</th>\n",
       "      <th>proj_glove_sim</th>\n",
       "    </tr>\n",
       "  </thead>\n",
       "  <tbody>\n",
       "    <tr>\n",
       "      <th>571</th>\n",
       "      <td>happiness</td>\n",
       "      <td>luck</td>\n",
       "      <td>2.38</td>\n",
       "      <td>0.507767</td>\n",
       "      <td>0.470230</td>\n",
       "    </tr>\n",
       "    <tr>\n",
       "      <th>783</th>\n",
       "      <td>multiply</td>\n",
       "      <td>divide</td>\n",
       "      <td>1.75</td>\n",
       "      <td>0.476453</td>\n",
       "      <td>0.473496</td>\n",
       "    </tr>\n",
       "    <tr>\n",
       "      <th>325</th>\n",
       "      <td>worker</td>\n",
       "      <td>employer</td>\n",
       "      <td>5.37</td>\n",
       "      <td>0.614620</td>\n",
       "      <td>0.605656</td>\n",
       "    </tr>\n",
       "    <tr>\n",
       "      <th>451</th>\n",
       "      <td>chicken</td>\n",
       "      <td>rice</td>\n",
       "      <td>1.43</td>\n",
       "      <td>0.637057</td>\n",
       "      <td>0.633029</td>\n",
       "    </tr>\n",
       "    <tr>\n",
       "      <th>647</th>\n",
       "      <td>cup</td>\n",
       "      <td>cone</td>\n",
       "      <td>3.17</td>\n",
       "      <td>0.298568</td>\n",
       "      <td>0.286264</td>\n",
       "    </tr>\n",
       "    <tr>\n",
       "      <th>880</th>\n",
       "      <td>achieve</td>\n",
       "      <td>try</td>\n",
       "      <td>4.42</td>\n",
       "      <td>0.511269</td>\n",
       "      <td>0.496111</td>\n",
       "    </tr>\n",
       "    <tr>\n",
       "      <th>854</th>\n",
       "      <td>compare</td>\n",
       "      <td>analyze</td>\n",
       "      <td>8.10</td>\n",
       "      <td>0.507889</td>\n",
       "      <td>0.500988</td>\n",
       "    </tr>\n",
       "    <tr>\n",
       "      <th>731</th>\n",
       "      <td>mouse</td>\n",
       "      <td>management</td>\n",
       "      <td>0.48</td>\n",
       "      <td>0.252276</td>\n",
       "      <td>0.246741</td>\n",
       "    </tr>\n",
       "    <tr>\n",
       "      <th>593</th>\n",
       "      <td>activity</td>\n",
       "      <td>movement</td>\n",
       "      <td>7.15</td>\n",
       "      <td>0.448239</td>\n",
       "      <td>0.432008</td>\n",
       "    </tr>\n",
       "    <tr>\n",
       "      <th>669</th>\n",
       "      <td>bed</td>\n",
       "      <td>chair</td>\n",
       "      <td>3.50</td>\n",
       "      <td>0.545402</td>\n",
       "      <td>0.527672</td>\n",
       "    </tr>\n",
       "  </tbody>\n",
       "</table>\n",
       "</div>"
      ],
      "text/plain": [
       "         word1       word2  similarity  glove_sim  proj_glove_sim\n",
       "571  happiness        luck        2.38   0.507767        0.470230\n",
       "783   multiply      divide        1.75   0.476453        0.473496\n",
       "325     worker    employer        5.37   0.614620        0.605656\n",
       "451    chicken        rice        1.43   0.637057        0.633029\n",
       "647        cup        cone        3.17   0.298568        0.286264\n",
       "880    achieve         try        4.42   0.511269        0.496111\n",
       "854    compare     analyze        8.10   0.507889        0.500988\n",
       "731      mouse  management        0.48   0.252276        0.246741\n",
       "593   activity    movement        7.15   0.448239        0.432008\n",
       "669        bed       chair        3.50   0.545402        0.527672"
      ]
     },
     "execution_count": 23,
     "metadata": {},
     "output_type": "execute_result"
    }
   ],
   "source": [
    "df_simlex.sample(10)[['word1', 'word2', 'similarity', 'glove_sim', 'proj_glove_sim']]"
   ]
  },
  {
   "cell_type": "markdown",
   "metadata": {},
   "source": [
    "## Rawspace"
   ]
  },
  {
   "cell_type": "code",
   "execution_count": 24,
   "metadata": {},
   "outputs": [],
   "source": [
    "rawspace_glove_sim = []\n",
    "I = np.eye(300)\n",
    "for _, row in df_simlex.iterrows():\n",
    "    w1, w2 = row['word1'], row['word2']\n",
    "    \n",
    "    p_sim = cos_sim((I - P).dot(vec(w1)), (I - P).dot(vec(w2)))\n",
    "    rawspace_glove_sim.append(p_sim)"
   ]
  },
  {
   "cell_type": "code",
   "execution_count": 25,
   "metadata": {},
   "outputs": [
    {
     "data": {
      "text/plain": [
       "SpearmanrResult(correlation=0.018727572202160418, pvalue=0.5543646972332482)"
      ]
     },
     "execution_count": 25,
     "metadata": {},
     "output_type": "execute_result"
    }
   ],
   "source": [
    "spearmanr(df_simlex['similarity'], rawspace_glove_sim)"
   ]
  },
  {
   "cell_type": "code",
   "execution_count": null,
   "metadata": {},
   "outputs": [],
   "source": [
    "all_vecs = []\n",
    "for k, vec in words_glove_vec.items():\n",
    "    all_vecs.append(vec)"
   ]
  },
  {
   "cell_type": "code",
   "execution_count": null,
   "metadata": {},
   "outputs": [],
   "source": [
    "all_vecs = np.array(all_vecs)"
   ]
  },
  {
   "cell_type": "code",
   "execution_count": null,
   "metadata": {},
   "outputs": [],
   "source": [
    "all_vecs.shape"
   ]
  },
  {
   "cell_type": "code",
   "execution_count": null,
   "metadata": {},
   "outputs": [],
   "source": [
    "temp = (I - P).dot(all_vecs.T).T"
   ]
  },
  {
   "cell_type": "code",
   "execution_count": null,
   "metadata": {},
   "outputs": [],
   "source": [
    "np.linalg.matrix_rank(temp)"
   ]
  },
  {
   "cell_type": "code",
   "execution_count": null,
   "metadata": {},
   "outputs": [],
   "source": [
    "np.linalg.matrix_rank(all_vecs)"
   ]
  }
 ],
 "metadata": {
  "kernelspec": {
   "display_name": "Python 3 (ipykernel)",
   "language": "python",
   "name": "python3"
  },
  "language_info": {
   "codemirror_mode": {
    "name": "ipython",
    "version": 3
   },
   "file_extension": ".py",
   "mimetype": "text/x-python",
   "name": "python",
   "nbconvert_exporter": "python",
   "pygments_lexer": "ipython3",
   "version": "3.7.11"
  }
 },
 "nbformat": 4,
 "nbformat_minor": 4
}
